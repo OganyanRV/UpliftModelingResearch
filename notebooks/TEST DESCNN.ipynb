{
 "cells": [
  {
   "cell_type": "code",
   "execution_count": 2,
   "id": "1bd552b4-9e8c-4e19-9f7d-4e3089e6c22c",
   "metadata": {},
   "outputs": [
    {
     "name": "stdout",
     "output_type": "stream",
     "text": [
      "The autoreload extension is already loaded. To reload it, use:\n",
      "  %reload_ext autoreload\n"
     ]
    }
   ],
   "source": [
    "import pathlib\n",
    "import os\n",
    "from pathlib import Path\n",
    "import sys\n",
    " \n",
    "if sys.argv:\n",
    "    sys.path.insert(0, str(pathlib.Path(os.path.dirname(os.path.abspath(\"\"))).resolve()))\n",
    "%load_ext autoreload\n",
    "%autoreload 2"
   ]
  },
  {
   "cell_type": "code",
   "execution_count": 3,
   "id": "b0fff5ee-d2b1-4098-b173-8f69f696a598",
   "metadata": {},
   "outputs": [
    {
     "name": "stderr",
     "output_type": "stream",
     "text": [
      "/home/ogrobertino/test_env/lib/python3.10/site-packages/xgboost/core.py:377: FutureWarning: Your system has an old version of glibc (< 2.28). We will stop supporting Linux distros with glibc older than 2.28 after **May 31, 2025**. Please upgrade to a recent Linux distro (with glibc >= 2.28) to use future versions of XGBoost.\n",
      "Note: You have installed the 'manylinux2014' variant of XGBoost. Certain features such as GPU algorithms or federated learning are not available. To use these features, please upgrade to a recent Linux distro with glibc 2.28+, and install the 'manylinux_2_28' variant.\n",
      "  warnings.warn(\n",
      "Failed to import duecredit due to No module named 'duecredit'\n"
     ]
    }
   ],
   "source": [
    "from src.utils import get_paths_train_test, train_test_model\n",
    "from src.factory import DESCNUpliftModelFactory\n",
    "from src.models.NNUpliftModeling.DESCNUpliftModel import DESCNUpliftModel"
   ]
  },
  {
   "cell_type": "code",
   "execution_count": 4,
   "id": "98ce159f-09a7-4cdf-92fe-80ef1751ab3a",
   "metadata": {},
   "outputs": [],
   "source": [
    "ds_name = 'lazada_v2'\n",
    "features_percent = 100\n",
    "train_path, test_path = get_paths_train_test(ds_name=ds_name, features_percent=features_percent)"
   ]
  },
  {
   "cell_type": "code",
   "execution_count": 5,
   "id": "8dba5d29-4cc5-49cd-a095-935b6b2ad45c",
   "metadata": {},
   "outputs": [],
   "source": [
    "import pandas as pd\n",
    "ds = pd.read_csv(train_path, sep='\\t')"
   ]
  },
  {
   "cell_type": "code",
   "execution_count": 6,
   "id": "7c3fe727-5c7d-40c8-ba1b-5bf7f521dd7d",
   "metadata": {},
   "outputs": [
    {
     "data": {
      "text/plain": [
       "83"
      ]
     },
     "execution_count": 6,
     "metadata": {},
     "output_type": "execute_result"
    }
   ],
   "source": [
    "input_size = len(ds.columns) - 2\n",
    "input_size"
   ]
  },
  {
   "cell_type": "code",
   "execution_count": 47,
   "id": "639096cb-c811-403d-aa06-21b2e0b63a7a",
   "metadata": {},
   "outputs": [],
   "source": [
    "params = {\n",
    "    'input_dim': input_size,             # Должно быть задано в соответствии с данными\n",
    "    'share_dim': [512], # Варианты размерности общих слоев\n",
    "    'base_dim': [256],   # Варианты размерности базовых слоев\n",
    "    'do_rate': [0.1],  # Варианты dropout\n",
    "    'batch_norm': True, # Использование BatchNorm\n",
    "    'normalization': 'divide', # Тип нормализации\n",
    "    'prpsy_w': 0.5,   # Вес для потери пропенсити\n",
    "    'escvr1_w': 0.5,  # Вес для потери ESTR\n",
    "    'escvr0_w': 1.0,  # Вес для потери ESCR\n",
    "    'mu1hat_w': 1.0,  # Вес для перекрестной потери TR\n",
    "    'mu0hat_w': 0.5,  # Вес для перекрестной потери CR\n",
    "    'batch_size': 128,\n",
    "    'gradient_accumulation_steps' : 4,\n",
    "    'optimizer': \n",
    "        {\n",
    "            'name': 'Adam',\n",
    "            'lr': 0.005,\n",
    "            'weight_decay': 0.001\n",
    "        },\n",
    "    'epochs': 5\n",
    "}"
   ]
  },
  {
   "cell_type": "code",
   "execution_count": 7,
   "id": "c3cd084c-52f0-42b8-bf3c-94ca778965a7",
   "metadata": {},
   "outputs": [],
   "source": [
    "# params = {\n",
    "#     'input_dim': input_size,             # Должно быть задано в соответствии с данными\n",
    "#     'share_dim': [2], # Варианты размерности общих слоев\n",
    "#     'base_dim': [2],   # Варианты размерности базовых слоев\n",
    "#     'do_rate': [0.1, 0.2, 0.3],  # Варианты dropout\n",
    "#     'batch_norm': [True, False], # Использование BatchNorm\n",
    "#     'normalization': ['none', 'divide'], # Тип нормализации\n",
    "#     'factual_loss_weight': [0.8, 1.0, 1.2], # Вес фактической потери\n",
    "#     'propensity_loss_weight': [0.05, 0.1, 0.2], # Вес потери пропенсити\n",
    "#     'tau_loss_weight': [0.05, 0.1, 0.2],    # Вес потери tau (если применимо)\n",
    "#     'batch_size': 32,\n",
    "#     'gradient_accumulation_steps' : 2,\n",
    "#     'epochs': 1\n",
    "# }"
   ]
  },
  {
   "cell_type": "code",
   "execution_count": 48,
   "id": "20a55a05-8f96-4562-a261-add2af0e9af3",
   "metadata": {},
   "outputs": [],
   "source": [
    "configs = DESCNUpliftModel.generate_config(count=4, params = params)"
   ]
  },
  {
   "cell_type": "code",
   "execution_count": 49,
   "id": "ed283dca-e9b3-443a-a87e-43f7dc76ff02",
   "metadata": {},
   "outputs": [],
   "source": [
    "factory = DESCNUpliftModelFactory\n",
    "config = configs[0]\n",
    "batch_size=32\n",
    "max_size=100000"
   ]
  },
  {
   "cell_type": "code",
   "execution_count": 50,
   "id": "8b4d6bf1-ec14-4891-bec4-eb0fb96fa6e2",
   "metadata": {},
   "outputs": [
    {
     "name": "stderr",
     "output_type": "stream",
     "text": [
      "/home/ogrobertino/test_env/lib/python3.10/site-packages/torch/optim/lr_scheduler.py:62: UserWarning: The verbose parameter is deprecated. Please use get_last_lr() to access the learning rate.\n",
      "  warnings.warn(\n"
     ]
    }
   ],
   "source": [
    "model, train, test = factory.create(config, train_path, test_path)"
   ]
  },
  {
   "cell_type": "code",
   "execution_count": 51,
   "id": "c037a98d-fcfa-4ebc-9b69-8278b8b88cbb",
   "metadata": {},
   "outputs": [
    {
     "data": {
      "text/plain": [
       "1227690"
      ]
     },
     "execution_count": 51,
     "metadata": {},
     "output_type": "execute_result"
    }
   ],
   "source": [
    "model.num_params()"
   ]
  },
  {
   "cell_type": "code",
   "execution_count": 11,
   "id": "bb3f2363-7eef-43d8-98aa-96e84ec85f60",
   "metadata": {},
   "outputs": [],
   "source": [
    "# from torch.utils.data import DataLoader\n",
    "# dl = DataLoader(\n",
    "#     train, \n",
    "#     batch_size=32, \n",
    "#     shuffle=True,\n",
    "\n",
    "#     num_workers=0\n",
    "# )"
   ]
  },
  {
   "cell_type": "code",
   "execution_count": 12,
   "id": "ec69008a-f3ac-40e3-9e2f-a496b8792c24",
   "metadata": {},
   "outputs": [],
   "source": [
    "# kek = model.predict(train)"
   ]
  },
  {
   "cell_type": "code",
   "execution_count": 13,
   "id": "98b19c9d-81fa-430a-a3c2-488769adb7c8",
   "metadata": {},
   "outputs": [],
   "source": [
    "# pd.DataFrame(kek['uplift'])"
   ]
  },
  {
   "cell_type": "code",
   "execution_count": 14,
   "id": "0be7bf7b-b20a-4152-b4a1-a7fab5894129",
   "metadata": {},
   "outputs": [],
   "source": [
    "# q = model.predict(train)"
   ]
  },
  {
   "cell_type": "code",
   "execution_count": 15,
   "id": "885aac86-4815-4fd1-bbc6-f10603b2eae4",
   "metadata": {},
   "outputs": [],
   "source": [
    "# q['df'][q['df']['treatment'] == 1]"
   ]
  },
  {
   "cell_type": "code",
   "execution_count": 43,
   "id": "7f65d0ba-706c-4b99-bc3b-0b25373f9778",
   "metadata": {},
   "outputs": [
    {
     "name": "stderr",
     "output_type": "stream",
     "text": [
      "/home/ogrobertino/test_env/lib/python3.10/site-packages/torch/optim/lr_scheduler.py:62: UserWarning: The verbose parameter is deprecated. Please use get_last_lr() to access the learning rate.\n",
      "  warnings.warn(\n"
     ]
    },
    {
     "name": "stdout",
     "output_type": "stream",
     "text": [
      "Epoch 1/5 - 20.0% - Loss: 0.4884\n",
      "Epoch 1/5 - 40.0% - Loss: 0.4690\n",
      "Epoch 1/5 - 60.0% - Loss: 0.4638\n",
      "Epoch 1/5 - 79.9% - Loss: 0.4574\n",
      "Epoch 1/5 - 99.9% - Loss: 0.4541\n",
      "Validation after epoch\n",
      "Epoch 1/5, Train Loss: 0.4540, Val Loss: 0.4371, Val AUUC: -0.0032, LR: 0.005000\n",
      "Epoch 2/5 - 20.0% - Loss: 0.4411\n",
      "Epoch 2/5 - 40.0% - Loss: 0.4408\n",
      "Epoch 2/5 - 60.0% - Loss: 0.4410\n",
      "Epoch 2/5 - 79.9% - Loss: 0.4413\n",
      "Epoch 2/5 - 99.9% - Loss: 0.4413\n",
      "Validation after epoch\n",
      "Epoch 2/5, Train Loss: 0.4412, Val Loss: 0.4385, Val AUUC: -0.0016, LR: 0.005000\n",
      "Epoch 3/5 - 20.0% - Loss: 0.4478\n",
      "Epoch 3/5 - 40.0% - Loss: 0.4452\n",
      "Epoch 3/5 - 60.0% - Loss: 0.4435\n",
      "Epoch 3/5 - 79.9% - Loss: 0.4422\n",
      "Epoch 3/5 - 99.9% - Loss: 0.4412\n",
      "Validation after epoch\n",
      "Epoch 3/5, Train Loss: 0.4411, Val Loss: 0.4356, Val AUUC: -0.0017, LR: 0.005000\n",
      "Epoch 4/5 - 20.0% - Loss: 0.4442\n",
      "Epoch 4/5 - 40.0% - Loss: 0.4389\n",
      "Epoch 4/5 - 60.0% - Loss: 0.4388\n",
      "Epoch 4/5 - 79.9% - Loss: 0.4405\n",
      "Epoch 4/5 - 99.9% - Loss: 0.4404\n",
      "Validation after epoch\n",
      "Epoch 4/5, Train Loss: 0.4403, Val Loss: 0.4376, Val AUUC: 0.0001, LR: 0.005000\n",
      "Epoch 5/5 - 20.0% - Loss: 0.4395\n",
      "Epoch 5/5 - 40.0% - Loss: 0.4387\n",
      "Epoch 5/5 - 60.0% - Loss: 0.4418\n",
      "Epoch 5/5 - 79.9% - Loss: 0.4411\n",
      "Epoch 5/5 - 99.9% - Loss: 0.4407\n",
      "Validation after epoch\n",
      "Epoch 5/5, Train Loss: 0.4407, Val Loss: 0.4471, Val AUUC: 0.0022, LR: 0.002500\n",
      "Early stopping triggered after 5 epochs\n",
      "Модель, предсказания и конфиг сохранены в директории exps2/lazada_v2/100/10\n",
      "Эксперимент сохранен в таблице /home/ogrobertino/UpliftModelingResearch/exps2/stats.tsv\n"
     ]
    }
   ],
   "source": [
    "train_test_model(ds_name='lazada_v2', features_percent=100, factory=DESCNUpliftModelFactory, config=configs[0], NN=True)   "
   ]
  },
  {
   "cell_type": "markdown",
   "id": "c2da50b5-c7c4-4fa2-b384-67c3157cec9e",
   "metadata": {},
   "source": [
    "cfg:{'lr': 0.001, 'decay_rate': 0.95, 'decay_step_size': 1, 'l2': 0.001, 'model_name': 'DESCN_128_64_20220215_175927', 'n_experiments': 5, 'batch_size': 5000, 'share_dim': 128, 'base_dim': 64, 'reweight_sample': 1, 'val_rate': 0.2, 'do_rate': 0.1, 'normalization': 'divide', 'epochs': 5, 'log_step': 50, 'pred_step': 1, 'optim': 'Adam', 'BatchNorm1d': 'true', 'prpsy_w': 0.5, 'escvr1_w': 0.5, 'escvr0_w': 1, 'h1_w': 0, 'h0_w': 0, 'mu0hat_w': 0.5, 'mu1hat_w': 1, 'imb_dist': 'wass', 'imb_dist_w': 0,"
   ]
  },
  {
   "cell_type": "code",
   "execution_count": null,
   "id": "8ebf47e0-0fe4-4ee1-a5e9-c3bc0baf6932",
   "metadata": {},
   "outputs": [],
   "source": [
    "# for i in tqdm(range(len(configs)), desc=\"Training models\"):\n",
    "#     train_test_model(ds_name='lazada', features_percent=100, factory=DRModelFactory, config=configs[i])   "
   ]
  },
  {
   "cell_type": "code",
   "execution_count": 44,
   "id": "34845a63-71b4-4cfa-85fe-b91abad9357b",
   "metadata": {},
   "outputs": [
    {
     "name": "stderr",
     "output_type": "stream",
     "text": [
      "/home/ogrobertino/UpliftModelingResearch/src/models/NNUpliftModeling/INNUpliftModeling.py:352: FutureWarning: You are using `torch.load` with `weights_only=False` (the current default value), which uses the default pickle module implicitly. It is possible to construct malicious pickle data which will execute arbitrary code during unpickling (See https://github.com/pytorch/pytorch/blob/main/SECURITY.md#untrusted-models for more details). In a future release, the default value for `weights_only` will be flipped to `True`. This limits the functions that could be executed during unpickling. Arbitrary objects will no longer be allowed to be loaded via this mode unless they are explicitly allowlisted by the user via `torch.serialization.add_safe_globals`. We recommend you start setting `weights_only=True` for any use case where you don't have full control of the loaded file. Please open an issue on GitHub for any issues related to this experimental feature.\n",
      "  checkpoint = torch.load(path, map_location=lambda storage, loc: storage)\n",
      "/home/ogrobertino/test_env/lib/python3.10/site-packages/torch/optim/lr_scheduler.py:62: UserWarning: The verbose parameter is deprecated. Please use get_last_lr() to access the learning rate.\n",
      "  warnings.warn(\n"
     ]
    }
   ],
   "source": [
    "from src.global_params import BASE_PATH\n",
    "path = pd.read_csv(BASE_PATH + \"/exps2/stats.tsv\", sep='\\t').Path.iloc[-1]\n",
    "model = DESCNUpliftModel(from_load=True, path = str(BASE_PATH) + \"/\" + path)"
   ]
  },
  {
   "cell_type": "code",
   "execution_count": 46,
   "id": "3b8621c1-898d-4af6-b407-a85bd5447441",
   "metadata": {},
   "outputs": [
    {
     "data": {
      "text/plain": [
       "85866"
      ]
     },
     "execution_count": 46,
     "metadata": {},
     "output_type": "execute_result"
    }
   ],
   "source": [
    "model.num_params()"
   ]
  },
  {
   "cell_type": "code",
   "execution_count": 18,
   "id": "f5c8f90c-b070-4d81-a38f-bf730145d4ff",
   "metadata": {},
   "outputs": [
    {
     "data": {
      "text/plain": [
       "'exps2/lazada_v2/100/9'"
      ]
     },
     "execution_count": 18,
     "metadata": {},
     "output_type": "execute_result"
    }
   ],
   "source": [
    "path"
   ]
  },
  {
   "cell_type": "code",
   "execution_count": 19,
   "id": "42728689-1d29-4bc5-9c4d-41c540b2aec9",
   "metadata": {},
   "outputs": [
    {
     "data": {
      "text/plain": [
       "'/home/ogrobertino/UpliftModelingResearch/exps2/lazada_v2/100/9'"
      ]
     },
     "execution_count": 19,
     "metadata": {},
     "output_type": "execute_result"
    }
   ],
   "source": [
    "str(BASE_PATH) + \"/\" + path"
   ]
  },
  {
   "cell_type": "code",
   "execution_count": 12,
   "id": "ab238ab4-ecaf-4bb8-9435-c7e316e1d37d",
   "metadata": {},
   "outputs": [],
   "source": [
    "res = pd.read_csv(str(BASE_PATH) + \"/\" + path + \"/predictions.tsv\", sep='\\t')"
   ]
  },
  {
   "cell_type": "code",
   "execution_count": 21,
   "id": "b902a938-f943-4444-a0a8-afe9cdde40b6",
   "metadata": {},
   "outputs": [
    {
     "data": {
      "text/plain": [
       "{'batch_size': 64,\n",
       " 'epochs': 5,\n",
       " 'early_stopping_patience': 2,\n",
       " 'optimizer': {'name': 'Adam', 'lr': 0.005, 'weight_decay': 0.001},\n",
       " 'scheduler': {'name': 'ReduceLROnPlateau', 'patience': 1, 'factor': 0.5},\n",
       " 'use_gpu': True,\n",
       " 'num_workers': 0,\n",
       " 'inference_batch_size': 32,\n",
       " 'input_dim': 83,\n",
       " 'share_dim': 32,\n",
       " 'base_dim': 32,\n",
       " 'do_rate': 0.1,\n",
       " 'batch_norm': True,\n",
       " 'normalization': 'divide',\n",
       " 'prpsy_w': 0.5,\n",
       " 'escvr1_w': 0.5,\n",
       " 'escvr0_w': 1.0,\n",
       " 'mu1hat_w': 1.0,\n",
       " 'mu0hat_w': 0.5,\n",
       " 'gradient_accumulation_steps': 2}"
      ]
     },
     "execution_count": 21,
     "metadata": {},
     "output_type": "execute_result"
    }
   ],
   "source": [
    "model.config"
   ]
  },
  {
   "cell_type": "code",
   "execution_count": 15,
   "id": "9f78d7d3-5b16-4985-9c4b-ad5e795f6018",
   "metadata": {},
   "outputs": [],
   "source": [
    "from src.metric import get_auuc"
   ]
  },
  {
   "cell_type": "code",
   "execution_count": 23,
   "id": "18681481-eb7c-4fc5-af66-33e9c27fcc5c",
   "metadata": {},
   "outputs": [
    {
     "data": {
      "text/plain": [
       "-0.0035888787886069313"
      ]
     },
     "execution_count": 23,
     "metadata": {},
     "output_type": "execute_result"
    }
   ],
   "source": [
    "get_auuc(res)"
   ]
  },
  {
   "cell_type": "code",
   "execution_count": 24,
   "id": "50d3f633-e5e2-448d-9a64-446a2a09e910",
   "metadata": {},
   "outputs": [],
   "source": [
    "res2 = res.copy(deep=True)\n",
    "res2['score'] = -1 * res2['score']"
   ]
  },
  {
   "cell_type": "code",
   "execution_count": 25,
   "id": "8ec2e1e6-24ad-42c1-bb43-b5d88df140cc",
   "metadata": {},
   "outputs": [
    {
     "data": {
      "text/plain": [
       "-0.04996016733696808"
      ]
     },
     "execution_count": 25,
     "metadata": {},
     "output_type": "execute_result"
    }
   ],
   "source": [
    "get_auuc(res2)"
   ]
  },
  {
   "cell_type": "code",
   "execution_count": 26,
   "id": "bf483bb8-7859-4b26-9bdc-2a0eacd3ba91",
   "metadata": {},
   "outputs": [],
   "source": [
    "# from torch.utils.data import DataLoader\n",
    "# dl = DataLoader(\n",
    "#     test, \n",
    "#     batch_size=32, \n",
    "#     shuffle=True,\n",
    "\n",
    "#     num_workers=0\n",
    "# )"
   ]
  },
  {
   "cell_type": "code",
   "execution_count": 13,
   "id": "16704536-e88b-4c9e-ab35-fb76cc7e754d",
   "metadata": {},
   "outputs": [],
   "source": [
    "preds = model.predict(test)"
   ]
  },
  {
   "cell_type": "code",
   "execution_count": 14,
   "id": "0b312201-c90c-45ec-8066-67deac51c2a9",
   "metadata": {},
   "outputs": [
    {
     "data": {
      "text/plain": [
       "dict_keys(['uplift', 'df', 'p_estr', 'p_escr', 'p_prpsy'])"
      ]
     },
     "execution_count": 14,
     "metadata": {},
     "output_type": "execute_result"
    }
   ],
   "source": [
    "preds.keys()"
   ]
  },
  {
   "cell_type": "code",
   "execution_count": 17,
   "id": "f12cdf77-f61a-4d61-b204-2a258dafda13",
   "metadata": {},
   "outputs": [
    {
     "data": {
      "text/plain": [
       "-0.0035888787886069313"
      ]
     },
     "execution_count": 17,
     "metadata": {},
     "output_type": "execute_result"
    }
   ],
   "source": [
    "get_auuc(preds[\"df\"])"
   ]
  },
  {
   "cell_type": "code",
   "execution_count": 21,
   "id": "220ae4cc-a212-4d33-b5a0-ab3bc9800a27",
   "metadata": {},
   "outputs": [],
   "source": [
    "df = preds[\"df\"]"
   ]
  },
  {
   "cell_type": "code",
   "execution_count": 25,
   "id": "7207f0ec-3f09-4764-8af3-7e58149cb206",
   "metadata": {},
   "outputs": [],
   "source": [
    "new1 = preds[\"p_estr\"] - preds[\"p_escr\"]\n",
    "new1 = new1[:, 0]"
   ]
  },
  {
   "cell_type": "code",
   "execution_count": 26,
   "id": "68375361-6734-49aa-be7f-51173ac71cdc",
   "metadata": {},
   "outputs": [],
   "source": [
    "new1_df = df.copy(deep=True)\n",
    "new1_df[\"score\"] = new1"
   ]
  },
  {
   "cell_type": "code",
   "execution_count": 27,
   "id": "5b634b30-080f-4f92-ac72-1f1cb793d42a",
   "metadata": {},
   "outputs": [
    {
     "data": {
      "text/plain": [
       "0.010982155682655821"
      ]
     },
     "execution_count": 27,
     "metadata": {},
     "output_type": "execute_result"
    }
   ],
   "source": [
    "get_auuc(new1_df)"
   ]
  },
  {
   "cell_type": "code",
   "execution_count": 29,
   "id": "e3b14596-4acf-4bb6-bc85-5c58388d12dd",
   "metadata": {},
   "outputs": [],
   "source": [
    "new2 = preds[\"p_estr\"] * preds[\"p_prpsy\"] - preds[\"p_escr\"] * (1 - preds[\"p_prpsy\"])\n",
    "new2 = new2[:, 0]\n",
    "\n",
    "new2_df = df.copy(deep=True)\n",
    "new2_df[\"score\"] = new2"
   ]
  },
  {
   "cell_type": "code",
   "execution_count": 30,
   "id": "2f3a5252-05c0-4775-9abb-cd7f2040d6f6",
   "metadata": {},
   "outputs": [
    {
     "data": {
      "text/plain": [
       "0.012947675721376155"
      ]
     },
     "execution_count": 30,
     "metadata": {},
     "output_type": "execute_result"
    }
   ],
   "source": [
    "get_auuc(new2_df)"
   ]
  },
  {
   "cell_type": "code",
   "execution_count": 31,
   "id": "2328ddbb-bf71-4be6-85e8-f9e543267e9f",
   "metadata": {},
   "outputs": [],
   "source": [
    "from src.metric import get_auuc, get_qini, uplift_by_percentile_CUM"
   ]
  },
  {
   "cell_type": "code",
   "execution_count": 34,
   "id": "cc79dbfc-a879-445a-b49a-70264a016792",
   "metadata": {},
   "outputs": [
    {
     "data": {
      "text/plain": [
       "(0.012947675721376155, -0.0035888787886069313)"
      ]
     },
     "execution_count": 34,
     "metadata": {},
     "output_type": "execute_result"
    }
   ],
   "source": [
    "get_auuc(new2_df), get_auuc(df)"
   ]
  },
  {
   "cell_type": "code",
   "execution_count": 35,
   "id": "734155af-9f06-44e1-acc6-83532b31ed5c",
   "metadata": {},
   "outputs": [
    {
     "data": {
      "text/plain": [
       "(0.46074126068345955, 0.3758347256505864)"
      ]
     },
     "execution_count": 35,
     "metadata": {},
     "output_type": "execute_result"
    }
   ],
   "source": [
    "get_qini(new2_df), get_qini(df)"
   ]
  },
  {
   "cell_type": "code",
   "execution_count": 36,
   "id": "daa4dab5-4bf6-41a2-be5f-29b2a2756b1e",
   "metadata": {},
   "outputs": [],
   "source": [
    "from src.global_params import COL_TARGET, COL_TREATMENT"
   ]
  },
  {
   "cell_type": "code",
   "execution_count": 37,
   "id": "6a881a69-e7e6-4aea-9c6e-0f8d9dc26ffd",
   "metadata": {},
   "outputs": [
    {
     "data": {
      "text/html": [
       "<div>\n",
       "<style scoped>\n",
       "    .dataframe tbody tr th:only-of-type {\n",
       "        vertical-align: middle;\n",
       "    }\n",
       "\n",
       "    .dataframe tbody tr th {\n",
       "        vertical-align: top;\n",
       "    }\n",
       "\n",
       "    .dataframe thead th {\n",
       "        text-align: right;\n",
       "    }\n",
       "</style>\n",
       "<table border=\"1\" class=\"dataframe\">\n",
       "  <thead>\n",
       "    <tr style=\"text-align: right;\">\n",
       "      <th></th>\n",
       "      <th>n_treatment</th>\n",
       "      <th>n_control</th>\n",
       "      <th>response_rate_treatment</th>\n",
       "      <th>response_rate_control</th>\n",
       "      <th>uplift</th>\n",
       "    </tr>\n",
       "    <tr>\n",
       "      <th>percentile</th>\n",
       "      <th></th>\n",
       "      <th></th>\n",
       "      <th></th>\n",
       "      <th></th>\n",
       "      <th></th>\n",
       "    </tr>\n",
       "  </thead>\n",
       "  <tbody>\n",
       "    <tr>\n",
       "      <th>5</th>\n",
       "      <td>11409</td>\n",
       "      <td>174</td>\n",
       "      <td>0.134718</td>\n",
       "      <td>0.137931</td>\n",
       "      <td>-0.003213</td>\n",
       "    </tr>\n",
       "    <tr>\n",
       "      <th>10</th>\n",
       "      <td>21675</td>\n",
       "      <td>1491</td>\n",
       "      <td>0.098547</td>\n",
       "      <td>0.061033</td>\n",
       "      <td>0.037514</td>\n",
       "    </tr>\n",
       "    <tr>\n",
       "      <th>15</th>\n",
       "      <td>29645</td>\n",
       "      <td>5104</td>\n",
       "      <td>0.083792</td>\n",
       "      <td>0.043299</td>\n",
       "      <td>0.040492</td>\n",
       "    </tr>\n",
       "    <tr>\n",
       "      <th>20</th>\n",
       "      <td>35283</td>\n",
       "      <td>11049</td>\n",
       "      <td>0.075050</td>\n",
       "      <td>0.032401</td>\n",
       "      <td>0.042649</td>\n",
       "    </tr>\n",
       "    <tr>\n",
       "      <th>25</th>\n",
       "      <td>39262</td>\n",
       "      <td>18653</td>\n",
       "      <td>0.069762</td>\n",
       "      <td>0.025948</td>\n",
       "      <td>0.043815</td>\n",
       "    </tr>\n",
       "    <tr>\n",
       "      <th>30</th>\n",
       "      <td>42232</td>\n",
       "      <td>27266</td>\n",
       "      <td>0.066040</td>\n",
       "      <td>0.022996</td>\n",
       "      <td>0.043044</td>\n",
       "    </tr>\n",
       "    <tr>\n",
       "      <th>35</th>\n",
       "      <td>44361</td>\n",
       "      <td>36720</td>\n",
       "      <td>0.063592</td>\n",
       "      <td>0.020125</td>\n",
       "      <td>0.043467</td>\n",
       "    </tr>\n",
       "    <tr>\n",
       "      <th>40</th>\n",
       "      <td>46074</td>\n",
       "      <td>46590</td>\n",
       "      <td>0.061814</td>\n",
       "      <td>0.018738</td>\n",
       "      <td>0.043076</td>\n",
       "    </tr>\n",
       "    <tr>\n",
       "      <th>45</th>\n",
       "      <td>47362</td>\n",
       "      <td>56884</td>\n",
       "      <td>0.060428</td>\n",
       "      <td>0.017228</td>\n",
       "      <td>0.043200</td>\n",
       "    </tr>\n",
       "    <tr>\n",
       "      <th>50</th>\n",
       "      <td>48360</td>\n",
       "      <td>67468</td>\n",
       "      <td>0.059409</td>\n",
       "      <td>0.016022</td>\n",
       "      <td>0.043386</td>\n",
       "    </tr>\n",
       "    <tr>\n",
       "      <th>55</th>\n",
       "      <td>49107</td>\n",
       "      <td>78303</td>\n",
       "      <td>0.058709</td>\n",
       "      <td>0.015006</td>\n",
       "      <td>0.043703</td>\n",
       "    </tr>\n",
       "    <tr>\n",
       "      <th>60</th>\n",
       "      <td>49689</td>\n",
       "      <td>89303</td>\n",
       "      <td>0.058162</td>\n",
       "      <td>0.014020</td>\n",
       "      <td>0.044142</td>\n",
       "    </tr>\n",
       "    <tr>\n",
       "      <th>65</th>\n",
       "      <td>50158</td>\n",
       "      <td>100416</td>\n",
       "      <td>0.057777</td>\n",
       "      <td>0.013245</td>\n",
       "      <td>0.044533</td>\n",
       "    </tr>\n",
       "    <tr>\n",
       "      <th>70</th>\n",
       "      <td>50505</td>\n",
       "      <td>111651</td>\n",
       "      <td>0.057440</td>\n",
       "      <td>0.012611</td>\n",
       "      <td>0.044829</td>\n",
       "    </tr>\n",
       "    <tr>\n",
       "      <th>75</th>\n",
       "      <td>50745</td>\n",
       "      <td>122993</td>\n",
       "      <td>0.057227</td>\n",
       "      <td>0.012066</td>\n",
       "      <td>0.045162</td>\n",
       "    </tr>\n",
       "    <tr>\n",
       "      <th>80</th>\n",
       "      <td>50881</td>\n",
       "      <td>134439</td>\n",
       "      <td>0.057094</td>\n",
       "      <td>0.011500</td>\n",
       "      <td>0.045594</td>\n",
       "    </tr>\n",
       "    <tr>\n",
       "      <th>85</th>\n",
       "      <td>50993</td>\n",
       "      <td>145909</td>\n",
       "      <td>0.056969</td>\n",
       "      <td>0.011000</td>\n",
       "      <td>0.045969</td>\n",
       "    </tr>\n",
       "    <tr>\n",
       "      <th>90</th>\n",
       "      <td>51061</td>\n",
       "      <td>157423</td>\n",
       "      <td>0.056893</td>\n",
       "      <td>0.010494</td>\n",
       "      <td>0.046399</td>\n",
       "    </tr>\n",
       "    <tr>\n",
       "      <th>95</th>\n",
       "      <td>51112</td>\n",
       "      <td>168954</td>\n",
       "      <td>0.056836</td>\n",
       "      <td>0.010015</td>\n",
       "      <td>0.046821</td>\n",
       "    </tr>\n",
       "    <tr>\n",
       "      <th>100</th>\n",
       "      <td>51144</td>\n",
       "      <td>180504</td>\n",
       "      <td>0.056800</td>\n",
       "      <td>0.009634</td>\n",
       "      <td>0.047166</td>\n",
       "    </tr>\n",
       "  </tbody>\n",
       "</table>\n",
       "</div>"
      ],
      "text/plain": [
       "            n_treatment  n_control  response_rate_treatment  \\\n",
       "percentile                                                    \n",
       "5                 11409        174                 0.134718   \n",
       "10                21675       1491                 0.098547   \n",
       "15                29645       5104                 0.083792   \n",
       "20                35283      11049                 0.075050   \n",
       "25                39262      18653                 0.069762   \n",
       "30                42232      27266                 0.066040   \n",
       "35                44361      36720                 0.063592   \n",
       "40                46074      46590                 0.061814   \n",
       "45                47362      56884                 0.060428   \n",
       "50                48360      67468                 0.059409   \n",
       "55                49107      78303                 0.058709   \n",
       "60                49689      89303                 0.058162   \n",
       "65                50158     100416                 0.057777   \n",
       "70                50505     111651                 0.057440   \n",
       "75                50745     122993                 0.057227   \n",
       "80                50881     134439                 0.057094   \n",
       "85                50993     145909                 0.056969   \n",
       "90                51061     157423                 0.056893   \n",
       "95                51112     168954                 0.056836   \n",
       "100               51144     180504                 0.056800   \n",
       "\n",
       "            response_rate_control    uplift  \n",
       "percentile                                   \n",
       "5                        0.137931 -0.003213  \n",
       "10                       0.061033  0.037514  \n",
       "15                       0.043299  0.040492  \n",
       "20                       0.032401  0.042649  \n",
       "25                       0.025948  0.043815  \n",
       "30                       0.022996  0.043044  \n",
       "35                       0.020125  0.043467  \n",
       "40                       0.018738  0.043076  \n",
       "45                       0.017228  0.043200  \n",
       "50                       0.016022  0.043386  \n",
       "55                       0.015006  0.043703  \n",
       "60                       0.014020  0.044142  \n",
       "65                       0.013245  0.044533  \n",
       "70                       0.012611  0.044829  \n",
       "75                       0.012066  0.045162  \n",
       "80                       0.011500  0.045594  \n",
       "85                       0.011000  0.045969  \n",
       "90                       0.010494  0.046399  \n",
       "95                       0.010015  0.046821  \n",
       "100                      0.009634  0.047166  "
      ]
     },
     "execution_count": 37,
     "metadata": {},
     "output_type": "execute_result"
    }
   ],
   "source": [
    "uplift_by_percentile_CUM(df[COL_TARGET], df[\"score\"],\n",
    "                                                df[COL_TREATMENT], strategy='overall', bins=20)"
   ]
  },
  {
   "cell_type": "code",
   "execution_count": 38,
   "id": "85cdc230-9571-4a57-8f3c-0420e78aabd4",
   "metadata": {},
   "outputs": [
    {
     "data": {
      "text/html": [
       "<div>\n",
       "<style scoped>\n",
       "    .dataframe tbody tr th:only-of-type {\n",
       "        vertical-align: middle;\n",
       "    }\n",
       "\n",
       "    .dataframe tbody tr th {\n",
       "        vertical-align: top;\n",
       "    }\n",
       "\n",
       "    .dataframe thead th {\n",
       "        text-align: right;\n",
       "    }\n",
       "</style>\n",
       "<table border=\"1\" class=\"dataframe\">\n",
       "  <thead>\n",
       "    <tr style=\"text-align: right;\">\n",
       "      <th></th>\n",
       "      <th>n_treatment</th>\n",
       "      <th>n_control</th>\n",
       "      <th>response_rate_treatment</th>\n",
       "      <th>response_rate_control</th>\n",
       "      <th>uplift</th>\n",
       "    </tr>\n",
       "    <tr>\n",
       "      <th>percentile</th>\n",
       "      <th></th>\n",
       "      <th></th>\n",
       "      <th></th>\n",
       "      <th></th>\n",
       "      <th></th>\n",
       "    </tr>\n",
       "  </thead>\n",
       "  <tbody>\n",
       "    <tr>\n",
       "      <th>5</th>\n",
       "      <td>11403</td>\n",
       "      <td>180</td>\n",
       "      <td>0.134877</td>\n",
       "      <td>0.138889</td>\n",
       "      <td>-0.004012</td>\n",
       "    </tr>\n",
       "    <tr>\n",
       "      <th>10</th>\n",
       "      <td>21648</td>\n",
       "      <td>1518</td>\n",
       "      <td>0.097977</td>\n",
       "      <td>0.057971</td>\n",
       "      <td>0.040006</td>\n",
       "    </tr>\n",
       "    <tr>\n",
       "      <th>15</th>\n",
       "      <td>29580</td>\n",
       "      <td>5169</td>\n",
       "      <td>0.083469</td>\n",
       "      <td>0.041788</td>\n",
       "      <td>0.041681</td>\n",
       "    </tr>\n",
       "    <tr>\n",
       "      <th>20</th>\n",
       "      <td>35021</td>\n",
       "      <td>11311</td>\n",
       "      <td>0.075298</td>\n",
       "      <td>0.031739</td>\n",
       "      <td>0.043559</td>\n",
       "    </tr>\n",
       "    <tr>\n",
       "      <th>25</th>\n",
       "      <td>35125</td>\n",
       "      <td>22790</td>\n",
       "      <td>0.075103</td>\n",
       "      <td>0.017376</td>\n",
       "      <td>0.057727</td>\n",
       "    </tr>\n",
       "    <tr>\n",
       "      <th>30</th>\n",
       "      <td>35259</td>\n",
       "      <td>34239</td>\n",
       "      <td>0.074846</td>\n",
       "      <td>0.013289</td>\n",
       "      <td>0.061557</td>\n",
       "    </tr>\n",
       "    <tr>\n",
       "      <th>35</th>\n",
       "      <td>35444</td>\n",
       "      <td>45637</td>\n",
       "      <td>0.074512</td>\n",
       "      <td>0.010868</td>\n",
       "      <td>0.063644</td>\n",
       "    </tr>\n",
       "    <tr>\n",
       "      <th>40</th>\n",
       "      <td>35695</td>\n",
       "      <td>56969</td>\n",
       "      <td>0.074100</td>\n",
       "      <td>0.009654</td>\n",
       "      <td>0.064446</td>\n",
       "    </tr>\n",
       "    <tr>\n",
       "      <th>45</th>\n",
       "      <td>36046</td>\n",
       "      <td>68200</td>\n",
       "      <td>0.073545</td>\n",
       "      <td>0.009208</td>\n",
       "      <td>0.064337</td>\n",
       "    </tr>\n",
       "    <tr>\n",
       "      <th>50</th>\n",
       "      <td>36446</td>\n",
       "      <td>79382</td>\n",
       "      <td>0.072930</td>\n",
       "      <td>0.008818</td>\n",
       "      <td>0.064112</td>\n",
       "    </tr>\n",
       "    <tr>\n",
       "      <th>55</th>\n",
       "      <td>37020</td>\n",
       "      <td>90390</td>\n",
       "      <td>0.072069</td>\n",
       "      <td>0.008618</td>\n",
       "      <td>0.063451</td>\n",
       "    </tr>\n",
       "    <tr>\n",
       "      <th>60</th>\n",
       "      <td>37715</td>\n",
       "      <td>101277</td>\n",
       "      <td>0.071059</td>\n",
       "      <td>0.008541</td>\n",
       "      <td>0.062518</td>\n",
       "    </tr>\n",
       "    <tr>\n",
       "      <th>65</th>\n",
       "      <td>38528</td>\n",
       "      <td>112046</td>\n",
       "      <td>0.069819</td>\n",
       "      <td>0.008595</td>\n",
       "      <td>0.061225</td>\n",
       "    </tr>\n",
       "    <tr>\n",
       "      <th>70</th>\n",
       "      <td>39574</td>\n",
       "      <td>122582</td>\n",
       "      <td>0.068454</td>\n",
       "      <td>0.008460</td>\n",
       "      <td>0.059994</td>\n",
       "    </tr>\n",
       "    <tr>\n",
       "      <th>75</th>\n",
       "      <td>40874</td>\n",
       "      <td>132864</td>\n",
       "      <td>0.066766</td>\n",
       "      <td>0.008528</td>\n",
       "      <td>0.058239</td>\n",
       "    </tr>\n",
       "    <tr>\n",
       "      <th>80</th>\n",
       "      <td>42352</td>\n",
       "      <td>142968</td>\n",
       "      <td>0.065050</td>\n",
       "      <td>0.008778</td>\n",
       "      <td>0.056272</td>\n",
       "    </tr>\n",
       "    <tr>\n",
       "      <th>85</th>\n",
       "      <td>44151</td>\n",
       "      <td>152751</td>\n",
       "      <td>0.063170</td>\n",
       "      <td>0.008890</td>\n",
       "      <td>0.054279</td>\n",
       "    </tr>\n",
       "    <tr>\n",
       "      <th>90</th>\n",
       "      <td>46158</td>\n",
       "      <td>162326</td>\n",
       "      <td>0.061138</td>\n",
       "      <td>0.009161</td>\n",
       "      <td>0.051977</td>\n",
       "    </tr>\n",
       "    <tr>\n",
       "      <th>95</th>\n",
       "      <td>48355</td>\n",
       "      <td>171711</td>\n",
       "      <td>0.058980</td>\n",
       "      <td>0.009347</td>\n",
       "      <td>0.049633</td>\n",
       "    </tr>\n",
       "    <tr>\n",
       "      <th>100</th>\n",
       "      <td>51144</td>\n",
       "      <td>180504</td>\n",
       "      <td>0.056742</td>\n",
       "      <td>0.009651</td>\n",
       "      <td>0.047091</td>\n",
       "    </tr>\n",
       "  </tbody>\n",
       "</table>\n",
       "</div>"
      ],
      "text/plain": [
       "            n_treatment  n_control  response_rate_treatment  \\\n",
       "percentile                                                    \n",
       "5                 11403        180                 0.134877   \n",
       "10                21648       1518                 0.097977   \n",
       "15                29580       5169                 0.083469   \n",
       "20                35021      11311                 0.075298   \n",
       "25                35125      22790                 0.075103   \n",
       "30                35259      34239                 0.074846   \n",
       "35                35444      45637                 0.074512   \n",
       "40                35695      56969                 0.074100   \n",
       "45                36046      68200                 0.073545   \n",
       "50                36446      79382                 0.072930   \n",
       "55                37020      90390                 0.072069   \n",
       "60                37715     101277                 0.071059   \n",
       "65                38528     112046                 0.069819   \n",
       "70                39574     122582                 0.068454   \n",
       "75                40874     132864                 0.066766   \n",
       "80                42352     142968                 0.065050   \n",
       "85                44151     152751                 0.063170   \n",
       "90                46158     162326                 0.061138   \n",
       "95                48355     171711                 0.058980   \n",
       "100               51144     180504                 0.056742   \n",
       "\n",
       "            response_rate_control    uplift  \n",
       "percentile                                   \n",
       "5                        0.138889 -0.004012  \n",
       "10                       0.057971  0.040006  \n",
       "15                       0.041788  0.041681  \n",
       "20                       0.031739  0.043559  \n",
       "25                       0.017376  0.057727  \n",
       "30                       0.013289  0.061557  \n",
       "35                       0.010868  0.063644  \n",
       "40                       0.009654  0.064446  \n",
       "45                       0.009208  0.064337  \n",
       "50                       0.008818  0.064112  \n",
       "55                       0.008618  0.063451  \n",
       "60                       0.008541  0.062518  \n",
       "65                       0.008595  0.061225  \n",
       "70                       0.008460  0.059994  \n",
       "75                       0.008528  0.058239  \n",
       "80                       0.008778  0.056272  \n",
       "85                       0.008890  0.054279  \n",
       "90                       0.009161  0.051977  \n",
       "95                       0.009347  0.049633  \n",
       "100                      0.009651  0.047091  "
      ]
     },
     "execution_count": 38,
     "metadata": {},
     "output_type": "execute_result"
    }
   ],
   "source": [
    "uplift_by_percentile_CUM(new2_df[COL_TARGET], new2_df[\"score\"],\n",
    "                                                new2_df[COL_TREATMENT], strategy='overall', bins=20)"
   ]
  },
  {
   "cell_type": "code",
   "execution_count": null,
   "id": "165741f4-db3c-4c2b-93f1-310db0e63600",
   "metadata": {},
   "outputs": [],
   "source": [
    "    auqc_model = get_qini(predicted)\n",
    "    compressions = compressions or {}\n",
    "    uplift_precision = uplift_by_percentile_CUM(predicted[COL_TARGET], predicted[\"score\"],\n",
    "                                                predicted[COL_TREATMENT], strategy='overall', bins=20)"
   ]
  },
  {
   "cell_type": "code",
   "execution_count": 28,
   "id": "45ddb808-84ce-4156-bfcd-4d55ed765233",
   "metadata": {},
   "outputs": [
    {
     "data": {
      "text/plain": [
       "array([[-4.9499893],\n",
       "       [-4.6410084],\n",
       "       [-4.771675 ],\n",
       "       ...,\n",
       "       [-4.5801687],\n",
       "       [-4.603956 ],\n",
       "       [-4.2976193]], dtype=float32)"
      ]
     },
     "execution_count": 28,
     "metadata": {},
     "output_type": "execute_result"
    }
   ],
   "source": [
    "preds['y0']"
   ]
  },
  {
   "cell_type": "code",
   "execution_count": 29,
   "id": "76769af6-5b5c-43b7-a8d1-2e5e2a47df25",
   "metadata": {},
   "outputs": [
    {
     "data": {
      "text/plain": [
       "array([[-4.5946   ],\n",
       "       [-4.2405596],\n",
       "       [-4.392601 ],\n",
       "       ...,\n",
       "       [-4.211261 ],\n",
       "       [-4.228192 ],\n",
       "       [-3.8930411]], dtype=float32)"
      ]
     },
     "execution_count": 29,
     "metadata": {},
     "output_type": "execute_result"
    }
   ],
   "source": [
    "preds['y1']"
   ]
  },
  {
   "cell_type": "code",
   "execution_count": 35,
   "id": "b03e3fa0-e6e5-4e8f-81fa-3f9020320807",
   "metadata": {},
   "outputs": [
    {
     "data": {
      "text/plain": [
       "array([[-0.8277783 ],\n",
       "       [-0.32938668],\n",
       "       [-0.37059146],\n",
       "       ...,\n",
       "       [-0.577477  ],\n",
       "       [-0.82533956],\n",
       "       [-0.6777634 ]], dtype=float32)"
      ]
     },
     "execution_count": 35,
     "metadata": {},
     "output_type": "execute_result"
    }
   ],
   "source": [
    "preds['uplift']"
   ]
  }
 ],
 "metadata": {
  "kernelspec": {
   "display_name": "Python 3 (ipykernel)",
   "language": "python",
   "name": "python3"
  },
  "language_info": {
   "codemirror_mode": {
    "name": "ipython",
    "version": 3
   },
   "file_extension": ".py",
   "mimetype": "text/x-python",
   "name": "python",
   "nbconvert_exporter": "python",
   "pygments_lexer": "ipython3",
   "version": "3.10.6"
  }
 },
 "nbformat": 4,
 "nbformat_minor": 5
}
