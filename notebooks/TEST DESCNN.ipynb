{
 "cells": [
  {
   "cell_type": "code",
   "execution_count": 1,
   "id": "1bd552b4-9e8c-4e19-9f7d-4e3089e6c22c",
   "metadata": {},
   "outputs": [],
   "source": [
    "import pathlib\n",
    "import os\n",
    "from pathlib import Path\n",
    "import sys\n",
    " \n",
    "if sys.argv:\n",
    "    sys.path.insert(0, str(pathlib.Path(os.path.dirname(os.path.abspath(\"\"))).resolve()))\n",
    "%load_ext autoreload\n",
    "%autoreload 2"
   ]
  },
  {
   "cell_type": "code",
   "execution_count": 2,
   "id": "b0fff5ee-d2b1-4098-b173-8f69f696a598",
   "metadata": {},
   "outputs": [
    {
     "name": "stderr",
     "output_type": "stream",
     "text": [
      "/home/ogrobertino/test_env/lib/python3.10/site-packages/xgboost/core.py:377: FutureWarning: Your system has an old version of glibc (< 2.28). We will stop supporting Linux distros with glibc older than 2.28 after **May 31, 2025**. Please upgrade to a recent Linux distro (with glibc >= 2.28) to use future versions of XGBoost.\n",
      "Note: You have installed the 'manylinux2014' variant of XGBoost. Certain features such as GPU algorithms or federated learning are not available. To use these features, please upgrade to a recent Linux distro with glibc 2.28+, and install the 'manylinux_2_28' variant.\n",
      "  warnings.warn(\n",
      "Failed to import duecredit due to No module named 'duecredit'\n"
     ]
    }
   ],
   "source": [
    "from src.utils import get_paths_train_test, train_test_model\n",
    "from src.factory import DESCNUpliftModelFactory\n",
    "from src.models.NNUpliftModeling.DESCNUpliftModel import DESCNUpliftModel"
   ]
  },
  {
   "cell_type": "code",
   "execution_count": 3,
   "id": "98ce159f-09a7-4cdf-92fe-80ef1751ab3a",
   "metadata": {},
   "outputs": [],
   "source": [
    "ds_name = 'lazada_v2'\n",
    "features_percent = 100\n",
    "train_path, test_path = get_paths_train_test(ds_name=ds_name, features_percent=features_percent)"
   ]
  },
  {
   "cell_type": "code",
   "execution_count": 4,
   "id": "8dba5d29-4cc5-49cd-a095-935b6b2ad45c",
   "metadata": {},
   "outputs": [],
   "source": [
    "import pandas as pd\n",
    "ds = pd.read_csv(train_path, sep='\\t')"
   ]
  },
  {
   "cell_type": "code",
   "execution_count": 5,
   "id": "7c3fe727-5c7d-40c8-ba1b-5bf7f521dd7d",
   "metadata": {},
   "outputs": [
    {
     "data": {
      "text/plain": [
       "83"
      ]
     },
     "execution_count": 5,
     "metadata": {},
     "output_type": "execute_result"
    }
   ],
   "source": [
    "input_size = len(ds.columns) - 2\n",
    "input_size"
   ]
  },
  {
   "cell_type": "code",
   "execution_count": 39,
   "id": "639096cb-c811-403d-aa06-21b2e0b63a7a",
   "metadata": {},
   "outputs": [],
   "source": [
    "params = {\n",
    "    'input_dim': input_size,             # Должно быть задано в соответствии с данными\n",
    "    'share_dim': [32], # Варианты размерности общих слоев\n",
    "    'base_dim': [32],   # Варианты размерности базовых слоев\n",
    "    'do_rate': [0.1],  # Варианты dropout\n",
    "    'batch_norm': True, # Использование BatchNorm\n",
    "    'normalization': 'none', # Тип нормализации\n",
    "    'prpsy_w': 0.5,   # Вес для потери пропенсити\n",
    "    'escvr1_w': 0.5,  # Вес для потери ESTR\n",
    "    'escvr0_w': 1.0,  # Вес для потери ESCR\n",
    "    'mu1hat_w': 1.0,  # Вес для перекрестной потери TR\n",
    "    'mu0hat_w': 0.5,  # Вес для перекрестной потери CR\n",
    "    'batch_size': 32,\n",
    "    'gradient_accumulation_steps' : 1,\n",
    "    'optimizer': \n",
    "        {\n",
    "            'name': 'Adam',\n",
    "            'lr': 0.001,\n",
    "            'weight_decay': 0.0001\n",
    "        },\n",
    "    'epochs': 5\n",
    "}"
   ]
  },
  {
   "cell_type": "code",
   "execution_count": 7,
   "id": "c3cd084c-52f0-42b8-bf3c-94ca778965a7",
   "metadata": {},
   "outputs": [],
   "source": [
    "# params = {\n",
    "#     'input_dim': input_size,             # Должно быть задано в соответствии с данными\n",
    "#     'share_dim': [2], # Варианты размерности общих слоев\n",
    "#     'base_dim': [2],   # Варианты размерности базовых слоев\n",
    "#     'do_rate': [0.1, 0.2, 0.3],  # Варианты dropout\n",
    "#     'batch_norm': [True, False], # Использование BatchNorm\n",
    "#     'normalization': ['none', 'divide'], # Тип нормализации\n",
    "#     'factual_loss_weight': [0.8, 1.0, 1.2], # Вес фактической потери\n",
    "#     'propensity_loss_weight': [0.05, 0.1, 0.2], # Вес потери пропенсити\n",
    "#     'tau_loss_weight': [0.05, 0.1, 0.2],    # Вес потери tau (если применимо)\n",
    "#     'batch_size': 32,\n",
    "#     'gradient_accumulation_steps' : 2,\n",
    "#     'epochs': 1\n",
    "# }"
   ]
  },
  {
   "cell_type": "code",
   "execution_count": 40,
   "id": "20a55a05-8f96-4562-a261-add2af0e9af3",
   "metadata": {},
   "outputs": [],
   "source": [
    "configs = DESCNUpliftModel.generate_config(count=4, params = params)"
   ]
  },
  {
   "cell_type": "code",
   "execution_count": 41,
   "id": "ed283dca-e9b3-443a-a87e-43f7dc76ff02",
   "metadata": {},
   "outputs": [],
   "source": [
    "factory = DESCNUpliftModelFactory\n",
    "config = configs[0]\n",
    "batch_size=32\n",
    "max_size=100000"
   ]
  },
  {
   "cell_type": "code",
   "execution_count": 42,
   "id": "8b4d6bf1-ec14-4891-bec4-eb0fb96fa6e2",
   "metadata": {},
   "outputs": [
    {
     "name": "stderr",
     "output_type": "stream",
     "text": [
      "/home/ogrobertino/test_env/lib/python3.10/site-packages/torch/optim/lr_scheduler.py:62: UserWarning: The verbose parameter is deprecated. Please use get_last_lr() to access the learning rate.\n",
      "  warnings.warn(\n"
     ]
    }
   ],
   "source": [
    "model, train, test = factory.create(config, train_path, test_path)"
   ]
  },
  {
   "cell_type": "code",
   "execution_count": 11,
   "id": "bb3f2363-7eef-43d8-98aa-96e84ec85f60",
   "metadata": {},
   "outputs": [],
   "source": [
    "# from torch.utils.data import DataLoader\n",
    "# dl = DataLoader(\n",
    "#     train, \n",
    "#     batch_size=32, \n",
    "#     shuffle=True,\n",
    "\n",
    "#     num_workers=0\n",
    "# )"
   ]
  },
  {
   "cell_type": "code",
   "execution_count": 12,
   "id": "ec69008a-f3ac-40e3-9e2f-a496b8792c24",
   "metadata": {},
   "outputs": [],
   "source": [
    "# kek = model.predict(train)"
   ]
  },
  {
   "cell_type": "code",
   "execution_count": 13,
   "id": "98b19c9d-81fa-430a-a3c2-488769adb7c8",
   "metadata": {},
   "outputs": [],
   "source": [
    "# pd.DataFrame(kek['uplift'])"
   ]
  },
  {
   "cell_type": "code",
   "execution_count": 14,
   "id": "0be7bf7b-b20a-4152-b4a1-a7fab5894129",
   "metadata": {},
   "outputs": [],
   "source": [
    "# q = model.predict(train)"
   ]
  },
  {
   "cell_type": "code",
   "execution_count": 15,
   "id": "885aac86-4815-4fd1-bbc6-f10603b2eae4",
   "metadata": {},
   "outputs": [],
   "source": [
    "# q['df'][q['df']['treatment'] == 1]"
   ]
  },
  {
   "cell_type": "code",
   "execution_count": 43,
   "id": "7f65d0ba-706c-4b99-bc3b-0b25373f9778",
   "metadata": {},
   "outputs": [
    {
     "name": "stderr",
     "output_type": "stream",
     "text": [
      "/home/ogrobertino/test_env/lib/python3.10/site-packages/torch/optim/lr_scheduler.py:62: UserWarning: The verbose parameter is deprecated. Please use get_last_lr() to access the learning rate.\n",
      "  warnings.warn(\n"
     ]
    },
    {
     "name": "stdout",
     "output_type": "stream",
     "text": [
      "Epoch 1/5 - 10.0% - Loss: 0.8167\n",
      "Epoch 1/5 - 20.0% - Loss: 0.7829\n",
      "Epoch 1/5 - 30.0% - Loss: 0.7774\n",
      "Epoch 1/5 - 40.0% - Loss: 0.7629\n",
      "Epoch 1/5 - 50.0% - Loss: 0.7509\n",
      "Epoch 1/5 - 60.0% - Loss: 0.7460\n",
      "Epoch 1/5 - 70.0% - Loss: 0.7385\n",
      "Epoch 1/5 - 80.0% - Loss: 0.7319\n",
      "Epoch 1/5 - 90.0% - Loss: 0.7277\n",
      "Epoch 1/5 - 100.0% - Loss: 0.7259\n",
      "Validation after epoch\n",
      "Epoch 1/5, Train Loss: 0.7259, Val Loss: 0.6688, Val AUUC: -0.0628, LR: 0.001000\n",
      "Epoch 2/5 - 10.0% - Loss: 0.6831\n",
      "Epoch 2/5 - 20.0% - Loss: 0.6794\n",
      "Epoch 2/5 - 30.0% - Loss: 0.6800\n",
      "Epoch 2/5 - 40.0% - Loss: 0.6844\n",
      "Epoch 2/5 - 50.0% - Loss: 0.6820\n",
      "Epoch 2/5 - 60.0% - Loss: 0.6811\n",
      "Epoch 2/5 - 70.0% - Loss: 0.6832\n",
      "Epoch 2/5 - 80.0% - Loss: 0.6832\n",
      "Epoch 2/5 - 90.0% - Loss: 0.6837\n",
      "Epoch 2/5 - 100.0% - Loss: 0.6840\n",
      "Validation after epoch\n",
      "Epoch 2/5, Train Loss: 0.6840, Val Loss: 0.6721, Val AUUC: -0.0548, LR: 0.001000\n",
      "Epoch 3/5 - 10.0% - Loss: 0.6717\n",
      "Epoch 3/5 - 20.0% - Loss: 0.6758\n",
      "Epoch 3/5 - 30.0% - Loss: 0.6789\n",
      "Epoch 3/5 - 40.0% - Loss: 0.6776\n",
      "Epoch 3/5 - 50.0% - Loss: 0.6829\n",
      "Epoch 3/5 - 60.0% - Loss: 0.6822\n",
      "Epoch 3/5 - 70.0% - Loss: 0.6847\n",
      "Epoch 3/5 - 80.0% - Loss: 0.6822\n",
      "Epoch 3/5 - 90.0% - Loss: 0.6809\n",
      "Epoch 3/5 - 100.0% - Loss: 0.6789\n",
      "Validation after epoch\n",
      "Epoch 3/5, Train Loss: 0.6790, Val Loss: 0.6525, Val AUUC: -0.0887, LR: 0.001000\n",
      "Epoch 4/5 - 10.0% - Loss: 0.6686\n",
      "Epoch 4/5 - 20.0% - Loss: 0.6787\n",
      "Epoch 4/5 - 30.0% - Loss: 0.6734\n",
      "Epoch 4/5 - 40.0% - Loss: 0.6743\n",
      "Epoch 4/5 - 50.0% - Loss: 0.6747\n",
      "Epoch 4/5 - 60.0% - Loss: 0.6758\n",
      "Epoch 4/5 - 70.0% - Loss: 0.6758\n",
      "Epoch 4/5 - 80.0% - Loss: 0.6776\n",
      "Epoch 4/5 - 90.0% - Loss: 0.6777\n",
      "Epoch 4/5 - 100.0% - Loss: 0.6785\n",
      "Validation after epoch\n",
      "Epoch 4/5, Train Loss: 0.6786, Val Loss: 0.6449, Val AUUC: -0.1356, LR: 0.001000\n",
      "Epoch 5/5 - 10.0% - Loss: 0.6669\n",
      "Epoch 5/5 - 20.0% - Loss: 0.6651\n",
      "Epoch 5/5 - 30.0% - Loss: 0.6699\n",
      "Epoch 5/5 - 40.0% - Loss: 0.6675\n",
      "Epoch 5/5 - 50.0% - Loss: 0.6710\n",
      "Epoch 5/5 - 60.0% - Loss: 0.6723\n",
      "Epoch 5/5 - 70.0% - Loss: 0.6742\n",
      "Epoch 5/5 - 80.0% - Loss: 0.6745\n",
      "Epoch 5/5 - 90.0% - Loss: 0.6742\n",
      "Epoch 5/5 - 100.0% - Loss: 0.6722\n",
      "Validation after epoch\n",
      "Epoch 5/5, Train Loss: 0.6722, Val Loss: 0.6564, Val AUUC: -0.3809, LR: 0.001000\n",
      "Модель, предсказания и конфиг сохранены в директории exps2/lazada_v2/100/8\n",
      "Эксперимент сохранен в таблице /home/ogrobertino/UpliftModelingResearch/exps2/stats.tsv\n"
     ]
    }
   ],
   "source": [
    "train_test_model(ds_name='lazada_v2', features_percent=100, factory=DESCNUpliftModelFactory, config=configs[0], NN=True)   "
   ]
  },
  {
   "cell_type": "markdown",
   "id": "c2da50b5-c7c4-4fa2-b384-67c3157cec9e",
   "metadata": {},
   "source": [
    "cfg:{'lr': 0.001, 'decay_rate': 0.95, 'decay_step_size': 1, 'l2': 0.001, 'model_name': 'DESCN_128_64_20220215_175927', 'n_experiments': 5, 'batch_size': 5000, 'share_dim': 128, 'base_dim': 64, 'reweight_sample': 1, 'val_rate': 0.2, 'do_rate': 0.1, 'normalization': 'divide', 'epochs': 5, 'log_step': 50, 'pred_step': 1, 'optim': 'Adam', 'BatchNorm1d': 'true', 'prpsy_w': 0.5, 'escvr1_w': 0.5, 'escvr0_w': 1, 'h1_w': 0, 'h0_w': 0, 'mu0hat_w': 0.5, 'mu1hat_w': 1, 'imb_dist': 'wass', 'imb_dist_w': 0,"
   ]
  },
  {
   "cell_type": "code",
   "execution_count": null,
   "id": "8ebf47e0-0fe4-4ee1-a5e9-c3bc0baf6932",
   "metadata": {},
   "outputs": [],
   "source": [
    "# for i in tqdm(range(len(configs)), desc=\"Training models\"):\n",
    "#     train_test_model(ds_name='lazada', features_percent=100, factory=DRModelFactory, config=configs[i])   "
   ]
  },
  {
   "cell_type": "code",
   "execution_count": null,
   "id": "34845a63-71b4-4cfa-85fe-b91abad9357b",
   "metadata": {},
   "outputs": [],
   "source": [
    "from src.global_params import BASE_PATH\n",
    "path = pd.read_csv(BASE_PATH + \"/exps2/stats.tsv\", sep='\\t').Path.iloc[-1]\n",
    "model = DESCNUpliftModel(from_load=True, path = str(BASE_PATH) + \"/\" + path)"
   ]
  },
  {
   "cell_type": "code",
   "execution_count": null,
   "id": "b902a938-f943-4444-a0a8-afe9cdde40b6",
   "metadata": {},
   "outputs": [],
   "source": [
    "model.config"
   ]
  }
 ],
 "metadata": {
  "kernelspec": {
   "display_name": "Python 3 (ipykernel)",
   "language": "python",
   "name": "python3"
  },
  "language_info": {
   "codemirror_mode": {
    "name": "ipython",
    "version": 3
   },
   "file_extension": ".py",
   "mimetype": "text/x-python",
   "name": "python",
   "nbconvert_exporter": "python",
   "pygments_lexer": "ipython3",
   "version": "3.10.6"
  }
 },
 "nbformat": 4,
 "nbformat_minor": 5
}
