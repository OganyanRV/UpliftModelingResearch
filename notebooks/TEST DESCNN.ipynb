{
 "cells": [
  {
   "cell_type": "code",
   "execution_count": 1,
   "id": "1bd552b4-9e8c-4e19-9f7d-4e3089e6c22c",
   "metadata": {},
   "outputs": [],
   "source": [
    "import pathlib\n",
    "import os\n",
    "from pathlib import Path\n",
    "import sys\n",
    " \n",
    "if sys.argv:\n",
    "    sys.path.insert(0, str(pathlib.Path(os.path.dirname(os.path.abspath(\"\"))).resolve()))\n",
    "%load_ext autoreload\n",
    "%autoreload 2"
   ]
  },
  {
   "cell_type": "code",
   "execution_count": 2,
   "id": "b0fff5ee-d2b1-4098-b173-8f69f696a598",
   "metadata": {},
   "outputs": [
    {
     "name": "stderr",
     "output_type": "stream",
     "text": [
      "/home/ogrobertino/test_env/lib/python3.10/site-packages/xgboost/core.py:377: FutureWarning: Your system has an old version of glibc (< 2.28). We will stop supporting Linux distros with glibc older than 2.28 after **May 31, 2025**. Please upgrade to a recent Linux distro (with glibc >= 2.28) to use future versions of XGBoost.\n",
      "Note: You have installed the 'manylinux2014' variant of XGBoost. Certain features such as GPU algorithms or federated learning are not available. To use these features, please upgrade to a recent Linux distro with glibc 2.28+, and install the 'manylinux_2_28' variant.\n",
      "  warnings.warn(\n",
      "Failed to import duecredit due to No module named 'duecredit'\n"
     ]
    }
   ],
   "source": [
    "from src.utils import get_paths_train_test, train_test_model\n",
    "from src.factory import DESCNUpliftModelFactory"
   ]
  },
  {
   "cell_type": "code",
   "execution_count": 3,
   "id": "e699a804-4495-45dc-afae-89edad894d70",
   "metadata": {},
   "outputs": [
    {
     "data": {
      "text/plain": [
       "src.factory.DESCNUpliftModelFactory"
      ]
     },
     "execution_count": 3,
     "metadata": {},
     "output_type": "execute_result"
    }
   ],
   "source": [
    "DESCNUpliftModelFactory"
   ]
  },
  {
   "cell_type": "code",
   "execution_count": 4,
   "id": "ffa0aa64-313e-48d7-9352-338076443f18",
   "metadata": {},
   "outputs": [],
   "source": [
    "from src.models.NNUpliftModeling.DESCNUpliftModel import DESCNUpliftModel"
   ]
  },
  {
   "cell_type": "code",
   "execution_count": 5,
   "id": "98ce159f-09a7-4cdf-92fe-80ef1751ab3a",
   "metadata": {},
   "outputs": [],
   "source": [
    "ds_name = 'lazada_v2'\n",
    "features_percent = 100\n",
    "train_path, test_path = get_paths_train_test(ds_name=ds_name, features_percent=features_percent)"
   ]
  },
  {
   "cell_type": "code",
   "execution_count": 6,
   "id": "8dba5d29-4cc5-49cd-a095-935b6b2ad45c",
   "metadata": {},
   "outputs": [],
   "source": [
    "import pandas as pd\n",
    "ds = pd.read_csv(train_path, sep='\\t')"
   ]
  },
  {
   "cell_type": "code",
   "execution_count": 7,
   "id": "7c3fe727-5c7d-40c8-ba1b-5bf7f521dd7d",
   "metadata": {},
   "outputs": [
    {
     "data": {
      "text/plain": [
       "83"
      ]
     },
     "execution_count": 7,
     "metadata": {},
     "output_type": "execute_result"
    }
   ],
   "source": [
    "input_size = len(ds.columns) - 2\n",
    "input_size"
   ]
  },
  {
   "cell_type": "code",
   "execution_count": 26,
   "id": "639096cb-c811-403d-aa06-21b2e0b63a7a",
   "metadata": {},
   "outputs": [],
   "source": [
    "params = {\n",
    "    'input_dim': input_size,             # Должно быть задано в соответствии с данными\n",
    "    'share_dim': [32, 64], # Варианты размерности общих слоев\n",
    "    'base_dim': [32, 64],   # Варианты размерности базовых слоев\n",
    "    'do_rate': [0.1, 0.2, 0.3],  # Варианты dropout\n",
    "    'batch_norm': [True, False], # Использование BatchNorm\n",
    "    'normalization': ['none', 'divide'], # Тип нормализации\n",
    "    'factual_loss_weight': [0.8, 1.0, 1.2], # Вес фактической потери\n",
    "    'propensity_loss_weight': [0.05, 0.1, 0.2], # Вес потери пропенсити\n",
    "    'tau_loss_weight': [0.05, 0.1, 0.2],    # Вес потери tau (если применимо)\n",
    "    'batch_size': 32,\n",
    "    'gradient_accumulation_steps' : 2,\n",
    "    'epochs': 2\n",
    "}"
   ]
  },
  {
   "cell_type": "code",
   "execution_count": 27,
   "id": "20a55a05-8f96-4562-a261-add2af0e9af3",
   "metadata": {},
   "outputs": [],
   "source": [
    "configs = DESCNUpliftModel.generate_config(count=4, params = params)"
   ]
  },
  {
   "cell_type": "code",
   "execution_count": 28,
   "id": "ed283dca-e9b3-443a-a87e-43f7dc76ff02",
   "metadata": {},
   "outputs": [],
   "source": [
    "factory = DESCNUpliftModelFactory\n",
    "config = configs[0]\n",
    "batch_size=32\n",
    "max_size=100000"
   ]
  },
  {
   "cell_type": "code",
   "execution_count": 29,
   "id": "8b4d6bf1-ec14-4891-bec4-eb0fb96fa6e2",
   "metadata": {},
   "outputs": [
    {
     "name": "stderr",
     "output_type": "stream",
     "text": [
      "/home/ogrobertino/test_env/lib/python3.10/site-packages/torch/optim/lr_scheduler.py:62: UserWarning: The verbose parameter is deprecated. Please use get_last_lr() to access the learning rate.\n",
      "  warnings.warn(\n"
     ]
    }
   ],
   "source": [
    "model, train, test = factory.create(config, train_path, test_path)"
   ]
  },
  {
   "cell_type": "code",
   "execution_count": 12,
   "id": "bb3f2363-7eef-43d8-98aa-96e84ec85f60",
   "metadata": {},
   "outputs": [],
   "source": [
    "# from torch.utils.data import DataLoader\n",
    "# dl = DataLoader(\n",
    "#     train, \n",
    "#     batch_size=32, \n",
    "#     shuffle=True,\n",
    "\n",
    "#     num_workers=0\n",
    "# )"
   ]
  },
  {
   "cell_type": "code",
   "execution_count": 31,
   "id": "7f65d0ba-706c-4b99-bc3b-0b25373f9778",
   "metadata": {},
   "outputs": [
    {
     "name": "stderr",
     "output_type": "stream",
     "text": [
      "/home/ogrobertino/test_env/lib/python3.10/site-packages/torch/optim/lr_scheduler.py:62: UserWarning: The verbose parameter is deprecated. Please use get_last_lr() to access the learning rate.\n",
      "  warnings.warn(\n"
     ]
    },
    {
     "name": "stdout",
     "output_type": "stream",
     "text": [
      "Epoch 1/2 - 20.0% - Loss: 0.1114\n",
      "Epoch 1/2 - 40.0% - Loss: 0.1051\n",
      "Epoch 1/2 - 60.0% - Loss: 0.1019\n",
      "Epoch 1/2 - 80.0% - Loss: 0.1004\n",
      "Epoch 1/2 - 100.0% - Loss: 0.0993\n",
      "Validation\n"
     ]
    },
    {
     "ename": "UnboundLocalError",
     "evalue": "local variable 'uplift_scores' referenced before assignment",
     "output_type": "error",
     "traceback": [
      "\u001b[0;31m---------------------------------------------------------------------------\u001b[0m",
      "\u001b[0;31mUnboundLocalError\u001b[0m                         Traceback (most recent call last)",
      "Cell \u001b[0;32mIn[31], line 1\u001b[0m\n\u001b[0;32m----> 1\u001b[0m \u001b[43mtrain_test_model\u001b[49m\u001b[43m(\u001b[49m\u001b[43mds_name\u001b[49m\u001b[38;5;241;43m=\u001b[39;49m\u001b[38;5;124;43m'\u001b[39;49m\u001b[38;5;124;43mlazada_v2\u001b[39;49m\u001b[38;5;124;43m'\u001b[39;49m\u001b[43m,\u001b[49m\u001b[43m \u001b[49m\u001b[43mfeatures_percent\u001b[49m\u001b[38;5;241;43m=\u001b[39;49m\u001b[38;5;241;43m100\u001b[39;49m\u001b[43m,\u001b[49m\u001b[43m \u001b[49m\u001b[43mfactory\u001b[49m\u001b[38;5;241;43m=\u001b[39;49m\u001b[43mDESCNUpliftModelFactory\u001b[49m\u001b[43m,\u001b[49m\u001b[43m \u001b[49m\u001b[43mconfig\u001b[49m\u001b[38;5;241;43m=\u001b[39;49m\u001b[43mconfigs\u001b[49m\u001b[43m[\u001b[49m\u001b[38;5;241;43m0\u001b[39;49m\u001b[43m]\u001b[49m\u001b[43m)\u001b[49m   \n",
      "File \u001b[0;32m~/UpliftModelingResearch/src/utils.py:30\u001b[0m, in \u001b[0;36mtrain_test_model\u001b[0;34m(ds_name, features_percent, factory, config, compressions, batch_size, max_size)\u001b[0m\n\u001b[1;32m     28\u001b[0m train_path, test_path \u001b[38;5;241m=\u001b[39m get_paths_train_test(ds_name\u001b[38;5;241m=\u001b[39mds_name, features_percent\u001b[38;5;241m=\u001b[39mfeatures_percent)\n\u001b[1;32m     29\u001b[0m model, train, test \u001b[38;5;241m=\u001b[39m factory\u001b[38;5;241m.\u001b[39mcreate(config, train_path, test_path)\n\u001b[0;32m---> 30\u001b[0m \u001b[43mmodel\u001b[49m\u001b[38;5;241;43m.\u001b[39;49m\u001b[43mfit\u001b[49m\u001b[43m(\u001b[49m\u001b[43mtrain\u001b[49m\u001b[43m)\u001b[49m\n\u001b[1;32m     31\u001b[0m predicted \u001b[38;5;241m=\u001b[39m model\u001b[38;5;241m.\u001b[39mpredict(test)\n\u001b[1;32m     32\u001b[0m write(model, test, predicted, ds_name\u001b[38;5;241m=\u001b[39mds_name, features_percent\u001b[38;5;241m=\u001b[39mfeatures_percent, compressions\u001b[38;5;241m=\u001b[39mcompressions,\n\u001b[1;32m     33\u001b[0m       batch_size\u001b[38;5;241m=\u001b[39mbatch_size, max_size\u001b[38;5;241m=\u001b[39mmax_size)\n",
      "File \u001b[0;32m~/UpliftModelingResearch/src/models/NNUpliftModeling/INNUpliftModeling.py:192\u001b[0m, in \u001b[0;36mINNUpliftModeling.fit\u001b[0;34m(self, X_train)\u001b[0m\n\u001b[1;32m    190\u001b[0m \u001b[38;5;66;03m# ---- validation ----\u001b[39;00m\n\u001b[1;32m    191\u001b[0m \u001b[38;5;28mprint\u001b[39m(\u001b[38;5;124mf\u001b[39m\u001b[38;5;124m\"\u001b[39m\u001b[38;5;124mValidation\u001b[39m\u001b[38;5;124m\"\u001b[39m)\n\u001b[0;32m--> 192\u001b[0m val_loss, val_auuc \u001b[38;5;241m=\u001b[39m \u001b[38;5;28;43mself\u001b[39;49m\u001b[38;5;241;43m.\u001b[39;49m\u001b[43m_evaluate\u001b[49m\u001b[43m(\u001b[49m\u001b[43mval_loader\u001b[49m\u001b[43m)\u001b[49m\n\u001b[1;32m    194\u001b[0m \u001b[38;5;28;01mif\u001b[39;00m \u001b[38;5;28mself\u001b[39m\u001b[38;5;241m.\u001b[39mscheduler \u001b[38;5;129;01mis\u001b[39;00m \u001b[38;5;129;01mnot\u001b[39;00m \u001b[38;5;28;01mNone\u001b[39;00m:\n\u001b[1;32m    195\u001b[0m     \u001b[38;5;28;01mif\u001b[39;00m \u001b[38;5;28misinstance\u001b[39m(\u001b[38;5;28mself\u001b[39m\u001b[38;5;241m.\u001b[39mscheduler, torch\u001b[38;5;241m.\u001b[39moptim\u001b[38;5;241m.\u001b[39mlr_scheduler\u001b[38;5;241m.\u001b[39mReduceLROnPlateau):\n",
      "File \u001b[0;32m~/UpliftModelingResearch/src/models/NNUpliftModeling/INNUpliftModeling.py:254\u001b[0m, in \u001b[0;36mINNUpliftModeling._evaluate\u001b[0;34m(self, data_loader)\u001b[0m\n\u001b[1;32m    251\u001b[0m num_batches \u001b[38;5;241m+\u001b[39m\u001b[38;5;241m=\u001b[39m \u001b[38;5;241m1\u001b[39m\n\u001b[1;32m    253\u001b[0m \u001b[38;5;66;03m# Сбор данных для расчета AUUC\u001b[39;00m\n\u001b[0;32m--> 254\u001b[0m all_uplift_scores\u001b[38;5;241m.\u001b[39mappend(\u001b[43muplift_scores\u001b[49m\u001b[38;5;241m.\u001b[39mcpu())\n\u001b[1;32m    255\u001b[0m all_treatments\u001b[38;5;241m.\u001b[39mappend(treatment\u001b[38;5;241m.\u001b[39mcpu())\n\u001b[1;32m    256\u001b[0m all_outcomes\u001b[38;5;241m.\u001b[39mappend(outcome\u001b[38;5;241m.\u001b[39mcpu())\n",
      "\u001b[0;31mUnboundLocalError\u001b[0m: local variable 'uplift_scores' referenced before assignment"
     ]
    }
   ],
   "source": [
    "train_test_model(ds_name='lazada_v2', features_percent=100, factory=DESCNUpliftModelFactory, config=configs[0])   "
   ]
  },
  {
   "cell_type": "code",
   "execution_count": null,
   "id": "8ebf47e0-0fe4-4ee1-a5e9-c3bc0baf6932",
   "metadata": {},
   "outputs": [],
   "source": [
    "# for i in tqdm(range(len(configs)), desc=\"Training models\"):\n",
    "#     train_test_model(ds_name='lazada', features_percent=100, factory=DRModelFactory, config=configs[i])   "
   ]
  }
 ],
 "metadata": {
  "kernelspec": {
   "display_name": "Python 3 (ipykernel)",
   "language": "python",
   "name": "python3"
  },
  "language_info": {
   "codemirror_mode": {
    "name": "ipython",
    "version": 3
   },
   "file_extension": ".py",
   "mimetype": "text/x-python",
   "name": "python",
   "nbconvert_exporter": "python",
   "pygments_lexer": "ipython3",
   "version": "3.10.6"
  }
 },
 "nbformat": 4,
 "nbformat_minor": 5
}
