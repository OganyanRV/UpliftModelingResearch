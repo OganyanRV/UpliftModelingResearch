{
 "cells": [
  {
   "cell_type": "code",
   "execution_count": 1,
   "id": "1bd552b4-9e8c-4e19-9f7d-4e3089e6c22c",
   "metadata": {},
   "outputs": [],
   "source": [
    "import pathlib\n",
    "import os\n",
    "from pathlib import Path\n",
    "import sys\n",
    " \n",
    "if sys.argv:\n",
    "    sys.path.insert(0, str(pathlib.Path(os.path.dirname(os.path.abspath(\"\"))).resolve()))\n",
    "%load_ext autoreload\n",
    "%autoreload 2"
   ]
  },
  {
   "cell_type": "code",
   "execution_count": 2,
   "id": "b0fff5ee-d2b1-4098-b173-8f69f696a598",
   "metadata": {},
   "outputs": [
    {
     "name": "stderr",
     "output_type": "stream",
     "text": [
      "/home/ogrobertino/test_env/lib/python3.10/site-packages/xgboost/core.py:377: FutureWarning: Your system has an old version of glibc (< 2.28). We will stop supporting Linux distros with glibc older than 2.28 after **May 31, 2025**. Please upgrade to a recent Linux distro (with glibc >= 2.28) to use future versions of XGBoost.\n",
      "Note: You have installed the 'manylinux2014' variant of XGBoost. Certain features such as GPU algorithms or federated learning are not available. To use these features, please upgrade to a recent Linux distro with glibc 2.28+, and install the 'manylinux_2_28' variant.\n",
      "  warnings.warn(\n",
      "Failed to import duecredit due to No module named 'duecredit'\n"
     ]
    }
   ],
   "source": [
    "from src.utils import get_paths_train_test, train_test_model\n",
    "from src.factory import DESCNUpliftModelFactory"
   ]
  },
  {
   "cell_type": "code",
   "execution_count": 3,
   "id": "e699a804-4495-45dc-afae-89edad894d70",
   "metadata": {},
   "outputs": [
    {
     "data": {
      "text/plain": [
       "src.factory.DESCNUpliftModelFactory"
      ]
     },
     "execution_count": 3,
     "metadata": {},
     "output_type": "execute_result"
    }
   ],
   "source": [
    "DESCNUpliftModelFactory"
   ]
  },
  {
   "cell_type": "code",
   "execution_count": 4,
   "id": "ffa0aa64-313e-48d7-9352-338076443f18",
   "metadata": {},
   "outputs": [],
   "source": [
    "from src.models.NNUpliftModeling.DESCNUpliftModel import DESCNUpliftModel"
   ]
  },
  {
   "cell_type": "code",
   "execution_count": 5,
   "id": "98ce159f-09a7-4cdf-92fe-80ef1751ab3a",
   "metadata": {},
   "outputs": [],
   "source": [
    "ds_name = 'lazada_v2'\n",
    "features_percent = 100\n",
    "train_path, test_path = get_paths_train_test(ds_name=ds_name, features_percent=features_percent)"
   ]
  },
  {
   "cell_type": "code",
   "execution_count": 6,
   "id": "8dba5d29-4cc5-49cd-a095-935b6b2ad45c",
   "metadata": {},
   "outputs": [],
   "source": [
    "import pandas as pd\n",
    "ds = pd.read_csv(train_path, sep='\\t')"
   ]
  },
  {
   "cell_type": "code",
   "execution_count": 7,
   "id": "7c3fe727-5c7d-40c8-ba1b-5bf7f521dd7d",
   "metadata": {},
   "outputs": [
    {
     "data": {
      "text/plain": [
       "83"
      ]
     },
     "execution_count": 7,
     "metadata": {},
     "output_type": "execute_result"
    }
   ],
   "source": [
    "input_size = len(ds.columns) - 2\n",
    "input_size"
   ]
  },
  {
   "cell_type": "code",
   "execution_count": 58,
   "id": "639096cb-c811-403d-aa06-21b2e0b63a7a",
   "metadata": {},
   "outputs": [],
   "source": [
    "params = {\n",
    "    'input_dim': input_size,             # Должно быть задано в соответствии с данными\n",
    "    'share_dim': [32], # Варианты размерности общих слоев\n",
    "    'base_dim': [32],   # Варианты размерности базовых слоев\n",
    "    'do_rate': [0.1, 0.2, 0.3],  # Варианты dropout\n",
    "    'batch_norm': True, # Использование BatchNorm\n",
    "    'normalization': 'none', # Тип нормализации\n",
    "    'factual_loss_weight': [0.8, 1.0, 1.2], # Вес фактической потери\n",
    "    'propensity_loss_weight': [0.05, 0.1, 0.2], # Вес потери пропенсити\n",
    "    'tau_loss_weight': [0.05, 0.1, 0.2],    # Вес потери tau (если применимо)\n",
    "    'batch_size': 32,\n",
    "    'gradient_accumulation_steps' : 1,\n",
    "    'epochs': 10\n",
    "}"
   ]
  },
  {
   "cell_type": "code",
   "execution_count": 46,
   "id": "c3cd084c-52f0-42b8-bf3c-94ca778965a7",
   "metadata": {},
   "outputs": [],
   "source": [
    "# params = {\n",
    "#     'input_dim': input_size,             # Должно быть задано в соответствии с данными\n",
    "#     'share_dim': [2], # Варианты размерности общих слоев\n",
    "#     'base_dim': [2],   # Варианты размерности базовых слоев\n",
    "#     'do_rate': [0.1, 0.2, 0.3],  # Варианты dropout\n",
    "#     'batch_norm': [True, False], # Использование BatchNorm\n",
    "#     'normalization': ['none', 'divide'], # Тип нормализации\n",
    "#     'factual_loss_weight': [0.8, 1.0, 1.2], # Вес фактической потери\n",
    "#     'propensity_loss_weight': [0.05, 0.1, 0.2], # Вес потери пропенсити\n",
    "#     'tau_loss_weight': [0.05, 0.1, 0.2],    # Вес потери tau (если применимо)\n",
    "#     'batch_size': 32,\n",
    "#     'gradient_accumulation_steps' : 2,\n",
    "#     'epochs': 1\n",
    "# }"
   ]
  },
  {
   "cell_type": "code",
   "execution_count": 59,
   "id": "20a55a05-8f96-4562-a261-add2af0e9af3",
   "metadata": {},
   "outputs": [],
   "source": [
    "configs = DESCNUpliftModel.generate_config(count=4, params = params)"
   ]
  },
  {
   "cell_type": "code",
   "execution_count": 60,
   "id": "ed283dca-e9b3-443a-a87e-43f7dc76ff02",
   "metadata": {},
   "outputs": [],
   "source": [
    "factory = DESCNUpliftModelFactory\n",
    "config = configs[0]\n",
    "batch_size=32\n",
    "max_size=100000"
   ]
  },
  {
   "cell_type": "code",
   "execution_count": 61,
   "id": "8b4d6bf1-ec14-4891-bec4-eb0fb96fa6e2",
   "metadata": {},
   "outputs": [],
   "source": [
    "model, train, test = factory.create(config, train_path, test_path)"
   ]
  },
  {
   "cell_type": "code",
   "execution_count": 12,
   "id": "bb3f2363-7eef-43d8-98aa-96e84ec85f60",
   "metadata": {},
   "outputs": [],
   "source": [
    "# from torch.utils.data import DataLoader\n",
    "# dl = DataLoader(\n",
    "#     train, \n",
    "#     batch_size=32, \n",
    "#     shuffle=True,\n",
    "\n",
    "#     num_workers=0\n",
    "# )"
   ]
  },
  {
   "cell_type": "code",
   "execution_count": 66,
   "id": "ec69008a-f3ac-40e3-9e2f-a496b8792c24",
   "metadata": {},
   "outputs": [],
   "source": [
    "kek = model.predict(train)"
   ]
  },
  {
   "cell_type": "code",
   "execution_count": 70,
   "id": "98b19c9d-81fa-430a-a3c2-488769adb7c8",
   "metadata": {},
   "outputs": [
    {
     "data": {
      "text/html": [
       "<div>\n",
       "<style scoped>\n",
       "    .dataframe tbody tr th:only-of-type {\n",
       "        vertical-align: middle;\n",
       "    }\n",
       "\n",
       "    .dataframe tbody tr th {\n",
       "        vertical-align: top;\n",
       "    }\n",
       "\n",
       "    .dataframe thead th {\n",
       "        text-align: right;\n",
       "    }\n",
       "</style>\n",
       "<table border=\"1\" class=\"dataframe\">\n",
       "  <thead>\n",
       "    <tr style=\"text-align: right;\">\n",
       "      <th></th>\n",
       "      <th>0</th>\n",
       "    </tr>\n",
       "  </thead>\n",
       "  <tbody>\n",
       "    <tr>\n",
       "      <th>0</th>\n",
       "      <td>-36.352661</td>\n",
       "    </tr>\n",
       "    <tr>\n",
       "      <th>1</th>\n",
       "      <td>-42.133018</td>\n",
       "    </tr>\n",
       "    <tr>\n",
       "      <th>2</th>\n",
       "      <td>-36.518047</td>\n",
       "    </tr>\n",
       "    <tr>\n",
       "      <th>3</th>\n",
       "      <td>-23.922583</td>\n",
       "    </tr>\n",
       "    <tr>\n",
       "      <th>4</th>\n",
       "      <td>-11.756742</td>\n",
       "    </tr>\n",
       "    <tr>\n",
       "      <th>...</th>\n",
       "      <td>...</td>\n",
       "    </tr>\n",
       "    <tr>\n",
       "      <th>694971</th>\n",
       "      <td>-34.046310</td>\n",
       "    </tr>\n",
       "    <tr>\n",
       "      <th>694972</th>\n",
       "      <td>-49.142448</td>\n",
       "    </tr>\n",
       "    <tr>\n",
       "      <th>694973</th>\n",
       "      <td>-48.341515</td>\n",
       "    </tr>\n",
       "    <tr>\n",
       "      <th>694974</th>\n",
       "      <td>-44.975857</td>\n",
       "    </tr>\n",
       "    <tr>\n",
       "      <th>694975</th>\n",
       "      <td>-15.999656</td>\n",
       "    </tr>\n",
       "  </tbody>\n",
       "</table>\n",
       "<p>694976 rows × 1 columns</p>\n",
       "</div>"
      ],
      "text/plain": [
       "                0\n",
       "0      -36.352661\n",
       "1      -42.133018\n",
       "2      -36.518047\n",
       "3      -23.922583\n",
       "4      -11.756742\n",
       "...           ...\n",
       "694971 -34.046310\n",
       "694972 -49.142448\n",
       "694973 -48.341515\n",
       "694974 -44.975857\n",
       "694975 -15.999656\n",
       "\n",
       "[694976 rows x 1 columns]"
      ]
     },
     "execution_count": 70,
     "metadata": {},
     "output_type": "execute_result"
    }
   ],
   "source": [
    "pd.DataFrame(kek['uplift'])"
   ]
  },
  {
   "cell_type": "code",
   "execution_count": 88,
   "id": "0be7bf7b-b20a-4152-b4a1-a7fab5894129",
   "metadata": {},
   "outputs": [],
   "source": [
    "q = model.predict(train)"
   ]
  },
  {
   "cell_type": "code",
   "execution_count": 92,
   "id": "885aac86-4815-4fd1-bbc6-f10603b2eae4",
   "metadata": {},
   "outputs": [
    {
     "data": {
      "text/html": [
       "<div>\n",
       "<style scoped>\n",
       "    .dataframe tbody tr th:only-of-type {\n",
       "        vertical-align: middle;\n",
       "    }\n",
       "\n",
       "    .dataframe tbody tr th {\n",
       "        vertical-align: top;\n",
       "    }\n",
       "\n",
       "    .dataframe thead th {\n",
       "        text-align: right;\n",
       "    }\n",
       "</style>\n",
       "<table border=\"1\" class=\"dataframe\">\n",
       "  <thead>\n",
       "    <tr style=\"text-align: right;\">\n",
       "      <th></th>\n",
       "      <th>score</th>\n",
       "      <th>treatment</th>\n",
       "      <th>target</th>\n",
       "    </tr>\n",
       "  </thead>\n",
       "  <tbody>\n",
       "    <tr>\n",
       "      <th>22</th>\n",
       "      <td>-35.111008</td>\n",
       "      <td>1.0</td>\n",
       "      <td>0.0</td>\n",
       "    </tr>\n",
       "    <tr>\n",
       "      <th>86</th>\n",
       "      <td>-2.519458</td>\n",
       "      <td>1.0</td>\n",
       "      <td>1.0</td>\n",
       "    </tr>\n",
       "    <tr>\n",
       "      <th>106</th>\n",
       "      <td>-2.163131</td>\n",
       "      <td>1.0</td>\n",
       "      <td>1.0</td>\n",
       "    </tr>\n",
       "    <tr>\n",
       "      <th>152</th>\n",
       "      <td>-13.546045</td>\n",
       "      <td>1.0</td>\n",
       "      <td>0.0</td>\n",
       "    </tr>\n",
       "    <tr>\n",
       "      <th>229</th>\n",
       "      <td>-2.354023</td>\n",
       "      <td>1.0</td>\n",
       "      <td>1.0</td>\n",
       "    </tr>\n",
       "    <tr>\n",
       "      <th>...</th>\n",
       "      <td>...</td>\n",
       "      <td>...</td>\n",
       "      <td>...</td>\n",
       "    </tr>\n",
       "    <tr>\n",
       "      <th>694711</th>\n",
       "      <td>-6.724401</td>\n",
       "      <td>1.0</td>\n",
       "      <td>1.0</td>\n",
       "    </tr>\n",
       "    <tr>\n",
       "      <th>694821</th>\n",
       "      <td>-2.642574</td>\n",
       "      <td>1.0</td>\n",
       "      <td>1.0</td>\n",
       "    </tr>\n",
       "    <tr>\n",
       "      <th>694829</th>\n",
       "      <td>-8.731159</td>\n",
       "      <td>1.0</td>\n",
       "      <td>1.0</td>\n",
       "    </tr>\n",
       "    <tr>\n",
       "      <th>694831</th>\n",
       "      <td>-5.754957</td>\n",
       "      <td>1.0</td>\n",
       "      <td>1.0</td>\n",
       "    </tr>\n",
       "    <tr>\n",
       "      <th>694898</th>\n",
       "      <td>-21.819086</td>\n",
       "      <td>1.0</td>\n",
       "      <td>0.0</td>\n",
       "    </tr>\n",
       "  </tbody>\n",
       "</table>\n",
       "<p>13786 rows × 3 columns</p>\n",
       "</div>"
      ],
      "text/plain": [
       "            score  treatment  target\n",
       "22     -35.111008        1.0     0.0\n",
       "86      -2.519458        1.0     1.0\n",
       "106     -2.163131        1.0     1.0\n",
       "152    -13.546045        1.0     0.0\n",
       "229     -2.354023        1.0     1.0\n",
       "...           ...        ...     ...\n",
       "694711  -6.724401        1.0     1.0\n",
       "694821  -2.642574        1.0     1.0\n",
       "694829  -8.731159        1.0     1.0\n",
       "694831  -5.754957        1.0     1.0\n",
       "694898 -21.819086        1.0     0.0\n",
       "\n",
       "[13786 rows x 3 columns]"
      ]
     },
     "execution_count": 92,
     "metadata": {},
     "output_type": "execute_result"
    }
   ],
   "source": [
    "q['df'][q['df']['treatment'] == 1]"
   ]
  },
  {
   "cell_type": "code",
   "execution_count": 83,
   "id": "2a4c8c0e-c9a9-412c-93a7-d02be45a7195",
   "metadata": {},
   "outputs": [
    {
     "data": {
      "text/plain": [
       "array([-36.35266 , -42.13302 , -36.518047, ..., -48.341515, -44.975857,\n",
       "       -15.999656], dtype=float32)"
      ]
     },
     "execution_count": 83,
     "metadata": {},
     "output_type": "execute_result"
    }
   ],
   "source": [
    "a[:, 0]"
   ]
  },
  {
   "cell_type": "code",
   "execution_count": 85,
   "id": "c5ae04a3-8400-4353-93be-1794bd800f62",
   "metadata": {},
   "outputs": [
    {
     "data": {
      "text/html": [
       "<div>\n",
       "<style scoped>\n",
       "    .dataframe tbody tr th:only-of-type {\n",
       "        vertical-align: middle;\n",
       "    }\n",
       "\n",
       "    .dataframe tbody tr th {\n",
       "        vertical-align: top;\n",
       "    }\n",
       "\n",
       "    .dataframe thead th {\n",
       "        text-align: right;\n",
       "    }\n",
       "</style>\n",
       "<table border=\"1\" class=\"dataframe\">\n",
       "  <thead>\n",
       "    <tr style=\"text-align: right;\">\n",
       "      <th></th>\n",
       "      <th>a</th>\n",
       "    </tr>\n",
       "  </thead>\n",
       "  <tbody>\n",
       "    <tr>\n",
       "      <th>0</th>\n",
       "      <td>-36.352661</td>\n",
       "    </tr>\n",
       "    <tr>\n",
       "      <th>1</th>\n",
       "      <td>-42.133018</td>\n",
       "    </tr>\n",
       "    <tr>\n",
       "      <th>2</th>\n",
       "      <td>-36.518047</td>\n",
       "    </tr>\n",
       "    <tr>\n",
       "      <th>3</th>\n",
       "      <td>-23.922583</td>\n",
       "    </tr>\n",
       "    <tr>\n",
       "      <th>4</th>\n",
       "      <td>-11.756742</td>\n",
       "    </tr>\n",
       "    <tr>\n",
       "      <th>...</th>\n",
       "      <td>...</td>\n",
       "    </tr>\n",
       "    <tr>\n",
       "      <th>694971</th>\n",
       "      <td>-34.046310</td>\n",
       "    </tr>\n",
       "    <tr>\n",
       "      <th>694972</th>\n",
       "      <td>-49.142448</td>\n",
       "    </tr>\n",
       "    <tr>\n",
       "      <th>694973</th>\n",
       "      <td>-48.341515</td>\n",
       "    </tr>\n",
       "    <tr>\n",
       "      <th>694974</th>\n",
       "      <td>-44.975857</td>\n",
       "    </tr>\n",
       "    <tr>\n",
       "      <th>694975</th>\n",
       "      <td>-15.999656</td>\n",
       "    </tr>\n",
       "  </tbody>\n",
       "</table>\n",
       "<p>694976 rows × 1 columns</p>\n",
       "</div>"
      ],
      "text/plain": [
       "                a\n",
       "0      -36.352661\n",
       "1      -42.133018\n",
       "2      -36.518047\n",
       "3      -23.922583\n",
       "4      -11.756742\n",
       "...           ...\n",
       "694971 -34.046310\n",
       "694972 -49.142448\n",
       "694973 -48.341515\n",
       "694974 -44.975857\n",
       "694975 -15.999656\n",
       "\n",
       "[694976 rows x 1 columns]"
      ]
     },
     "execution_count": 85,
     "metadata": {},
     "output_type": "execute_result"
    }
   ],
   "source": [
    "pd.DataFrame({'a': a[:, 0]})"
   ]
  },
  {
   "cell_type": "code",
   "execution_count": 96,
   "id": "577b9fd0-fdcb-46c0-99a1-a83a8f903ef9",
   "metadata": {},
   "outputs": [],
   "source": [
    "a = q['df']"
   ]
  },
  {
   "cell_type": "code",
   "execution_count": 101,
   "id": "7f9bca20-cb83-4370-9127-07688b06c594",
   "metadata": {},
   "outputs": [],
   "source": [
    "# a.to_csv()"
   ]
  },
  {
   "cell_type": "code",
   "execution_count": 105,
   "id": "7f65d0ba-706c-4b99-bc3b-0b25373f9778",
   "metadata": {},
   "outputs": [
    {
     "name": "stderr",
     "output_type": "stream",
     "text": [
      "/home/ogrobertino/test_env/lib/python3.10/site-packages/torch/optim/lr_scheduler.py:62: UserWarning: The verbose parameter is deprecated. Please use get_last_lr() to access the learning rate.\n",
      "  warnings.warn(\n"
     ]
    },
    {
     "name": "stdout",
     "output_type": "stream",
     "text": [
      "Модель, предсказания и конфиг сохранены в директории exps2/lazada_v2/100/6\n",
      "Эксперимент сохранен в таблице /home/ogrobertino/UpliftModelingResearch/exps2/stats.tsv\n"
     ]
    }
   ],
   "source": [
    "train_test_model(ds_name='lazada_v2', features_percent=100, factory=DESCNUpliftModelFactory, config=configs[0], NN=True)   "
   ]
  },
  {
   "cell_type": "code",
   "execution_count": null,
   "id": "8ebf47e0-0fe4-4ee1-a5e9-c3bc0baf6932",
   "metadata": {},
   "outputs": [],
   "source": [
    "# for i in tqdm(range(len(configs)), desc=\"Training models\"):\n",
    "#     train_test_model(ds_name='lazada', features_percent=100, factory=DRModelFactory, config=configs[i])   "
   ]
  }
 ],
 "metadata": {
  "kernelspec": {
   "display_name": "Python 3 (ipykernel)",
   "language": "python",
   "name": "python3"
  },
  "language_info": {
   "codemirror_mode": {
    "name": "ipython",
    "version": 3
   },
   "file_extension": ".py",
   "mimetype": "text/x-python",
   "name": "python",
   "nbconvert_exporter": "python",
   "pygments_lexer": "ipython3",
   "version": "3.10.6"
  }
 },
 "nbformat": 4,
 "nbformat_minor": 5
}
