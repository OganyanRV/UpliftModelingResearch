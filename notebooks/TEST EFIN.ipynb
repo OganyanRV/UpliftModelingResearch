{
 "cells": [
  {
   "cell_type": "code",
   "execution_count": 1,
   "id": "1bd552b4-9e8c-4e19-9f7d-4e3089e6c22c",
   "metadata": {},
   "outputs": [],
   "source": [
    "import pathlib\n",
    "import os\n",
    "from pathlib import Path\n",
    "import sys\n",
    " \n",
    "if sys.argv:\n",
    "    sys.path.insert(0, str(pathlib.Path(os.path.dirname(os.path.abspath(\"\"))).resolve()))\n",
    "%load_ext autoreload\n",
    "%autoreload 2"
   ]
  },
  {
   "cell_type": "code",
   "execution_count": 2,
   "id": "b0fff5ee-d2b1-4098-b173-8f69f696a598",
   "metadata": {},
   "outputs": [
    {
     "name": "stderr",
     "output_type": "stream",
     "text": [
      "/home/ogrobertino/test_env/lib/python3.10/site-packages/xgboost/core.py:377: FutureWarning: Your system has an old version of glibc (< 2.28). We will stop supporting Linux distros with glibc older than 2.28 after **May 31, 2025**. Please upgrade to a recent Linux distro (with glibc >= 2.28) to use future versions of XGBoost.\n",
      "Note: You have installed the 'manylinux2014' variant of XGBoost. Certain features such as GPU algorithms or federated learning are not available. To use these features, please upgrade to a recent Linux distro with glibc 2.28+, and install the 'manylinux_2_28' variant.\n",
      "  warnings.warn(\n",
      "Failed to import duecredit due to No module named 'duecredit'\n"
     ]
    }
   ],
   "source": [
    "from src.utils import get_paths_train_test, train_test_model\n",
    "from src.factory import EFINUpliftModelFactory\n",
    "from src.models.NNUpliftModeling.EFINUpliftModel import EFINUpliftModel\n",
    "import pandas as pd"
   ]
  },
  {
   "cell_type": "code",
   "execution_count": 3,
   "id": "98ce159f-09a7-4cdf-92fe-80ef1751ab3a",
   "metadata": {},
   "outputs": [],
   "source": [
    "ds_name = 'lazada_v2'\n",
    "features_percent = 100\n",
    "train_path, test_path = get_paths_train_test(ds_name=ds_name, features_percent=features_percent)"
   ]
  },
  {
   "cell_type": "code",
   "execution_count": 4,
   "id": "8dba5d29-4cc5-49cd-a095-935b6b2ad45c",
   "metadata": {},
   "outputs": [],
   "source": [
    "import pandas as pd\n",
    "ds = pd.read_csv(train_path, sep='\\t')"
   ]
  },
  {
   "cell_type": "code",
   "execution_count": 5,
   "id": "7c3fe727-5c7d-40c8-ba1b-5bf7f521dd7d",
   "metadata": {},
   "outputs": [
    {
     "data": {
      "text/plain": [
       "83"
      ]
     },
     "execution_count": 5,
     "metadata": {},
     "output_type": "execute_result"
    }
   ],
   "source": [
    "input_size = len(ds.columns) - 2\n",
    "input_size"
   ]
  },
  {
   "cell_type": "code",
   "execution_count": 6,
   "id": "83d094c6-ff6e-4667-8a9e-eaa755e77895",
   "metadata": {},
   "outputs": [],
   "source": [
    "params = {\n",
    "    'input_dim': input_size, \n",
    "    'hc_dim': 16,    \n",
    "    'hu_dim': 8,      \n",
    "    'act_type': 'elu',    \n",
    "    \n",
    "    'batch_size': 128,\n",
    "    'epochs': 1,\n",
    "    'early_stopping_patience': 2,\n",
    "    \n",
    "    'optimizer': \n",
    "        {\n",
    "            'name': 'Adam',\n",
    "            'lr': 0.005,\n",
    "            'weight_decay': 0.001\n",
    "        },\n",
    "    \n",
    "    # Настройки планировщика\n",
    "    'scheduler': {\n",
    "        'name': 'ReduceLROnPlateau',\n",
    "        'patience': 3,\n",
    "        'factor': 0.5\n",
    "    }\n",
    "}"
   ]
  },
  {
   "cell_type": "code",
   "execution_count": 7,
   "id": "20a55a05-8f96-4562-a261-add2af0e9af3",
   "metadata": {},
   "outputs": [],
   "source": [
    "configs = EFINUpliftModel.generate_config(count=4, params = params)"
   ]
  },
  {
   "cell_type": "code",
   "execution_count": 8,
   "id": "ed283dca-e9b3-443a-a87e-43f7dc76ff02",
   "metadata": {},
   "outputs": [],
   "source": [
    "factory = EFINUpliftModelFactory\n",
    "config = configs[0]\n",
    "batch_size=32\n",
    "max_size=100000"
   ]
  },
  {
   "cell_type": "code",
   "execution_count": 9,
   "id": "d09fbb5e-6604-4af6-9c99-15d6f481f9b9",
   "metadata": {},
   "outputs": [
    {
     "data": {
      "text/plain": [
       "{'batch_size': 128,\n",
       " 'epochs': 1,\n",
       " 'early_stopping_patience': 2,\n",
       " 'optimizer': {'name': 'Adam', 'lr': 0.005, 'weight_decay': 0.001},\n",
       " 'scheduler': {'name': 'ReduceLROnPlateau', 'patience': 3, 'factor': 0.5},\n",
       " 'use_gpu': True,\n",
       " 'num_workers': 0,\n",
       " 'inference_batch_size': 32,\n",
       " 'input_dim': 83,\n",
       " 'hc_dim': 16,\n",
       " 'hu_dim': 8,\n",
       " 'is_self': True,\n",
       " 'act_type': 'elu',\n",
       " 'learning_rate': 0.01}"
      ]
     },
     "execution_count": 9,
     "metadata": {},
     "output_type": "execute_result"
    }
   ],
   "source": [
    "config"
   ]
  },
  {
   "cell_type": "code",
   "execution_count": 10,
   "id": "8b4d6bf1-ec14-4891-bec4-eb0fb96fa6e2",
   "metadata": {},
   "outputs": [
    {
     "name": "stderr",
     "output_type": "stream",
     "text": [
      "/home/ogrobertino/test_env/lib/python3.10/site-packages/torch/optim/lr_scheduler.py:62: UserWarning: The verbose parameter is deprecated. Please use get_last_lr() to access the learning rate.\n",
      "  warnings.warn(\n"
     ]
    }
   ],
   "source": [
    "model, train, test = factory.create(config, train_path, test_path)"
   ]
  },
  {
   "cell_type": "code",
   "execution_count": 11,
   "id": "c037a98d-fcfa-4ebc-9b69-8278b8b88cbb",
   "metadata": {},
   "outputs": [
    {
     "data": {
      "text/plain": [
       "12258"
      ]
     },
     "execution_count": 11,
     "metadata": {},
     "output_type": "execute_result"
    }
   ],
   "source": [
    "model.num_params()"
   ]
  },
  {
   "cell_type": "code",
   "execution_count": 12,
   "id": "924043e0-9682-481b-abfd-387dd2867c43",
   "metadata": {},
   "outputs": [
    {
     "data": {
      "text/plain": [
       "<src.models.NNUpliftModeling.EFINUpliftModel.EFINUpliftModel at 0x7f6a3e7e8700>"
      ]
     },
     "execution_count": 12,
     "metadata": {},
     "output_type": "execute_result"
    }
   ],
   "source": [
    "model"
   ]
  },
  {
   "cell_type": "code",
   "execution_count": 11,
   "id": "bb3f2363-7eef-43d8-98aa-96e84ec85f60",
   "metadata": {},
   "outputs": [],
   "source": [
    "# from torch.utils.data import DataLoader\n",
    "# dl = DataLoader(\n",
    "#     train, \n",
    "#     batch_size=32, \n",
    "#     shuffle=True,\n",
    "\n",
    "#     num_workers=0\n",
    "# )"
   ]
  },
  {
   "cell_type": "code",
   "execution_count": 12,
   "id": "ec69008a-f3ac-40e3-9e2f-a496b8792c24",
   "metadata": {},
   "outputs": [],
   "source": [
    "# kek = model.predict(train)"
   ]
  },
  {
   "cell_type": "code",
   "execution_count": 13,
   "id": "98b19c9d-81fa-430a-a3c2-488769adb7c8",
   "metadata": {},
   "outputs": [],
   "source": [
    "# pd.DataFrame(kek['uplift'])"
   ]
  },
  {
   "cell_type": "code",
   "execution_count": 14,
   "id": "0be7bf7b-b20a-4152-b4a1-a7fab5894129",
   "metadata": {},
   "outputs": [],
   "source": [
    "# q = model.predict(train)"
   ]
  },
  {
   "cell_type": "code",
   "execution_count": 15,
   "id": "885aac86-4815-4fd1-bbc6-f10603b2eae4",
   "metadata": {},
   "outputs": [],
   "source": [
    "# q['df'][q['df']['treatment'] == 1]"
   ]
  },
  {
   "cell_type": "code",
   "execution_count": 13,
   "id": "7f65d0ba-706c-4b99-bc3b-0b25373f9778",
   "metadata": {},
   "outputs": [
    {
     "name": "stderr",
     "output_type": "stream",
     "text": [
      "/home/ogrobertino/test_env/lib/python3.10/site-packages/torch/optim/lr_scheduler.py:62: UserWarning: The verbose parameter is deprecated. Please use get_last_lr() to access the learning rate.\n",
      "  warnings.warn(\n"
     ]
    },
    {
     "name": "stdout",
     "output_type": "stream",
     "text": [
      "Epoch 1/1 - 10.0% - Loss: 0.4218\n",
      "Epoch 1/1 - 20.0% - Loss: 0.4004\n",
      "Epoch 1/1 - 30.0% - Loss: 0.3911\n",
      "Epoch 1/1 - 40.0% - Loss: 0.3854\n",
      "Epoch 1/1 - 50.0% - Loss: 0.3795\n",
      "Epoch 1/1 - 60.0% - Loss: 0.3752\n",
      "Epoch 1/1 - 70.0% - Loss: 0.3719\n",
      "Epoch 1/1 - 79.9% - Loss: 0.3672\n",
      "Epoch 1/1 - 89.9% - Loss: 0.3624\n",
      "Epoch 1/1 - 99.9% - Loss: 0.3565\n",
      "Validation after epoch\n",
      "Epoch 1/1, Train Loss: 0.3565, Val Loss: 0.3030, Val AUUC: -0.0455, LR: 0.005000\n",
      "Модель, предсказания и конфиг сохранены в директории exps2/lazada_v2/100/14\n",
      "Эксперимент сохранен в таблице /home/ogrobertino/UpliftModelingResearch/exps2/stats.tsv\n"
     ]
    }
   ],
   "source": [
    "train_test_model(ds_name='lazada_v2', features_percent=100, factory=EFINUpliftModelFactory, config=configs[0], NN=True)   "
   ]
  },
  {
   "cell_type": "code",
   "execution_count": null,
   "id": "8ebf47e0-0fe4-4ee1-a5e9-c3bc0baf6932",
   "metadata": {},
   "outputs": [],
   "source": [
    "for i in tqdm(range(len(configs)), desc=\"Training models\"):\n",
    "    train_test_model(ds_name='lazada', features_percent=100, factory=EFINUpliftModelFactory, config=configs[i])   "
   ]
  },
  {
   "cell_type": "code",
   "execution_count": 16,
   "id": "34845a63-71b4-4cfa-85fe-b91abad9357b",
   "metadata": {},
   "outputs": [
    {
     "name": "stderr",
     "output_type": "stream",
     "text": [
      "/home/ogrobertino/UpliftModelingResearch/src/models/NNUpliftModeling/INNUpliftModeling.py:452: FutureWarning: You are using `torch.load` with `weights_only=False` (the current default value), which uses the default pickle module implicitly. It is possible to construct malicious pickle data which will execute arbitrary code during unpickling (See https://github.com/pytorch/pytorch/blob/main/SECURITY.md#untrusted-models for more details). In a future release, the default value for `weights_only` will be flipped to `True`. This limits the functions that could be executed during unpickling. Arbitrary objects will no longer be allowed to be loaded via this mode unless they are explicitly allowlisted by the user via `torch.serialization.add_safe_globals`. We recommend you start setting `weights_only=True` for any use case where you don't have full control of the loaded file. Please open an issue on GitHub for any issues related to this experimental feature.\n",
      "  checkpoint = torch.load(path, map_location=lambda storage, loc: storage)\n",
      "/home/ogrobertino/test_env/lib/python3.10/site-packages/torch/optim/lr_scheduler.py:62: UserWarning: The verbose parameter is deprecated. Please use get_last_lr() to access the learning rate.\n",
      "  warnings.warn(\n"
     ]
    }
   ],
   "source": [
    "from src.global_params import BASE_PATH\n",
    "path = pd.read_csv(BASE_PATH + \"/exps2/stats.tsv\", sep='\\t').Path.iloc[-1]\n",
    "model = EFINUpliftModelFactory(from_load=True, path = str(BASE_PATH) + \"/\" + path)"
   ]
  }
 ],
 "metadata": {
  "kernelspec": {
   "display_name": "Python 3 (ipykernel)",
   "language": "python",
   "name": "python3"
  },
  "language_info": {
   "codemirror_mode": {
    "name": "ipython",
    "version": 3
   },
   "file_extension": ".py",
   "mimetype": "text/x-python",
   "name": "python",
   "nbconvert_exporter": "python",
   "pygments_lexer": "ipython3",
   "version": "3.10.6"
  }
 },
 "nbformat": 4,
 "nbformat_minor": 5
}
