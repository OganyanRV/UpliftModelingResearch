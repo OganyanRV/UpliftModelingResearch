{
 "cells": [
  {
   "cell_type": "code",
   "execution_count": 10,
   "id": "b00f0078-cb44-4935-8144-381d2dd6bf82",
   "metadata": {},
   "outputs": [
    {
     "name": "stdout",
     "output_type": "stream",
     "text": [
      "The autoreload extension is already loaded. To reload it, use:\n",
      "  %reload_ext autoreload\n"
     ]
    }
   ],
   "source": [
    "import pathlib\n",
    "import os\n",
    "from pathlib import Path\n",
    "import sys\n",
    " \n",
    "if sys.argv:\n",
    "    sys.path.insert(0, str(pathlib.Path(os.path.dirname(os.path.abspath(\"\"))).resolve()))\n",
    "%load_ext autoreload\n",
    "%autoreload 2"
   ]
  },
  {
   "cell_type": "code",
   "execution_count": 11,
   "id": "22c8d6df-55fb-480d-9564-50b3662bbc9c",
   "metadata": {},
   "outputs": [
    {
     "data": {
      "text/plain": [
       "['/home/ogrobertino/UpliftModelingResearch',\n",
       " PosixPath('/home/ogrobertino/UpliftModelingResearch'),\n",
       " '/Users/ogrobertino/UpliftModelingResearch',\n",
       " '/home/ogrobertino/.pyenv/versions/3.10.6/lib/python310.zip',\n",
       " '/home/ogrobertino/.pyenv/versions/3.10.6/lib/python3.10',\n",
       " '/home/ogrobertino/.pyenv/versions/3.10.6/lib/python3.10/lib-dynload',\n",
       " '',\n",
       " '/home/ogrobertino/test_env/lib/python3.10/site-packages']"
      ]
     },
     "execution_count": 11,
     "metadata": {},
     "output_type": "execute_result"
    }
   ],
   "source": [
    "sys.path"
   ]
  },
  {
   "cell_type": "code",
   "execution_count": 12,
   "id": "af3a55ae-49b5-44a7-a4f3-80f806288f80",
   "metadata": {},
   "outputs": [],
   "source": [
    "import torch"
   ]
  },
  {
   "cell_type": "code",
   "execution_count": 26,
   "id": "6683ca85-eaf8-49f6-a471-6a50d455fef5",
   "metadata": {},
   "outputs": [],
   "source": [
    "from src.models.NNUpliftModeling.NNUpliftModeling import NNUpliftModeling "
   ]
  },
  {
   "cell_type": "code",
   "execution_count": 27,
   "id": "00a7422e-4bd1-4bbe-b691-2cbb77e59bb8",
   "metadata": {},
   "outputs": [],
   "source": [
    "input_dim = 20\n",
    "descn_config = {\n",
    "        'input_dim': input_dim,\n",
    "        'hidden_dim': 64,\n",
    "        'latent_dim': 32,\n",
    "        'dropout_rate': 0.2,\n",
    "        'batch_size': 32,\n",
    "        'epochs': 50,\n",
    "        'early_stopping_patience': 5,\n",
    "        'alpha': 0.5,  # Вес для KL-регуляризации\n",
    "        'beta': 0.1,   # Вес для балансировочной потери\n",
    "        'gamma': 0.01, # Вес для дополнительной регуляризации\n",
    "        'optimizer': {\n",
    "            'name': 'Adam',\n",
    "            'lr': 0.001,\n",
    "            'weight_decay': 0.0001\n",
    "        },\n",
    "        'scheduler': {\n",
    "            'name': 'ReduceLROnPlateau',\n",
    "            'patience': 3,\n",
    "            'factor': 0.5\n",
    "        }\n",
    "    }"
   ]
  },
  {
   "cell_type": "code",
   "execution_count": 28,
   "id": "de91b723-8c79-49d9-a5ca-712f86e21d73",
   "metadata": {},
   "outputs": [
    {
     "ename": "AttributeError",
     "evalue": "'NoneType' object has no attribute 'parameters'",
     "output_type": "error",
     "traceback": [
      "\u001b[0;31m---------------------------------------------------------------------------\u001b[0m",
      "\u001b[0;31mAttributeError\u001b[0m                            Traceback (most recent call last)",
      "Cell \u001b[0;32mIn[28], line 1\u001b[0m\n\u001b[0;32m----> 1\u001b[0m \u001b[43mNNUpliftModeling\u001b[49m\u001b[43m(\u001b[49m\u001b[43mdescn_config\u001b[49m\u001b[43m)\u001b[49m\n",
      "File \u001b[0;32m~/UpliftModelingResearch/src/models/NNUpliftModeling/NNUpliftModeling.py:44\u001b[0m, in \u001b[0;36mNNUpliftModeling.__init__\u001b[0;34m(self, config_json, from_load, path)\u001b[0m\n\u001b[1;32m     41\u001b[0m     \u001b[38;5;28mself\u001b[39m\u001b[38;5;241m.\u001b[39m_initialize_model()\n\u001b[1;32m     43\u001b[0m     \u001b[38;5;66;03m# Настройка оптимизатора и планировщика скорости обучения\u001b[39;00m\n\u001b[0;32m---> 44\u001b[0m     \u001b[38;5;28;43mself\u001b[39;49m\u001b[38;5;241;43m.\u001b[39;49m\u001b[43m_setup_optimizer_and_scheduler\u001b[49m\u001b[43m(\u001b[49m\u001b[43m)\u001b[49m\n\u001b[1;32m     45\u001b[0m \u001b[38;5;28;01melse\u001b[39;00m:\n\u001b[1;32m     46\u001b[0m     \u001b[38;5;28;01mraise\u001b[39;00m \u001b[38;5;167;01mValueError\u001b[39;00m(\u001b[38;5;124m\"\u001b[39m\u001b[38;5;124mEither config_json or from_load with path must be provided\u001b[39m\u001b[38;5;124m\"\u001b[39m)\n",
      "File \u001b[0;32m~/UpliftModelingResearch/src/models/NNUpliftModeling/NNUpliftModeling.py:62\u001b[0m, in \u001b[0;36mNNUpliftModeling._setup_optimizer_and_scheduler\u001b[0;34m(self)\u001b[0m\n\u001b[1;32m     58\u001b[0m weight_decay \u001b[38;5;241m=\u001b[39m optimizer_config\u001b[38;5;241m.\u001b[39mget(\u001b[38;5;124m'\u001b[39m\u001b[38;5;124mweight_decay\u001b[39m\u001b[38;5;124m'\u001b[39m, \u001b[38;5;241m0.0\u001b[39m)\n\u001b[1;32m     60\u001b[0m \u001b[38;5;28;01mif\u001b[39;00m optimizer_name \u001b[38;5;241m==\u001b[39m \u001b[38;5;124m'\u001b[39m\u001b[38;5;124mAdam\u001b[39m\u001b[38;5;124m'\u001b[39m:\n\u001b[1;32m     61\u001b[0m     \u001b[38;5;28mself\u001b[39m\u001b[38;5;241m.\u001b[39moptimizer \u001b[38;5;241m=\u001b[39m torch\u001b[38;5;241m.\u001b[39moptim\u001b[38;5;241m.\u001b[39mAdam(\n\u001b[0;32m---> 62\u001b[0m         \u001b[38;5;28;43mself\u001b[39;49m\u001b[38;5;241;43m.\u001b[39;49m\u001b[43mmodel\u001b[49m\u001b[38;5;241;43m.\u001b[39;49m\u001b[43mparameters\u001b[49m(), \n\u001b[1;32m     63\u001b[0m         lr\u001b[38;5;241m=\u001b[39mlr, \n\u001b[1;32m     64\u001b[0m         weight_decay\u001b[38;5;241m=\u001b[39mweight_decay\n\u001b[1;32m     65\u001b[0m     )\n\u001b[1;32m     66\u001b[0m \u001b[38;5;28;01melif\u001b[39;00m optimizer_name \u001b[38;5;241m==\u001b[39m \u001b[38;5;124m'\u001b[39m\u001b[38;5;124mSGD\u001b[39m\u001b[38;5;124m'\u001b[39m:\n\u001b[1;32m     67\u001b[0m     momentum \u001b[38;5;241m=\u001b[39m optimizer_config\u001b[38;5;241m.\u001b[39mget(\u001b[38;5;124m'\u001b[39m\u001b[38;5;124mmomentum\u001b[39m\u001b[38;5;124m'\u001b[39m, \u001b[38;5;241m0.9\u001b[39m)\n",
      "\u001b[0;31mAttributeError\u001b[0m: 'NoneType' object has no attribute 'parameters'"
     ]
    }
   ],
   "source": [
    "NNUpliftModeling(descn_config)"
   ]
  },
  {
   "cell_type": "code",
   "execution_count": null,
   "id": "3adde044-b50d-4372-bf0d-8d1cb428943f",
   "metadata": {},
   "outputs": [],
   "source": [
    "    # Создание синтетических данных для демонстрации\n",
    "    import numpy as np\n",
    "    \n",
    "    # Параметры данных\n",
    "    num_samples = 1000\n",
    "    input_dim = 20\n",
    "    \n",
    "    # Генерация признаков\n",
    "    X = np.random.normal(0, 1, (num_samples, input_dim))\n",
    "    \n",
    "    # Генерация индикатора воздействия\n",
    "    T = np.random.binomial(1, 0.5, num_samples)\n",
    "    \n",
    "    # Генерация исходов\n",
    "    # Базовый исход\n",
    "    Y0 = 0.1 * np.sum(X[:, :5], axis=1) + np.random.normal(0, 0.5, num_samples)\n",
    "    # Эффект воздействия\n",
    "    tau = 0.2 * np.sum(X[:, 5:10], axis=1) + 1.0 + np.random.normal(0, 0.5, num_samples)\n",
    "    # Наблюдаемый исход\n",
    "    Y = Y0 + T * tau\n",
    "    \n",
    "    # Преобразование в тензоры PyTorch\n",
    "    X_tensor = torch.tensor(X, dtype=torch.float32)\n",
    "    T_tensor = torch.tensor(T, dtype=torch.float32)\n",
    "    Y_tensor = torch.tensor(Y, dtype=torch.float32)\n",
    "    \n",
    "    # Создание TensorDataset\n",
    "    dataset = TorchDataset(X_tensor, T_tensor, Y_tensor)\n",
    "    \n",
    "    # Разделение на обучающую и тестовую выборки\n",
    "    train_size = int(0.8 * len(dataset))\n",
    "    test_size = len(dataset) - train_size\n",
    "    train_dataset, test_dataset = torch.utils.data.random_split(dataset, [train_size, test_size])\n",
    "    \n",
    "    # Пример конфигурации для DESCN\n",
    "    descn_config = {\n",
    "        'input_dim': input_dim,\n",
    "        'hidden_dim': 64,\n",
    "        'latent_dim': 32,\n",
    "        'dropout_rate': 0.2,\n",
    "        'batch_size': 32,\n",
    "        'epochs': 50,\n",
    "        'early_stopping_patience': 5,\n",
    "        'alpha': 0.5,  # Вес для KL-регуляризации\n",
    "        'beta': 0.1,   # Вес для балансировочной потери\n",
    "        'gamma': 0.01, # Вес для дополнительной регуляризации\n",
    "        'optimizer': {\n",
    "            'name': 'Adam',\n",
    "            'lr': 0.001,\n",
    "            'weight_decay': 0.0001\n",
    "        },\n",
    "        'scheduler': {\n",
    "            'name': 'ReduceLROnPlateau',\n",
    "            'patience': 3,\n",
    "            'factor': 0.5\n",
    "        }\n",
    "    }\n",
    "    \n",
    "    # Создание и обучение модели DESCN\n",
    "    descn_model = DESCNUplift(config_json=descn_config)\n",
    "    descn_history = descn_model.fit(train_dataset)\n",
    "    \n",
    "    # Оценка на тестовых данных\n",
    "    descn_predictions = descn_model.predict(test_dataset)\n",
    "    \n",
    "    # Пример конфигурации для EFIN\n",
    "    efin_config = {\n",
    "        'input_dim': input_dim,\n",
    "        'hidden_dim': 64,\n",
    "        'interaction_layers': 2,\n",
    "        'num_heads': 4,\n",
    "        'dropout_rate': 0.2,\n",
    "        'batch_size': 32,\n",
    "        'epochs': 50,\n",
    "        'early_stopping_patience': 5,\n",
    "        'lambda_reg': 0.01,  # Вес для L2-регуляризации\n",
    "        'optimizer': {\n",
    "            'name': 'Adam',\n",
    "            'lr': 0.001,\n",
    "            'weight_decay': 0.0001\n",
    "        },\n",
    "        'scheduler': {\n",
    "            'name': 'ReduceLROnPlateau',\n",
    "            'patience': 3,\n",
    "            'factor': 0.5\n",
    "        }\n",
    "    }\n",
    "    \n",
    "    # Создание и обучение модели EFIN\n",
    "    efin_model = EFINUplift(config_json=efin_config)\n",
    "    efin_history = efin_model.fit(train_dataset)\n",
    "    \n",
    "    # Оценка на тестовых данных\n",
    "    efin_predictions = efin_model.predict(test_dataset)\n",
    "    \n",
    "    # Сравнение производительности моделей\n",
    "    descn_timing = descn_model.measure_inference_time(test_dataset, batch_size=64)\n",
    "    efin_timing = efin_model.measure_inference_time(test_dataset, batch_size=64)\n",
    "    \n",
    "    print(\"\\nInference Performance Comparison:\")\n",
    "    print(f\"DESCN: {descn_timing['examples_per_second']:.2f} examples/second\")\n",
    "    print(f\"EFIN: {efin_timing['examples_per_second']:.2f} examples/second\")\n",
    "    \n",
    "    # Сохранение моделей\n",
    "    descn_model.save(\"models/descn_uplift_model.pt\")\n",
    "    efin_model.save(\"models/efin_uplift_model.pt\")\n",
    "    \n",
    "    print(\"\\nModels saved successfully.\")"
   ]
  }
 ],
 "metadata": {
  "kernelspec": {
   "display_name": "Python 3 (ipykernel)",
   "language": "python",
   "name": "python3"
  },
  "language_info": {
   "codemirror_mode": {
    "name": "ipython",
    "version": 3
   },
   "file_extension": ".py",
   "mimetype": "text/x-python",
   "name": "python",
   "nbconvert_exporter": "python",
   "pygments_lexer": "ipython3",
   "version": "3.10.6"
  }
 },
 "nbformat": 4,
 "nbformat_minor": 5
}
