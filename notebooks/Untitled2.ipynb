{
 "cells": [
  {
   "cell_type": "code",
   "execution_count": 3,
   "id": "0dff42c6-9020-4b23-8e2b-e96ac47f68bb",
   "metadata": {},
   "outputs": [
    {
     "name": "stdout",
     "output_type": "stream",
     "text": [
      "The autoreload extension is already loaded. To reload it, use:\n",
      "  %reload_ext autoreload\n"
     ]
    }
   ],
   "source": [
    "import pathlib\n",
    "import os\n",
    "from pathlib import Path\n",
    "import sys\n",
    " \n",
    "if sys.argv:\n",
    "    sys.path.insert(0, str(pathlib.Path(os.path.dirname(os.path.abspath(\"\"))).resolve()))\n",
    "%load_ext autoreload\n",
    "%autoreload 2"
   ]
  },
  {
   "cell_type": "code",
   "execution_count": 4,
   "id": "3b13176e-1a2e-42c4-8785-f6d58c7fde5b",
   "metadata": {},
   "outputs": [],
   "source": [
    "import numpy as np"
   ]
  },
  {
   "cell_type": "code",
   "execution_count": 6,
   "id": "99311c64-fdbb-4a6e-a1ad-2b367dadf398",
   "metadata": {},
   "outputs": [],
   "source": [
    "from src.global_params import BASE_PATH"
   ]
  },
  {
   "cell_type": "code",
   "execution_count": 9,
   "id": "873eb691-0d60-4a13-b0b2-f1184ed45c4b",
   "metadata": {},
   "outputs": [],
   "source": [
    "ds = np.load(BASE_PATH + \"/data/train.npy\")"
   ]
  },
  {
   "cell_type": "code",
   "execution_count": 10,
   "id": "cbc5e489-7084-4c3c-acfe-b7cd49ff266e",
   "metadata": {},
   "outputs": [
    {
     "data": {
      "text/plain": [
       "(10176037, 14)"
      ]
     },
     "execution_count": 10,
     "metadata": {},
     "output_type": "execute_result"
    }
   ],
   "source": [
    "ds.shape"
   ]
  },
  {
   "cell_type": "code",
   "execution_count": 11,
   "id": "0af7beba-3594-4636-8779-2a0f307c6f2d",
   "metadata": {},
   "outputs": [
    {
     "data": {
      "text/plain": [
       "array([26.58035259, 10.05965447,  9.03639992,  4.67988162, 10.28052523,\n",
       "        4.11545342, -1.28820685,  4.83381458,  3.89285338, 13.19005593,\n",
       "        5.30037486, -0.16867922,  1.        ,  0.        ])"
      ]
     },
     "execution_count": 11,
     "metadata": {},
     "output_type": "execute_result"
    }
   ],
   "source": [
    "ds[0]"
   ]
  }
 ],
 "metadata": {
  "kernelspec": {
   "display_name": "Python 3 (ipykernel)",
   "language": "python",
   "name": "python3"
  },
  "language_info": {
   "codemirror_mode": {
    "name": "ipython",
    "version": 3
   },
   "file_extension": ".py",
   "mimetype": "text/x-python",
   "name": "python",
   "nbconvert_exporter": "python",
   "pygments_lexer": "ipython3",
   "version": "3.10.6"
  }
 },
 "nbformat": 4,
 "nbformat_minor": 5
}
