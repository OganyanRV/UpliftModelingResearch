{
 "cells": [
  {
   "cell_type": "markdown",
   "id": "40f2faaf-8680-4c02-8575-7e04dae55f7c",
   "metadata": {},
   "source": [
    "## План"
   ]
  },
  {
   "cell_type": "markdown",
   "id": "38a8ca68-36da-47fa-94d3-2158507a59f3",
   "metadata": {},
   "source": [
    "1. S modeling\n",
    "\n",
    "2. T modeling\n",
    "\n",
    "3. X learner\n",
    "\n",
    "4. R learner"
   ]
  },
  {
   "cell_type": "code",
   "execution_count": 1,
   "id": "10a3447b-bbe2-4485-a84e-0514896e7791",
   "metadata": {},
   "outputs": [],
   "source": [
    "from pathlib import Path\n",
    "import sys\n",
    " \n",
    "if sys.argv:\n",
    "    sys.path.insert(0, str(Path('/Users/ogrobertino/UpliftModelingResearch/').resolve()))"
   ]
  },
  {
   "cell_type": "code",
   "execution_count": 2,
   "id": "3163d0e6-1ac6-48e4-aa13-ad09dda74d5d",
   "metadata": {},
   "outputs": [],
   "source": [
    "%load_ext autoreload\n",
    "%autoreload 2\n",
    "import pandas as pd\n",
    "from src.distributions_check import check_feature_distributions_by_stat_test, check_feature_distributions_by_model\n",
    "from src.datasets import sample_features, TorchDataset, NumpyDataset"
   ]
  },
  {
   "cell_type": "code",
   "execution_count": 3,
   "id": "cf4d1bb3-d30f-45be-a28f-fb73392d477f",
   "metadata": {},
   "outputs": [
    {
     "name": "stderr",
     "output_type": "stream",
     "text": [
      "Failed to import duecredit due to No module named 'duecredit'\n"
     ]
    }
   ],
   "source": [
    "import matplotlib.pyplot as plt\n",
    "import numpy as np\n",
    "import pandas as pd\n",
    "from scipy import stats\n",
    "from statsmodels.stats.proportion import proportions_ztest\n",
    "from statsmodels.stats.weightstats import ztest\n",
    "\n",
    "from sklearn.model_selection import train_test_split\n",
    "\n",
    "from tqdm.auto import tqdm\n",
    "\n",
    "pd.options.display.max_rows = 200\n",
    "pd.options.display.max_colwidth = 200\n",
    "from sklearn.metrics import roc_auc_score\n",
    "\n",
    "def local_read(path):\n",
    "    return pd.DataFrame(yt.read_table(path))\n",
    "\n",
    "import lightgbm as lgb\n",
    "import causalml\n",
    "import causalml.metrics as cmetrics\n",
    "import causalml.inference.tree as ctree\n",
    "import causalml.inference.meta.tlearner as tlearner\n",
    "import causalml.inference.meta.slearner as slearner\n",
    "from causalml.inference.tree import UpliftTreeClassifier, UpliftRandomForestClassifier\n",
    "# import causalml.inference.meta.rlearner as rlearner\n",
    "# import causalml.inference.meta.xlearner as xlearner\n",
    "# import causalml.inference.meta.drlearner as drlearner"
   ]
  },
  {
   "cell_type": "code",
   "execution_count": 4,
   "id": "964199d6-dff4-4f08-9198-05b9603dce3a",
   "metadata": {},
   "outputs": [],
   "source": [
    "features_percent = 100\n",
    "\n",
    "path_to_data_train = f'../data/lazada/{features_percent}/train.tsv'\n",
    "path_to_data_test = f'../data/lazada/{features_percent}/test.tsv'\n",
    "train = NumpyDataset(path_to_data_train)\n",
    "test = NumpyDataset(path_to_data_test)"
   ]
  },
  {
   "cell_type": "code",
   "execution_count": 5,
   "id": "aa8dce98-c853-4bfd-9f69-cac8c45a6cdd",
   "metadata": {},
   "outputs": [],
   "source": [
    "col_treatment = \"treatment\"\n",
    "col_target = \"target\"\n",
    "cols_features = train.data.drop([\"treatment\", 'target'], axis=1).columns"
   ]
  },
  {
   "cell_type": "code",
   "execution_count": 6,
   "id": "daa87737-7886-40ab-837c-0f7f9e0b181c",
   "metadata": {},
   "outputs": [],
   "source": [
    "def apply(model, data, cols_features, col_treatment, col_target):\n",
    "    scores = data.copy(deep=True)\n",
    "    scores['score'] = model.predict(scores.loc[:, cols_features])\n",
    "    return scores[['score', col_treatment, col_target]]"
   ]
  },
  {
   "cell_type": "code",
   "execution_count": 7,
   "id": "cdfeb378-3a5a-45b9-8d4a-b2413e614baa",
   "metadata": {},
   "outputs": [],
   "source": [
    "train.data = train.data.sample(n=10000)"
   ]
  },
  {
   "cell_type": "code",
   "execution_count": null,
   "id": "879148c2-bfdc-4645-8bb0-1d493dd7743a",
   "metadata": {},
   "outputs": [],
   "source": [
    "tmodel = tlearner.BaseTClassifier(\n",
    "    learner=lgb.LGBMClassifier(),\n",
    "    control_learner=lgb.LGBMClassifier(),\n",
    "    treatment_learner=lgb.LGBMClassifier(),\n",
    "    control_name=0\n",
    ")\n",
    "\n",
    "tmodel.fit(\n",
    "    X=train.data.loc[:, cols_features].values,\n",
    "    treatment=train.data.loc[:, col_treatment].values,\n",
    "    y=train.data.loc[:, col_target].values,\n",
    ")"
   ]
  },
  {
   "cell_type": "code",
   "execution_count": 1,
   "id": "8c0b4b31-1a37-40d8-9840-5c8f7dd701a9",
   "metadata": {},
   "outputs": [
    {
     "ename": "NameError",
     "evalue": "name 'apply' is not defined",
     "output_type": "error",
     "traceback": [
      "\u001b[0;31m---------------------------------------------------------------------------\u001b[0m",
      "\u001b[0;31mNameError\u001b[0m                                 Traceback (most recent call last)",
      "Cell \u001b[0;32mIn[1], line 1\u001b[0m\n\u001b[0;32m----> 1\u001b[0m pred_tmodel \u001b[38;5;241m=\u001b[39m \u001b[43mapply\u001b[49m(tmodel, oot, cols_features, col_treatment, col_target)\n",
      "\u001b[0;31mNameError\u001b[0m: name 'apply' is not defined"
     ]
    }
   ],
   "source": [
    "pred_tmodel = apply(tmodel, oot, cols_features, col_treatment, col_target)"
   ]
  },
  {
   "cell_type": "code",
   "execution_count": 2,
   "id": "86e9f21f-92a4-4989-bd47-7e22722c4475",
   "metadata": {},
   "outputs": [
    {
     "ename": "NameError",
     "evalue": "name 'cmetrics' is not defined",
     "output_type": "error",
     "traceback": [
      "\u001b[0;31m---------------------------------------------------------------------------\u001b[0m",
      "\u001b[0;31mNameError\u001b[0m                                 Traceback (most recent call last)",
      "Cell \u001b[0;32mIn[2], line 1\u001b[0m\n\u001b[0;32m----> 1\u001b[0m \u001b[43mcmetrics\u001b[49m\u001b[38;5;241m.\u001b[39mauuc_score(\n\u001b[1;32m      2\u001b[0m     pred_tmodel, \n\u001b[1;32m      3\u001b[0m     outcome_col\u001b[38;5;241m=\u001b[39mcol_target, \n\u001b[1;32m      4\u001b[0m     treatment_col\u001b[38;5;241m=\u001b[39mcol_treatment, \n\u001b[1;32m      5\u001b[0m )\n",
      "\u001b[0;31mNameError\u001b[0m: name 'cmetrics' is not defined"
     ]
    }
   ],
   "source": [
    "cmetrics.auuc_score(\n",
    "    pred_tmodel, \n",
    "    outcome_col=col_target, \n",
    "    treatment_col=col_treatment, \n",
    ")"
   ]
  },
  {
   "cell_type": "markdown",
   "id": "6e0929cc-1307-4a36-8ba2-34f3aec7df6b",
   "metadata": {},
   "source": []
  }
 ],
 "metadata": {
  "kernelspec": {
   "display_name": "Python 3 (ipykernel)",
   "language": "python",
   "name": "python3"
  },
  "language_info": {
   "codemirror_mode": {
    "name": "ipython",
    "version": 3
   },
   "file_extension": ".py",
   "mimetype": "text/x-python",
   "name": "python",
   "nbconvert_exporter": "python",
   "pygments_lexer": "ipython3",
   "version": "3.11.7"
  }
 },
 "nbformat": 4,
 "nbformat_minor": 5
}
