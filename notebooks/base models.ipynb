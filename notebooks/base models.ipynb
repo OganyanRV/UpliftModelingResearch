{
 "cells": [
  {
   "cell_type": "markdown",
   "id": "40f2faaf-8680-4c02-8575-7e04dae55f7c",
   "metadata": {},
   "source": [
    "## План"
   ]
  },
  {
   "cell_type": "markdown",
   "id": "38a8ca68-36da-47fa-94d3-2158507a59f3",
   "metadata": {},
   "source": [
    "1. S modeling\n",
    "\n",
    "2. T modeling\n",
    "\n",
    "3. X learner\n",
    "\n",
    "4. R learner"
   ]
  },
  {
   "cell_type": "code",
   "execution_count": 3,
   "id": "cf4d1bb3-d30f-45be-a28f-fb73392d477f",
   "metadata": {},
   "outputs": [
    {
     "name": "stderr",
     "output_type": "stream",
     "text": [
      "Failed to import duecredit due to No module named 'duecredit'\n"
     ]
    }
   ],
   "source": [
    "from pathlib import Path\n",
    "import sys\n",
    " \n",
    "if sys.argv:\n",
    "    sys.path.insert(0, str(Path('/Users/ogrobertino/UpliftModelingResearch/').resolve()))\n",
    "%load_ext autoreload\n",
    "%autoreload 2\n",
    "import pandas as pd\n",
    "from src.datasets import sample_features, TorchDataset, NumpyDataset\n",
    "\n",
    "import matplotlib.pyplot as plt\n",
    "import numpy as np\n",
    "import pandas as pd\n",
    "from scipy import stats\n",
    "from statsmodels.stats.proportion import proportions_ztest\n",
    "from statsmodels.stats.weightstats import ztest\n",
    "\n",
    "from sklearn.model_selection import train_test_split\n",
    "\n",
    "from tqdm.auto import tqdm\n",
    "\n",
    "pd.options.display.max_rows = 200\n",
    "pd.options.display.max_colwidth = 200\n",
    "from sklearn.metrics import roc_auc_score\n",
    "\n",
    "def local_read(path):\n",
    "    return pd.DataFrame(yt.read_table(path))\n",
    "\n",
    "import lightgbm as lgb\n",
    "import causalml\n",
    "import causalml.metrics as cmetrics\n",
    "import causalml.inference.tree as ctree\n",
    "import causalml.inference.meta.tlearner as tlearner\n",
    "import causalml.inference.meta.slearner as slearner\n",
    "import causalml.inference.meta.rlearner as rlearner\n",
    "import causalml.inference.meta.xlearner as xlearner\n",
    "from causalml.inference.tree import UpliftTreeClassifier, UpliftRandomForestClassifier\n",
    "from catboost import CatBoostClassifier\n",
    "# import causalml.inference.meta.rlearner as rlearner\n",
    "# import causalml.inference.meta.xlearner as xlearner\n",
    "# import causalml.inference.meta.drlearner as drlearner"
   ]
  },
  {
   "cell_type": "code",
   "execution_count": 13,
   "id": "fb21e085-44aa-4759-8056-a189ddfe4781",
   "metadata": {},
   "outputs": [],
   "source": [
    "def load_train_test(ds_name, features_precent):\n",
    "    features_percent = 100\n",
    "\n",
    "    path_to_data_train = f'../data/{ds_name}/{features_percent}/train.tsv'\n",
    "    path_to_data_test = f'../data/{ds_name}/{features_percent}/test.tsv'\n",
    "    train = NumpyDataset(path_to_data_train)\n",
    "    test = NumpyDataset(path_to_data_test)\n",
    "\n",
    "    return train, test"
   ]
  },
  {
   "cell_type": "code",
   "execution_count": 49,
   "id": "bc025d15-0dfb-4c37-b022-768848ea191d",
   "metadata": {},
   "outputs": [],
   "source": [
    "def train_model_causal(model, train):\n",
    "    tmodel.fit(\n",
    "        X=train.data.loc[:, cols_features].values,\n",
    "        treatment=train.data.loc[:, col_treatment].values,\n",
    "        y=train.data.loc[:, col_target].values,\n",
    "    )\n",
    "    return tmodel"
   ]
  },
  {
   "cell_type": "code",
   "execution_count": 15,
   "id": "17f57611-05b3-4192-bee1-6fcb5b71b782",
   "metadata": {},
   "outputs": [],
   "source": [
    "def apply(model, data, cols_features, col_treatment, col_target):\n",
    "    scores = data.copy(deep=True)\n",
    "    scores['score'] = model.predict(scores.loc[:, cols_features])\n",
    "    return scores[['score', col_treatment, col_target]]"
   ]
  },
  {
   "cell_type": "code",
   "execution_count": 20,
   "id": "b9391119-6900-4a0c-b490-cba999e012cf",
   "metadata": {},
   "outputs": [],
   "source": [
    "train, test = load_train_test(ds_name='lazada', features_precent=100)"
   ]
  },
  {
   "cell_type": "code",
   "execution_count": 5,
   "id": "aa8dce98-c853-4bfd-9f69-cac8c45a6cdd",
   "metadata": {},
   "outputs": [],
   "source": [
    "col_treatment = \"treatment\"\n",
    "col_target = \"target\"\n",
    "cols_features = train.data.drop([\"treatment\", 'target'], axis=1).columns"
   ]
  },
  {
   "cell_type": "code",
   "execution_count": 22,
   "id": "20e85363-5e08-4192-af21-b71d7bc2fccc",
   "metadata": {},
   "outputs": [
    {
     "data": {
      "text/plain": [
       "\u001b[0;31mSignature:\u001b[0m \u001b[0mtmodel\u001b[0m\u001b[0;34m.\u001b[0m\u001b[0mfit\u001b[0m\u001b[0;34m(\u001b[0m\u001b[0mX\u001b[0m\u001b[0;34m,\u001b[0m \u001b[0mtreatment\u001b[0m\u001b[0;34m,\u001b[0m \u001b[0my\u001b[0m\u001b[0;34m,\u001b[0m \u001b[0mp\u001b[0m\u001b[0;34m=\u001b[0m\u001b[0;32mNone\u001b[0m\u001b[0;34m)\u001b[0m\u001b[0;34m\u001b[0m\u001b[0;34m\u001b[0m\u001b[0m\n",
       "\u001b[0;31mSource:\u001b[0m   \n",
       "    \u001b[0;34m@\u001b[0m\u001b[0mignore_warnings\u001b[0m\u001b[0;34m(\u001b[0m\u001b[0mcategory\u001b[0m\u001b[0;34m=\u001b[0m\u001b[0mConvergenceWarning\u001b[0m\u001b[0;34m)\u001b[0m\u001b[0;34m\u001b[0m\n",
       "\u001b[0;34m\u001b[0m    \u001b[0;32mdef\u001b[0m \u001b[0mfit\u001b[0m\u001b[0;34m(\u001b[0m\u001b[0mself\u001b[0m\u001b[0;34m,\u001b[0m \u001b[0mX\u001b[0m\u001b[0;34m,\u001b[0m \u001b[0mtreatment\u001b[0m\u001b[0;34m,\u001b[0m \u001b[0my\u001b[0m\u001b[0;34m,\u001b[0m \u001b[0mp\u001b[0m\u001b[0;34m=\u001b[0m\u001b[0;32mNone\u001b[0m\u001b[0;34m)\u001b[0m\u001b[0;34m:\u001b[0m\u001b[0;34m\u001b[0m\n",
       "\u001b[0;34m\u001b[0m        \u001b[0;34m\"\"\"Fit the inference model\u001b[0m\n",
       "\u001b[0;34m\u001b[0m\n",
       "\u001b[0;34m        Args:\u001b[0m\n",
       "\u001b[0;34m            X (np.matrix or np.array or pd.Dataframe): a feature matrix\u001b[0m\n",
       "\u001b[0;34m            treatment (np.array or pd.Series): a treatment vector\u001b[0m\n",
       "\u001b[0;34m            y (np.array or pd.Series): an outcome vector\u001b[0m\n",
       "\u001b[0;34m        \"\"\"\u001b[0m\u001b[0;34m\u001b[0m\n",
       "\u001b[0;34m\u001b[0m        \u001b[0mX\u001b[0m\u001b[0;34m,\u001b[0m \u001b[0mtreatment\u001b[0m\u001b[0;34m,\u001b[0m \u001b[0my\u001b[0m \u001b[0;34m=\u001b[0m \u001b[0mconvert_pd_to_np\u001b[0m\u001b[0;34m(\u001b[0m\u001b[0mX\u001b[0m\u001b[0;34m,\u001b[0m \u001b[0mtreatment\u001b[0m\u001b[0;34m,\u001b[0m \u001b[0my\u001b[0m\u001b[0;34m)\u001b[0m\u001b[0;34m\u001b[0m\n",
       "\u001b[0;34m\u001b[0m        \u001b[0mcheck_treatment_vector\u001b[0m\u001b[0;34m(\u001b[0m\u001b[0mtreatment\u001b[0m\u001b[0;34m,\u001b[0m \u001b[0mself\u001b[0m\u001b[0;34m.\u001b[0m\u001b[0mcontrol_name\u001b[0m\u001b[0;34m)\u001b[0m\u001b[0;34m\u001b[0m\n",
       "\u001b[0;34m\u001b[0m        \u001b[0mself\u001b[0m\u001b[0;34m.\u001b[0m\u001b[0mt_groups\u001b[0m \u001b[0;34m=\u001b[0m \u001b[0mnp\u001b[0m\u001b[0;34m.\u001b[0m\u001b[0munique\u001b[0m\u001b[0;34m(\u001b[0m\u001b[0mtreatment\u001b[0m\u001b[0;34m[\u001b[0m\u001b[0mtreatment\u001b[0m \u001b[0;34m!=\u001b[0m \u001b[0mself\u001b[0m\u001b[0;34m.\u001b[0m\u001b[0mcontrol_name\u001b[0m\u001b[0;34m]\u001b[0m\u001b[0;34m)\u001b[0m\u001b[0;34m\u001b[0m\n",
       "\u001b[0;34m\u001b[0m        \u001b[0mself\u001b[0m\u001b[0;34m.\u001b[0m\u001b[0mt_groups\u001b[0m\u001b[0;34m.\u001b[0m\u001b[0msort\u001b[0m\u001b[0;34m(\u001b[0m\u001b[0;34m)\u001b[0m\u001b[0;34m\u001b[0m\n",
       "\u001b[0;34m\u001b[0m        \u001b[0mself\u001b[0m\u001b[0;34m.\u001b[0m\u001b[0m_classes\u001b[0m \u001b[0;34m=\u001b[0m \u001b[0;34m{\u001b[0m\u001b[0mgroup\u001b[0m\u001b[0;34m:\u001b[0m \u001b[0mi\u001b[0m \u001b[0;32mfor\u001b[0m \u001b[0mi\u001b[0m\u001b[0;34m,\u001b[0m \u001b[0mgroup\u001b[0m \u001b[0;32min\u001b[0m \u001b[0menumerate\u001b[0m\u001b[0;34m(\u001b[0m\u001b[0mself\u001b[0m\u001b[0;34m.\u001b[0m\u001b[0mt_groups\u001b[0m\u001b[0;34m)\u001b[0m\u001b[0;34m}\u001b[0m\u001b[0;34m\u001b[0m\n",
       "\u001b[0;34m\u001b[0m        \u001b[0mself\u001b[0m\u001b[0;34m.\u001b[0m\u001b[0mmodels_c\u001b[0m \u001b[0;34m=\u001b[0m \u001b[0;34m{\u001b[0m\u001b[0mgroup\u001b[0m\u001b[0;34m:\u001b[0m \u001b[0mdeepcopy\u001b[0m\u001b[0;34m(\u001b[0m\u001b[0mself\u001b[0m\u001b[0;34m.\u001b[0m\u001b[0mmodel_c\u001b[0m\u001b[0;34m)\u001b[0m \u001b[0;32mfor\u001b[0m \u001b[0mgroup\u001b[0m \u001b[0;32min\u001b[0m \u001b[0mself\u001b[0m\u001b[0;34m.\u001b[0m\u001b[0mt_groups\u001b[0m\u001b[0;34m}\u001b[0m\u001b[0;34m\u001b[0m\n",
       "\u001b[0;34m\u001b[0m        \u001b[0mself\u001b[0m\u001b[0;34m.\u001b[0m\u001b[0mmodels_t\u001b[0m \u001b[0;34m=\u001b[0m \u001b[0;34m{\u001b[0m\u001b[0mgroup\u001b[0m\u001b[0;34m:\u001b[0m \u001b[0mdeepcopy\u001b[0m\u001b[0;34m(\u001b[0m\u001b[0mself\u001b[0m\u001b[0;34m.\u001b[0m\u001b[0mmodel_t\u001b[0m\u001b[0;34m)\u001b[0m \u001b[0;32mfor\u001b[0m \u001b[0mgroup\u001b[0m \u001b[0;32min\u001b[0m \u001b[0mself\u001b[0m\u001b[0;34m.\u001b[0m\u001b[0mt_groups\u001b[0m\u001b[0;34m}\u001b[0m\u001b[0;34m\u001b[0m\n",
       "\u001b[0;34m\u001b[0m\u001b[0;34m\u001b[0m\n",
       "\u001b[0;34m\u001b[0m        \u001b[0;32mfor\u001b[0m \u001b[0mgroup\u001b[0m \u001b[0;32min\u001b[0m \u001b[0mself\u001b[0m\u001b[0;34m.\u001b[0m\u001b[0mt_groups\u001b[0m\u001b[0;34m:\u001b[0m\u001b[0;34m\u001b[0m\n",
       "\u001b[0;34m\u001b[0m            \u001b[0mmask\u001b[0m \u001b[0;34m=\u001b[0m \u001b[0;34m(\u001b[0m\u001b[0mtreatment\u001b[0m \u001b[0;34m==\u001b[0m \u001b[0mgroup\u001b[0m\u001b[0;34m)\u001b[0m \u001b[0;34m|\u001b[0m \u001b[0;34m(\u001b[0m\u001b[0mtreatment\u001b[0m \u001b[0;34m==\u001b[0m \u001b[0mself\u001b[0m\u001b[0;34m.\u001b[0m\u001b[0mcontrol_name\u001b[0m\u001b[0;34m)\u001b[0m\u001b[0;34m\u001b[0m\n",
       "\u001b[0;34m\u001b[0m            \u001b[0mtreatment_filt\u001b[0m \u001b[0;34m=\u001b[0m \u001b[0mtreatment\u001b[0m\u001b[0;34m[\u001b[0m\u001b[0mmask\u001b[0m\u001b[0;34m]\u001b[0m\u001b[0;34m\u001b[0m\n",
       "\u001b[0;34m\u001b[0m            \u001b[0mX_filt\u001b[0m \u001b[0;34m=\u001b[0m \u001b[0mX\u001b[0m\u001b[0;34m[\u001b[0m\u001b[0mmask\u001b[0m\u001b[0;34m]\u001b[0m\u001b[0;34m\u001b[0m\n",
       "\u001b[0;34m\u001b[0m            \u001b[0my_filt\u001b[0m \u001b[0;34m=\u001b[0m \u001b[0my\u001b[0m\u001b[0;34m[\u001b[0m\u001b[0mmask\u001b[0m\u001b[0;34m]\u001b[0m\u001b[0;34m\u001b[0m\n",
       "\u001b[0;34m\u001b[0m            \u001b[0mw\u001b[0m \u001b[0;34m=\u001b[0m \u001b[0;34m(\u001b[0m\u001b[0mtreatment_filt\u001b[0m \u001b[0;34m==\u001b[0m \u001b[0mgroup\u001b[0m\u001b[0;34m)\u001b[0m\u001b[0;34m.\u001b[0m\u001b[0mastype\u001b[0m\u001b[0;34m(\u001b[0m\u001b[0mint\u001b[0m\u001b[0;34m)\u001b[0m\u001b[0;34m\u001b[0m\n",
       "\u001b[0;34m\u001b[0m\u001b[0;34m\u001b[0m\n",
       "\u001b[0;34m\u001b[0m            \u001b[0mself\u001b[0m\u001b[0;34m.\u001b[0m\u001b[0mmodels_c\u001b[0m\u001b[0;34m[\u001b[0m\u001b[0mgroup\u001b[0m\u001b[0;34m]\u001b[0m\u001b[0;34m.\u001b[0m\u001b[0mfit\u001b[0m\u001b[0;34m(\u001b[0m\u001b[0mX_filt\u001b[0m\u001b[0;34m[\u001b[0m\u001b[0mw\u001b[0m \u001b[0;34m==\u001b[0m \u001b[0;36m0\u001b[0m\u001b[0;34m]\u001b[0m\u001b[0;34m,\u001b[0m \u001b[0my_filt\u001b[0m\u001b[0;34m[\u001b[0m\u001b[0mw\u001b[0m \u001b[0;34m==\u001b[0m \u001b[0;36m0\u001b[0m\u001b[0;34m]\u001b[0m\u001b[0;34m)\u001b[0m\u001b[0;34m\u001b[0m\n",
       "\u001b[0;34m\u001b[0m            \u001b[0mself\u001b[0m\u001b[0;34m.\u001b[0m\u001b[0mmodels_t\u001b[0m\u001b[0;34m[\u001b[0m\u001b[0mgroup\u001b[0m\u001b[0;34m]\u001b[0m\u001b[0;34m.\u001b[0m\u001b[0mfit\u001b[0m\u001b[0;34m(\u001b[0m\u001b[0mX_filt\u001b[0m\u001b[0;34m[\u001b[0m\u001b[0mw\u001b[0m \u001b[0;34m==\u001b[0m \u001b[0;36m1\u001b[0m\u001b[0;34m]\u001b[0m\u001b[0;34m,\u001b[0m \u001b[0my_filt\u001b[0m\u001b[0;34m[\u001b[0m\u001b[0mw\u001b[0m \u001b[0;34m==\u001b[0m \u001b[0;36m1\u001b[0m\u001b[0;34m]\u001b[0m\u001b[0;34m)\u001b[0m\u001b[0;34m\u001b[0m\u001b[0;34m\u001b[0m\u001b[0m\n",
       "\u001b[0;31mFile:\u001b[0m      ~/new_diploma/lib/python3.11/site-packages/causalml/inference/meta/tlearner.py\n",
       "\u001b[0;31mType:\u001b[0m      method"
      ]
     },
     "metadata": {},
     "output_type": "display_data"
    }
   ],
   "source": [
    "tmodel.fit??"
   ]
  },
  {
   "cell_type": "code",
   "execution_count": 50,
   "id": "879148c2-bfdc-4645-8bb0-1d493dd7743a",
   "metadata": {},
   "outputs": [
    {
     "name": "stderr",
     "output_type": "stream",
     "text": [
      "/Users/ogrobertino/new_diploma/lib/python3.11/site-packages/sklearn/utils/deprecation.py:151: FutureWarning: 'force_all_finite' was renamed to 'ensure_all_finite' in 1.6 and will be removed in 1.8.\n",
      "  warnings.warn(\n"
     ]
    },
    {
     "name": "stdout",
     "output_type": "stream",
     "text": [
      "[LightGBM] [Info] Number of positive: 6810, number of negative: 714379\n",
      "[LightGBM] [Info] Auto-choosing row-wise multi-threading, the overhead of testing was 0.037993 seconds.\n",
      "You can set `force_row_wise=true` to remove the overhead.\n",
      "And if memory is not enough, you can set `force_col_wise=true`.\n",
      "[LightGBM] [Info] Total Bins 9345\n",
      "[LightGBM] [Info] Number of data points in the train set: 721189, number of used features: 82\n",
      "[LightGBM] [Info] [binary:BoostFromScore]: pavg=0.009443 -> initscore=-4.653022\n",
      "[LightGBM] [Info] Start training from score -4.653022\n"
     ]
    },
    {
     "name": "stderr",
     "output_type": "stream",
     "text": [
      "/Users/ogrobertino/new_diploma/lib/python3.11/site-packages/sklearn/utils/deprecation.py:151: FutureWarning: 'force_all_finite' was renamed to 'ensure_all_finite' in 1.6 and will be removed in 1.8.\n",
      "  warnings.warn(\n"
     ]
    },
    {
     "name": "stdout",
     "output_type": "stream",
     "text": [
      "[LightGBM] [Info] Number of positive: 11638, number of negative: 193842\n",
      "[LightGBM] [Info] Auto-choosing row-wise multi-threading, the overhead of testing was 0.007256 seconds.\n",
      "You can set `force_row_wise=true` to remove the overhead.\n",
      "And if memory is not enough, you can set `force_col_wise=true`.\n",
      "[LightGBM] [Info] Total Bins 9556\n",
      "[LightGBM] [Info] Number of data points in the train set: 205480, number of used features: 82\n",
      "[LightGBM] [Info] [binary:BoostFromScore]: pavg=0.056638 -> initscore=-2.812768\n",
      "[LightGBM] [Info] Start training from score -2.812768\n"
     ]
    }
   ],
   "source": [
    "tmodel = tlearner.BaseTClassifier(\n",
    "    learner=lgb.LGBMClassifier(),\n",
    "    control_learner=lgb.LGBMClassifier(),\n",
    "    treatment_learner=lgb.LGBMClassifier(),\n",
    "    control_name=0\n",
    ")\n",
    "tmodel = train_model_causal(tmodel, train)"
   ]
  },
  {
   "cell_type": "code",
   "execution_count": 29,
   "id": "8c0b4b31-1a37-40d8-9840-5c8f7dd701a9",
   "metadata": {},
   "outputs": [],
   "source": [
    "pred_tmodel = apply(tmodel, test.data, cols_features, col_treatment, col_target)"
   ]
  },
  {
   "cell_type": "code",
   "execution_count": 26,
   "id": "86e9f21f-92a4-4989-bd47-7e22722c4475",
   "metadata": {},
   "outputs": [
    {
     "data": {
      "text/plain": [
       "score     0.508483\n",
       "Random    0.495192\n",
       "dtype: float64"
      ]
     },
     "execution_count": 26,
     "metadata": {},
     "output_type": "execute_result"
    }
   ],
   "source": [
    "cmetrics.auuc_score(\n",
    "    pred_tmodel, \n",
    "    outcome_col=col_target, \n",
    "    treatment_col=col_treatment, \n",
    ")"
   ]
  },
  {
   "cell_type": "code",
   "execution_count": 30,
   "id": "fcf996ba-0c86-4a45-8785-d704d1b5a1a3",
   "metadata": {},
   "outputs": [
    {
     "data": {
      "image/png": "[encoded data removed]",
      "text/plain": [
       "<Figure size 800x800 with 1 Axes>"
      ]
     },
     "metadata": {},
     "output_type": "display_data"
    }
   ],
   "source": [
    "cmetrics.plot_gain(\n",
    "    pred_tmodel,\n",
    "    treatment_col=col_treatment,\n",
    "    outcome_col=col_target,\n",
    ")"
   ]
  },
  {
   "cell_type": "code",
   "execution_count": 31,
   "id": "952ad010-1723-4163-89a2-780f77912bf5",
   "metadata": {},
   "outputs": [
    {
     "data": {
      "text/plain": [
       "causalml.inference.meta.tlearner.BaseTClassifier"
      ]
     },
     "execution_count": 31,
     "metadata": {},
     "output_type": "execute_result"
    }
   ],
   "source": [
    "tmodel.__class__"
   ]
  },
  {
   "cell_type": "markdown",
   "id": "67e82191-3070-4263-bf8c-3bbda365b653",
   "metadata": {},
   "source": [
    "1. Сделать сохранение бинарей модели по папкам\n",
    "2. Проверить что бинаоь загружается\n",
    "3. Сделать байесовский поиск по гиперпараметрам\n",
    "4. Сохранить таблицу в следующем формате:\n",
    "   * Назваине модели/класса (. __ class __)\n",
    "   * Конфиг (гиперпараметры)\n",
    "   * Название датасета\n",
    "   * Процент фичей\n",
    "   * Путь до бинаря модели\n",
    "   * Время работы (latency)\n",
    "   * Размер бинаря?\n",
    "   * AUUC на тесте\n",
    "   * precision@[5, 100] на тесте"
   ]
  },
  {
   "cell_type": "code",
   "execution_count": 60,
   "id": "d2990ebe-a08e-47ad-b813-d147d4492e0e",
   "metadata": {},
   "outputs": [
    {
     "data": {
      "text/plain": [
       "array([ 34, 112, 110,  33,  71,  89,  43,   5,  76,  49,  28,  29,  95,\n",
       "        71,  59, 119,  77,  40,   3,  97,  70, 119, 101,  92, 165, 140,\n",
       "         0,   0,  62,  40,  13, 105, 108,   0,  78,  17,   8,   4,   5,\n",
       "         4,   4,   3,  10,   4,   1,  88,   4,   0,   8,  14,   2,   8,\n",
       "         5,   4,   4,   4,   0,  10,  16,  11,   1,   9,   3,  14,   2,\n",
       "         0,   0,  22,   0,   0,   0,   0,   0,  13,   2,   0,   0,  76,\n",
       "        59,  51,  72,  37,  68], dtype=int32)"
      ]
     },
     "execution_count": 60,
     "metadata": {},
     "output_type": "execute_result"
    }
   ],
   "source": [
    "tmodel.models_c[1].feature_importances_"
   ]
  },
  {
   "cell_type": "code",
   "execution_count": 69,
   "id": "b88eb4a1-28a6-45aa-8410-af6b325672d5",
   "metadata": {},
   "outputs": [
    {
     "data": {
      "text/html": [
       "<style>#sk-container-id-7 {\n",
       "  /* Definition of color scheme common for light and dark mode */\n",
       "  --sklearn-color-text: #000;\n",
       "  --sklearn-color-text-muted: #666;\n",
       "  --sklearn-color-line: gray;\n",
       "  /* Definition of color scheme for unfitted estimators */\n",
       "  --sklearn-color-unfitted-level-0: #fff5e6;\n",
       "  --sklearn-color-unfitted-level-1: #f6e4d2;\n",
       "  --sklearn-color-unfitted-level-2: #ffe0b3;\n",
       "  --sklearn-color-unfitted-level-3: chocolate;\n",
       "  /* Definition of color scheme for fitted estimators */\n",
       "  --sklearn-color-fitted-level-0: #f0f8ff;\n",
       "  --sklearn-color-fitted-level-1: #d4ebff;\n",
       "  --sklearn-color-fitted-level-2: #b3dbfd;\n",
       "  --sklearn-color-fitted-level-3: cornflowerblue;\n",
       "\n",
       "  /* Specific color for light theme */\n",
       "  --sklearn-color-text-on-default-background: var(--sg-text-color, var(--theme-code-foreground, var(--jp-content-font-color1, black)));\n",
       "  --sklearn-color-background: var(--sg-background-color, var(--theme-background, var(--jp-layout-color0, white)));\n",
       "  --sklearn-color-border-box: var(--sg-text-color, var(--theme-code-foreground, var(--jp-content-font-color1, black)));\n",
       "  --sklearn-color-icon: #696969;\n",
       "\n",
       "  @media (prefers-color-scheme: dark) {\n",
       "    /* Redefinition of color scheme for dark theme */\n",
       "    --sklearn-color-text-on-default-background: var(--sg-text-color, var(--theme-code-foreground, var(--jp-content-font-color1, white)));\n",
       "    --sklearn-color-background: var(--sg-background-color, var(--theme-background, var(--jp-layout-color0, #111)));\n",
       "    --sklearn-color-border-box: var(--sg-text-color, var(--theme-code-foreground, var(--jp-content-font-color1, white)));\n",
       "    --sklearn-color-icon: #878787;\n",
       "  }\n",
       "}\n",
       "\n",
       "#sk-container-id-7 {\n",
       "  color: var(--sklearn-color-text);\n",
       "}\n",
       "\n",
       "#sk-container-id-7 pre {\n",
       "  padding: 0;\n",
       "}\n",
       "\n",
       "#sk-container-id-7 input.sk-hidden--visually {\n",
       "  border: 0;\n",
       "  clip: rect(1px 1px 1px 1px);\n",
       "  clip: rect(1px, 1px, 1px, 1px);\n",
       "  height: 1px;\n",
       "  margin: -1px;\n",
       "  overflow: hidden;\n",
       "  padding: 0;\n",
       "  position: absolute;\n",
       "  width: 1px;\n",
       "}\n",
       "\n",
       "#sk-container-id-7 div.sk-dashed-wrapped {\n",
       "  border: 1px dashed var(--sklearn-color-line);\n",
       "  margin: 0 0.4em 0.5em 0.4em;\n",
       "  box-sizing: border-box;\n",
       "  padding-bottom: 0.4em;\n",
       "  background-color: var(--sklearn-color-background);\n",
       "}\n",
       "\n",
       "#sk-container-id-7 div.sk-container {\n",
       "  /* jupyter's `normalize.less` sets `[hidden] { display: none; }`\n",
       "     but bootstrap.min.css set `[hidden] { display: none !important; }`\n",
       "     so we also need the `!important` here to be able to override the\n",
       "     default hidden behavior on the sphinx rendered scikit-learn.org.\n",
       "     See: https://github.com/scikit-learn/scikit-learn/issues/21755 */\n",
       "  display: inline-block !important;\n",
       "  position: relative;\n",
       "}\n",
       "\n",
       "#sk-container-id-7 div.sk-text-repr-fallback {\n",
       "  display: none;\n",
       "}\n",
       "\n",
       "div.sk-parallel-item,\n",
       "div.sk-serial,\n",
       "div.sk-item {\n",
       "  /* draw centered vertical line to link estimators */\n",
       "  background-image: linear-gradient(var(--sklearn-color-text-on-default-background), var(--sklearn-color-text-on-default-background));\n",
       "  background-size: 2px 100%;\n",
       "  background-repeat: no-repeat;\n",
       "  background-position: center center;\n",
       "}\n",
       "\n",
       "/* Parallel-specific style estimator block */\n",
       "\n",
       "#sk-container-id-7 div.sk-parallel-item::after {\n",
       "  content: \"\";\n",
       "  width: 100%;\n",
       "  border-bottom: 2px solid var(--sklearn-color-text-on-default-background);\n",
       "  flex-grow: 1;\n",
       "}\n",
       "\n",
       "#sk-container-id-7 div.sk-parallel {\n",
       "  display: flex;\n",
       "  align-items: stretch;\n",
       "  justify-content: center;\n",
       "  background-color: var(--sklearn-color-background);\n",
       "  position: relative;\n",
       "}\n",
       "\n",
       "#sk-container-id-7 div.sk-parallel-item {\n",
       "  display: flex;\n",
       "  flex-direction: column;\n",
       "}\n",
       "\n",
       "#sk-container-id-7 div.sk-parallel-item:first-child::after {\n",
       "  align-self: flex-end;\n",
       "  width: 50%;\n",
       "}\n",
       "\n",
       "#sk-container-id-7 div.sk-parallel-item:last-child::after {\n",
       "  align-self: flex-start;\n",
       "  width: 50%;\n",
       "}\n",
       "\n",
       "#sk-container-id-7 div.sk-parallel-item:only-child::after {\n",
       "  width: 0;\n",
       "}\n",
       "\n",
       "/* Serial-specific style estimator block */\n",
       "\n",
       "#sk-container-id-7 div.sk-serial {\n",
       "  display: flex;\n",
       "  flex-direction: column;\n",
       "  align-items: center;\n",
       "  background-color: var(--sklearn-color-background);\n",
       "  padding-right: 1em;\n",
       "  padding-left: 1em;\n",
       "}\n",
       "\n",
       "\n",
       "/* Toggleable style: style used for estimator/Pipeline/ColumnTransformer box that is\n",
       "clickable and can be expanded/collapsed.\n",
       "- Pipeline and ColumnTransformer use this feature and define the default style\n",
       "- Estimators will overwrite some part of the style using the `sk-estimator` class\n",
       "*/\n",
       "\n",
       "/* Pipeline and ColumnTransformer style (default) */\n",
       "\n",
       "#sk-container-id-7 div.sk-toggleable {\n",
       "  /* Default theme specific background. It is overwritten whether we have a\n",
       "  specific estimator or a Pipeline/ColumnTransformer */\n",
       "  background-color: var(--sklearn-color-background);\n",
       "}\n",
       "\n",
       "/* Toggleable label */\n",
       "#sk-container-id-7 label.sk-toggleable__label {\n",
       "  cursor: pointer;\n",
       "  display: flex;\n",
       "  width: 100%;\n",
       "  margin-bottom: 0;\n",
       "  padding: 0.5em;\n",
       "  box-sizing: border-box;\n",
       "  text-align: center;\n",
       "  align-items: start;\n",
       "  justify-content: space-between;\n",
       "  gap: 0.5em;\n",
       "}\n",
       "\n",
       "#sk-container-id-7 label.sk-toggleable__label .caption {\n",
       "  font-size: 0.6rem;\n",
       "  font-weight: lighter;\n",
       "  color: var(--sklearn-color-text-muted);\n",
       "}\n",
       "\n",
       "#sk-container-id-7 label.sk-toggleable__label-arrow:before {\n",
       "  /* Arrow on the left of the label */\n",
       "  content: \"▸\";\n",
       "  float: left;\n",
       "  margin-right: 0.25em;\n",
       "  color: var(--sklearn-color-icon);\n",
       "}\n",
       "\n",
       "#sk-container-id-7 label.sk-toggleable__label-arrow:hover:before {\n",
       "  color: var(--sklearn-color-text);\n",
       "}\n",
       "\n",
       "/* Toggleable content - dropdown */\n",
       "\n",
       "#sk-container-id-7 div.sk-toggleable__content {\n",
       "  max-height: 0;\n",
       "  max-width: 0;\n",
       "  overflow: hidden;\n",
       "  text-align: left;\n",
       "  /* unfitted */\n",
       "  background-color: var(--sklearn-color-unfitted-level-0);\n",
       "}\n",
       "\n",
       "#sk-container-id-7 div.sk-toggleable__content.fitted {\n",
       "  /* fitted */\n",
       "  background-color: var(--sklearn-color-fitted-level-0);\n",
       "}\n",
       "\n",
       "#sk-container-id-7 div.sk-toggleable__content pre {\n",
       "  margin: 0.2em;\n",
       "  border-radius: 0.25em;\n",
       "  color: var(--sklearn-color-text);\n",
       "  /* unfitted */\n",
       "  background-color: var(--sklearn-color-unfitted-level-0);\n",
       "}\n",
       "\n",
       "#sk-container-id-7 div.sk-toggleable__content.fitted pre {\n",
       "  /* unfitted */\n",
       "  background-color: var(--sklearn-color-fitted-level-0);\n",
       "}\n",
       "\n",
       "#sk-container-id-7 input.sk-toggleable__control:checked~div.sk-toggleable__content {\n",
       "  /* Expand drop-down */\n",
       "  max-height: 200px;\n",
       "  max-width: 100%;\n",
       "  overflow: auto;\n",
       "}\n",
       "\n",
       "#sk-container-id-7 input.sk-toggleable__control:checked~label.sk-toggleable__label-arrow:before {\n",
       "  content: \"▾\";\n",
       "}\n",
       "\n",
       "/* Pipeline/ColumnTransformer-specific style */\n",
       "\n",
       "#sk-container-id-7 div.sk-label input.sk-toggleable__control:checked~label.sk-toggleable__label {\n",
       "  color: var(--sklearn-color-text);\n",
       "  background-color: var(--sklearn-color-unfitted-level-2);\n",
       "}\n",
       "\n",
       "#sk-container-id-7 div.sk-label.fitted input.sk-toggleable__control:checked~label.sk-toggleable__label {\n",
       "  background-color: var(--sklearn-color-fitted-level-2);\n",
       "}\n",
       "\n",
       "/* Estimator-specific style */\n",
       "\n",
       "/* Colorize estimator box */\n",
       "#sk-container-id-7 div.sk-estimator input.sk-toggleable__control:checked~label.sk-toggleable__label {\n",
       "  /* unfitted */\n",
       "  background-color: var(--sklearn-color-unfitted-level-2);\n",
       "}\n",
       "\n",
       "#sk-container-id-7 div.sk-estimator.fitted input.sk-toggleable__control:checked~label.sk-toggleable__label {\n",
       "  /* fitted */\n",
       "  background-color: var(--sklearn-color-fitted-level-2);\n",
       "}\n",
       "\n",
       "#sk-container-id-7 div.sk-label label.sk-toggleable__label,\n",
       "#sk-container-id-7 div.sk-label label {\n",
       "  /* The background is the default theme color */\n",
       "  color: var(--sklearn-color-text-on-default-background);\n",
       "}\n",
       "\n",
       "/* On hover, darken the color of the background */\n",
       "#sk-container-id-7 div.sk-label:hover label.sk-toggleable__label {\n",
       "  color: var(--sklearn-color-text);\n",
       "  background-color: var(--sklearn-color-unfitted-level-2);\n",
       "}\n",
       "\n",
       "/* Label box, darken color on hover, fitted */\n",
       "#sk-container-id-7 div.sk-label.fitted:hover label.sk-toggleable__label.fitted {\n",
       "  color: var(--sklearn-color-text);\n",
       "  background-color: var(--sklearn-color-fitted-level-2);\n",
       "}\n",
       "\n",
       "/* Estimator label */\n",
       "\n",
       "#sk-container-id-7 div.sk-label label {\n",
       "  font-family: monospace;\n",
       "  font-weight: bold;\n",
       "  display: inline-block;\n",
       "  line-height: 1.2em;\n",
       "}\n",
       "\n",
       "#sk-container-id-7 div.sk-label-container {\n",
       "  text-align: center;\n",
       "}\n",
       "\n",
       "/* Estimator-specific */\n",
       "#sk-container-id-7 div.sk-estimator {\n",
       "  font-family: monospace;\n",
       "  border: 1px dotted var(--sklearn-color-border-box);\n",
       "  border-radius: 0.25em;\n",
       "  box-sizing: border-box;\n",
       "  margin-bottom: 0.5em;\n",
       "  /* unfitted */\n",
       "  background-color: var(--sklearn-color-unfitted-level-0);\n",
       "}\n",
       "\n",
       "#sk-container-id-7 div.sk-estimator.fitted {\n",
       "  /* fitted */\n",
       "  background-color: var(--sklearn-color-fitted-level-0);\n",
       "}\n",
       "\n",
       "/* on hover */\n",
       "#sk-container-id-7 div.sk-estimator:hover {\n",
       "  /* unfitted */\n",
       "  background-color: var(--sklearn-color-unfitted-level-2);\n",
       "}\n",
       "\n",
       "#sk-container-id-7 div.sk-estimator.fitted:hover {\n",
       "  /* fitted */\n",
       "  background-color: var(--sklearn-color-fitted-level-2);\n",
       "}\n",
       "\n",
       "/* Specification for estimator info (e.g. \"i\" and \"?\") */\n",
       "\n",
       "/* Common style for \"i\" and \"?\" */\n",
       "\n",
       ".sk-estimator-doc-link,\n",
       "a:link.sk-estimator-doc-link,\n",
       "a:visited.sk-estimator-doc-link {\n",
       "  float: right;\n",
       "  font-size: smaller;\n",
       "  line-height: 1em;\n",
       "  font-family: monospace;\n",
       "  background-color: var(--sklearn-color-background);\n",
       "  border-radius: 1em;\n",
       "  height: 1em;\n",
       "  width: 1em;\n",
       "  text-decoration: none !important;\n",
       "  margin-left: 0.5em;\n",
       "  text-align: center;\n",
       "  /* unfitted */\n",
       "  border: var(--sklearn-color-unfitted-level-1) 1pt solid;\n",
       "  color: var(--sklearn-color-unfitted-level-1);\n",
       "}\n",
       "\n",
       ".sk-estimator-doc-link.fitted,\n",
       "a:link.sk-estimator-doc-link.fitted,\n",
       "a:visited.sk-estimator-doc-link.fitted {\n",
       "  /* fitted */\n",
       "  border: var(--sklearn-color-fitted-level-1) 1pt solid;\n",
       "  color: var(--sklearn-color-fitted-level-1);\n",
       "}\n",
       "\n",
       "/* On hover */\n",
       "div.sk-estimator:hover .sk-estimator-doc-link:hover,\n",
       ".sk-estimator-doc-link:hover,\n",
       "div.sk-label-container:hover .sk-estimator-doc-link:hover,\n",
       ".sk-estimator-doc-link:hover {\n",
       "  /* unfitted */\n",
       "  background-color: var(--sklearn-color-unfitted-level-3);\n",
       "  color: var(--sklearn-color-background);\n",
       "  text-decoration: none;\n",
       "}\n",
       "\n",
       "div.sk-estimator.fitted:hover .sk-estimator-doc-link.fitted:hover,\n",
       ".sk-estimator-doc-link.fitted:hover,\n",
       "div.sk-label-container:hover .sk-estimator-doc-link.fitted:hover,\n",
       ".sk-estimator-doc-link.fitted:hover {\n",
       "  /* fitted */\n",
       "  background-color: var(--sklearn-color-fitted-level-3);\n",
       "  color: var(--sklearn-color-background);\n",
       "  text-decoration: none;\n",
       "}\n",
       "\n",
       "/* Span, style for the box shown on hovering the info icon */\n",
       ".sk-estimator-doc-link span {\n",
       "  display: none;\n",
       "  z-index: 9999;\n",
       "  position: relative;\n",
       "  font-weight: normal;\n",
       "  right: .2ex;\n",
       "  padding: .5ex;\n",
       "  margin: .5ex;\n",
       "  width: min-content;\n",
       "  min-width: 20ex;\n",
       "  max-width: 50ex;\n",
       "  color: var(--sklearn-color-text);\n",
       "  box-shadow: 2pt 2pt 4pt #999;\n",
       "  /* unfitted */\n",
       "  background: var(--sklearn-color-unfitted-level-0);\n",
       "  border: .5pt solid var(--sklearn-color-unfitted-level-3);\n",
       "}\n",
       "\n",
       ".sk-estimator-doc-link.fitted span {\n",
       "  /* fitted */\n",
       "  background: var(--sklearn-color-fitted-level-0);\n",
       "  border: var(--sklearn-color-fitted-level-3);\n",
       "}\n",
       "\n",
       ".sk-estimator-doc-link:hover span {\n",
       "  display: block;\n",
       "}\n",
       "\n",
       "/* \"?\"-specific style due to the `<a>` HTML tag */\n",
       "\n",
       "#sk-container-id-7 a.estimator_doc_link {\n",
       "  float: right;\n",
       "  font-size: 1rem;\n",
       "  line-height: 1em;\n",
       "  font-family: monospace;\n",
       "  background-color: var(--sklearn-color-background);\n",
       "  border-radius: 1rem;\n",
       "  height: 1rem;\n",
       "  width: 1rem;\n",
       "  text-decoration: none;\n",
       "  /* unfitted */\n",
       "  color: var(--sklearn-color-unfitted-level-1);\n",
       "  border: var(--sklearn-color-unfitted-level-1) 1pt solid;\n",
       "}\n",
       "\n",
       "#sk-container-id-7 a.estimator_doc_link.fitted {\n",
       "  /* fitted */\n",
       "  border: var(--sklearn-color-fitted-level-1) 1pt solid;\n",
       "  color: var(--sklearn-color-fitted-level-1);\n",
       "}\n",
       "\n",
       "/* On hover */\n",
       "#sk-container-id-7 a.estimator_doc_link:hover {\n",
       "  /* unfitted */\n",
       "  background-color: var(--sklearn-color-unfitted-level-3);\n",
       "  color: var(--sklearn-color-background);\n",
       "  text-decoration: none;\n",
       "}\n",
       "\n",
       "#sk-container-id-7 a.estimator_doc_link.fitted:hover {\n",
       "  /* fitted */\n",
       "  background-color: var(--sklearn-color-fitted-level-3);\n",
       "}\n",
       "</style><div id=\"sk-container-id-7\" class=\"sk-top-container\"><div class=\"sk-text-repr-fallback\"><pre>LGBMClassifier()</pre><b>In a Jupyter environment, please rerun this cell to show the HTML representation or trust the notebook. <br />On GitHub, the HTML representation is unable to render, please try loading this page with nbviewer.org.</b></div><div class=\"sk-container\" hidden><div class=\"sk-item\"><div class=\"sk-estimator fitted sk-toggleable\"><input class=\"sk-toggleable__control sk-hidden--visually\" id=\"sk-estimator-id-7\" type=\"checkbox\" checked><label for=\"sk-estimator-id-7\" class=\"sk-toggleable__label fitted sk-toggleable__label-arrow\"><div><div>LGBMClassifier</div></div><div><span class=\"sk-estimator-doc-link fitted\">i<span>Fitted</span></span></div></label><div class=\"sk-toggleable__content fitted\"><pre>LGBMClassifier()</pre></div> </div></div></div></div>"
      ],
      "text/plain": [
       "LGBMClassifier()"
      ]
     },
     "execution_count": 69,
     "metadata": {},
     "output_type": "execute_result"
    }
   ],
   "source": [
    "model"
   ]
  },
  {
   "cell_type": "code",
   "execution_count": 104,
   "id": "c48785e2-628b-4e37-a86b-9d92263465e7",
   "metadata": {},
   "outputs": [],
   "source": [
    "from catboost import CatBoostClassifier"
   ]
  },
  {
   "cell_type": "code",
   "execution_count": 106,
   "id": "d4db1d58-b060-4177-9b06-c7b342c51ea3",
   "metadata": {},
   "outputs": [],
   "source": [
    "# CatBoostClassifier??"
   ]
  },
  {
   "cell_type": "code",
   "execution_count": 108,
   "id": "aa47841b-0bf3-467a-ab48-6b57fe054a1e",
   "metadata": {},
   "outputs": [],
   "source": [
    "# tlearner??"
   ]
  },
  {
   "cell_type": "code",
   "execution_count": 91,
   "id": "87bbaeb7-cebc-4aef-9f04-26a246f6426d",
   "metadata": {},
   "outputs": [],
   "source": [
    "from catboost import CatBoostClassifier\n",
    "\n",
    "tmodel = tlearner.BaseTClassifier(\n",
    "    learner=CatBoostClassifier(iterations=100, depth=6, learning_rate=0.1, verbose=0),\n",
    "    control_learner=CatBoostClassifier(iterations=100, depth=6, learning_rate=0.1, verbose=0),\n",
    "    treatment_learner=CatBoostClassifier(iterations=100, depth=6, learning_rate=0.1, verbose=0),\n",
    "    control_name=0\n",
    ")\n",
    "tmodel = train_model_causal(tmodel, train)"
   ]
  },
  {
   "cell_type": "code",
   "execution_count": 92,
   "id": "58129ae9-01f8-4905-b4f1-796c4bb2bc5e",
   "metadata": {},
   "outputs": [
    {
     "data": {
      "text/plain": [
       "score     0.669389\n",
       "Random    0.495192\n",
       "dtype: float64"
      ]
     },
     "execution_count": 92,
     "metadata": {},
     "output_type": "execute_result"
    }
   ],
   "source": [
    "pred_tmodel = apply(tmodel, test.data, cols_features, col_treatment, col_target)\n",
    "cmetrics.auuc_score(\n",
    "    pred_tmodel, \n",
    "    outcome_col=col_target, \n",
    "    treatment_col=col_treatment, \n",
    ")"
   ]
  },
  {
   "cell_type": "code",
   "execution_count": 93,
   "id": "8be0014d-d09b-4b76-89f3-5b53088ab5aa",
   "metadata": {},
   "outputs": [
    {
     "data": {
      "image/png": "[encoded data removed]",
      "text/plain": [
       "<Figure size 800x800 with 1 Axes>"
      ]
     },
     "metadata": {},
     "output_type": "display_data"
    }
   ],
   "source": [
    "cmetrics.plot_gain(\n",
    "    pred_tmodel,\n",
    "    treatment_col=col_treatment,\n",
    "    outcome_col=col_target,\n",
    ")"
   ]
  },
  {
   "cell_type": "code",
   "execution_count": 96,
   "id": "d1c7910b-0c34-4c13-bdea-6919d3829848",
   "metadata": {},
   "outputs": [
    {
     "data": {
      "text/plain": [
       "array([1.17960188e+00, 8.28112502e+00, 1.27217180e+00, 4.94943431e-01,\n",
       "       1.96921149e-01, 2.85280256e+00, 2.76681043e-01, 2.74618496e-01,\n",
       "       1.13951945e+00, 1.03147974e+00, 1.10029236e+00, 6.42778632e-01,\n",
       "       4.94504555e+00, 1.47102152e+00, 6.57318346e-01, 1.05748954e+00,\n",
       "       7.30978695e-02, 8.19514826e-01, 6.48646811e-02, 3.43119597e+00,\n",
       "       1.03096527e+01, 2.53636053e+00, 2.80650193e+00, 1.69861495e+00,\n",
       "       2.18138354e+01, 7.16230347e-01, 8.12945033e-01, 1.91821069e+00,\n",
       "       7.60879106e-01, 2.47875895e+00, 1.02251616e+00, 9.37714902e-01,\n",
       "       1.87458132e+00, 1.78371254e-01, 8.17827157e-01, 3.25145775e-01,\n",
       "       6.47232478e-02, 5.18220536e-01, 2.15320477e-01, 1.46860557e-01,\n",
       "       0.00000000e+00, 6.09772870e-02, 1.01898167e-01, 1.17058379e-02,\n",
       "       4.76263777e-02, 3.78841227e+00, 0.00000000e+00, 0.00000000e+00,\n",
       "       2.40465943e-01, 2.61770888e+00, 1.07808469e-03, 0.00000000e+00,\n",
       "       9.33022404e-02, 2.38197477e-02, 0.00000000e+00, 5.77763804e-02,\n",
       "       1.09370412e-01, 0.00000000e+00, 0.00000000e+00, 0.00000000e+00,\n",
       "       2.06145758e-02, 1.50646627e-01, 6.41525804e-02, 3.64837132e-01,\n",
       "       4.96815555e-01, 0.00000000e+00, 0.00000000e+00, 4.90576943e-01,\n",
       "       0.00000000e+00, 6.77261110e-03, 1.04122888e-02, 3.73869832e-03,\n",
       "       0.00000000e+00, 0.00000000e+00, 0.00000000e+00, 1.08536890e-02,\n",
       "       1.20492278e-01, 2.84362844e+00, 1.17028904e+00, 1.33132617e+00,\n",
       "       3.06797575e-01, 1.99455461e+00, 2.43594711e-01])"
      ]
     },
     "execution_count": 96,
     "metadata": {},
     "output_type": "execute_result"
    }
   ],
   "source": [
    "tmodel.models_c[1].feature_importances_"
   ]
  },
  {
   "cell_type": "code",
   "execution_count": 97,
   "id": "a27c4e17-0edd-44d7-b142-3d9d4109ceb7",
   "metadata": {},
   "outputs": [
    {
     "ename": "AttributeError",
     "evalue": "'CatBoostClassifier' object has no attribute 'feature_name_'",
     "output_type": "error",
     "traceback": [
      "\u001b[0;31m---------------------------------------------------------------------------\u001b[0m",
      "\u001b[0;31mAttributeError\u001b[0m                            Traceback (most recent call last)",
      "Cell \u001b[0;32mIn[97], line 3\u001b[0m\n\u001b[1;32m      1\u001b[0m model \u001b[38;5;241m=\u001b[39m tmodel\u001b[38;5;241m.\u001b[39mmodels_c[\u001b[38;5;241m1\u001b[39m]\n\u001b[1;32m      2\u001b[0m importance_df \u001b[38;5;241m=\u001b[39m pd\u001b[38;5;241m.\u001b[39mDataFrame({\n\u001b[0;32m----> 3\u001b[0m     \u001b[38;5;124m'\u001b[39m\u001b[38;5;124mfeature\u001b[39m\u001b[38;5;124m'\u001b[39m: \u001b[43mmodel\u001b[49m\u001b[38;5;241;43m.\u001b[39;49m\u001b[43mfeature_name_\u001b[49m,\n\u001b[1;32m      4\u001b[0m     \u001b[38;5;124m'\u001b[39m\u001b[38;5;124mimportance\u001b[39m\u001b[38;5;124m'\u001b[39m: model\u001b[38;5;241m.\u001b[39mfeature_importances_\n\u001b[1;32m      5\u001b[0m })\n\u001b[1;32m      7\u001b[0m \u001b[38;5;66;03m# Оставить только важные признаки\u001b[39;00m\n\u001b[1;32m      8\u001b[0m important_features \u001b[38;5;241m=\u001b[39m importance_df[importance_df[\u001b[38;5;124m'\u001b[39m\u001b[38;5;124mimportance\u001b[39m\u001b[38;5;124m'\u001b[39m] \u001b[38;5;241m>\u001b[39m \u001b[38;5;241m10\u001b[39m][\u001b[38;5;124m'\u001b[39m\u001b[38;5;124mfeature\u001b[39m\u001b[38;5;124m'\u001b[39m]\u001b[38;5;241m.\u001b[39mtolist()\n",
      "\u001b[0;31mAttributeError\u001b[0m: 'CatBoostClassifier' object has no attribute 'feature_name_'"
     ]
    }
   ],
   "source": [
    "model = tmodel.models_c[1]\n",
    "importance_df = pd.DataFrame({\n",
    "    'feature': model.feature_name_,\n",
    "    'importance': model.feature_importances_\n",
    "})\n",
    "\n",
    "# Оставить только важные признаки\n",
    "important_features = importance_df[importance_df['importance'] > 10]['feature'].tolist()"
   ]
  },
  {
   "cell_type": "code",
   "execution_count": null,
   "id": "3dfda900-2ec5-4ce1-8f9a-36c1b5b0d2b8",
   "metadata": {},
   "outputs": [],
   "source": [
    "model = tmodel.models_c[1]\n",
    "importance_df = pd.DataFrame({\n",
    "    'feature': model.feature_name_,\n",
    "    'importance': model.feature_importances_\n",
    "})\n",
    "\n",
    "# Оставить только важные признаки\n",
    "important_features = importance_df[importance_df['importance'] > 10]['feature'].tolist()\n",
    "\n",
    "# Переобучить модель на этих признаках\n",
    "X_train_reduced = X_train[important_features]\n",
    "X_test_reduced = X_test[important_features]\n",
    "\n",
    "# Обучить новую модель\n",
    "model_reduced = lgb.LGBMClassifier(**params)\n",
    "model_reduced.fit(X_train_reduced, y_train, eval_set=[(X_test_reduced, y_test)])"
   ]
  },
  {
   "cell_type": "markdown",
   "id": "55d51234-02dc-4389-9817-aaac7b2e0031",
   "metadata": {},
   "source": [
    "Прунинг моделей:\n",
    "1. CCP у склерновского бустинга\n",
    "2. https://inria.github.io/scikit-learn-mooc/python_scripts/ensemble_hist_gradient_boosting.html\n",
    "3. у катбуста CatBoostPruningCallback"
   ]
  },
  {
   "cell_type": "code",
   "execution_count": 70,
   "id": "674fa0c5-fa5d-423d-b7ee-7bf8b8b774e2",
   "metadata": {},
   "outputs": [
    {
     "ename": "NameError",
     "evalue": "name 'X_train' is not defined",
     "output_type": "error",
     "traceback": [
      "\u001b[0;31m---------------------------------------------------------------------------\u001b[0m",
      "\u001b[0;31mNameError\u001b[0m                                 Traceback (most recent call last)",
      "Cell \u001b[0;32mIn[70], line 11\u001b[0m\n\u001b[1;32m      8\u001b[0m important_features \u001b[38;5;241m=\u001b[39m importance_df[importance_df[\u001b[38;5;124m'\u001b[39m\u001b[38;5;124mimportance\u001b[39m\u001b[38;5;124m'\u001b[39m] \u001b[38;5;241m>\u001b[39m \u001b[38;5;241m10\u001b[39m][\u001b[38;5;124m'\u001b[39m\u001b[38;5;124mfeature\u001b[39m\u001b[38;5;124m'\u001b[39m]\u001b[38;5;241m.\u001b[39mtolist()\n\u001b[1;32m     10\u001b[0m \u001b[38;5;66;03m# Переобучить модель на этих признаках\u001b[39;00m\n\u001b[0;32m---> 11\u001b[0m X_train_reduced \u001b[38;5;241m=\u001b[39m \u001b[43mX_train\u001b[49m[important_features]\n\u001b[1;32m     12\u001b[0m X_test_reduced \u001b[38;5;241m=\u001b[39m X_test[important_features]\n\u001b[1;32m     14\u001b[0m \u001b[38;5;66;03m# Обучить новую модель\u001b[39;00m\n",
      "\u001b[0;31mNameError\u001b[0m: name 'X_train' is not defined"
     ]
    }
   ],
   "source": [
    "model = tmodel.models_c[1]\n",
    "importance_df = pd.DataFrame({\n",
    "    'feature': model.feature_name_,\n",
    "    'importance': model.feature_importances_\n",
    "})\n",
    "\n",
    "# Оставить только важные признаки\n",
    "important_features = importance_df[importance_df['importance'] > 10]['feature'].tolist()\n",
    "\n",
    "# Переобучить модель на этих признаках\n",
    "X_train_reduced = X_train[important_features]\n",
    "X_test_reduced = X_test[important_features]\n",
    "\n",
    "# Обучить новую модель\n",
    "model_reduced = lgb.LGBMClassifier(**params)\n",
    "model_reduced.fit(X_train_reduced, y_train, eval_set=[(X_test_reduced, y_test)])"
   ]
  },
  {
   "cell_type": "code",
   "execution_count": 89,
   "id": "88148577-76d2-4297-8ad3-8c2ce840d9ba",
   "metadata": {},
   "outputs": [
    {
     "name": "stdout",
     "output_type": "stream",
     "text": [
      "Estimated Treatment Effects (Mean): 0.027602170714763855\n",
      "RMSE of predicted outcomes: 0.6816949649369555\n"
     ]
    }
   ],
   "source": [
    "import numpy as np\n",
    "import pandas as pd\n",
    "from catboost import CatBoostClassifier\n",
    "from causalml.inference.meta import BaseDRLearner\n",
    "from sklearn.model_selection import train_test_split\n",
    "from sklearn.metrics import mean_squared_error\n",
    "\n",
    "# (1) Generate a Synthetic Dataset\n",
    "# Here we simulate some data for the purposes of causal inference\n",
    "np.random.seed(42)\n",
    "n_samples = 5000\n",
    "\n",
    "# Simulate features\n",
    "X = pd.DataFrame({\n",
    "    'feature_1': np.random.normal(0, 1, n_samples),\n",
    "    'feature_2': np.random.normal(0, 1, n_samples),\n",
    "    # 'categorical_feature': np.random.choice(['A', 'B', 'C'], size=n_samples),\n",
    "})\n",
    "\n",
    "# X['categorical_feature'] = X['categorical_feature'].astype('category')\n",
    "\n",
    "# Simulate treatment assignment (binary treatment: 0 or 1)\n",
    "propensity = 1 / (1 + np.exp(-(-0.1 * X['feature_1'] + 0.2 * X['feature_2'])))\n",
    "treatment = np.random.binomial(1, propensity)\n",
    "\n",
    "# Simulate potential outcomes\n",
    "base_effect = 0.5 * X['feature_1'] - 0.3 * X['feature_2']\n",
    "treatment_effect = 0.7  # Constant treatment effect\n",
    "noise = np.random.normal(0, 1, n_samples)\n",
    "\n",
    "y =np.random.choice([0,1], size=n_samples)\n",
    "\n",
    "# Split the data into train and test splits\n",
    "X_train, X_test, treatment_train, treatment_test, y_train, y_test = train_test_split(\n",
    "    X, treatment, y, test_size=0.3, random_state=42\n",
    ")\n",
    "\n",
    "# (2) Fit the Two-Model Approach with CatBoost\n",
    "# Train one model for Control group (treatment == 0) and another for Treatment group (treatment == 1)\n",
    "\n",
    "# Define a wrapper for CatBoost\n",
    "def create_catboost_classifier():\n",
    "    return CatBoostClassifier(iterations=100, depth=6, learning_rate=0.1, verbose=0)\n",
    "\n",
    "# Use CausalML's BaseDRLearner, which works with treatment and control models\n",
    "dr_learner = tlearner.BaseTClassifier(\n",
    "    # learner=create_catboost_classifier(),\n",
    "    # control_learner=lgb.LGBMClassifier(),\n",
    "    control_learner=create_catboost_classifier(),\n",
    "    treatment_learner=create_catboost_classifier(),\n",
    ")\n",
    "\n",
    "# Fit the DR Learner model\n",
    "dr_learner.fit(\n",
    "    X=X_train,\n",
    "    treatment=treatment_train,\n",
    "    y=y_train\n",
    ")\n",
    "\n",
    "# Estimate treatment effects\n",
    "treatment_effects = dr_learner.predict(X_test)\n",
    "\n",
    "# (3) Evaluate Results\n",
    "print(\"Estimated Treatment Effects (Mean):\", np.mean(treatment_effects))\n",
    "\n",
    "# You can also calculate the RMSE for the outcomes\n",
    "predicted_outcomes = dr_learner.predict(X_test)\n",
    "rmse = np.sqrt(mean_squared_error(y_test, predicted_outcomes))\n",
    "print(f\"RMSE of predicted outcomes: {rmse}\")\n",
    "\n",
    "# The final treatment effects can now be analyzed further."
   ]
  },
  {
   "cell_type": "code",
   "execution_count": 90,
   "id": "c9575a7c-1b7d-43ce-ae7a-1befe980f752",
   "metadata": {},
   "outputs": [
    {
     "data": {
      "text/plain": [
       "array([53.27192231, 46.72807769])"
      ]
     },
     "execution_count": 90,
     "metadata": {},
     "output_type": "execute_result"
    }
   ],
   "source": [
    "dr_learner.models_c[1].feature_importances_"
   ]
  },
  {
   "cell_type": "code",
   "execution_count": null,
   "id": "a4d585f5-b9fe-4962-b9b4-411888c70806",
   "metadata": {},
   "outputs": [],
   "source": [
    "model = tmodel.models_c[1]\n",
    "importance_df = pd.DataFrame({\n",
    "    'feature': model.feature_name_,\n",
    "    'importance': model.feature_importances_\n",
    "})\n",
    "\n",
    "# Оставить только важные признаки\n",
    "important_features = importance_df[importance_df['importance'] > 10]['feature'].tolist()\n",
    "\n",
    "# Переобучить модель на этих признаках\n",
    "X_train_reduced = X_train[important_features]\n",
    "X_test_reduced = X_test[important_features]\n",
    "\n",
    "# Обучить новую модель\n",
    "model_reduced = lgb.LGBMClassifier(**params)\n",
    "model_reduced.fit(X_train_reduced, y_train, eval_set=[(X_test_reduced, y_test)])"
   ]
  },
  {
   "cell_type": "code",
   "execution_count": 73,
   "id": "ff18ab2e-0f0e-48ed-82da-22b15891018b",
   "metadata": {},
   "outputs": [
    {
     "data": {
      "text/plain": [
       "(      feature_1  feature_2 categorical_feature\n",
       " 1840  -0.128538  -0.636224                   A\n",
       " 2115  -0.513214  -0.433390                   C\n",
       " 4437  -0.272545  -0.108528                   B\n",
       " 1146  -1.096275   0.063649                   A\n",
       " 2486  -0.387131   1.228857                   A\n",
       " ...         ...        ...                 ...\n",
       " 4426   0.350370  -0.977939                   A\n",
       " 466    0.614167   0.293538                   A\n",
       " 3092  -0.094459  -0.103463                   A\n",
       " 3772  -0.782003  -0.788048                   C\n",
       " 860    0.202923   1.243406                   B\n",
       " \n",
       " [3500 rows x 3 columns],)"
      ]
     },
     "execution_count": 73,
     "metadata": {},
     "output_type": "execute_result"
    }
   ],
   "source": [
    "X_train,\n",
    "    # treatment=treatment_train,\n",
    "    # y=y_train"
   ]
  }
 ],
 "metadata": {
  "kernelspec": {
   "display_name": "Python 3 (ipykernel)",
   "language": "python",
   "name": "python3"
  },
  "language_info": {
   "codemirror_mode": {
    "name": "ipython",
    "version": 3
   },
   "file_extension": ".py",
   "mimetype": "text/x-python",
   "name": "python",
   "nbconvert_exporter": "python",
   "pygments_lexer": "ipython3",
   "version": "3.11.7"
  }
 },
 "nbformat": 4,
 "nbformat_minor": 5
}
