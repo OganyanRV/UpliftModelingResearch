{
 "cells": [
  {
   "cell_type": "code",
   "execution_count": 1,
   "id": "8c016095-9c90-477f-8394-503f07e69066",
   "metadata": {},
   "outputs": [],
   "source": [
    "from pathlib import Path\n",
    "import sys\n",
    " \n",
    "if sys.argv:\n",
    "    sys.path.insert(0, str(Path('/Users/ogrobertino/UpliftModelingResearch/').resolve()))\n",
    "%load_ext autoreload\n",
    "%autoreload 2"
   ]
  },
  {
   "cell_type": "code",
   "execution_count": 2,
   "id": "a6238f3a-27e3-4db1-932c-b1aae0abb0d6",
   "metadata": {},
   "outputs": [
    {
     "name": "stderr",
     "output_type": "stream",
     "text": [
      "Failed to import duecredit due to No module named 'duecredit'\n"
     ]
    },
    {
     "name": "stdout",
     "output_type": "stream",
     "text": [
      "Model loaded from /Users/ogrobertino/UpliftModelingResearch/exps/lazada/100/21/model.pkl.\n",
      "Config loaded from /Users/ogrobertino/UpliftModelingResearch/exps/lazada/100/21/config.json.\n"
     ]
    }
   ],
   "source": [
    "from src.global_params import *\n",
    "from src.models.CausalML.Models import TModel\n",
    "import pandas as pd\n",
    "table = pd.read_csv(BASE_PATH + \"/exps/stats.tsv\", sep='\\t')\n",
    "\n",
    "path = table[table.Model == \"TModel\"].sort_values(by=[\"AUUC (test)\"], ascending=False).Path.iloc[0]\n",
    "model = TModel(from_load=True, path = str(BASE_PATH) + \"/\" + path)\n",
    "y = pd.read_csv(str(BASE_PATH) + '/' + path +'/predictions.tsv', sep='\\t')"
   ]
  },
  {
   "cell_type": "code",
   "execution_count": 3,
   "id": "b1937317-c5dc-4dfc-9129-bc9f83702545",
   "metadata": {},
   "outputs": [],
   "source": [
    "from src.utils import get_auuc\n",
    "from causalml.metrics import auuc_score, plot_gain\n",
    "from sklift.metrics import (\n",
    "    uplift_at_k, uplift_auc_score, qini_auc_score, weighted_average_uplift\n",
    ")"
   ]
  },
  {
   "cell_type": "code",
   "execution_count": 4,
   "id": "3fc0072f-6fc1-4bf0-971b-b68b59a1f9a1",
   "metadata": {},
   "outputs": [
    {
     "data": {
      "text/plain": [
       "0.0035236955482630897"
      ]
     },
     "execution_count": 4,
     "metadata": {},
     "output_type": "execute_result"
    }
   ],
   "source": [
    "uplift_auc_score(y.target, y.score, y.treatment)"
   ]
  },
  {
   "cell_type": "code",
   "execution_count": 5,
   "id": "0b626b18-2ec4-4eea-a1ed-f2a23f6a2cbe",
   "metadata": {},
   "outputs": [],
   "source": [
    "# from sklift.viz import plot_uplift_curve\n",
    "\n",
    "from sklift.metrics import (\n",
    "    uplift_curve, perfect_uplift_curve, uplift_auc_score,\n",
    "    qini_curve, perfect_qini_curve, qini_auc_score,\n",
    "    treatment_balance_curve, uplift_by_percentile\n",
    ")"
   ]
  },
  {
   "cell_type": "code",
   "execution_count": 15,
   "id": "4900ec61-ae66-4d0c-b56e-fbf32914427b",
   "metadata": {},
   "outputs": [],
   "source": [
    "import matplotlib.pyplot as plt\n",
    "import numpy as np\n",
    "def plot_uplift_curve(y_true, uplift, treatment,\n",
    "                      random=True, perfect=True, ax=None, name=None, **kwargs):\n",
    "    \"\"\"Plot Uplift curves from predictions.\n",
    "\n",
    "    Args:\n",
    "        y_true (1d array-like): Ground truth (correct) binary labels.\n",
    "        uplift (1d array-like): Predicted uplift, as returned by a model.\n",
    "        treatment (1d array-like): Treatment labels.\n",
    "        random (bool): Draw a random curve. Default is True.\n",
    "        perfect (bool): Draw a perfect curve. Default is True.\n",
    "        ax (object): The graph on which the function will be built. Default is None.\n",
    "        name (string): The name of the function. Default is None.\n",
    "\n",
    "    Returns:\n",
    "        Object that stores computed values.\n",
    "\n",
    "    Example::\n",
    "\n",
    "        from sklift.viz import plot_uplift_curve\n",
    "\n",
    "\n",
    "        uplift_disp = plot_uplift_curve(\n",
    "            y_test, uplift_predicted, trmnt_test,\n",
    "            perfect=True, name='Model name'\n",
    "        );\n",
    "\n",
    "        uplift_disp.figure_.suptitle(\"Uplift curve\");\n",
    "    \"\"\"\n",
    "    # check_matplotlib_support('plot_uplift_curve')\n",
    "    # check_consistent_length(y_true, uplift, treatment)\n",
    "    # check_is_binary(treatment)\n",
    "    # check_is_binary(y_true)\n",
    "\n",
    "    y_true, uplift, treatment = np.array(y_true), np.array(uplift), np.array(treatment)\n",
    "    x_actual, y_actual = uplift_curve(y_true, uplift, treatment)\n",
    "\n",
    "    if random:\n",
    "        x_baseline, y_baseline = x_actual, x_actual * y_actual[-1] / len(y_true)\n",
    "    else:\n",
    "        x_baseline, y_baseline = None, None\n",
    "\n",
    "    if perfect:\n",
    "        x_perfect, y_perfect = perfect_uplift_curve(y_true, treatment)\n",
    "    else:\n",
    "        x_perfect, y_perfect = None, None\n",
    "\n",
    "    viz = UpliftCurveDisplay(\n",
    "        x_actual=x_actual,\n",
    "        y_actual=y_actual,\n",
    "        x_baseline=x_baseline,\n",
    "        y_baseline=y_baseline,\n",
    "        x_perfect=x_perfect,\n",
    "        y_perfect=y_perfect,\n",
    "        random=random,\n",
    "        perfect=perfect,\n",
    "        estimator_name=name,\n",
    "    )\n",
    "\n",
    "    auc = uplift_auc_score(y_true, uplift, treatment)\n",
    "\n",
    "    return viz.plot(auc, ax=ax, title=\"AUC\", **kwargs)\n",
    "\n",
    "class UpliftCurveDisplay:\n",
    "    \"\"\"Qini and Uplift curve visualization.\n",
    "\n",
    "    Args:\n",
    "        x_actual, y_actual (array (shape = [>2]), array (shape = [>2])): Points on a curve\n",
    "        x_baseline, y_baseline (array (shape = [>2]), array (shape = [>2])): Points on a random curve\n",
    "        x_perfect, y_perfect (array (shape = [>2]), array (shape = [>2])): Points on a perfect curve\n",
    "        random (bool): Plotting a random curve\n",
    "        perfect (bool): Plotting a perfect curve\n",
    "        estimator_name (str): Name of estimator. If None, the estimator name is not shown.\n",
    "    \"\"\"\n",
    "\n",
    "    def __init__(self, x_actual, y_actual, x_baseline=None,\n",
    "                 y_baseline=None, x_perfect=None, y_perfect=None,\n",
    "                 random=None, perfect=None, estimator_name=None):\n",
    "        self.x_actual = x_actual\n",
    "        self.y_actual = y_actual\n",
    "        self.x_baseline = x_baseline\n",
    "        self.y_baseline = y_baseline\n",
    "        self.x_perfect = x_perfect\n",
    "        self.y_perfect = y_perfect\n",
    "        self.random = random\n",
    "        self.perfect = perfect\n",
    "        self.estimator_name = estimator_name\n",
    "\n",
    "    def plot(self, auc_score, ax=None, name=None, title=None, **kwargs):\n",
    "        \"\"\"Plot visualization\n",
    "\n",
    "        Args:\n",
    "            auc_score (float): Area under curve.§\n",
    "            ax (matplotlib axes): Axes object to plot on. If `None`, a new figure and axes is created. Default is None.\n",
    "            name (str): Name of ROC Curve for labeling. If `None`, use the name of the estimator. Default is None.\n",
    "            title (str): Title plot. Default is None.\n",
    "\n",
    "        Returns:\n",
    "            Object that stores computed values\n",
    "        \"\"\"\n",
    "        # check_matplotlib_support('UpliftCurveDisplay.plot')\n",
    "\n",
    "        name = self.estimator_name if name is None else name\n",
    "\n",
    "        line_kwargs = {}\n",
    "        if auc_score is not None and name is not None:\n",
    "            line_kwargs[\"label\"] = f\"{name} ({title} = {auc_score:0.2f})\"\n",
    "        elif auc_score is not None:\n",
    "            line_kwargs[\"label\"] = f\"{title} = {auc_score:0.2f}\"\n",
    "        elif name is not None:\n",
    "            line_kwargs[\"label\"] = name\n",
    "\n",
    "        line_kwargs.update(**kwargs)\n",
    "\n",
    "        if ax is None:\n",
    "            fig, ax = plt.subplots()\n",
    "\n",
    "        self.line_, = ax.plot(self.x_actual, self.y_actual, **line_kwargs)\n",
    "\n",
    "        if self.random:\n",
    "            ax.plot(self.x_baseline, self.y_baseline, label=\"Random\")\n",
    "            ax.fill_between(self.x_actual, self.y_actual, self.y_baseline, alpha=0.2)\n",
    "\n",
    "        if self.perfect:\n",
    "            ax.plot(self.x_perfect, self.y_perfect, label=\"Perfect\")\n",
    "\n",
    "        ax.set_xlabel('Number targeted')\n",
    "        ax.set_ylabel('Number of incremental outcome')\n",
    "\n",
    "        if self.random == self.perfect:\n",
    "            variance = False\n",
    "        else:\n",
    "            variance = True\n",
    "\n",
    "        if len(ax.lines) > 4:\n",
    "            ax.lines.pop(len(ax.lines) - 1)\n",
    "            if variance == False:\n",
    "                ax.lines.pop(len(ax.lines) - 1)\n",
    "\n",
    "        if \"label\" in line_kwargs:\n",
    "            ax.legend(loc=u'upper left', bbox_to_anchor=(1, 1))\n",
    "\n",
    "        self.ax_ = ax\n",
    "        self.figure_ = ax.figure\n",
    "\n",
    "        return self"
   ]
  },
  {
   "cell_type": "code",
   "execution_count": 19,
   "id": "019fe219-0bec-4999-9a1f-2cebbfb942ce",
   "metadata": {},
   "outputs": [
    {
     "data": {
      "text/plain": [
       "<__main__.UpliftCurveDisplay at 0x32045ee90>"
      ]
     },
     "execution_count": 19,
     "metadata": {},
     "output_type": "execute_result"
    },
    {
     "data": {
      "image/png": "[encoded data removed]",
      "text/plain": [
       "<Figure size 640x480 with 1 Axes>"
      ]
     },
     "metadata": {},
     "output_type": "display_data"
    }
   ],
   "source": [
    "plot_uplift_curve(\n",
    "    y.target, y.score, y.treatment,\n",
    "    perfect=True\n",
    ")"
   ]
  },
  {
   "cell_type": "markdown",
   "id": "28f6aba5-487f-4311-9e48-5118af1d884b",
   "metadata": {},
   "source": [
    "почему так - https://github.com/maks-sh/scikit-uplift/issues/93#issuecomment-1209798947"
   ]
  },
  {
   "cell_type": "code",
   "execution_count": null,
   "id": "7bd49c8b-4469-4d76-91c9-aee7697cc782",
   "metadata": {},
   "outputs": [],
   "source": [
    "auuc_score("
   ]
  },
  {
   "cell_type": "code",
   "execution_count": 21,
   "id": "2a78ac1c-80f0-4f5c-8873-916f4b2b2123",
   "metadata": {},
   "outputs": [
    {
     "data": {
      "image/png": "[encoded data removed]",
      "text/plain": [
       "<Figure size 800x800 with 1 Axes>"
      ]
     },
     "metadata": {},
     "output_type": "display_data"
    }
   ],
   "source": [
    "plot_gain(y, outcome_col=COL_TARGET, treatment_col=COL_TREATMENT)"
   ]
  },
  {
   "cell_type": "code",
   "execution_count": 28,
   "id": "92820c28-8a4a-4f81-ae20-25bb3b3f2122",
   "metadata": {},
   "outputs": [
    {
     "data": {
      "text/plain": [
       "0.024982500147084995"
      ]
     },
     "execution_count": 28,
     "metadata": {},
     "output_type": "execute_result"
    }
   ],
   "source": [
    "qini_auc_score(y.target, y.score, y.treatment)"
   ]
  },
  {
   "cell_type": "code",
   "execution_count": 4,
   "id": "79250f29-358f-4c0b-a43b-183b1575d029",
   "metadata": {},
   "outputs": [
    {
     "data": {
      "text/plain": [
       "0.0035236955482630897"
      ]
     },
     "execution_count": 4,
     "metadata": {},
     "output_type": "execute_result"
    }
   ],
   "source": [
    "uplift_auc_score(y.target, y.score, y.treatment)"
   ]
  },
  {
   "cell_type": "code",
   "execution_count": 5,
   "id": "efa25ca9-955b-4d16-8ff9-22f197059a38",
   "metadata": {},
   "outputs": [
    {
     "data": {
      "text/plain": [
       "score     0.730708\n",
       "Random    0.495192\n",
       "dtype: float64"
      ]
     },
     "execution_count": 5,
     "metadata": {},
     "output_type": "execute_result"
    }
   ],
   "source": [
    "auuc_score(y, outcome_col=COL_TARGET, treatment_col=COL_TREATMENT)"
   ]
  },
  {
   "cell_type": "code",
   "execution_count": 6,
   "id": "a158ff52-01a0-4812-afcf-f6c484d0a80c",
   "metadata": {},
   "outputs": [
    {
     "data": {
      "text/plain": [
       "score     496.431994\n",
       "Random    336.425698\n",
       "dtype: float64"
      ]
     },
     "execution_count": 6,
     "metadata": {},
     "output_type": "execute_result"
    }
   ],
   "source": [
    "auuc_score(y, outcome_col=COL_TARGET, treatment_col=COL_TREATMENT, normalize=False)"
   ]
  },
  {
   "cell_type": "code",
   "execution_count": 7,
   "id": "e2eb67bc-6543-49be-91ed-1024520e1c55",
   "metadata": {},
   "outputs": [],
   "source": [
    "y_true = y.target\n",
    "treatment = y.treatment"
   ]
  },
  {
   "cell_type": "code",
   "execution_count": 9,
   "id": "fd2a86b6-c9ca-483a-bda8-85435e8bca7b",
   "metadata": {},
   "outputs": [],
   "source": [
    "import numpy as np\n",
    "cr_num = np.sum((y_true == 1) & (treatment == 0)) # Control   Responders\n",
    "tn_num = np.sum((y_true == 0) & (treatment == 1))  # Treated Non-Responders\n",
    "summand = y_true if cr_num > tn_num else treatment\n",
    "perfect_uplift = 2 * (y_true == treatment) + summand"
   ]
  },
  {
   "cell_type": "code",
   "execution_count": 20,
   "id": "9b6cdbc0-6454-4d6e-b589-d61f488194ef",
   "metadata": {},
   "outputs": [
    {
     "data": {
      "text/plain": [
       "3"
      ]
     },
     "execution_count": 20,
     "metadata": {},
     "output_type": "execute_result"
    }
   ],
   "source": [
    "perfect_uplift.max()"
   ]
  },
  {
   "cell_type": "code",
   "execution_count": 25,
   "id": "1739147d-ed2d-464b-8038-3f38ca1d4c5e",
   "metadata": {},
   "outputs": [
    {
     "data": {
      "text/plain": [
       "0         1\n",
       "1         0\n",
       "2         0\n",
       "3         1\n",
       "4         0\n",
       "         ..\n",
       "181664    1\n",
       "181665    1\n",
       "181666    1\n",
       "181667    1\n",
       "181668    0\n",
       "Name: treatment, Length: 181669, dtype: int64"
      ]
     },
     "execution_count": 25,
     "metadata": {},
     "output_type": "execute_result"
    }
   ],
   "source": [
    "summand"
   ]
  },
  {
   "cell_type": "code",
   "execution_count": 24,
   "id": "408f569d-fb01-4b13-86d5-c85aa7a16598",
   "metadata": {},
   "outputs": [
    {
     "data": {
      "text/html": [
       "<div>\n",
       "<style scoped>\n",
       "    .dataframe tbody tr th:only-of-type {\n",
       "        vertical-align: middle;\n",
       "    }\n",
       "\n",
       "    .dataframe tbody tr th {\n",
       "        vertical-align: top;\n",
       "    }\n",
       "\n",
       "    .dataframe thead th {\n",
       "        text-align: right;\n",
       "    }\n",
       "</style>\n",
       "<table border=\"1\" class=\"dataframe\">\n",
       "  <thead>\n",
       "    <tr style=\"text-align: right;\">\n",
       "      <th></th>\n",
       "      <th>score</th>\n",
       "      <th>treatment</th>\n",
       "      <th>target</th>\n",
       "    </tr>\n",
       "  </thead>\n",
       "  <tbody>\n",
       "    <tr>\n",
       "      <th>0</th>\n",
       "      <td>1</td>\n",
       "      <td>1</td>\n",
       "      <td>0</td>\n",
       "    </tr>\n",
       "    <tr>\n",
       "      <th>1</th>\n",
       "      <td>2</td>\n",
       "      <td>0</td>\n",
       "      <td>0</td>\n",
       "    </tr>\n",
       "    <tr>\n",
       "      <th>2</th>\n",
       "      <td>2</td>\n",
       "      <td>0</td>\n",
       "      <td>0</td>\n",
       "    </tr>\n",
       "    <tr>\n",
       "      <th>3</th>\n",
       "      <td>1</td>\n",
       "      <td>1</td>\n",
       "      <td>0</td>\n",
       "    </tr>\n",
       "    <tr>\n",
       "      <th>4</th>\n",
       "      <td>2</td>\n",
       "      <td>0</td>\n",
       "      <td>0</td>\n",
       "    </tr>\n",
       "    <tr>\n",
       "      <th>...</th>\n",
       "      <td>...</td>\n",
       "      <td>...</td>\n",
       "      <td>...</td>\n",
       "    </tr>\n",
       "    <tr>\n",
       "      <th>181664</th>\n",
       "      <td>3</td>\n",
       "      <td>1</td>\n",
       "      <td>1</td>\n",
       "    </tr>\n",
       "    <tr>\n",
       "      <th>181665</th>\n",
       "      <td>1</td>\n",
       "      <td>1</td>\n",
       "      <td>0</td>\n",
       "    </tr>\n",
       "    <tr>\n",
       "      <th>181666</th>\n",
       "      <td>1</td>\n",
       "      <td>1</td>\n",
       "      <td>0</td>\n",
       "    </tr>\n",
       "    <tr>\n",
       "      <th>181667</th>\n",
       "      <td>1</td>\n",
       "      <td>1</td>\n",
       "      <td>0</td>\n",
       "    </tr>\n",
       "    <tr>\n",
       "      <th>181668</th>\n",
       "      <td>2</td>\n",
       "      <td>0</td>\n",
       "      <td>0</td>\n",
       "    </tr>\n",
       "  </tbody>\n",
       "</table>\n",
       "<p>181669 rows × 3 columns</p>\n",
       "</div>"
      ],
      "text/plain": [
       "        score  treatment  target\n",
       "0           1          1       0\n",
       "1           2          0       0\n",
       "2           2          0       0\n",
       "3           1          1       0\n",
       "4           2          0       0\n",
       "...       ...        ...     ...\n",
       "181664      3          1       1\n",
       "181665      1          1       0\n",
       "181666      1          1       0\n",
       "181667      1          1       0\n",
       "181668      2          0       0\n",
       "\n",
       "[181669 rows x 3 columns]"
      ]
     },
     "execution_count": 24,
     "metadata": {},
     "output_type": "execute_result"
    }
   ],
   "source": [
    "kek"
   ]
  },
  {
   "cell_type": "code",
   "execution_count": 15,
   "id": "94ccbc21-3bcd-4cb8-bc8a-e8967b348cdc",
   "metadata": {},
   "outputs": [],
   "source": [
    "kek = y.copy(deep=True)"
   ]
  },
  {
   "cell_type": "code",
   "execution_count": 16,
   "id": "c2c45a9a-fe3d-4510-9112-43e4bf94df4b",
   "metadata": {},
   "outputs": [],
   "source": [
    "kek.score = perfect_uplift"
   ]
  },
  {
   "cell_type": "code",
   "execution_count": 18,
   "id": "3ebc21da-a746-4500-b63f-793a5d571920",
   "metadata": {},
   "outputs": [
    {
     "data": {
      "text/plain": [
       "score     28269.259770\n",
       "Random      336.425698\n",
       "dtype: float64"
      ]
     },
     "execution_count": 18,
     "metadata": {},
     "output_type": "execute_result"
    }
   ],
   "source": [
    "auuc_score(kek, outcome_col=COL_TARGET, treatment_col=COL_TREATMENT, normalize=False)"
   ]
  },
  {
   "cell_type": "code",
   "execution_count": 19,
   "id": "88f621e9-a9ca-4752-9fd7-7c0d81831b3f",
   "metadata": {},
   "outputs": [
    {
     "data": {
      "text/plain": [
       "0.017560841636427467"
      ]
     },
     "execution_count": 19,
     "metadata": {},
     "output_type": "execute_result"
    }
   ],
   "source": [
    "496.431994 / 28269.259770"
   ]
  },
  {
   "cell_type": "code",
   "execution_count": 13,
   "id": "05b4a1d1-904c-4fb0-808c-27cb8d464dff",
   "metadata": {},
   "outputs": [
    {
     "data": {
      "text/plain": [
       "1.0"
      ]
     },
     "execution_count": 13,
     "metadata": {},
     "output_type": "execute_result"
    }
   ],
   "source": [
    "uplift_auc_score(y.target, perfect_uplift, y.treatment)"
   ]
  },
  {
   "cell_type": "code",
   "execution_count": 10,
   "id": "560447e1-a48c-48ff-8fe6-1c657e8eea8c",
   "metadata": {},
   "outputs": [
    {
     "data": {
      "text/plain": [
       "0         1\n",
       "1         2\n",
       "2         2\n",
       "3         1\n",
       "4         2\n",
       "         ..\n",
       "181664    3\n",
       "181665    1\n",
       "181666    1\n",
       "181667    1\n",
       "181668    2\n",
       "Length: 181669, dtype: int64"
      ]
     },
     "execution_count": 10,
     "metadata": {},
     "output_type": "execute_result"
    }
   ],
   "source": [
    "perfect_uplift"
   ]
  },
  {
   "cell_type": "code",
   "execution_count": null,
   "id": "8751989f-2426-42ec-978f-2e879e512334",
   "metadata": {},
   "outputs": [],
   "source": []
  }
 ],
 "metadata": {
  "kernelspec": {
   "display_name": "Python 3 (ipykernel)",
   "language": "python",
   "name": "python3"
  },
  "language_info": {
   "codemirror_mode": {
    "name": "ipython",
    "version": 3
   },
   "file_extension": ".py",
   "mimetype": "text/x-python",
   "name": "python",
   "nbconvert_exporter": "python",
   "pygments_lexer": "ipython3",
   "version": "3.11.7"
  }
 },
 "nbformat": 4,
 "nbformat_minor": 5
}
