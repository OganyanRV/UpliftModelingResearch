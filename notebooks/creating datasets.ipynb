{
 "cells": [
  {
   "cell_type": "markdown",
   "id": "f4af674c-4476-407a-9cbb-3075ad1ef74e",
   "metadata": {},
   "source": [
    "## Datasets processing"
   ]
  },
  {
   "cell_type": "code",
   "execution_count": 10,
   "id": "25e21cb5-e492-49b6-b273-ce9629ead22e",
   "metadata": {},
   "outputs": [
    {
     "name": "stdout",
     "output_type": "stream",
     "text": [
      "The autoreload extension is already loaded. To reload it, use:\n",
      "  %reload_ext autoreload\n"
     ]
    }
   ],
   "source": [
    "from pathlib import Path\n",
    "import sys\n",
    " \n",
    "if sys.argv:\n",
    "    sys.path.insert(0, str(Path('/Users/ogrobertino/UpliftModelingResearch/').resolve()))\n",
    "%load_ext autoreload\n",
    "%autoreload 2\n",
    "import pandas as pd\n",
    "from src.distributions_check import check_feature_distributions_by_stat_test, check_feature_distributions_by_model, check_propensity\n",
    "from src.datasets import sample_features, TorchDataset, NumpyDataset"
   ]
  },
  {
   "cell_type": "markdown",
   "id": "71ebc54f-cc3f-446e-bad0-71a9890096ba",
   "metadata": {},
   "source": [
    "TLDR:\n",
    "1. Ориентируюсь на LAZADA, хотя там распределения на трейне и тесте отличаются\n",
    "2. Как-нибудь собрать на данных яндекса анонимный датасет\n",
    "3. Поискать фича инжиниринг по x5, сделать там фичи. Но заеб в том что никакую метрику кроме uplift@0.3 мы не получим\n",
    "4. Criteo хорош так как есть бенчмарк, распределение одинаковое (так как нет теста изначально), но очень мало фичей"
   ]
  },
  {
   "cell_type": "markdown",
   "id": "a1920573-623c-4b32-9d6d-41c3e52f8aa8",
   "metadata": {},
   "source": [
    "### Loading datasets from internet"
   ]
  },
  {
   "cell_type": "markdown",
   "id": "83cc2d4d-20f9-4ddb-90d6-f5f9f5d4223a",
   "metadata": {},
   "source": [
    "#### Criteo"
   ]
  },
  {
   "cell_type": "markdown",
   "id": "a34a1c7c-8608-46f3-a214-8021617db001",
   "metadata": {},
   "source": [
    "https://huggingface.co/datasets/criteo/criteo-uplift https://www.uplift-modeling.com/en/latest/api/datasets/fetch_criteo.html"
   ]
  },
  {
   "cell_type": "code",
   "execution_count": 19,
   "id": "5a9351a2-ef30-46c4-b52f-085acbf25b80",
   "metadata": {},
   "outputs": [],
   "source": [
    "df = pd.read_csv(\"hf://datasets/criteo/criteo-uplift/criteo-research-uplift-v2.1.csv.gz\")"
   ]
  },
  {
   "cell_type": "code",
   "execution_count": 20,
   "id": "16a65dfa-a43b-424f-b4f5-e8b00575dd85",
   "metadata": {},
   "outputs": [
    {
     "name": "stdout",
     "output_type": "stream",
     "text": [
      "Event-rate train: 0.0030894610674129645 \n",
      "Event-rate test: 0.0019375880152813366\n"
     ]
    }
   ],
   "source": [
    "print('Event-rate treatment: ' + str(df[df['treatment'] == 1]['conversion'].mean()),\\\n",
    "      '\\nEvent-rate control: ' + str(df[df['treatment'] == 0]['conversion'].mean()))\n",
    "# print(df[df['treatment'] == 1]['exposure'].mean(), df[df['treatment'] == 0]['exposure'].mean())\n",
    "# print(df[df['treatment'] == 1]['visit'].mean(), df[df['treatment'] == 0]['visit'].mean())"
   ]
  },
  {
   "cell_type": "code",
   "execution_count": 21,
   "id": "d414bd72-42eb-43c3-9e6f-df439ceab02d",
   "metadata": {},
   "outputs": [],
   "source": [
    "from sklearn.model_selection import train_test_split\n",
    "count_for_test = int(0.25 * len(df))\n",
    "train_data, test_data = train_test_split(df, test_size=count_for_test)"
   ]
  },
  {
   "cell_type": "code",
   "execution_count": 22,
   "id": "85547594-0afb-403c-9f12-04890dcc8bc0",
   "metadata": {},
   "outputs": [
    {
     "name": "stdout",
     "output_type": "stream",
     "text": [
      "\n",
      "Распределения похожи для всех фичей (p-value >= 0.05).\n"
     ]
    }
   ],
   "source": [
    "check_feature_distributions_by_stat_test(train_data, test_data, plot=False, print_=False)"
   ]
  },
  {
   "cell_type": "code",
   "execution_count": 23,
   "id": "c79ab781-34e3-48e0-b279-3025af7e1efe",
   "metadata": {},
   "outputs": [
    {
     "name": "stdout",
     "output_type": "stream",
     "text": [
      "AUC: 0.5002\n",
      "Тренировочные и тестовые датасеты РАЗЛИЧАЮТСЯ!\n"
     ]
    }
   ],
   "source": [
    "check_feature_distributions_by_model(train_data, test_data)"
   ]
  },
  {
   "cell_type": "code",
   "execution_count": 24,
   "id": "4d37680a-5394-4c84-854b-c4f39850d7b5",
   "metadata": {},
   "outputs": [],
   "source": [
    "train_data['target'] = train_data['conversion']\n",
    "train_data = train_data.drop(['conversion', 'visit', 'exposure'], axis=1)\n",
    "test_data['target'] = test_data['conversion']\n",
    "test_data = test_data.drop(['conversion', 'visit', 'exposure'], axis=1)"
   ]
  },
  {
   "cell_type": "code",
   "execution_count": 29,
   "id": "bc96318f-7bf2-45d5-9482-568cf34777f7",
   "metadata": {},
   "outputs": [],
   "source": [
    "percents = [100, 90, 80, 70, 60, 50]\n",
    "sample_features(percents, train_data, test_data, 'data/criteo')"
   ]
  },
  {
   "cell_type": "markdown",
   "id": "431901ab-09c8-4edc-8a02-3802756bd6c2",
   "metadata": {},
   "source": [
    "#### Lazada"
   ]
  },
  {
   "cell_type": "markdown",
   "id": "1dbcd324-4c30-401a-90d8-c1d9ca09d1ed",
   "metadata": {},
   "source": [
    "https://github.com/kailiang-zhong/DESCN/tree/main/data/Lazada_dataset"
   ]
  },
  {
   "cell_type": "code",
   "execution_count": 4,
   "id": "6ec5f8ec-2cfa-4f8e-b93d-e68ac6b9c215",
   "metadata": {},
   "outputs": [],
   "source": [
    "# from sklearn.preprocessing import MinMaxScaler, StandardScaler"
   ]
  },
  {
   "cell_type": "code",
   "execution_count": 5,
   "id": "df8f6e88-dab8-4946-a796-3bf8520fae73",
   "metadata": {},
   "outputs": [],
   "source": [
    "train_data = pd.read_csv('../data/trash/lazada/full_trainset.csv')\n",
    "test_data = pd.read_csv('../data/trash/lazada/full_testset.csv')"
   ]
  },
  {
   "cell_type": "code",
   "execution_count": 6,
   "id": "c5aa9a87-203d-4900-b69e-39432a105990",
   "metadata": {},
   "outputs": [],
   "source": [
    "train_data['target'] = train_data['label']\n",
    "train_data['treatment'] = train_data['is_treat']\n",
    "test_data['target'] = test_data['label']\n",
    "test_data['treatment'] = test_data['is_treat']"
   ]
  },
  {
   "cell_type": "code",
   "execution_count": 7,
   "id": "ad57d63e-0e36-48c1-858f-86b43049fbd7",
   "metadata": {},
   "outputs": [
    {
     "name": "stdout",
     "output_type": "stream",
     "text": [
      "TRAIN\n",
      "Event-rate treatment: 0.056638115631691646 \n",
      "Event-rate control: 0.009442739697915526\n",
      "TEST\n",
      "Event-rate treatment: 0.036997528569316235 \n",
      "Event-rate control: 0.03325784312598434\n"
     ]
    }
   ],
   "source": [
    "print('TRAIN')\n",
    "print('Event-rate treatment: ' + str(train_data[train_data['treatment'] == 1]['target'].mean()),\\\n",
    "      '\\nEvent-rate control: ' + str(train_data[train_data['treatment'] == 0]['target'].mean()))\n",
    "\n",
    "print('TEST')\n",
    "print('Event-rate treatment: ' + str(test_data[test_data['treatment'] == 1]['target'].mean()),\\\n",
    "      '\\nEvent-rate control: ' + str(test_data[test_data['treatment'] == 0]['target'].mean()))\n"
   ]
  },
  {
   "cell_type": "code",
   "execution_count": 8,
   "id": "c6d9f2af-3c90-4922-ae4f-964af0dfd2e2",
   "metadata": {},
   "outputs": [],
   "source": [
    "train_data = train_data.drop(['data_id', 'label', 'is_treat'],axis=1)\n",
    "test_data = test_data.drop(['data_id', 'label', 'is_treat'],axis=1)"
   ]
  },
  {
   "cell_type": "code",
   "execution_count": 66,
   "id": "d26e9490-6a20-4d9f-8a09-a95cc6a49f3c",
   "metadata": {},
   "outputs": [],
   "source": [
    "# import warnings\n",
    "# warnings.filterwarnings('ignore')\n",
    "# # scaler = MinMaxScaler(feature_range=(0, 1))\n",
    "# scaler = StandardScaler()\n",
    "# cols = list(set(train_data.columns) - set(['target', 'treatment']))\n",
    "# train_data.loc[:, cols] = scaler.fit_transform(train_data.loc[:, cols])\n",
    "# test_data.loc[:, cols] = scaler.transform(test_data.loc[:, cols])"
   ]
  },
  {
   "cell_type": "code",
   "execution_count": 12,
   "id": "4a063aa1-0cbd-47fe-9fc7-486c9faba80a",
   "metadata": {},
   "outputs": [
    {
     "name": "stdout",
     "output_type": "stream",
     "text": [
      "AUC train: 0.9356\n",
      "AUC test: 0.5025\n"
     ]
    }
   ],
   "source": [
    "check_propensity(train_data, test_data)"
   ]
  },
  {
   "cell_type": "code",
   "execution_count": 69,
   "id": "5fd2dd1f-872c-40c7-98f7-b149465caacd",
   "metadata": {},
   "outputs": [
    {
     "name": "stdout",
     "output_type": "stream",
     "text": [
      "\n",
      "Обнаружены значимые различия в распределениях для следующих фичей:\n",
      "Фича 1, Фича 2, Фича 3, Фича 4, Фича 5, Фича 6, Фича 7, Фича 8, Фича 9, Фича 10, Фича 11, Фича 12, Фича 13, Фича 14, Фича 15, Фича 16, Фича 17, Фича 18, Фича 19, Фича 20, Фича 21, Фича 22, Фича 23, Фича 24, Фича 25, Фича 26, Фича 27, Фича 28, Фича 29, Фича 30, Фича 31, Фича 32, Фича 33, Фича 34, Фича 35, Фича 36, Фича 37, Фича 38, Фича 39, Фича 40, Фича 41, Фича 42, Фича 43, Фича 44, Фича 45, Фича 46, Фича 47, Фича 53, Фича 54, Фича 58, Фича 59, Фича 60, Фича 61, Фича 62, Фича 63, Фича 64, Фича 66, Фича 67, Фича 68, Фича 69, Фича 70, Фича 72, Фича 73, Фича 74, Фича 75, Фича 76, Фича 77, Фича 78, Фича 79, Фича 80, Фича 81, Фича 82, Фича 83, Фича 84, Фича 85\n"
     ]
    }
   ],
   "source": [
    "check_feature_distributions_by_stat_test(train_data, test_data, plot=False, print_=False)"
   ]
  },
  {
   "cell_type": "code",
   "execution_count": 70,
   "id": "2db02b77-578c-4436-a91c-3137c8d3d01d",
   "metadata": {},
   "outputs": [
    {
     "name": "stdout",
     "output_type": "stream",
     "text": [
      "AUC: 0.7973\n",
      "Тренировочные и тестовые датасеты РАЗЛИЧАЮТСЯ!\n"
     ]
    }
   ],
   "source": [
    "check_feature_distributions_by_model(train_data, test_data)"
   ]
  },
  {
   "cell_type": "code",
   "execution_count": 71,
   "id": "4cde47b9-87e7-42dc-a47e-a92e1d41d3ac",
   "metadata": {},
   "outputs": [],
   "source": [
    "percents = [100, 50]\n",
    "sample_features(percents, train_data, test_data, '../data/lazada2')"
   ]
  },
  {
   "cell_type": "markdown",
   "id": "d51164c9-0074-43c2-9d52-19dc3cf763f6",
   "metadata": {},
   "source": [
    "#### X5"
   ]
  },
  {
   "cell_type": "markdown",
   "id": "a3cb0c9e-2aef-428b-b784-c7cb5493a481",
   "metadata": {},
   "source": [
    "https://ods.ai/competitions/x5-retailhero-uplift-modeling/data https://www.uplift-modeling.com/en/latest/api/datasets/fetch_x5.html#x5-retailhero-uplift-modeling-dataset"
   ]
  },
  {
   "cell_type": "markdown",
   "id": "b7c96326-fd79-4cbb-b918-c103cd3bf4a0",
   "metadata": {},
   "source": [
    "Пока оставлю: нужен фича инжениринг (впадлу пока); мало данных, тест приватный - надо засылать в контест и так смотреть, на данном этапе это лишняя работа; слабый тритмент эффект"
   ]
  },
  {
   "cell_type": "code",
   "execution_count": 96,
   "id": "2d0b8f78-4386-4127-8cb5-ad11cdceed8d",
   "metadata": {},
   "outputs": [
    {
     "data": {
      "text/plain": [
       "200039"
      ]
     },
     "execution_count": 96,
     "metadata": {},
     "output_type": "execute_result"
    }
   ],
   "source": [
    "df = pd.read_csv('data/trash/x5/data/uplift_train.csv')\n",
    "len(df)"
   ]
  },
  {
   "cell_type": "code",
   "execution_count": 95,
   "id": "33d5c8e2-cb20-419b-8802-296326e845cb",
   "metadata": {},
   "outputs": [
    {
     "name": "stdout",
     "output_type": "stream",
     "text": [
      "Event-rate treatment: 0.6365109370780448 \n",
      "Event-rate control: 0.6032800975434248\n"
     ]
    }
   ],
   "source": [
    "print('Event-rate treatment: ' + str(df[df['treatment_flg'] == 1]['target'].mean()),\\\n",
    "      '\\nEvent-rate control: ' + str(df[df['treatment_flg'] == 0]['target'].mean()))"
   ]
  },
  {
   "cell_type": "markdown",
   "id": "2e0d9980-df1a-4210-a2f6-6cc986ac8e2b",
   "metadata": {},
   "source": [
    "#### Lenta"
   ]
  },
  {
   "cell_type": "markdown",
   "id": "fcc473e8-c603-42f6-b999-44ac2fc3c216",
   "metadata": {},
   "source": [
    "https://www.youtube.com/watch?v=gIHwnDH9PD8 https://github.com/maks-sh/scikit-uplift/blob/master/notebooks/EDA_Lenta_dataset.ipynb"
   ]
  },
  {
   "cell_type": "markdown",
   "id": "3a3aae3e-b69b-4bb6-929f-3948d539c3e0",
   "metadata": {},
   "source": [
    "https://www.uplift-modeling.com/en/latest/api/datasets/fetch_lenta.html#lenta-uplift-modeling-dataset"
   ]
  },
  {
   "cell_type": "markdown",
   "id": "28130d23-6d28-4514-a5c9-878d82a47f56",
   "metadata": {},
   "source": [
    "Пока оставлю: не нравится что маленький эффект тритмента + не с чем сравнивать результаты. Топовое решение углублено в фича инжиниринг, мне это не надо"
   ]
  },
  {
   "cell_type": "code",
   "execution_count": 78,
   "id": "b8248e76-0225-4b03-af14-3ce51df678dd",
   "metadata": {},
   "outputs": [],
   "source": [
    "from sklift.datasets import fetch_lenta\n",
    "\n",
    "\n",
    "dataset = fetch_lenta()\n",
    "df, target, treatment = dataset.data, dataset.target, dataset.treatment"
   ]
  },
  {
   "cell_type": "code",
   "execution_count": 79,
   "id": "03f304d7-27f0-43a9-b661-9e17de9d2fe5",
   "metadata": {},
   "outputs": [
    {
     "name": "stderr",
     "output_type": "stream",
     "text": [
      "/var/folders/2h/f3088zln2y36htvcq0wjvt94_1rc11/T/ipykernel_28376/2955555357.py:3: FutureWarning: Downcasting behavior in `replace` is deprecated and will be removed in a future version. To retain the old behavior, explicitly call `result.infer_objects(copy=False)`. To opt-in to the future behavior, set `pd.set_option('future.no_silent_downcasting', True)`\n",
      "  df.treatment = df.treatment.replace({'test': 1, 'control': 0})\n"
     ]
    }
   ],
   "source": [
    "df['target'] = target\n",
    "df['treatment'] = treatment\n",
    "df.treatment = df.treatment.replace({'test': 1, 'control': 0})"
   ]
  },
  {
   "cell_type": "code",
   "execution_count": 82,
   "id": "f5c95b69-51b0-48ea-9ca3-88afcc3ac6ca",
   "metadata": {},
   "outputs": [
    {
     "name": "stdout",
     "output_type": "stream",
     "text": [
      "Event-rate treatment: 0.11012576275654594 \n",
      "Event-rate control: 0.1025786358297738\n"
     ]
    }
   ],
   "source": [
    "print('Event-rate treatment: ' + str(df[df['treatment'] == 1]['target'].mean()),\\\n",
    "      '\\nEvent-rate control: ' + str(df[df['treatment'] == 0]['target'].mean()))"
   ]
  },
  {
   "cell_type": "code",
   "execution_count": 74,
   "id": "bc784f3a-b3f8-4aae-921c-80baa3b396c9",
   "metadata": {},
   "outputs": [
    {
     "name": "stdout",
     "output_type": "stream",
     "text": [
      "Event-rate train: 0.11012576275654594 \n",
      "Event-rate test: 0.1025786358297738\n",
      "\n",
      "Распределения похожи для всех фичей (p-value >= 0.05).\n",
      "AUC: 0.5002\n",
      "Тренировочные и тестовые датасеты РАЗЛИЧАЮТСЯ!\n"
     ]
    }
   ],
   "source": [
    "print('Event-rate treatment: ' + str(df[df['treatment'] == 1]['conversion'].mean()),\\\n",
    "      '\\nEvent-rate control: ' + str(df[df['treatment'] == 0]['conversion'].mean()))\n",
    "\n",
    "from sklearn.model_selection import train_test_split\n",
    "count_for_test = int(0.25 * len(df))\n",
    "train_data, test_data = train_test_split(df, test_size=count_for_test)\n",
    "check_feature_distributions_by_stat_test(train_data, test_data, plot=False, print_=False)\n",
    "check_feature_distributions_by_model(train_data, test_data)"
   ]
  },
  {
   "cell_type": "code",
   "execution_count": null,
   "id": "c6fa46b4-b18f-43e3-99f9-4bff8ab92038",
   "metadata": {},
   "outputs": [],
   "source": [
    "percents = [100, 90, 80, 70, 60, 50]\n",
    "sample_features(percents, train_data, test_data, 'data/lenta')"
   ]
  }
 ],
 "metadata": {
  "kernelspec": {
   "display_name": "Python 3 (ipykernel)",
   "language": "python",
   "name": "python3"
  },
  "language_info": {
   "codemirror_mode": {
    "name": "ipython",
    "version": 3
   },
   "file_extension": ".py",
   "mimetype": "text/x-python",
   "name": "python",
   "nbconvert_exporter": "python",
   "pygments_lexer": "ipython3",
   "version": "3.11.7"
  }
 },
 "nbformat": 4,
 "nbformat_minor": 5
}
