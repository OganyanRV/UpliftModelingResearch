{
 "cells": [
  {
   "cell_type": "code",
   "execution_count": 1,
   "id": "1bd552b4-9e8c-4e19-9f7d-4e3089e6c22c",
   "metadata": {},
   "outputs": [],
   "source": [
    "import pathlib\n",
    "import os\n",
    "from pathlib import Path\n",
    "import sys\n",
    " \n",
    "if sys.argv:\n",
    "    sys.path.insert(0, str(pathlib.Path(os.path.dirname(os.path.abspath(\"\"))).resolve()))\n",
    "%load_ext autoreload\n",
    "%autoreload 2"
   ]
  },
  {
   "cell_type": "code",
   "execution_count": 2,
   "id": "b0fff5ee-d2b1-4098-b173-8f69f696a598",
   "metadata": {},
   "outputs": [
    {
     "name": "stderr",
     "output_type": "stream",
     "text": [
      "/home/ogrobertino/test_env/lib/python3.10/site-packages/xgboost/core.py:377: FutureWarning: Your system has an old version of glibc (< 2.28). We will stop supporting Linux distros with glibc older than 2.28 after **May 31, 2025**. Please upgrade to a recent Linux distro (with glibc >= 2.28) to use future versions of XGBoost.\n",
      "Note: You have installed the 'manylinux2014' variant of XGBoost. Certain features such as GPU algorithms or federated learning are not available. To use these features, please upgrade to a recent Linux distro with glibc 2.28+, and install the 'manylinux_2_28' variant.\n",
      "  warnings.warn(\n",
      "Failed to import duecredit due to No module named 'duecredit'\n"
     ]
    }
   ],
   "source": [
    "from src.utils import get_paths_train_test, train_test_model\n",
    "from src.factory import EFINUpliftModelFactory\n",
    "from src.models.NNUpliftModeling.EFINUpliftModel import EFINUpliftModel\n",
    "import pandas as pd"
   ]
  },
  {
   "cell_type": "code",
   "execution_count": 3,
   "id": "98ce159f-09a7-4cdf-92fe-80ef1751ab3a",
   "metadata": {},
   "outputs": [],
   "source": [
    "ds_name = 'lazada_v2'\n",
    "features_percent = 100\n",
    "train_path, test_path = get_paths_train_test(ds_name=ds_name, features_percent=features_percent)"
   ]
  },
  {
   "cell_type": "code",
   "execution_count": 4,
   "id": "8dba5d29-4cc5-49cd-a095-935b6b2ad45c",
   "metadata": {},
   "outputs": [],
   "source": [
    "import pandas as pd\n",
    "ds = pd.read_csv(train_path, sep='\\t')"
   ]
  },
  {
   "cell_type": "code",
   "execution_count": 5,
   "id": "7c3fe727-5c7d-40c8-ba1b-5bf7f521dd7d",
   "metadata": {},
   "outputs": [
    {
     "data": {
      "text/plain": [
       "83"
      ]
     },
     "execution_count": 5,
     "metadata": {},
     "output_type": "execute_result"
    }
   ],
   "source": [
    "input_size = len(ds.columns) - 2\n",
    "input_size"
   ]
  },
  {
   "cell_type": "code",
   "execution_count": 6,
   "id": "83d094c6-ff6e-4667-8a9e-eaa755e77895",
   "metadata": {},
   "outputs": [],
   "source": [
    "params = {\n",
    "    'input_dim': input_size, \n",
    "    'hc_dim': 16,    \n",
    "    'hu_dim': 8,      \n",
    "    'act_type': 'elu',    \n",
    "    \n",
    "    'batch_size': 128,\n",
    "    'epochs': 1,\n",
    "    'early_stopping_patience': 2,\n",
    "    \n",
    "    'optimizer': \n",
    "        {\n",
    "            'name': 'Adam',\n",
    "            'lr': 0.005,\n",
    "            'weight_decay': 0.001\n",
    "        },\n",
    "    \n",
    "    # Настройки планировщика\n",
    "    'scheduler': {\n",
    "        'name': 'ReduceLROnPlateau',\n",
    "        'patience': 3,\n",
    "        'factor': 0.5\n",
    "    }\n",
    "}"
   ]
  },
  {
   "cell_type": "code",
   "execution_count": 7,
   "id": "20a55a05-8f96-4562-a261-add2af0e9af3",
   "metadata": {},
   "outputs": [],
   "source": [
    "configs = EFINUpliftModel.generate_config(count=4, params = params)"
   ]
  },
  {
   "cell_type": "code",
   "execution_count": 8,
   "id": "ed283dca-e9b3-443a-a87e-43f7dc76ff02",
   "metadata": {},
   "outputs": [],
   "source": [
    "factory = EFINUpliftModelFactory\n",
    "config = configs[0]\n",
    "batch_size=32\n",
    "max_size=100000"
   ]
  },
  {
   "cell_type": "code",
   "execution_count": 9,
   "id": "d09fbb5e-6604-4af6-9c99-15d6f481f9b9",
   "metadata": {},
   "outputs": [
    {
     "data": {
      "text/plain": [
       "{'batch_size': 128,\n",
       " 'epochs': 1,\n",
       " 'early_stopping_patience': 2,\n",
       " 'optimizer': {'name': 'Adam', 'lr': 0.005, 'weight_decay': 0.001},\n",
       " 'scheduler': {'name': 'ReduceLROnPlateau', 'patience': 3, 'factor': 0.5},\n",
       " 'use_gpu': True,\n",
       " 'num_workers': 0,\n",
       " 'inference_batch_size': 32,\n",
       " 'input_dim': 83,\n",
       " 'hc_dim': 16,\n",
       " 'hu_dim': 8,\n",
       " 'is_self': False,\n",
       " 'act_type': 'elu',\n",
       " 'learning_rate': 0.01}"
      ]
     },
     "execution_count": 9,
     "metadata": {},
     "output_type": "execute_result"
    }
   ],
   "source": [
    "config"
   ]
  },
  {
   "cell_type": "code",
   "execution_count": 10,
   "id": "8b4d6bf1-ec14-4891-bec4-eb0fb96fa6e2",
   "metadata": {},
   "outputs": [
    {
     "name": "stderr",
     "output_type": "stream",
     "text": [
      "/home/ogrobertino/test_env/lib/python3.10/site-packages/torch/optim/lr_scheduler.py:62: UserWarning: The verbose parameter is deprecated. Please use get_last_lr() to access the learning rate.\n",
      "  warnings.warn(\n"
     ]
    }
   ],
   "source": [
    "model, train, test = factory.create(config, train_path, test_path)"
   ]
  },
  {
   "cell_type": "code",
   "execution_count": 12,
   "id": "bb3f2363-7eef-43d8-98aa-96e84ec85f60",
   "metadata": {},
   "outputs": [],
   "source": [
    "from torch.utils.data import DataLoader\n",
    "dl = DataLoader(\n",
    "    train, \n",
    "    batch_size=32, \n",
    "    shuffle=True,\n",
    "\n",
    "    num_workers=0\n",
    ")"
   ]
  },
  {
   "cell_type": "code",
   "execution_count": 13,
   "id": "296a5cdc-57bb-4ebc-967a-2bf0d99c9c32",
   "metadata": {},
   "outputs": [],
   "source": [
    "batch = next(iter(dl))"
   ]
  },
  {
   "cell_type": "code",
   "execution_count": 18,
   "id": "25412cc2-6b26-4829-8aa2-9690aa45f500",
   "metadata": {},
   "outputs": [],
   "source": [
    "is_treat = batch[1]\n",
    "features = batch[0]"
   ]
  },
  {
   "cell_type": "code",
   "execution_count": 19,
   "id": "6521d276-04a7-43ca-b95b-755bb31285c1",
   "metadata": {},
   "outputs": [
    {
     "data": {
      "text/plain": [
       "EFIN(\n",
       "  (att_embed_1): Linear(in_features=8, out_features=8, bias=False)\n",
       "  (att_embed_2): Linear(in_features=8, out_features=8, bias=True)\n",
       "  (att_embed_3): Linear(in_features=8, out_features=1, bias=False)\n",
       "  (softmax): Softmax(dim=-1)\n",
       "  (Q_w): Linear(in_features=8, out_features=8, bias=True)\n",
       "  (K_w): Linear(in_features=8, out_features=8, bias=True)\n",
       "  (V_w): Linear(in_features=8, out_features=8, bias=True)\n",
       "  (x_rep): Embedding(83, 8)\n",
       "  (t_rep): Linear(in_features=1, out_features=8, bias=True)\n",
       "  (c_fc1): Linear(in_features=664, out_features=16, bias=True)\n",
       "  (c_fc2): Linear(in_features=16, out_features=16, bias=True)\n",
       "  (c_fc3): Linear(in_features=16, out_features=8, bias=True)\n",
       "  (c_fc4): Linear(in_features=8, out_features=4, bias=True)\n",
       "  (c_logit): Linear(in_features=4, out_features=1, bias=True)\n",
       "  (c_tau): Linear(in_features=4, out_features=1, bias=True)\n",
       "  (u_fc1): Linear(in_features=8, out_features=8, bias=True)\n",
       "  (u_fc2): Linear(in_features=8, out_features=4, bias=True)\n",
       "  (u_fc3): Linear(in_features=4, out_features=2, bias=True)\n",
       "  (t_logit): Linear(in_features=2, out_features=1, bias=True)\n",
       "  (u_tau): Linear(in_features=2, out_features=1, bias=True)\n",
       "  (act): ELU(alpha=1.0)\n",
       ")"
      ]
     },
     "execution_count": 19,
     "metadata": {},
     "output_type": "execute_result"
    }
   ],
   "source": [
    "model.model"
   ]
  },
  {
   "cell_type": "code",
   "execution_count": 21,
   "id": "b912032e-63a0-4870-a48f-f64c81f46231",
   "metadata": {},
   "outputs": [],
   "source": [
    "import torch\n",
    "t_true = torch.unsqueeze(is_treat, 1)\n",
    "x_rep = features.unsqueeze(2) * model.model.x_rep.weight.unsqueeze(0)"
   ]
  },
  {
   "cell_type": "code",
   "execution_count": 26,
   "id": "0099f2c3-797f-414b-b494-8b28960650d1",
   "metadata": {},
   "outputs": [
    {
     "data": {
      "text/plain": [
       "torch.Size([32, 83, 1])"
      ]
     },
     "execution_count": 26,
     "metadata": {},
     "output_type": "execute_result"
    }
   ],
   "source": [
    "features.unsqueeze(2).shape"
   ]
  },
  {
   "cell_type": "code",
   "execution_count": 28,
   "id": "a5c894f3-249f-4406-8bd3-04e158c3e6d0",
   "metadata": {},
   "outputs": [
    {
     "data": {
      "text/plain": [
       "torch.Size([1, 83, 8])"
      ]
     },
     "execution_count": 28,
     "metadata": {},
     "output_type": "execute_result"
    }
   ],
   "source": [
    "model.model.x_rep.weight.unsqueeze(0).shape"
   ]
  },
  {
   "cell_type": "code",
   "execution_count": 29,
   "id": "a9dd4c72-453c-402a-88cc-e5a7986fb362",
   "metadata": {},
   "outputs": [
    {
     "data": {
      "text/plain": [
       "torch.Size([32, 83, 8])"
      ]
     },
     "execution_count": 29,
     "metadata": {},
     "output_type": "execute_result"
    }
   ],
   "source": [
    "x_rep.shape"
   ]
  },
  {
   "cell_type": "code",
   "execution_count": 38,
   "id": "31d28fe3-0a69-45bf-aca7-2ceb5fca4155",
   "metadata": {},
   "outputs": [
    {
     "data": {
      "text/plain": [
       "tensor([121.], device='cuda:0')"
      ]
     },
     "execution_count": 38,
     "metadata": {},
     "output_type": "execute_result"
    }
   ],
   "source": [
    "features.unsqueeze(2)[0, 1]"
   ]
  },
  {
   "cell_type": "code",
   "execution_count": 39,
   "id": "9a4a603c-76ce-4323-b0bf-20bf04543d22",
   "metadata": {},
   "outputs": [
    {
     "data": {
      "text/plain": [
       "tensor([ 0.7361, -0.7861, -0.4904, -1.2706, -1.2738, -0.3669,  0.0946, -0.6189],\n",
       "       device='cuda:0', grad_fn=<SelectBackward0>)"
      ]
     },
     "execution_count": 39,
     "metadata": {},
     "output_type": "execute_result"
    }
   ],
   "source": [
    "model.model.x_rep.weight.unsqueeze(0)[0, 1]"
   ]
  },
  {
   "cell_type": "code",
   "execution_count": 40,
   "id": "edd10c83-6c17-4e02-913b-960b5c7bcd79",
   "metadata": {},
   "outputs": [
    {
     "data": {
      "text/plain": [
       "tensor([  89.0732,  -95.1140,  -59.3358, -153.7432, -154.1293,  -44.3935,\n",
       "          11.4486,  -74.8889], device='cuda:0', grad_fn=<MulBackward0>)"
      ]
     },
     "execution_count": 40,
     "metadata": {},
     "output_type": "execute_result"
    }
   ],
   "source": [
    "features.unsqueeze(2)[0, 1] * model.model.x_rep.weight.unsqueeze(0)[0, 1]"
   ]
  },
  {
   "cell_type": "code",
   "execution_count": 41,
   "id": "449a7611-32a9-4de5-b4ce-9d239992a047",
   "metadata": {},
   "outputs": [
    {
     "data": {
      "text/plain": [
       "tensor([  89.0732,  -95.1140,  -59.3358, -153.7432, -154.1293,  -44.3935,\n",
       "          11.4486,  -74.8889], device='cuda:0', grad_fn=<SelectBackward0>)"
      ]
     },
     "execution_count": 41,
     "metadata": {},
     "output_type": "execute_result"
    }
   ],
   "source": [
    "x_rep[0, 1]"
   ]
  },
  {
   "cell_type": "code",
   "execution_count": 42,
   "id": "bd40240b-37af-4a9e-85a7-37c00b2c4e28",
   "metadata": {},
   "outputs": [],
   "source": [
    "dims = x_rep.size()\n",
    "_x_rep = x_rep / torch.linalg.norm(x_rep, dim=1, keepdim=True)"
   ]
  },
  {
   "cell_type": "code",
   "execution_count": 47,
   "id": "83b15f75-227b-4c83-8b39-102993831995",
   "metadata": {},
   "outputs": [
    {
     "data": {
      "text/plain": [
       "tensor([ 0.3522, -0.8709, -0.3296, -0.8296, -0.6674, -0.3418,  0.0864, -0.3239],\n",
       "       device='cuda:0', grad_fn=<SelectBackward0>)"
      ]
     },
     "execution_count": 47,
     "metadata": {},
     "output_type": "execute_result"
    }
   ],
   "source": [
    "_x_rep[0][1]"
   ]
  },
  {
   "cell_type": "code",
   "execution_count": 48,
   "id": "f3ecc193-345a-46dd-bf13-c2ff7c8ff7fc",
   "metadata": {},
   "outputs": [],
   "source": [
    "xx, xx_weight = model.model.self_attn(_x_rep, _x_rep, _x_rep)"
   ]
  },
  {
   "cell_type": "code",
   "execution_count": 49,
   "id": "22029226-7b52-4642-8639-bed62b840c6b",
   "metadata": {},
   "outputs": [
    {
     "data": {
      "text/plain": [
       "torch.Size([32, 83, 83])"
      ]
     },
     "execution_count": 49,
     "metadata": {},
     "output_type": "execute_result"
    }
   ],
   "source": [
    "xx_weight.shape"
   ]
  },
  {
   "cell_type": "code",
   "execution_count": 50,
   "id": "b4472878-694e-46c9-8771-b27804cc9153",
   "metadata": {},
   "outputs": [
    {
     "data": {
      "text/plain": [
       "torch.Size([32, 83, 8])"
      ]
     },
     "execution_count": 50,
     "metadata": {},
     "output_type": "execute_result"
    }
   ],
   "source": [
    "xx.shape"
   ]
  },
  {
   "cell_type": "code",
   "execution_count": 51,
   "id": "97406769-4a49-4868-84b7-2b85c661f78c",
   "metadata": {},
   "outputs": [],
   "source": [
    "_x_rep = torch.reshape(xx, (dims[0], dims[1] * dims[2]))"
   ]
  },
  {
   "cell_type": "code",
   "execution_count": 53,
   "id": "7b1a9e07-baae-47ff-bf57-c952a9e542ef",
   "metadata": {},
   "outputs": [
    {
     "data": {
      "text/plain": [
       "torch.Size([32, 664])"
      ]
     },
     "execution_count": 53,
     "metadata": {},
     "output_type": "execute_result"
    }
   ],
   "source": [
    "_x_rep.shape"
   ]
  },
  {
   "cell_type": "code",
   "execution_count": 54,
   "id": "0a85fc54-d969-46f2-9921-b5e6655f130d",
   "metadata": {},
   "outputs": [],
   "source": [
    "# Uplift Net\n",
    "t_rep = model.model.t_rep(torch.ones_like(t_true))\n",
    "xt, xt_weight = model.model.interaction_attn(t_rep, x_rep)"
   ]
  },
  {
   "cell_type": "code",
   "execution_count": 55,
   "id": "785c9a4e-fe5e-4362-827d-301930e54f55",
   "metadata": {},
   "outputs": [
    {
     "data": {
      "text/plain": [
       "torch.Size([32, 8])"
      ]
     },
     "execution_count": 55,
     "metadata": {},
     "output_type": "execute_result"
    }
   ],
   "source": [
    "t_rep.shape"
   ]
  },
  {
   "cell_type": "code",
   "execution_count": 59,
   "id": "783adcc5-cac7-4554-8090-f196a1147436",
   "metadata": {},
   "outputs": [
    {
     "data": {
      "text/plain": [
       "torch.Size([32, 83])"
      ]
     },
     "execution_count": 59,
     "metadata": {},
     "output_type": "execute_result"
    }
   ],
   "source": [
    "xt_weight.shape"
   ]
  },
  {
   "cell_type": "code",
   "execution_count": 60,
   "id": "bf7590c0-130c-49a4-86ae-c86ac2839414",
   "metadata": {},
   "outputs": [
    {
     "data": {
      "text/plain": [
       "torch.Size([32, 8])"
      ]
     },
     "execution_count": 60,
     "metadata": {},
     "output_type": "execute_result"
    }
   ],
   "source": [
    "xt.shape"
   ]
  },
  {
   "cell_type": "code",
   "execution_count": 80,
   "id": "5701db6c-088e-4470-973d-cd1771af8b60",
   "metadata": {},
   "outputs": [],
   "source": [
    "attention = []\n",
    "for i in range(83):\n",
    "    temp = model.model.att_embed_3(torch.relu(\n",
    "        torch.sigmoid(model.model.att_embed_1(t_rep)) + torch.sigmoid(model.model.att_embed_2(x_rep[:, i, :]))))\n",
    "    attention.append(temp)\n",
    "# attention = torch.squeeze(torch.stack(attention, 1), 2)\n",
    "# attention = torch.softmax(attention, 1)\n",
    "\n",
    "# outputs = torch.squeeze(torch.matmul(torch.unsqueeze(attention, 1), x), 1)\n",
    "# return outputs, attention"
   ]
  },
  {
   "cell_type": "code",
   "execution_count": 81,
   "id": "2fdfe203-b974-4c96-a423-a5f5b474deed",
   "metadata": {},
   "outputs": [
    {
     "data": {
      "text/plain": [
       "torch.Size([32, 1])"
      ]
     },
     "execution_count": 81,
     "metadata": {},
     "output_type": "execute_result"
    }
   ],
   "source": [
    "attention[0].shape"
   ]
  },
  {
   "cell_type": "code",
   "execution_count": 82,
   "id": "e265210c-c973-4a0d-858d-48bc4703bd11",
   "metadata": {},
   "outputs": [
    {
     "data": {
      "text/plain": [
       "torch.Size([32, 83, 1])"
      ]
     },
     "execution_count": 82,
     "metadata": {},
     "output_type": "execute_result"
    }
   ],
   "source": [
    "torch.stack(attention, 1).shape"
   ]
  },
  {
   "cell_type": "code",
   "execution_count": 83,
   "id": "a00a6d08-ca84-4d0e-a7af-392647c17335",
   "metadata": {},
   "outputs": [
    {
     "data": {
      "text/plain": [
       "torch.Size([32, 83])"
      ]
     },
     "execution_count": 83,
     "metadata": {},
     "output_type": "execute_result"
    }
   ],
   "source": [
    "torch.squeeze(torch.stack(attention, 1), 2).shape"
   ]
  },
  {
   "cell_type": "code",
   "execution_count": 84,
   "id": "d93712c9-56e6-4edf-a690-3f2e3f5bcb18",
   "metadata": {},
   "outputs": [
    {
     "data": {
      "text/plain": [
       "torch.Size([32, 8])"
      ]
     },
     "execution_count": 84,
     "metadata": {},
     "output_type": "execute_result"
    }
   ],
   "source": [
    "model.model.att_embed_1(t_rep).shape"
   ]
  },
  {
   "cell_type": "code",
   "execution_count": 85,
   "id": "1c46844e-1374-42bc-94b9-c5ef6849f52b",
   "metadata": {},
   "outputs": [
    {
     "data": {
      "text/plain": [
       "torch.Size([32, 8])"
      ]
     },
     "execution_count": 85,
     "metadata": {},
     "output_type": "execute_result"
    }
   ],
   "source": [
    "torch.sigmoid(model.model.att_embed_2(x_rep[:, 0, :])).shape"
   ]
  },
  {
   "cell_type": "code",
   "execution_count": 86,
   "id": "1de6581d-1646-4aa7-91e0-c34d967f5ff5",
   "metadata": {},
   "outputs": [],
   "source": [
    "attention = torch.squeeze(torch.stack(attention, 1), 2)\n",
    "attention = torch.softmax(attention, 1)"
   ]
  },
  {
   "cell_type": "code",
   "execution_count": 87,
   "id": "3ceb1b56-9058-474f-9d96-53ae79b24e82",
   "metadata": {},
   "outputs": [
    {
     "data": {
      "text/plain": [
       "torch.Size([32, 83])"
      ]
     },
     "execution_count": 87,
     "metadata": {},
     "output_type": "execute_result"
    }
   ],
   "source": [
    "attention.shape"
   ]
  },
  {
   "cell_type": "code",
   "execution_count": 88,
   "id": "8bc376eb-5788-416b-9d64-0d06f8c4a31d",
   "metadata": {},
   "outputs": [],
   "source": [
    "outputs = torch.squeeze(torch.matmul(torch.unsqueeze(attention, 1), x_rep), 1)"
   ]
  },
  {
   "cell_type": "code",
   "execution_count": 90,
   "id": "99559ed0-f423-45df-974d-4b7de48653cc",
   "metadata": {},
   "outputs": [
    {
     "data": {
      "text/plain": [
       "(torch.Size([32, 1, 83]), torch.Size([32, 83, 8]))"
      ]
     },
     "execution_count": 90,
     "metadata": {},
     "output_type": "execute_result"
    }
   ],
   "source": [
    "torch.unsqueeze(attention, 1).shape, x_rep.shape"
   ]
  },
  {
   "cell_type": "code",
   "execution_count": 91,
   "id": "b9d29097-9109-40c4-902a-4119ac48a386",
   "metadata": {},
   "outputs": [
    {
     "data": {
      "text/plain": [
       "torch.Size([32, 1, 8])"
      ]
     },
     "execution_count": 91,
     "metadata": {},
     "output_type": "execute_result"
    }
   ],
   "source": [
    "torch.matmul(torch.unsqueeze(attention, 1), x_rep).shape"
   ]
  },
  {
   "cell_type": "code",
   "execution_count": null,
   "id": "705575fd-7344-4bbf-b807-8e9e781eb104",
   "metadata": {},
   "outputs": [],
   "source": []
  },
  {
   "cell_type": "code",
   "execution_count": 12,
   "id": "ec69008a-f3ac-40e3-9e2f-a496b8792c24",
   "metadata": {},
   "outputs": [],
   "source": [
    "# kek = model.predict(train)"
   ]
  },
  {
   "cell_type": "code",
   "execution_count": 13,
   "id": "98b19c9d-81fa-430a-a3c2-488769adb7c8",
   "metadata": {},
   "outputs": [],
   "source": [
    "# pd.DataFrame(kek['uplift'])"
   ]
  },
  {
   "cell_type": "code",
   "execution_count": 14,
   "id": "0be7bf7b-b20a-4152-b4a1-a7fab5894129",
   "metadata": {},
   "outputs": [],
   "source": [
    "# q = model.predict(train)"
   ]
  },
  {
   "cell_type": "code",
   "execution_count": 15,
   "id": "885aac86-4815-4fd1-bbc6-f10603b2eae4",
   "metadata": {},
   "outputs": [],
   "source": [
    "# q['df'][q['df']['treatment'] == 1]"
   ]
  },
  {
   "cell_type": "code",
   "execution_count": 13,
   "id": "7f65d0ba-706c-4b99-bc3b-0b25373f9778",
   "metadata": {},
   "outputs": [
    {
     "name": "stderr",
     "output_type": "stream",
     "text": [
      "/home/ogrobertino/test_env/lib/python3.10/site-packages/torch/optim/lr_scheduler.py:62: UserWarning: The verbose parameter is deprecated. Please use get_last_lr() to access the learning rate.\n",
      "  warnings.warn(\n"
     ]
    },
    {
     "name": "stdout",
     "output_type": "stream",
     "text": [
      "Epoch 1/1 - 10.0% - Loss: 0.4218\n",
      "Epoch 1/1 - 20.0% - Loss: 0.4004\n",
      "Epoch 1/1 - 30.0% - Loss: 0.3911\n",
      "Epoch 1/1 - 40.0% - Loss: 0.3854\n",
      "Epoch 1/1 - 50.0% - Loss: 0.3795\n",
      "Epoch 1/1 - 60.0% - Loss: 0.3752\n",
      "Epoch 1/1 - 70.0% - Loss: 0.3719\n",
      "Epoch 1/1 - 79.9% - Loss: 0.3672\n",
      "Epoch 1/1 - 89.9% - Loss: 0.3624\n",
      "Epoch 1/1 - 99.9% - Loss: 0.3565\n",
      "Validation after epoch\n",
      "Epoch 1/1, Train Loss: 0.3565, Val Loss: 0.3030, Val AUUC: -0.0455, LR: 0.005000\n",
      "Модель, предсказания и конфиг сохранены в директории exps2/lazada_v2/100/14\n",
      "Эксперимент сохранен в таблице /home/ogrobertino/UpliftModelingResearch/exps2/stats.tsv\n"
     ]
    }
   ],
   "source": [
    "train_test_model(ds_name='lazada_v2', features_percent=100, factory=EFINUpliftModelFactory, config=configs[0], NN=True)   "
   ]
  },
  {
   "cell_type": "code",
   "execution_count": null,
   "id": "8ebf47e0-0fe4-4ee1-a5e9-c3bc0baf6932",
   "metadata": {},
   "outputs": [],
   "source": [
    "for i in tqdm(range(len(configs)), desc=\"Training models\"):\n",
    "    train_test_model(ds_name='lazada', features_percent=100, factory=EFINUpliftModelFactory, config=configs[i])   "
   ]
  },
  {
   "cell_type": "code",
   "execution_count": 16,
   "id": "34845a63-71b4-4cfa-85fe-b91abad9357b",
   "metadata": {},
   "outputs": [
    {
     "name": "stderr",
     "output_type": "stream",
     "text": [
      "/home/ogrobertino/UpliftModelingResearch/src/models/NNUpliftModeling/INNUpliftModeling.py:452: FutureWarning: You are using `torch.load` with `weights_only=False` (the current default value), which uses the default pickle module implicitly. It is possible to construct malicious pickle data which will execute arbitrary code during unpickling (See https://github.com/pytorch/pytorch/blob/main/SECURITY.md#untrusted-models for more details). In a future release, the default value for `weights_only` will be flipped to `True`. This limits the functions that could be executed during unpickling. Arbitrary objects will no longer be allowed to be loaded via this mode unless they are explicitly allowlisted by the user via `torch.serialization.add_safe_globals`. We recommend you start setting `weights_only=True` for any use case where you don't have full control of the loaded file. Please open an issue on GitHub for any issues related to this experimental feature.\n",
      "  checkpoint = torch.load(path, map_location=lambda storage, loc: storage)\n",
      "/home/ogrobertino/test_env/lib/python3.10/site-packages/torch/optim/lr_scheduler.py:62: UserWarning: The verbose parameter is deprecated. Please use get_last_lr() to access the learning rate.\n",
      "  warnings.warn(\n"
     ]
    }
   ],
   "source": [
    "from src.global_params import BASE_PATH\n",
    "path = pd.read_csv(BASE_PATH + \"/exps2/stats.tsv\", sep='\\t').Path.iloc[-1]\n",
    "model = EFINUpliftModelFactory(from_load=True, path = str(BASE_PATH) + \"/\" + path)"
   ]
  }
 ],
 "metadata": {
  "kernelspec": {
   "display_name": "Python 3 (ipykernel)",
   "language": "python",
   "name": "python3"
  },
  "language_info": {
   "codemirror_mode": {
    "name": "ipython",
    "version": 3
   },
   "file_extension": ".py",
   "mimetype": "text/x-python",
   "name": "python",
   "nbconvert_exporter": "python",
   "pygments_lexer": "ipython3",
   "version": "3.10.6"
  }
 },
 "nbformat": 4,
 "nbformat_minor": 5
}
