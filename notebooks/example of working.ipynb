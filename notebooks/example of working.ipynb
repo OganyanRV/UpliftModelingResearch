{
 "cells": [
  {
   "cell_type": "code",
   "execution_count": 1,
   "id": "b0d3040a-a615-4d64-bc03-7250c25623fb",
   "metadata": {},
   "outputs": [],
   "source": [
    "from pathlib import Path\n",
    "import sys\n",
    " \n",
    "if sys.argv:\n",
    "    sys.path.insert(0, str(Path('/Users/ogrobertino/UpliftModelingResearch/').resolve()))\n",
    "%load_ext autoreload\n",
    "%autoreload 2"
   ]
  },
  {
   "cell_type": "code",
   "execution_count": 2,
   "id": "f871854b-45b1-4129-91d1-616e2a48d8e9",
   "metadata": {},
   "outputs": [
    {
     "name": "stderr",
     "output_type": "stream",
     "text": [
      "Failed to import duecredit due to No module named 'duecredit'\n"
     ]
    }
   ],
   "source": [
    "from src.utils import get_paths_train_test, train_test_model\n",
    "from src.factory import TModelFactory"
   ]
  },
  {
   "cell_type": "code",
   "execution_count": 3,
   "id": "e526ff18-8dbf-41c8-90b5-5cabfac02c10",
   "metadata": {},
   "outputs": [],
   "source": [
    "config = \\\n",
    "{\n",
    "  \"lvl_0\": {\n",
    "    \"meta\": {\n",
    "      \"control_name\": 0\n",
    "    }\n",
    "  },\n",
    "  \"lvl_1\": {\n",
    "    \"treatment\": {\n",
    "      \"iterations\": 20,\n",
    "      \"learning_rate\": 0.1,\n",
    "      \"depth\": 6,\n",
    "      \"loss_function\": \"Logloss\",\n",
    "      \"eval_metric\": \"AUC\"\n",
    "    },\n",
    "    \"control\": {\n",
    "      \"iterations\": 30,\n",
    "      \"learning_rate\": 0.05,\n",
    "      \"depth\": 4,\n",
    "      \"loss_function\": \"Logloss\",\n",
    "      \"eval_metric\": \"AUC\"\n",
    "    }\n",
    "  }\n",
    "}"
   ]
  },
  {
   "cell_type": "code",
   "execution_count": 7,
   "id": "013a2d56-ad65-41e9-8963-79e85fbb9a27",
   "metadata": {},
   "outputs": [
    {
     "name": "stdout",
     "output_type": "stream",
     "text": [
      "Модель, предсказания и конфиг сохранены в директории ../exps/lazada/100/0\n",
      "Эксперимент сохранен в таблице ../exps/stats.tsv\n"
     ]
    }
   ],
   "source": [
    "train_test_model(ds_name='lazada', features_percent=100, factory=TModelFactory, config=config)"
   ]
  }
 ],
 "metadata": {
  "kernelspec": {
   "display_name": "Python 3 (ipykernel)",
   "language": "python",
   "name": "python3"
  },
  "language_info": {
   "codemirror_mode": {
    "name": "ipython",
    "version": 3
   },
   "file_extension": ".py",
   "mimetype": "text/x-python",
   "name": "python",
   "nbconvert_exporter": "python",
   "pygments_lexer": "ipython3",
   "version": "3.11.7"
  }
 },
 "nbformat": 4,
 "nbformat_minor": 5
}
