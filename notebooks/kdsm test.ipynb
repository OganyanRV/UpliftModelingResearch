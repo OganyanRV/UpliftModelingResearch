{
 "cells": [
  {
   "cell_type": "code",
   "execution_count": 1,
   "id": "901ec9db-6224-4c66-b90f-a3189cec41c9",
   "metadata": {},
   "outputs": [],
   "source": [
    "import pathlib\n",
    "import os\n",
    "from pathlib import Path\n",
    "import sys\n",
    " \n",
    "if sys.argv:\n",
    "    sys.path.insert(0, str(pathlib.Path(os.path.dirname(os.path.abspath(\"\"))).resolve()))\n",
    "%load_ext autoreload\n",
    "%autoreload 2"
   ]
  },
  {
   "cell_type": "code",
   "execution_count": 2,
   "id": "1479eb0f-0d88-43c8-8ee9-122f672c5f37",
   "metadata": {},
   "outputs": [],
   "source": [
    "from src.datasets import PairedUpliftDataset\n",
    "from src.global_params import BASE_PATH"
   ]
  },
  {
   "cell_type": "code",
   "execution_count": 3,
   "id": "2a08ad7a-849e-4c2a-b2a8-9daf7a455dfb",
   "metadata": {},
   "outputs": [
    {
     "name": "stdout",
     "output_type": "stream",
     "text": [
      "Dataset loaded from /home/ogrobertino/UpliftModelingResearch/data/lazada_v2_kdsm/train\n"
     ]
    }
   ],
   "source": [
    "ds_kdsm = PairedUpliftDataset(None, from_saved_path= BASE_PATH + \"/data/lazada_v2_kdsm/train\")"
   ]
  },
  {
   "cell_type": "code",
   "execution_count": 4,
   "id": "4b5550fa-9b80-4fe2-905e-2dc3cfe7264e",
   "metadata": {},
   "outputs": [
    {
     "data": {
      "text/plain": [
       "<src.datasets.PairedUpliftDataset at 0x7f4324c97c40>"
      ]
     },
     "execution_count": 4,
     "metadata": {},
     "output_type": "execute_result"
    }
   ],
   "source": [
    "ds_kdsm"
   ]
  },
  {
   "cell_type": "code",
   "execution_count": null,
   "id": "d8db627f-eca3-4237-a2e2-6837933da68d",
   "metadata": {},
   "outputs": [],
   "source": [
    "# from src.utils import get_paths_train_test, train_test_model\n",
    "# from src.models.CausalML.Models import UpliftRandomForestModel\n",
    "# from src.global_params import BASE_PATH\n",
    "# teacher_model = UpliftRandomForestModel(from_load=True, path = BASE_PATH + \"/exps2/lazada_v2/100/0\")"
   ]
  },
  {
   "cell_type": "code",
   "execution_count": 5,
   "id": "15cab28f-b2a4-4306-8225-a47b51bb8ac3",
   "metadata": {},
   "outputs": [
    {
     "name": "stderr",
     "output_type": "stream",
     "text": [
      "/home/ogrobertino/test_env/lib/python3.10/site-packages/xgboost/core.py:377: FutureWarning: Your system has an old version of glibc (< 2.28). We will stop supporting Linux distros with glibc older than 2.28 after **May 31, 2025**. Please upgrade to a recent Linux distro (with glibc >= 2.28) to use future versions of XGBoost.\n",
      "Note: You have installed the 'manylinux2014' variant of XGBoost. Certain features such as GPU algorithms or federated learning are not available. To use these features, please upgrade to a recent Linux distro with glibc 2.28+, and install the 'manylinux_2_28' variant.\n",
      "  warnings.warn(\n",
      "Failed to import duecredit due to No module named 'duecredit'\n"
     ]
    }
   ],
   "source": [
    "from src.utils import get_paths_train_test, train_test_model\n",
    "from src.factory import DESCNUpliftModelFactory\n",
    "from src.models.NNUpliftModeling.DESCNUpliftModel import DESCNUpliftModel\n",
    "import pandas as pd"
   ]
  },
  {
   "cell_type": "code",
   "execution_count": 31,
   "id": "5e354072-55f4-48da-acab-eef9f49f51c6",
   "metadata": {},
   "outputs": [
    {
     "data": {
      "text/plain": [
       "'exps2/lazada_v2/100/11'"
      ]
     },
     "execution_count": 31,
     "metadata": {},
     "output_type": "execute_result"
    }
   ],
   "source": [
    "path"
   ]
  },
  {
   "cell_type": "code",
   "execution_count": 10,
   "id": "cb107db1-d668-4d0a-a3a4-81f5c69d3a51",
   "metadata": {},
   "outputs": [
    {
     "name": "stderr",
     "output_type": "stream",
     "text": [
      "/home/ogrobertino/UpliftModelingResearch/src/models/NNUpliftModeling/INNUpliftModeling.py:452: FutureWarning: You are using `torch.load` with `weights_only=False` (the current default value), which uses the default pickle module implicitly. It is possible to construct malicious pickle data which will execute arbitrary code during unpickling (See https://github.com/pytorch/pytorch/blob/main/SECURITY.md#untrusted-models for more details). In a future release, the default value for `weights_only` will be flipped to `True`. This limits the functions that could be executed during unpickling. Arbitrary objects will no longer be allowed to be loaded via this mode unless they are explicitly allowlisted by the user via `torch.serialization.add_safe_globals`. We recommend you start setting `weights_only=True` for any use case where you don't have full control of the loaded file. Please open an issue on GitHub for any issues related to this experimental feature.\n",
      "  checkpoint = torch.load(path, map_location=lambda storage, loc: storage)\n",
      "/home/ogrobertino/test_env/lib/python3.10/site-packages/torch/optim/lr_scheduler.py:62: UserWarning: The verbose parameter is deprecated. Please use get_last_lr() to access the learning rate.\n",
      "  warnings.warn(\n"
     ]
    }
   ],
   "source": [
    "from src.global_params import BASE_PATH\n",
    "path = pd.read_csv(BASE_PATH + \"/exps2/stats.tsv\", sep='\\t').Path.iloc[-1]\n",
    "model = DESCNUpliftModel(from_load=True, path = str(BASE_PATH) + \"/\" + path)"
   ]
  },
  {
   "cell_type": "code",
   "execution_count": 18,
   "id": "f757fb47-6a9d-4c5a-bf38-d08b544bd545",
   "metadata": {},
   "outputs": [],
   "source": [
    "ds_kdsm.shuffle_pairs()"
   ]
  },
  {
   "cell_type": "code",
   "execution_count": 22,
   "id": "874cf158-49be-4ead-8fa8-e0970f06fdb7",
   "metadata": {},
   "outputs": [
    {
     "data": {
      "text/plain": [
       "<bound method PairedUpliftDataset.shuffle_pairs of <src.datasets.PairedUpliftDataset object at 0x7f4324c97c40>>"
      ]
     },
     "execution_count": 22,
     "metadata": {},
     "output_type": "execute_result"
    }
   ],
   "source": [
    "ds_kdsm.shuffle_pairs"
   ]
  },
  {
   "cell_type": "code",
   "execution_count": 16,
   "id": "5ab4ca76-8963-4550-a722-c77e6512d123",
   "metadata": {},
   "outputs": [
    {
     "data": {
      "text/plain": [
       "153755"
      ]
     },
     "execution_count": 16,
     "metadata": {},
     "output_type": "execute_result"
    }
   ],
   "source": [
    "len(ds_kdsm)"
   ]
  },
  {
   "cell_type": "code",
   "execution_count": 30,
   "id": "fabf1d5f-6543-410e-aa2f-cb5f0b2815c1",
   "metadata": {},
   "outputs": [],
   "source": [
    "model.fit_kdsm(ds_kdsm, lambda_kd=0.5)"
   ]
  },
  {
   "cell_type": "code",
   "execution_count": null,
   "id": "0cb80d85-8391-45f8-aee0-aa4dae43e1b0",
   "metadata": {},
   "outputs": [],
   "source": [
    "model.save"
   ]
  }
 ],
 "metadata": {
  "kernelspec": {
   "display_name": "Python 3 (ipykernel)",
   "language": "python",
   "name": "python3"
  },
  "language_info": {
   "codemirror_mode": {
    "name": "ipython",
    "version": 3
   },
   "file_extension": ".py",
   "mimetype": "text/x-python",
   "name": "python",
   "nbconvert_exporter": "python",
   "pygments_lexer": "ipython3",
   "version": "3.10.6"
  }
 },
 "nbformat": 4,
 "nbformat_minor": 5
}
