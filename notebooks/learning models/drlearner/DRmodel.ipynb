{
 "cells": [
  {
   "cell_type": "markdown",
   "id": "9d2d9151-caa3-4377-8e02-48712cc1c5fe",
   "metadata": {},
   "source": [
    "## DRmodeling "
   ]
  },
  {
   "cell_type": "markdown",
   "id": "877e03b6-88ed-4e70-88ef-49657f56c2d2",
   "metadata": {},
   "source": [
    "https://habr.com/ru/companies/ru_mts/articles/485980/\n",
    "https://habr.com/ru/companies/glowbyte/articles/686398/\n",
    "https://causalml.readthedocs.io/en/latest/methodology.html#s-learner\n",
    "https://github.com/uber/causalml/tree/master/causalml/inference/meta"
   ]
  },
  {
   "cell_type": "code",
   "execution_count": 3,
   "id": "7ecd1b24-05b9-4edf-884f-c869ab876b71",
   "metadata": {},
   "outputs": [],
   "source": [
    "# !pip install scikit-learn==1.5.2\n",
    "#было 1.6.1, xgboost не работает со свежим сикитлерном"
   ]
  },
  {
   "cell_type": "markdown",
   "id": "64092fff-2a5c-4f71-ab10-641bcb4ab4aa",
   "metadata": {},
   "source": [
    "For debug"
   ]
  },
  {
   "cell_type": "code",
   "execution_count": 1,
   "id": "3acb2d9d-524e-4ffb-886f-9120d43b3ff0",
   "metadata": {},
   "outputs": [],
   "source": [
    "# from src.utils import get_paths_train_test, train_test_model\n",
    "# from src.factory import XModelFactory\n",
    "# from src.configs_generation import generate_random_configs_xmodel\n",
    "# from tqdm import tqdm\n",
    "# configs = generate_random_configs_xmodel(parameters, count=1)\n",
    "# ds_name = 'lazada'\n",
    "# features_percent = 50\n",
    "# factory = XModelFactory\n",
    "# config = configs[0]\n",
    "# batch_size=32\n",
    "# max_size=100000\n",
    "# train_path, test_path = get_paths_train_test(ds_name=ds_name, features_percent=features_percent)\n",
    "# model, train, test = factory.create(config, train_path, test_path)"
   ]
  },
  {
   "cell_type": "code",
   "execution_count": 21,
   "id": "78575b3c-2a2c-4b99-8bd7-e407f74d1a28",
   "metadata": {},
   "outputs": [
    {
     "name": "stdout",
     "output_type": "stream",
     "text": [
      "The autoreload extension is already loaded. To reload it, use:\n",
      "  %reload_ext autoreload\n"
     ]
    }
   ],
   "source": [
    "from pathlib import Path\n",
    "import sys\n",
    " \n",
    "if sys.argv:\n",
    "    sys.path.insert(0, str(Path('/Users/ogrobertino/UpliftModelingResearch/').resolve()))\n",
    "%load_ext autoreload\n",
    "%autoreload 2"
   ]
  },
  {
   "cell_type": "code",
   "execution_count": 22,
   "id": "ec1153e7-81e8-4c93-b367-e575bef4d325",
   "metadata": {},
   "outputs": [],
   "source": [
    "parameters = {\n",
    "    'iterations': (50, 100),\n",
    "    'learning_rate': (0.01, 0.5),\n",
    "    'depth': (4, 15)\n",
    "}"
   ]
  },
  {
   "cell_type": "code",
   "execution_count": 24,
   "id": "f2c5d949-79d2-4b68-afb5-1315cdbe5da0",
   "metadata": {},
   "outputs": [
    {
     "name": "stderr",
     "output_type": "stream",
     "text": [
      "Training models:   0%|                                     | 0/2 [00:00<?, ?it/s]"
     ]
    },
    {
     "name": "stdout",
     "output_type": "stream",
     "text": [
      "Модель, предсказания и конфиг сохранены в директории exps/lazada/100/100\n"
     ]
    },
    {
     "name": "stderr",
     "output_type": "stream",
     "text": [
      "Training models:  50%|██████████████              | 1/2 [01:41<01:41, 101.69s/it]"
     ]
    },
    {
     "name": "stdout",
     "output_type": "stream",
     "text": [
      "Эксперимент сохранен в таблице /Users/ogrobertino/UpliftModelingResearch/exps/stats.tsv\n",
      "Модель, предсказания и конфиг сохранены в директории exps/lazada/100/101\n"
     ]
    },
    {
     "name": "stderr",
     "output_type": "stream",
     "text": [
      "Training models: 100%|████████████████████████████| 2/2 [03:32<00:00, 106.43s/it]"
     ]
    },
    {
     "name": "stdout",
     "output_type": "stream",
     "text": [
      "Эксперимент сохранен в таблице /Users/ogrobertino/UpliftModelingResearch/exps/stats.tsv\n"
     ]
    },
    {
     "name": "stderr",
     "output_type": "stream",
     "text": [
      "\n"
     ]
    }
   ],
   "source": [
    "from src.utils import get_paths_train_test, train_test_model\n",
    "from src.factory import DRModelFactory\n",
    "from src.models.CausalML.Models import DRModel\n",
    "from tqdm import tqdm\n",
    "\n",
    "configs = DRModel.generate_config(count=2, **parameters)\n",
    "\n",
    "for i in tqdm(range(len(configs)), desc=\"Training models\"):\n",
    "    train_test_model(ds_name='lazada', features_percent=100, factory=DRModelFactory, config=configs[i])    "
   ]
  },
  {
   "cell_type": "code",
   "execution_count": 29,
   "id": "9ce372cd-f0be-4f86-b5db-41f7192b5f4f",
   "metadata": {},
   "outputs": [],
   "source": [
    "# from src.global_params import BASE_PATH\n",
    "# import pandas as pd\n",
    "# table = pd.read_csv(BASE_PATH / \"exps/stats.tsv\", sep='\\t')\n",
    "# table[table['Model'] == 'DRModel']"
   ]
  },
  {
   "cell_type": "code",
   "execution_count": 27,
   "id": "c510588e-3e66-4cad-9023-f8606d859d7b",
   "metadata": {},
   "outputs": [],
   "source": [
    "# table.sort_values(by=['Precision@5'], ascending=False)"
   ]
  },
  {
   "cell_type": "code",
   "execution_count": 30,
   "id": "cf8a4fab-52b6-4446-9657-9356630476b2",
   "metadata": {},
   "outputs": [
    {
     "name": "stdout",
     "output_type": "stream",
     "text": [
      "Model loaded from /Users/ogrobertino/UpliftModelingResearch/exps/lazada/100/101/model.pkl.\n",
      "Config loaded from /Users/ogrobertino/UpliftModelingResearch/exps/lazada/100/101/config.json.\n",
      "Propensity loaded from /Users/ogrobertino/UpliftModelingResearch/exps/lazada/100/101/propensity.pkl.\n"
     ]
    }
   ],
   "source": [
    "from src.models.ICausalML.Models import DRModel\n",
    "path = pd.read_csv(BASE_PATH / \"exps/stats.tsv\", sep='\\t').Path.iloc[-1]\n",
    "model = DRModel(from_load=True, path = str(BASE_PATH) + \"/\" + path)"
   ]
  }
 ],
 "metadata": {
  "kernelspec": {
   "display_name": "Python 3 (ipykernel)",
   "language": "python",
   "name": "python3"
  },
  "language_info": {
   "codemirror_mode": {
    "name": "ipython",
    "version": 3
   },
   "file_extension": ".py",
   "mimetype": "text/x-python",
   "name": "python",
   "nbconvert_exporter": "python",
   "pygments_lexer": "ipython3",
   "version": "3.11.7"
  }
 },
 "nbformat": 4,
 "nbformat_minor": 5
}
