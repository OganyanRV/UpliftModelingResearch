{
 "cells": [
  {
   "cell_type": "markdown",
   "id": "9d2d9151-caa3-4377-8e02-48712cc1c5fe",
   "metadata": {},
   "source": [
    "## DRmodeling "
   ]
  },
  {
   "cell_type": "markdown",
   "id": "877e03b6-88ed-4e70-88ef-49657f56c2d2",
   "metadata": {},
   "source": [
    "https://habr.com/ru/companies/ru_mts/articles/485980/\n",
    "https://habr.com/ru/companies/glowbyte/articles/686398/\n",
    "https://causalml.readthedocs.io/en/latest/methodology.html#s-learner\n",
    "https://github.com/uber/causalml/tree/master/causalml/inference/meta"
   ]
  },
  {
   "cell_type": "code",
   "execution_count": 3,
   "id": "7ecd1b24-05b9-4edf-884f-c869ab876b71",
   "metadata": {},
   "outputs": [],
   "source": [
    "# !pip install scikit-learn==1.5.2\n",
    "#было 1.6.1, xgboost не работает со свежим сикитлерном"
   ]
  },
  {
   "cell_type": "markdown",
   "id": "64092fff-2a5c-4f71-ab10-641bcb4ab4aa",
   "metadata": {},
   "source": [
    "For debug"
   ]
  },
  {
   "cell_type": "code",
   "execution_count": 9,
   "id": "2d9926c8-5c28-445b-a396-5858830c7f35",
   "metadata": {},
   "outputs": [],
   "source": [
    "import xgboost as xgb\n",
    "\n",
    "# Параметры инициализации\n",
    "iterations = 100  # количество итераций\n",
    "learning_rate = 0.1  # скорость обучения\n",
    "depth = 3  # глубина дерева\n",
    "\n",
    "params = {\n",
    "    'n_estimators': iterations,\n",
    "    'learning_rate': learning_rate,\n",
    "    'max_depth': depth,\n",
    "    'objective': 'binary:logistic',  # для бинарной классификации\n",
    "    'eval_metric': 'auc'  # метрика для оценки\n",
    "}\n",
    "\n",
    "# Инициализация классификатора\n",
    "model = xgb.XGBClassifier(verbose=0)"
   ]
  },
  {
   "cell_type": "code",
   "execution_count": 1,
   "id": "3acb2d9d-524e-4ffb-886f-9120d43b3ff0",
   "metadata": {},
   "outputs": [],
   "source": [
    "# from src.utils import get_paths_train_test, train_test_model\n",
    "# from src.factory import XModelFactory\n",
    "# from src.configs_generation import generate_random_configs_xmodel\n",
    "# from tqdm import tqdm\n",
    "# configs = generate_random_configs_xmodel(parameters, count=1)\n",
    "# ds_name = 'lazada'\n",
    "# features_percent = 50\n",
    "# factory = XModelFactory\n",
    "# config = configs[0]\n",
    "# batch_size=32\n",
    "# max_size=100000\n",
    "# train_path, test_path = get_paths_train_test(ds_name=ds_name, features_percent=features_percent)\n",
    "# model, train, test = factory.create(config, train_path, test_path)"
   ]
  },
  {
   "cell_type": "code",
   "execution_count": 2,
   "id": "ac0cd95b-4ee5-4850-8b03-b27b0dc637cd",
   "metadata": {},
   "outputs": [],
   "source": [
    "import logging\n",
    "logging.basicConfig(level=logging.WARNING)"
   ]
  },
  {
   "cell_type": "markdown",
   "id": "aee63cd5-964d-4e51-bba4-80b38d4814ec",
   "metadata": {},
   "source": [
    "propensity = 0.5 ставлю так как уже проверял в другом ноутбуке с анализом, что тритмент и контроль группы стат значимо не различаются"
   ]
  },
  {
   "cell_type": "code",
   "execution_count": 10,
   "id": "78575b3c-2a2c-4b99-8bd7-e407f74d1a28",
   "metadata": {},
   "outputs": [],
   "source": [
    "from pathlib import Path\n",
    "import sys\n",
    " \n",
    "if sys.argv:\n",
    "    sys.path.insert(0, str(Path('/Users/ogrobertino/UpliftModelingResearch/').resolve()))\n",
    "%load_ext autoreload\n",
    "%autoreload 2"
   ]
  },
  {
   "cell_type": "code",
   "execution_count": 16,
   "id": "ec1153e7-81e8-4c93-b367-e575bef4d325",
   "metadata": {},
   "outputs": [],
   "source": [
    "parameters = {\n",
    "    'iterations': (50, 100),\n",
    "    'learning_rate': (0.01, 0.5),\n",
    "    'depth': (4, 15)\n",
    "}"
   ]
  },
  {
   "cell_type": "code",
   "execution_count": 17,
   "id": "f2c5d949-79d2-4b68-afb5-1315cdbe5da0",
   "metadata": {},
   "outputs": [
    {
     "name": "stderr",
     "output_type": "stream",
     "text": [
      "Training models:   0%|                                   | 0/15 [00:00<?, ?it/s]"
     ]
    },
    {
     "name": "stdout",
     "output_type": "stream",
     "text": [
      "Модель, предсказания и конфиг сохранены в директории exps/lazada/100/66\n"
     ]
    },
    {
     "name": "stderr",
     "output_type": "stream",
     "text": [
      "Training models:   7%|█▊                         | 1/15 [01:13<17:14, 73.90s/it]"
     ]
    },
    {
     "name": "stdout",
     "output_type": "stream",
     "text": [
      "Эксперимент сохранен в таблице /Users/ogrobertino/UpliftModelingResearch/exps/stats.tsv\n",
      "Модель, предсказания и конфиг сохранены в директории exps/lazada/100/74\n"
     ]
    },
    {
     "name": "stderr",
     "output_type": "stream",
     "text": [
      "Training models:  13%|███▌                       | 2/15 [02:54<19:22, 89.42s/it]"
     ]
    },
    {
     "name": "stdout",
     "output_type": "stream",
     "text": [
      "Эксперимент сохранен в таблице /Users/ogrobertino/UpliftModelingResearch/exps/stats.tsv\n",
      "Модель, предсказания и конфиг сохранены в директории exps/lazada/100/75\n"
     ]
    },
    {
     "name": "stderr",
     "output_type": "stream",
     "text": [
      "Training models:  20%|█████▍                     | 3/15 [04:18<17:27, 87.28s/it]"
     ]
    },
    {
     "name": "stdout",
     "output_type": "stream",
     "text": [
      "Эксперимент сохранен в таблице /Users/ogrobertino/UpliftModelingResearch/exps/stats.tsv\n",
      "Модель, предсказания и конфиг сохранены в директории exps/lazada/100/76\n"
     ]
    },
    {
     "name": "stderr",
     "output_type": "stream",
     "text": [
      "Training models:  27%|███████▏                   | 4/15 [05:30<14:49, 80.89s/it]"
     ]
    },
    {
     "name": "stdout",
     "output_type": "stream",
     "text": [
      "Эксперимент сохранен в таблице /Users/ogrobertino/UpliftModelingResearch/exps/stats.tsv\n",
      "Модель, предсказания и конфиг сохранены в директории exps/lazada/100/77\n"
     ]
    },
    {
     "name": "stderr",
     "output_type": "stream",
     "text": [
      "Training models:  33%|█████████                  | 5/15 [06:41<12:53, 77.37s/it]"
     ]
    },
    {
     "name": "stdout",
     "output_type": "stream",
     "text": [
      "Эксперимент сохранен в таблице /Users/ogrobertino/UpliftModelingResearch/exps/stats.tsv\n",
      "Модель, предсказания и конфиг сохранены в директории exps/lazada/100/78\n"
     ]
    },
    {
     "name": "stderr",
     "output_type": "stream",
     "text": [
      "Training models:  40%|██████████▊                | 6/15 [07:49<11:07, 74.17s/it]"
     ]
    },
    {
     "name": "stdout",
     "output_type": "stream",
     "text": [
      "Эксперимент сохранен в таблице /Users/ogrobertino/UpliftModelingResearch/exps/stats.tsv\n",
      "Модель, предсказания и конфиг сохранены в директории exps/lazada/100/79\n"
     ]
    },
    {
     "name": "stderr",
     "output_type": "stream",
     "text": [
      "Training models:  47%|████████████▌              | 7/15 [09:36<11:21, 85.13s/it]"
     ]
    },
    {
     "name": "stdout",
     "output_type": "stream",
     "text": [
      "Эксперимент сохранен в таблице /Users/ogrobertino/UpliftModelingResearch/exps/stats.tsv\n",
      "Модель, предсказания и конфиг сохранены в директории exps/lazada/100/80\n"
     ]
    },
    {
     "name": "stderr",
     "output_type": "stream",
     "text": [
      "Training models:  53%|██████████████▍            | 8/15 [10:44<09:16, 79.54s/it]"
     ]
    },
    {
     "name": "stdout",
     "output_type": "stream",
     "text": [
      "Эксперимент сохранен в таблице /Users/ogrobertino/UpliftModelingResearch/exps/stats.tsv\n",
      "Модель, предсказания и конфиг сохранены в директории exps/lazada/100/81\n"
     ]
    },
    {
     "name": "stderr",
     "output_type": "stream",
     "text": [
      "Training models:  60%|███████████████▌          | 9/15 [14:24<12:20, 123.38s/it]"
     ]
    },
    {
     "name": "stdout",
     "output_type": "stream",
     "text": [
      "Эксперимент сохранен в таблице /Users/ogrobertino/UpliftModelingResearch/exps/stats.tsv\n",
      "Модель, предсказания и конфиг сохранены в директории exps/lazada/100/82\n"
     ]
    },
    {
     "name": "stderr",
     "output_type": "stream",
     "text": [
      "Training models:  67%|████████████████▋        | 10/15 [15:58<09:31, 114.26s/it]"
     ]
    },
    {
     "name": "stdout",
     "output_type": "stream",
     "text": [
      "Эксперимент сохранен в таблице /Users/ogrobertino/UpliftModelingResearch/exps/stats.tsv\n",
      "Модель, предсказания и конфиг сохранены в директории exps/lazada/100/83\n"
     ]
    },
    {
     "name": "stderr",
     "output_type": "stream",
     "text": [
      "Training models:  73%|██████████████████▎      | 11/15 [17:09<06:44, 101.20s/it]"
     ]
    },
    {
     "name": "stdout",
     "output_type": "stream",
     "text": [
      "Эксперимент сохранен в таблице /Users/ogrobertino/UpliftModelingResearch/exps/stats.tsv\n",
      "Модель, предсказания и конфиг сохранены в директории exps/lazada/100/84\n"
     ]
    },
    {
     "name": "stderr",
     "output_type": "stream",
     "text": [
      "Training models:  80%|████████████████████▊     | 12/15 [18:46<04:59, 99.99s/it]"
     ]
    },
    {
     "name": "stdout",
     "output_type": "stream",
     "text": [
      "Эксперимент сохранен в таблице /Users/ogrobertino/UpliftModelingResearch/exps/stats.tsv\n",
      "Модель, предсказания и конфиг сохранены в директории exps/lazada/100/85\n"
     ]
    },
    {
     "name": "stderr",
     "output_type": "stream",
     "text": [
      "Training models:  87%|██████████████████████▌   | 13/15 [20:16<03:13, 96.93s/it]"
     ]
    },
    {
     "name": "stdout",
     "output_type": "stream",
     "text": [
      "Эксперимент сохранен в таблице /Users/ogrobertino/UpliftModelingResearch/exps/stats.tsv\n",
      "Модель, предсказания и конфиг сохранены в директории exps/lazada/100/86\n"
     ]
    },
    {
     "name": "stderr",
     "output_type": "stream",
     "text": [
      "Training models:  93%|████████████████████████▎ | 14/15 [21:41<01:33, 93.29s/it]"
     ]
    },
    {
     "name": "stdout",
     "output_type": "stream",
     "text": [
      "Эксперимент сохранен в таблице /Users/ogrobertino/UpliftModelingResearch/exps/stats.tsv\n",
      "Модель, предсказания и конфиг сохранены в директории exps/lazada/100/87\n"
     ]
    },
    {
     "name": "stderr",
     "output_type": "stream",
     "text": [
      "Training models: 100%|██████████████████████████| 15/15 [22:50<00:00, 91.39s/it]"
     ]
    },
    {
     "name": "stdout",
     "output_type": "stream",
     "text": [
      "Эксперимент сохранен в таблице /Users/ogrobertino/UpliftModelingResearch/exps/stats.tsv\n"
     ]
    },
    {
     "name": "stderr",
     "output_type": "stream",
     "text": [
      "\n"
     ]
    }
   ],
   "source": [
    "from src.utils import get_paths_train_test, train_test_model\n",
    "from src.factory import DRModelFactory\n",
    "from src.configs_generation import generate_random_configs_drmodel\n",
    "from tqdm import tqdm\n",
    "\n",
    "configs = generate_random_configs_drmodel(parameters, count=15)\n",
    "\n",
    "for i in tqdm(range(len(configs)), desc=\"Training models\"):\n",
    "    train_test_model(ds_name='lazada', features_percent=100, factory=DRModelFactory, config=configs[i])    "
   ]
  },
  {
   "cell_type": "code",
   "execution_count": 18,
   "id": "9ce372cd-f0be-4f86-b5db-41f7192b5f4f",
   "metadata": {},
   "outputs": [],
   "source": [
    "from src.global_params import BASE_PATH\n",
    "import pandas as pd\n",
    "table = pd.read_csv(BASE_PATH / \"exps/stats.tsv\", sep='\\t')"
   ]
  },
  {
   "cell_type": "code",
   "execution_count": 20,
   "id": "c510588e-3e66-4cad-9023-f8606d859d7b",
   "metadata": {},
   "outputs": [
    {
     "data": {
      "text/html": [
       "<div>\n",
       "<style scoped>\n",
       "    .dataframe tbody tr th:only-of-type {\n",
       "        vertical-align: middle;\n",
       "    }\n",
       "\n",
       "    .dataframe tbody tr th {\n",
       "        vertical-align: top;\n",
       "    }\n",
       "\n",
       "    .dataframe thead th {\n",
       "        text-align: right;\n",
       "    }\n",
       "</style>\n",
       "<table border=\"1\" class=\"dataframe\">\n",
       "  <thead>\n",
       "    <tr style=\"text-align: right;\">\n",
       "      <th></th>\n",
       "      <th>Model</th>\n",
       "      <th>Path</th>\n",
       "      <th>Dataset</th>\n",
       "      <th>Features Percent</th>\n",
       "      <th>Latency (ms)</th>\n",
       "      <th>Binary Size (MB)</th>\n",
       "      <th>AUUC (test)</th>\n",
       "      <th>Precision@5</th>\n",
       "      <th>Precision@10</th>\n",
       "      <th>Precision@15</th>\n",
       "      <th>Precision@20</th>\n",
       "      <th>Precision@25</th>\n",
       "      <th>Precision@50</th>\n",
       "      <th>Compressions</th>\n",
       "    </tr>\n",
       "  </thead>\n",
       "  <tbody>\n",
       "    <tr>\n",
       "      <th>57</th>\n",
       "      <td>SModel</td>\n",
       "      <td>exps/lazada/100/60</td>\n",
       "      <td>lazada</td>\n",
       "      <td>100</td>\n",
       "      <td>0.020767</td>\n",
       "      <td>1.575159</td>\n",
       "      <td>0.512578</td>\n",
       "      <td>0.019139</td>\n",
       "      <td>0.008830</td>\n",
       "      <td>0.007275</td>\n",
       "      <td>0.008830</td>\n",
       "      <td>0.006662</td>\n",
       "      <td>0.003538</td>\n",
       "      <td>{}</td>\n",
       "    </tr>\n",
       "    <tr>\n",
       "      <th>69</th>\n",
       "      <td>SModel</td>\n",
       "      <td>exps/lazada/100/72</td>\n",
       "      <td>lazada</td>\n",
       "      <td>100</td>\n",
       "      <td>0.014318</td>\n",
       "      <td>0.252868</td>\n",
       "      <td>0.584003</td>\n",
       "      <td>0.018533</td>\n",
       "      <td>0.007497</td>\n",
       "      <td>0.007239</td>\n",
       "      <td>0.007497</td>\n",
       "      <td>0.006668</td>\n",
       "      <td>0.004293</td>\n",
       "      <td>{}</td>\n",
       "    </tr>\n",
       "    <tr>\n",
       "      <th>9</th>\n",
       "      <td>TModel</td>\n",
       "      <td>exps/lazada/100/9</td>\n",
       "      <td>lazada</td>\n",
       "      <td>100</td>\n",
       "      <td>0.057034</td>\n",
       "      <td>0.842080</td>\n",
       "      <td>0.685294</td>\n",
       "      <td>0.018461</td>\n",
       "      <td>0.011393</td>\n",
       "      <td>0.009931</td>\n",
       "      <td>0.011393</td>\n",
       "      <td>0.008308</td>\n",
       "      <td>0.005581</td>\n",
       "      <td>{}</td>\n",
       "    </tr>\n",
       "    <tr>\n",
       "      <th>4</th>\n",
       "      <td>TModel</td>\n",
       "      <td>exps/lazada/100/4</td>\n",
       "      <td>lazada</td>\n",
       "      <td>100</td>\n",
       "      <td>0.056108</td>\n",
       "      <td>0.150800</td>\n",
       "      <td>0.478659</td>\n",
       "      <td>0.016890</td>\n",
       "      <td>0.009386</td>\n",
       "      <td>0.007613</td>\n",
       "      <td>0.009386</td>\n",
       "      <td>0.005876</td>\n",
       "      <td>0.003602</td>\n",
       "      <td>{}</td>\n",
       "    </tr>\n",
       "    <tr>\n",
       "      <th>58</th>\n",
       "      <td>SModel</td>\n",
       "      <td>exps/lazada/100/61</td>\n",
       "      <td>lazada</td>\n",
       "      <td>100</td>\n",
       "      <td>0.018847</td>\n",
       "      <td>4.712287</td>\n",
       "      <td>0.686275</td>\n",
       "      <td>0.016806</td>\n",
       "      <td>0.012373</td>\n",
       "      <td>0.009203</td>\n",
       "      <td>0.012373</td>\n",
       "      <td>0.008244</td>\n",
       "      <td>0.005928</td>\n",
       "      <td>{}</td>\n",
       "    </tr>\n",
       "    <tr>\n",
       "      <th>...</th>\n",
       "      <td>...</td>\n",
       "      <td>...</td>\n",
       "      <td>...</td>\n",
       "      <td>...</td>\n",
       "      <td>...</td>\n",
       "      <td>...</td>\n",
       "      <td>...</td>\n",
       "      <td>...</td>\n",
       "      <td>...</td>\n",
       "      <td>...</td>\n",
       "      <td>...</td>\n",
       "      <td>...</td>\n",
       "      <td>...</td>\n",
       "      <td>...</td>\n",
       "    </tr>\n",
       "    <tr>\n",
       "      <th>33</th>\n",
       "      <td>XModel</td>\n",
       "      <td>exps/lazada/100/36</td>\n",
       "      <td>lazada</td>\n",
       "      <td>100</td>\n",
       "      <td>0.035179</td>\n",
       "      <td>24.953680</td>\n",
       "      <td>0.582785</td>\n",
       "      <td>-0.002917</td>\n",
       "      <td>0.008046</td>\n",
       "      <td>0.005445</td>\n",
       "      <td>0.008046</td>\n",
       "      <td>0.005344</td>\n",
       "      <td>0.004180</td>\n",
       "      <td>{}</td>\n",
       "    </tr>\n",
       "    <tr>\n",
       "      <th>76</th>\n",
       "      <td>DRModel</td>\n",
       "      <td>exps/lazada/100/79</td>\n",
       "      <td>lazada</td>\n",
       "      <td>100</td>\n",
       "      <td>0.119697</td>\n",
       "      <td>29.154691</td>\n",
       "      <td>0.587282</td>\n",
       "      <td>-0.003934</td>\n",
       "      <td>0.010836</td>\n",
       "      <td>0.009776</td>\n",
       "      <td>0.010836</td>\n",
       "      <td>0.009090</td>\n",
       "      <td>0.004621</td>\n",
       "      <td>{}</td>\n",
       "    </tr>\n",
       "    <tr>\n",
       "      <th>5</th>\n",
       "      <td>TModel</td>\n",
       "      <td>exps/lazada/100/5</td>\n",
       "      <td>lazada</td>\n",
       "      <td>100</td>\n",
       "      <td>0.057290</td>\n",
       "      <td>19.446937</td>\n",
       "      <td>0.571644</td>\n",
       "      <td>-0.004150</td>\n",
       "      <td>0.007774</td>\n",
       "      <td>0.006016</td>\n",
       "      <td>0.007774</td>\n",
       "      <td>0.005597</td>\n",
       "      <td>0.004509</td>\n",
       "      <td>{}</td>\n",
       "    </tr>\n",
       "    <tr>\n",
       "      <th>53</th>\n",
       "      <td>DRModel</td>\n",
       "      <td>exps/lazada/100/56</td>\n",
       "      <td>lazada</td>\n",
       "      <td>100</td>\n",
       "      <td>0.105841</td>\n",
       "      <td>0.092003</td>\n",
       "      <td>0.479792</td>\n",
       "      <td>-0.004734</td>\n",
       "      <td>0.004767</td>\n",
       "      <td>0.005485</td>\n",
       "      <td>0.004767</td>\n",
       "      <td>0.005083</td>\n",
       "      <td>0.003749</td>\n",
       "      <td>{}</td>\n",
       "    </tr>\n",
       "    <tr>\n",
       "      <th>30</th>\n",
       "      <td>XModel</td>\n",
       "      <td>exps/lazada/100/33</td>\n",
       "      <td>lazada</td>\n",
       "      <td>100</td>\n",
       "      <td>0.036015</td>\n",
       "      <td>38.657584</td>\n",
       "      <td>0.497929</td>\n",
       "      <td>-0.005040</td>\n",
       "      <td>0.005555</td>\n",
       "      <td>0.004469</td>\n",
       "      <td>0.005555</td>\n",
       "      <td>0.005580</td>\n",
       "      <td>0.004185</td>\n",
       "      <td>{}</td>\n",
       "    </tr>\n",
       "  </tbody>\n",
       "</table>\n",
       "<p>85 rows × 14 columns</p>\n",
       "</div>"
      ],
      "text/plain": [
       "      Model                Path Dataset  Features Percent  Latency (ms)  \\\n",
       "57   SModel  exps/lazada/100/60  lazada               100      0.020767   \n",
       "69   SModel  exps/lazada/100/72  lazada               100      0.014318   \n",
       "9    TModel   exps/lazada/100/9  lazada               100      0.057034   \n",
       "4    TModel   exps/lazada/100/4  lazada               100      0.056108   \n",
       "58   SModel  exps/lazada/100/61  lazada               100      0.018847   \n",
       "..      ...                 ...     ...               ...           ...   \n",
       "33   XModel  exps/lazada/100/36  lazada               100      0.035179   \n",
       "76  DRModel  exps/lazada/100/79  lazada               100      0.119697   \n",
       "5    TModel   exps/lazada/100/5  lazada               100      0.057290   \n",
       "53  DRModel  exps/lazada/100/56  lazada               100      0.105841   \n",
       "30   XModel  exps/lazada/100/33  lazada               100      0.036015   \n",
       "\n",
       "    Binary Size (MB)  AUUC (test)  Precision@5  Precision@10  Precision@15  \\\n",
       "57          1.575159     0.512578     0.019139      0.008830      0.007275   \n",
       "69          0.252868     0.584003     0.018533      0.007497      0.007239   \n",
       "9           0.842080     0.685294     0.018461      0.011393      0.009931   \n",
       "4           0.150800     0.478659     0.016890      0.009386      0.007613   \n",
       "58          4.712287     0.686275     0.016806      0.012373      0.009203   \n",
       "..               ...          ...          ...           ...           ...   \n",
       "33         24.953680     0.582785    -0.002917      0.008046      0.005445   \n",
       "76         29.154691     0.587282    -0.003934      0.010836      0.009776   \n",
       "5          19.446937     0.571644    -0.004150      0.007774      0.006016   \n",
       "53          0.092003     0.479792    -0.004734      0.004767      0.005485   \n",
       "30         38.657584     0.497929    -0.005040      0.005555      0.004469   \n",
       "\n",
       "    Precision@20  Precision@25  Precision@50 Compressions  \n",
       "57      0.008830      0.006662      0.003538           {}  \n",
       "69      0.007497      0.006668      0.004293           {}  \n",
       "9       0.011393      0.008308      0.005581           {}  \n",
       "4       0.009386      0.005876      0.003602           {}  \n",
       "58      0.012373      0.008244      0.005928           {}  \n",
       "..           ...           ...           ...          ...  \n",
       "33      0.008046      0.005344      0.004180           {}  \n",
       "76      0.010836      0.009090      0.004621           {}  \n",
       "5       0.007774      0.005597      0.004509           {}  \n",
       "53      0.004767      0.005083      0.003749           {}  \n",
       "30      0.005555      0.005580      0.004185           {}  \n",
       "\n",
       "[85 rows x 14 columns]"
      ]
     },
     "execution_count": 20,
     "metadata": {},
     "output_type": "execute_result"
    }
   ],
   "source": [
    "table.sort_values(by=['Precision@5'], ascending=False)"
   ]
  },
  {
   "cell_type": "code",
   "execution_count": null,
   "id": "cf8a4fab-52b6-4446-9657-9356630476b2",
   "metadata": {},
   "outputs": [],
   "source": [
    "from src.models.ICausalML.Models import XModel\n",
    "path = pd.read_csv(BASE_PATH / \"exps/stats.tsv\", sep='\\t').Path.iloc[-1]\n",
    "model = XModel(from_load=True, path = str(BASE_PATH) + \"/\" + path)"
   ]
  },
  {
   "cell_type": "markdown",
   "id": "6e0345b4-6ff6-4408-8ed2-0dddbd086219",
   "metadata": {},
   "source": [
    "TODO: переделать нахер на xgboost, он лучше катбуста и быстрее."
   ]
  }
 ],
 "metadata": {
  "kernelspec": {
   "display_name": "Python 3 (ipykernel)",
   "language": "python",
   "name": "python3"
  },
  "language_info": {
   "codemirror_mode": {
    "name": "ipython",
    "version": 3
   },
   "file_extension": ".py",
   "mimetype": "text/x-python",
   "name": "python",
   "nbconvert_exporter": "python",
   "pygments_lexer": "ipython3",
   "version": "3.11.7"
  }
 },
 "nbformat": 4,
 "nbformat_minor": 5
}
