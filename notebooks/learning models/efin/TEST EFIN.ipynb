{
 "cells": [
  {
   "cell_type": "code",
   "execution_count": 3,
   "id": "1bd552b4-9e8c-4e19-9f7d-4e3089e6c22c",
   "metadata": {},
   "outputs": [
    {
     "name": "stdout",
     "output_type": "stream",
     "text": [
      "The autoreload extension is already loaded. To reload it, use:\n",
      "  %reload_ext autoreload\n"
     ]
    }
   ],
   "source": [
    "import pathlib\n",
    "import os\n",
    "from pathlib import Path\n",
    "import sys\n",
    " \n",
    "if sys.argv:\n",
    "    sys.path.insert(0, \"/home/ogrobertino/UpliftModelingResearch\")\n",
    "%load_ext autoreload\n",
    "%autoreload 2"
   ]
  },
  {
   "cell_type": "code",
   "execution_count": 5,
   "id": "b0fff5ee-d2b1-4098-b173-8f69f696a598",
   "metadata": {},
   "outputs": [],
   "source": [
    "from src.utils import get_paths_train_test, train_test_model\n",
    "from src.factory import EFINUpliftModelFactory\n",
    "from src.models.NNUpliftModeling.EFINUpliftModel import EFINUpliftModel\n",
    "import pandas as pd"
   ]
  },
  {
   "cell_type": "code",
   "execution_count": 7,
   "id": "98ce159f-09a7-4cdf-92fe-80ef1751ab3a",
   "metadata": {},
   "outputs": [],
   "source": [
    "ds_name = 'lazada_v2'\n",
    "features_percent = 100\n",
    "train_path, test_path = get_paths_train_test(ds_name=ds_name, features_percent=features_percent)"
   ]
  },
  {
   "cell_type": "code",
   "execution_count": 8,
   "id": "8dba5d29-4cc5-49cd-a095-935b6b2ad45c",
   "metadata": {},
   "outputs": [],
   "source": [
    "import pandas as pd\n",
    "ds = pd.read_csv(train_path, sep='\\t')"
   ]
  },
  {
   "cell_type": "code",
   "execution_count": 9,
   "id": "7c3fe727-5c7d-40c8-ba1b-5bf7f521dd7d",
   "metadata": {},
   "outputs": [
    {
     "data": {
      "text/plain": [
       "83"
      ]
     },
     "execution_count": 9,
     "metadata": {},
     "output_type": "execute_result"
    }
   ],
   "source": [
    "input_size = len(ds.columns) - 2\n",
    "input_size"
   ]
  },
  {
   "cell_type": "markdown",
   "id": "f3b3ff31-1725-4da7-b5b9-4526ff66c1bb",
   "metadata": {},
   "source": [
    "маленькая модель"
   ]
  },
  {
   "cell_type": "code",
   "execution_count": 27,
   "id": "83d094c6-ff6e-4667-8a9e-eaa755e77895",
   "metadata": {},
   "outputs": [],
   "source": [
    "params = {\n",
    "    'input_dim': input_size, \n",
    "    'hc_dim': 64,    \n",
    "    'hu_dim': 64,      \n",
    "    'act_type': 'elu',    \n",
    "    \n",
    "    'batch_size': 128,\n",
    "    'epochs': 10,\n",
    "    'early_stopping_patience': 2,\n",
    "    \n",
    "    'optimizer': \n",
    "        {\n",
    "            'name': 'Adam',\n",
    "            'lr': 0.005,\n",
    "            'weight_decay': 0.001\n",
    "        },\n",
    "    \n",
    "    # Настройки планировщика\n",
    "    'scheduler': {\n",
    "        'name': 'ReduceLROnPlateau',\n",
    "        'patience': 3,\n",
    "        'factor': 0.5\n",
    "    },\n",
    "\n",
    "    'efin_version': '3'\n",
    "}"
   ]
  },
  {
   "cell_type": "code",
   "execution_count": 23,
   "id": "72fdb395-58bd-4bf9-ae40-a3a8cb6f06e9",
   "metadata": {},
   "outputs": [
    {
     "name": "stderr",
     "output_type": "stream",
     "text": [
      "/home/ogrobertino/test_env/lib/python3.10/site-packages/torch/optim/lr_scheduler.py:62: UserWarning: The verbose parameter is deprecated. Please use get_last_lr() to access the learning rate.\n",
      "  warnings.warn(\n"
     ]
    }
   ],
   "source": [
    "configs = EFINUpliftModel.generate_config(count=4, params = params)\n",
    "factory = EFINUpliftModelFactory\n",
    "config = configs[0]\n",
    "batch_size=32\n",
    "max_size=100000\n",
    "model, train, test = factory.create(config, train_path, test_path)"
   ]
  },
  {
   "cell_type": "code",
   "execution_count": 24,
   "id": "c11756af-06b8-4588-b2a2-3595c22d4326",
   "metadata": {},
   "outputs": [
    {
     "data": {
      "text/plain": [
       "EFIN(\n",
       "  (att_embed_1): Linear(in_features=64, out_features=64, bias=False)\n",
       "  (att_embed_2): Linear(in_features=64, out_features=64, bias=True)\n",
       "  (att_embed_3): Linear(in_features=64, out_features=1, bias=False)\n",
       "  (softmax): Softmax(dim=-1)\n",
       "  (Q_w): Linear(in_features=64, out_features=64, bias=True)\n",
       "  (K_w): Linear(in_features=64, out_features=64, bias=True)\n",
       "  (V_w): Linear(in_features=64, out_features=64, bias=True)\n",
       "  (x_rep): Embedding(83, 64)\n",
       "  (t_rep): Linear(in_features=1, out_features=64, bias=True)\n",
       "  (c_layers): ModuleList(\n",
       "    (0): Linear(in_features=5312, out_features=64, bias=True)\n",
       "    (1): Linear(in_features=64, out_features=64, bias=True)\n",
       "    (2): Linear(in_features=64, out_features=32, bias=True)\n",
       "    (3): Linear(in_features=32, out_features=16, bias=True)\n",
       "  )\n",
       "  (c_logit): Linear(in_features=16, out_features=1, bias=True)\n",
       "  (c_tau): Linear(in_features=16, out_features=1, bias=True)\n",
       "  (u_layers): ModuleList(\n",
       "    (0): Linear(in_features=64, out_features=64, bias=True)\n",
       "    (1): Linear(in_features=64, out_features=32, bias=True)\n",
       "    (2): Linear(in_features=32, out_features=16, bias=True)\n",
       "  )\n",
       "  (t_logit): Linear(in_features=16, out_features=1, bias=True)\n",
       "  (u_tau): Linear(in_features=16, out_features=1, bias=True)\n",
       "  (act): ELU(alpha=1.0)\n",
       ")"
      ]
     },
     "execution_count": 24,
     "metadata": {},
     "output_type": "execute_result"
    }
   ],
   "source": [
    "model.model"
   ]
  },
  {
   "cell_type": "code",
   "execution_count": 17,
   "id": "c037a98d-fcfa-4ebc-9b69-8278b8b88cbb",
   "metadata": {},
   "outputs": [
    {
     "data": {
      "text/plain": [
       "379876"
      ]
     },
     "execution_count": 17,
     "metadata": {},
     "output_type": "execute_result"
    }
   ],
   "source": [
    "model.num_params()"
   ]
  },
  {
   "cell_type": "code",
   "execution_count": 23,
   "id": "bc41b741-4057-4b00-a662-3ae1e04ecd84",
   "metadata": {},
   "outputs": [],
   "source": [
    "params = {\n",
    "    'input_dim': input_size, \n",
    "    'hc_dim': 256,    \n",
    "    'hu_dim': 256,      \n",
    "    'act_type': 'elu',    \n",
    "    \n",
    "    'batch_size': 128,\n",
    "    'epochs': 10,\n",
    "    'early_stopping_patience': 2,\n",
    "    \n",
    "    'optimizer': \n",
    "        {\n",
    "            'name': 'Adam',\n",
    "            'lr': 0.005,\n",
    "            'weight_decay': 0.001\n",
    "        },\n",
    "    \n",
    "    # Настройки планировщика\n",
    "    'scheduler': {\n",
    "        'name': 'ReduceLROnPlateau',\n",
    "        'patience': 3,\n",
    "        'factor': 0.5\n",
    "    },\n",
    "\n",
    "    'efin_version': '6'\n",
    "}"
   ]
  },
  {
   "cell_type": "code",
   "execution_count": 26,
   "id": "d109e5a6-fa15-4712-8f3b-d4eb670a717d",
   "metadata": {},
   "outputs": [
    {
     "name": "stderr",
     "output_type": "stream",
     "text": [
      "/home/ogrobertino/test_env/lib/python3.10/site-packages/torch/optim/lr_scheduler.py:62: UserWarning: The verbose parameter is deprecated. Please use get_last_lr() to access the learning rate.\n",
      "  warnings.warn(\n"
     ]
    }
   ],
   "source": [
    "configs = EFINUpliftModel.generate_config(count=4, params = params)\n",
    "factory = EFINUpliftModelFactory\n",
    "config = configs[0]\n",
    "batch_size=32\n",
    "max_size=100000\n",
    "model, train, test = factory.create(config, train_path, test_path)"
   ]
  },
  {
   "cell_type": "code",
   "execution_count": 27,
   "id": "5d99b98d-f2b0-4805-9fea-691594498a5b",
   "metadata": {},
   "outputs": [
    {
     "data": {
      "text/plain": [
       "EFIN(\n",
       "  (att_embed_1): Linear(in_features=256, out_features=256, bias=False)\n",
       "  (att_embed_2): Linear(in_features=256, out_features=256, bias=True)\n",
       "  (att_embed_3): Linear(in_features=256, out_features=1, bias=False)\n",
       "  (softmax): Softmax(dim=-1)\n",
       "  (Q_w): Linear(in_features=256, out_features=256, bias=True)\n",
       "  (K_w): Linear(in_features=256, out_features=256, bias=True)\n",
       "  (V_w): Linear(in_features=256, out_features=256, bias=True)\n",
       "  (x_rep): Embedding(83, 256)\n",
       "  (t_rep): Linear(in_features=1, out_features=256, bias=True)\n",
       "  (c_layers): ModuleList(\n",
       "    (0): Linear(in_features=21248, out_features=256, bias=True)\n",
       "    (1): Linear(in_features=256, out_features=256, bias=True)\n",
       "    (2): Linear(in_features=256, out_features=128, bias=True)\n",
       "    (3): Linear(in_features=128, out_features=128, bias=True)\n",
       "    (4): Linear(in_features=128, out_features=64, bias=True)\n",
       "    (5): Linear(in_features=64, out_features=64, bias=True)\n",
       "  )\n",
       "  (c_logit): Linear(in_features=64, out_features=1, bias=True)\n",
       "  (c_tau): Linear(in_features=64, out_features=1, bias=True)\n",
       "  (u_layers): ModuleList(\n",
       "    (0): Linear(in_features=256, out_features=256, bias=True)\n",
       "    (1): Linear(in_features=256, out_features=128, bias=True)\n",
       "    (2): Linear(in_features=128, out_features=128, bias=True)\n",
       "    (3): Linear(in_features=128, out_features=64, bias=True)\n",
       "    (4): Linear(in_features=64, out_features=64, bias=True)\n",
       "  )\n",
       "  (t_logit): Linear(in_features=64, out_features=1, bias=True)\n",
       "  (u_tau): Linear(in_features=64, out_features=1, bias=True)\n",
       "  (act): ELU(alpha=1.0)\n",
       ")"
      ]
     },
     "execution_count": 27,
     "metadata": {},
     "output_type": "execute_result"
    }
   ],
   "source": [
    "model.model"
   ]
  },
  {
   "cell_type": "code",
   "execution_count": 28,
   "id": "924043e0-9682-481b-abfd-387dd2867c43",
   "metadata": {},
   "outputs": [
    {
     "data": {
      "text/plain": [
       "6045956"
      ]
     },
     "execution_count": 28,
     "metadata": {},
     "output_type": "execute_result"
    }
   ],
   "source": [
    "model.num_params()"
   ]
  },
  {
   "cell_type": "code",
   "execution_count": 32,
   "id": "7f65d0ba-706c-4b99-bc3b-0b25373f9778",
   "metadata": {},
   "outputs": [],
   "source": [
    "train_test_model(ds_name='lazada_v2', features_percent=100, factory=EFINUpliftModelFactory, config=configs[0], NN=True)   "
   ]
  },
  {
   "cell_type": "code",
   "execution_count": null,
   "id": "4b954017-4a2c-4858-9c30-9f4f5831eaac",
   "metadata": {},
   "outputs": [],
   "source": [
    "train_test_model(ds_name='lazada_v2', features_percent=50, factory=EFINUpliftModelFactory, config=configs[0], NN=True)   "
   ]
  },
  {
   "cell_type": "code",
   "execution_count": null,
   "id": "8ebf47e0-0fe4-4ee1-a5e9-c3bc0baf6932",
   "metadata": {},
   "outputs": [],
   "source": [
    "# for i in tqdm(range(len(configs)), desc=\"Training models\"):\n",
    "#     train_test_model(ds_name='lazada_v2', features_percent=100, factory=EFINUpliftModelFactory, config=configs[i])   "
   ]
  },
  {
   "cell_type": "code",
   "execution_count": 30,
   "id": "34845a63-71b4-4cfa-85fe-b91abad9357b",
   "metadata": {},
   "outputs": [],
   "source": [
    "from src.global_params import BASE_PATH\n",
    "path = pd.read_csv(BASE_PATH + \"/exps2/stats.tsv\", sep='\\t').Path.iloc[-1]\n",
    "model = EFINUpliftModelFactory(from_load=True, path = str(BASE_PATH) + \"/\" + path)"
   ]
  },
  {
   "cell_type": "code",
   "execution_count": null,
   "id": "1ad9bb6f-b299-433c-95f8-32f4b035dc44",
   "metadata": {},
   "outputs": [],
   "source": [
    "model.measure_inference_time("
   ]
  }
 ],
 "metadata": {
  "kernelspec": {
   "display_name": "Python 3 (ipykernel)",
   "language": "python",
   "name": "python3"
  },
  "language_info": {
   "codemirror_mode": {
    "name": "ipython",
    "version": 3
   },
   "file_extension": ".py",
   "mimetype": "text/x-python",
   "name": "python",
   "nbconvert_exporter": "python",
   "pygments_lexer": "ipython3",
   "version": "3.10.6"
  }
 },
 "nbformat": 4,
 "nbformat_minor": 5
}
