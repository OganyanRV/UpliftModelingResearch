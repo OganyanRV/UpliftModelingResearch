{
 "cells": [
  {
   "cell_type": "markdown",
   "id": "9d2d9151-caa3-4377-8e02-48712cc1c5fe",
   "metadata": {},
   "source": [
    "## Smodeling "
   ]
  },
  {
   "cell_type": "markdown",
   "id": "2c9dcb63-06a7-43db-bf4b-21046de0877f",
   "metadata": {},
   "source": [
    "https://habr.com/ru/companies/ru_mts/articles/485980/\n",
    "https://causalml.readthedocs.io/en/latest/methodology.html#s-learner https://github.com/uber/causalml/tree/master/causalml/inference/meta"
   ]
  },
  {
   "cell_type": "code",
   "execution_count": 1,
   "id": "78575b3c-2a2c-4b99-8bd7-e407f74d1a28",
   "metadata": {},
   "outputs": [],
   "source": [
    "from pathlib import Path\n",
    "import sys\n",
    " \n",
    "if sys.argv:\n",
    "    sys.path.insert(0, str(Path('/Users/ogrobertino/UpliftModelingResearch/').resolve()))\n",
    "%load_ext autoreload\n",
    "%autoreload 2"
   ]
  },
  {
   "cell_type": "code",
   "execution_count": 2,
   "id": "ec1153e7-81e8-4c93-b367-e575bef4d325",
   "metadata": {},
   "outputs": [],
   "source": [
    "parameters = {\n",
    "    # 'iterations': (20, 100),\n",
    "    'iterations': (1, 2),\n",
    "    'learning_rate': (0.01, 0.5),\n",
    "    'depth': (4, 15)\n",
    "}"
   ]
  },
  {
   "cell_type": "code",
   "execution_count": 3,
   "id": "bcdb6087-a883-4ab1-8317-16206df86c0d",
   "metadata": {},
   "outputs": [
    {
     "name": "stderr",
     "output_type": "stream",
     "text": [
      "Failed to import duecredit due to No module named 'duecredit'\n"
     ]
    }
   ],
   "source": [
    "from src.utils import get_paths_train_test\n",
    "from src.factory import SModelFactory"
   ]
  },
  {
   "cell_type": "code",
   "execution_count": 4,
   "id": "684819e2-47b7-4ddb-9c99-2e20446524fe",
   "metadata": {},
   "outputs": [],
   "source": [
    "def train_test_model(ds_name, features_percent, factory, config, batch_size=32, max_size=100000):\n",
    "    train_path, test_path = get_paths_train_test(ds_name=ds_name, features_percent=features_percent)\n",
    "    model, train, test = factory.create(config, train_path, test_path)\n",
    "    model.fit(train)\n",
    "    predicted = model.predict(test)\n",
    "    write(model, test, predicted, ds_name=ds_name, features_percent=features_percent,\n",
    "          batch_size=batch_size, max_size=max_size)  \n",
    "\n",
    "from src.utils import get_paths_train_test, train_test_model\n",
    "from src.factory import SModelFactory\n",
    "from src.configs_generation import generate_random_configs_smodel\n",
    "from tqdm import tqdm\n",
    "\n",
    "configs = generate_random_configs_smodel(parameters, count=10)"
   ]
  },
  {
   "cell_type": "code",
   "execution_count": 78,
   "id": "9c66b5f3-8e9d-49f0-bda5-19c0e0218abd",
   "metadata": {},
   "outputs": [
    {
     "name": "stdout",
     "output_type": "stream",
     "text": [
      "\u001b[33mWARNING: pip index is currently an experimental command. It may be removed/changed in a future release without prior warning.\u001b[0m\u001b[33m\n",
      "catboost (1.2.7)\n",
      "Available versions: 1.2.7, 1.2.6, 1.2.5, 1.2.3, 1.2.2, 1.2.1.1, 1.2.1, 1.2\n",
      "  INSTALLED: 1.2.7\n",
      "  LATEST:    1.2.7\n",
      "\n",
      "\u001b[1m[\u001b[0m\u001b[34;49mnotice\u001b[0m\u001b[1;39;49m]\u001b[0m\u001b[39;49m A new release of pip is available: \u001b[0m\u001b[31;49m23.2.1\u001b[0m\u001b[39;49m -> \u001b[0m\u001b[32;49m25.0.1\u001b[0m\n",
      "\u001b[1m[\u001b[0m\u001b[34;49mnotice\u001b[0m\u001b[1;39;49m]\u001b[0m\u001b[39;49m To update, run: \u001b[0m\u001b[32;49mpip install --upgrade pip\u001b[0m\n"
     ]
    }
   ],
   "source": [
    "!pip index versions catboost"
   ]
  },
  {
   "cell_type": "code",
   "execution_count": 8,
   "id": "7dacf7a1-af72-49ab-ba8f-efbe514fca73",
   "metadata": {},
   "outputs": [
    {
     "name": "stdout",
     "output_type": "stream",
     "text": [
      "\n",
      "\u001b[1m[\u001b[0m\u001b[34;49mnotice\u001b[0m\u001b[1;39;49m]\u001b[0m\u001b[39;49m A new release of pip is available: \u001b[0m\u001b[31;49m23.2.1\u001b[0m\u001b[39;49m -> \u001b[0m\u001b[32;49m25.0.1\u001b[0m\n",
      "\u001b[1m[\u001b[0m\u001b[34;49mnotice\u001b[0m\u001b[1;39;49m]\u001b[0m\u001b[39;49m To update, run: \u001b[0m\u001b[32;49mpip install --upgrade pip\u001b[0m\n"
     ]
    }
   ],
   "source": [
    "!pip install catboost==1.2.7 -q"
   ]
  },
  {
   "cell_type": "code",
   "execution_count": 5,
   "id": "4db62806-616a-4e12-8a2a-bbc72721d956",
   "metadata": {},
   "outputs": [],
   "source": [
    "ds_name = 'lazada'\n",
    "features_percent = 50\n",
    "factory = SModelFactory\n",
    "config = configs[0]\n",
    "batch_size=32\n",
    "max_size=100000\n",
    "train_path, test_path = get_paths_train_test(ds_name=ds_name, features_percent=features_percent)\n",
    "model, train, test = factory.create(config, train_path, test_path)"
   ]
  },
  {
   "cell_type": "code",
   "execution_count": 6,
   "id": "81eefeb9-531b-47ef-b1bf-12894f9b4eeb",
   "metadata": {},
   "outputs": [],
   "source": [
    "model.fit(train)"
   ]
  },
  {
   "cell_type": "code",
   "execution_count": 7,
   "id": "efe88469-ee77-4651-a9b3-95fbbf855422",
   "metadata": {},
   "outputs": [
    {
     "ename": "ValueError",
     "evalue": "assignment destination is read-only",
     "output_type": "error",
     "traceback": [
      "\u001b[0;31m---------------------------------------------------------------------------\u001b[0m",
      "\u001b[0;31mValueError\u001b[0m                                Traceback (most recent call last)",
      "Cell \u001b[0;32mIn[7], line 1\u001b[0m\n\u001b[0;32m----> 1\u001b[0m \u001b[43mmodel\u001b[49m\u001b[38;5;241;43m.\u001b[39;49m\u001b[43mpredict\u001b[49m\u001b[43m(\u001b[49m\u001b[43mtest\u001b[49m\u001b[43m)\u001b[49m\n",
      "File \u001b[0;32m~/UpliftModelingResearch/src/models/ICausalML/ICausalML.py:22\u001b[0m, in \u001b[0;36mICausalML.predict\u001b[0;34m(self, X)\u001b[0m\n\u001b[1;32m     20\u001b[0m \u001b[38;5;28;01mdef\u001b[39;00m\u001b[38;5;250m \u001b[39m\u001b[38;5;21mpredict\u001b[39m(\u001b[38;5;28mself\u001b[39m, X: NumpyDataset):           \n\u001b[1;32m     21\u001b[0m     scores \u001b[38;5;241m=\u001b[39m X\u001b[38;5;241m.\u001b[39mdata\u001b[38;5;241m.\u001b[39mcopy(deep\u001b[38;5;241m=\u001b[39m\u001b[38;5;28;01mTrue\u001b[39;00m)\n\u001b[0;32m---> 22\u001b[0m     scores[\u001b[38;5;124m'\u001b[39m\u001b[38;5;124mscore\u001b[39m\u001b[38;5;124m'\u001b[39m] \u001b[38;5;241m=\u001b[39m \u001b[38;5;28;43mself\u001b[39;49m\u001b[38;5;241;43m.\u001b[39;49m\u001b[43mmodel\u001b[49m\u001b[38;5;241;43m.\u001b[39;49m\u001b[43mpredict\u001b[49m\u001b[43m(\u001b[49m\u001b[43mscores\u001b[49m\u001b[38;5;241;43m.\u001b[39;49m\u001b[43mloc\u001b[49m\u001b[43m[\u001b[49m\u001b[43m:\u001b[49m\u001b[43m,\u001b[49m\u001b[43m \u001b[49m\u001b[43mX\u001b[49m\u001b[38;5;241;43m.\u001b[39;49m\u001b[43mcols_features\u001b[49m\u001b[43m]\u001b[49m\u001b[43m)\u001b[49m\n\u001b[1;32m     23\u001b[0m     \u001b[38;5;28;01mreturn\u001b[39;00m scores[[\u001b[38;5;124m'\u001b[39m\u001b[38;5;124mscore\u001b[39m\u001b[38;5;124m'\u001b[39m, X\u001b[38;5;241m.\u001b[39mcol_treatment, X\u001b[38;5;241m.\u001b[39mcol_target]]\n",
      "File \u001b[0;32m~/new_diploma/lib/python3.11/site-packages/causalml/inference/meta/slearner.py:355\u001b[0m, in \u001b[0;36mBaseSClassifier.predict\u001b[0;34m(self, X, treatment, y, p, return_components, verbose)\u001b[0m\n\u001b[1;32m    352\u001b[0m yhat_cs[group] \u001b[38;5;241m=\u001b[39m model\u001b[38;5;241m.\u001b[39mpredict_proba(X_new)[:, \u001b[38;5;241m1\u001b[39m]\n\u001b[1;32m    354\u001b[0m \u001b[38;5;66;03m# set the treatment column to one (the treatment group)\u001b[39;00m\n\u001b[0;32m--> 355\u001b[0m \u001b[43mX_new\u001b[49m\u001b[43m[\u001b[49m\u001b[43m:\u001b[49m\u001b[43m,\u001b[49m\u001b[43m \u001b[49m\u001b[38;5;241;43m0\u001b[39;49m\u001b[43m]\u001b[49m \u001b[38;5;241m=\u001b[39m \u001b[38;5;241m1\u001b[39m\n\u001b[1;32m    356\u001b[0m yhat_ts[group] \u001b[38;5;241m=\u001b[39m model\u001b[38;5;241m.\u001b[39mpredict_proba(X_new)[:, \u001b[38;5;241m1\u001b[39m]\n\u001b[1;32m    358\u001b[0m \u001b[38;5;28;01mif\u001b[39;00m y \u001b[38;5;129;01mis\u001b[39;00m \u001b[38;5;129;01mnot\u001b[39;00m \u001b[38;5;28;01mNone\u001b[39;00m \u001b[38;5;129;01mand\u001b[39;00m (treatment \u001b[38;5;129;01mis\u001b[39;00m \u001b[38;5;129;01mnot\u001b[39;00m \u001b[38;5;28;01mNone\u001b[39;00m) \u001b[38;5;129;01mand\u001b[39;00m verbose:\n",
      "\u001b[0;31mValueError\u001b[0m: assignment destination is read-only"
     ]
    }
   ],
   "source": [
    "model.predict(test)"
   ]
  },
  {
   "cell_type": "code",
   "execution_count": 23,
   "id": "659ae7dd-906a-43d9-863e-efc85ed1c815",
   "metadata": {},
   "outputs": [
    {
     "data": {
      "text/plain": [
       "array([1.16718187, 3.49240277, 3.8610285 , 1.86314936, 5.71133975,\n",
       "       1.41689097, 3.77339136, 3.77306756, 6.47462965, 4.29905668,\n",
       "       5.51837687, 4.87652603, 3.35103278, 6.28659115, 1.816789  ,\n",
       "       3.26879797, 3.01199695, 3.22538547, 5.18187544, 1.21125904,\n",
       "       4.30864201, 1.83671831, 0.14758285, 0.0751762 , 0.04351329,\n",
       "       3.97226563, 0.14227934, 0.09338793, 0.20847555, 0.87286104,\n",
       "       0.53561725, 0.01019148, 0.0293831 , 1.13024044, 0.07910104,\n",
       "       0.06264504, 1.20548069, 0.        , 0.        , 0.02297012,\n",
       "       4.13422867, 2.66086161, 4.84760925])"
      ]
     },
     "execution_count": 23,
     "metadata": {},
     "output_type": "execute_result"
    }
   ],
   "source": [
    "model.model.models[1].feature_importances_"
   ]
  },
  {
   "cell_type": "code",
   "execution_count": 8,
   "id": "19fcfc21-1ca8-48db-a66b-87c2d3c66b1d",
   "metadata": {},
   "outputs": [],
   "source": [
    "import pandas as pd\n",
    "import numpy as np\n",
    "\n",
    "from packaging import version\n",
    "from xgboost import __version__ as xgboost_version\n",
    "\n",
    "\n",
    "def convert_pd_to_np(*args):\n",
    "    output = [obj.to_numpy() if hasattr(obj, \"to_numpy\") else obj for obj in args]\n",
    "    return output if len(output) > 1 else output[0]"
   ]
  },
  {
   "cell_type": "code",
   "execution_count": 20,
   "id": "0503e4b4-9248-40cc-b64d-28a121087334",
   "metadata": {},
   "outputs": [],
   "source": [
    "X = test.data.copy(deep=True)"
   ]
  },
  {
   "cell_type": "code",
   "execution_count": 66,
   "id": "9bf77818-66e0-4d22-b572-5420b06c872c",
   "metadata": {},
   "outputs": [
    {
     "data": {
      "text/plain": [
       "  C_CONTIGUOUS : False\n",
       "  F_CONTIGUOUS : True\n",
       "  OWNDATA : True\n",
       "  WRITEABLE : True\n",
       "  ALIGNED : True\n",
       "  WRITEBACKIFCOPY : False"
      ]
     },
     "execution_count": 66,
     "metadata": {},
     "output_type": "execute_result"
    }
   ],
   "source": [
    "X_new.flags"
   ]
  },
  {
   "cell_type": "code",
   "execution_count": 77,
   "id": "473c75aa-ab7c-4488-93f0-f4e7b857c445",
   "metadata": {},
   "outputs": [
    {
     "ename": "ValueError",
     "evalue": "assignment destination is read-only",
     "output_type": "error",
     "traceback": [
      "\u001b[0;31m---------------------------------------------------------------------------\u001b[0m",
      "\u001b[0;31mValueError\u001b[0m                                Traceback (most recent call last)",
      "Cell \u001b[0;32mIn[77], line 2\u001b[0m\n\u001b[1;32m      1\u001b[0m scores \u001b[38;5;241m=\u001b[39m test\u001b[38;5;241m.\u001b[39mdata\n\u001b[0;32m----> 2\u001b[0m scores[\u001b[38;5;124m'\u001b[39m\u001b[38;5;124mscore\u001b[39m\u001b[38;5;124m'\u001b[39m] \u001b[38;5;241m=\u001b[39m \u001b[43mmodel\u001b[49m\u001b[38;5;241;43m.\u001b[39;49m\u001b[43mmodel\u001b[49m\u001b[38;5;241;43m.\u001b[39;49m\u001b[43mpredict\u001b[49m\u001b[43m(\u001b[49m\u001b[43mscores\u001b[49m\u001b[38;5;241;43m.\u001b[39;49m\u001b[43mloc\u001b[49m\u001b[43m[\u001b[49m\u001b[43m:\u001b[49m\u001b[43m,\u001b[49m\u001b[43m \u001b[49m\u001b[43mtest\u001b[49m\u001b[38;5;241;43m.\u001b[39;49m\u001b[43mcols_features\u001b[49m\u001b[43m]\u001b[49m\u001b[43m)\u001b[49m\n",
      "File \u001b[0;32m~/new_diploma/lib/python3.11/site-packages/causalml/inference/meta/slearner.py:355\u001b[0m, in \u001b[0;36mBaseSClassifier.predict\u001b[0;34m(self, X, treatment, y, p, return_components, verbose)\u001b[0m\n\u001b[1;32m    352\u001b[0m yhat_cs[group] \u001b[38;5;241m=\u001b[39m model\u001b[38;5;241m.\u001b[39mpredict_proba(X_new)[:, \u001b[38;5;241m1\u001b[39m]\n\u001b[1;32m    354\u001b[0m \u001b[38;5;66;03m# set the treatment column to one (the treatment group)\u001b[39;00m\n\u001b[0;32m--> 355\u001b[0m \u001b[43mX_new\u001b[49m\u001b[43m[\u001b[49m\u001b[43m:\u001b[49m\u001b[43m,\u001b[49m\u001b[43m \u001b[49m\u001b[38;5;241;43m0\u001b[39;49m\u001b[43m]\u001b[49m \u001b[38;5;241m=\u001b[39m \u001b[38;5;241m1\u001b[39m\n\u001b[1;32m    356\u001b[0m yhat_ts[group] \u001b[38;5;241m=\u001b[39m model\u001b[38;5;241m.\u001b[39mpredict_proba(X_new)[:, \u001b[38;5;241m1\u001b[39m]\n\u001b[1;32m    358\u001b[0m \u001b[38;5;28;01mif\u001b[39;00m y \u001b[38;5;129;01mis\u001b[39;00m \u001b[38;5;129;01mnot\u001b[39;00m \u001b[38;5;28;01mNone\u001b[39;00m \u001b[38;5;129;01mand\u001b[39;00m (treatment \u001b[38;5;129;01mis\u001b[39;00m \u001b[38;5;129;01mnot\u001b[39;00m \u001b[38;5;28;01mNone\u001b[39;00m) \u001b[38;5;129;01mand\u001b[39;00m verbose:\n",
      "\u001b[0;31mValueError\u001b[0m: assignment destination is read-only"
     ]
    }
   ],
   "source": [
    "scores = test.data.copy(deep=True)\n",
    "scores['score'] = model.model.predict(scores.loc[:, test.cols_features])"
   ]
  },
  {
   "cell_type": "code",
   "execution_count": 49,
   "id": "1c426e82-a102-4564-b7cb-87524d2e4e4c",
   "metadata": {},
   "outputs": [
    {
     "data": {
      "text/plain": [
       "{'learn': {'Logloss': 0.5598454431903296}}"
      ]
     },
     "execution_count": 49,
     "metadata": {},
     "output_type": "execute_result"
    }
   ],
   "source": [
    "model.model.models[1].best_score_"
   ]
  },
  {
   "cell_type": "code",
   "execution_count": 70,
   "id": "d964c9f0-c560-4598-ba5d-065b7485c90e",
   "metadata": {},
   "outputs": [],
   "source": [
    "X_new = np.hstack((np.zeros((X.shape[0], 1)), X))\n",
    "# kek = model.model.models[1].predict(X_new)\n",
    "\n",
    "# set the treatment column to one (the treatment group)\n",
    "# X_new[:, 0] = 1\n",
    "# yhat_ts[group] = model.predict(X_new)"
   ]
  },
  {
   "cell_type": "code",
   "execution_count": 68,
   "id": "fab78d23-8435-4d7b-80fd-8c43f4f95427",
   "metadata": {},
   "outputs": [
    {
     "data": {
      "text/plain": [
       "  C_CONTIGUOUS : False\n",
       "  F_CONTIGUOUS : True\n",
       "  OWNDATA : True\n",
       "  WRITEABLE : True\n",
       "  ALIGNED : True\n",
       "  WRITEBACKIFCOPY : False"
      ]
     },
     "execution_count": 68,
     "metadata": {},
     "output_type": "execute_result"
    }
   ],
   "source": [
    "X_new.flags"
   ]
  },
  {
   "cell_type": "code",
   "execution_count": 72,
   "id": "a3e3b1f3-94f4-4a72-ac33-b72ca069adbf",
   "metadata": {},
   "outputs": [
    {
     "data": {
      "text/plain": [
       "  C_CONTIGUOUS : False\n",
       "  F_CONTIGUOUS : True\n",
       "  OWNDATA : False\n",
       "  WRITEABLE : True\n",
       "  ALIGNED : True\n",
       "  WRITEBACKIFCOPY : False"
      ]
     },
     "execution_count": 72,
     "metadata": {},
     "output_type": "execute_result"
    }
   ],
   "source": [
    "test.data.to_numpy().flags"
   ]
  },
  {
   "cell_type": "code",
   "execution_count": 75,
   "id": "5d340505-0bc5-4b96-b09c-5ee2f597a623",
   "metadata": {},
   "outputs": [
    {
     "ename": "CatBoostError",
     "evalue": "catboost/libs/data/model_dataset_compatibility.cpp:72: Feature 42 is present in model but not in pool.",
     "output_type": "error",
     "traceback": [
      "\u001b[0;31m---------------------------------------------------------------------------\u001b[0m",
      "\u001b[0;31mCatBoostError\u001b[0m                             Traceback (most recent call last)",
      "Cell \u001b[0;32mIn[75], line 1\u001b[0m\n\u001b[0;32m----> 1\u001b[0m kek \u001b[38;5;241m=\u001b[39m \u001b[43mmodel\u001b[49m\u001b[38;5;241;43m.\u001b[39;49m\u001b[43mmodel\u001b[49m\u001b[38;5;241;43m.\u001b[39;49m\u001b[43mmodels\u001b[49m\u001b[43m[\u001b[49m\u001b[38;5;241;43m1\u001b[39;49m\u001b[43m]\u001b[49m\u001b[38;5;241;43m.\u001b[39;49m\u001b[43mpredict\u001b[49m\u001b[43m(\u001b[49m\u001b[43mtest\u001b[49m\u001b[38;5;241;43m.\u001b[39;49m\u001b[43mdata\u001b[49m\u001b[38;5;241;43m.\u001b[39;49m\u001b[43mloc\u001b[49m\u001b[43m[\u001b[49m\u001b[43m:\u001b[49m\u001b[43m,\u001b[49m\u001b[43m \u001b[49m\u001b[43mtest\u001b[49m\u001b[38;5;241;43m.\u001b[39;49m\u001b[43mcols_features\u001b[49m\u001b[43m]\u001b[49m\u001b[43m)\u001b[49m\n\u001b[1;32m      2\u001b[0m test\u001b[38;5;241m.\u001b[39mdata\u001b[38;5;241m.\u001b[39mto_numpy()\u001b[38;5;241m.\u001b[39mflags\n",
      "File \u001b[0;32m~/new_diploma/lib/python3.11/site-packages/catboost/core.py:5307\u001b[0m, in \u001b[0;36mCatBoostClassifier.predict\u001b[0;34m(self, data, prediction_type, ntree_start, ntree_end, thread_count, verbose, task_type)\u001b[0m\n\u001b[1;32m   5250\u001b[0m \u001b[38;5;28;01mdef\u001b[39;00m\u001b[38;5;250m \u001b[39m\u001b[38;5;21mpredict\u001b[39m(\u001b[38;5;28mself\u001b[39m, data, prediction_type\u001b[38;5;241m=\u001b[39m\u001b[38;5;124m'\u001b[39m\u001b[38;5;124mClass\u001b[39m\u001b[38;5;124m'\u001b[39m, ntree_start\u001b[38;5;241m=\u001b[39m\u001b[38;5;241m0\u001b[39m, ntree_end\u001b[38;5;241m=\u001b[39m\u001b[38;5;241m0\u001b[39m, thread_count\u001b[38;5;241m=\u001b[39m\u001b[38;5;241m-\u001b[39m\u001b[38;5;241m1\u001b[39m, verbose\u001b[38;5;241m=\u001b[39m\u001b[38;5;28;01mNone\u001b[39;00m, task_type\u001b[38;5;241m=\u001b[39m\u001b[38;5;124m\"\u001b[39m\u001b[38;5;124mCPU\u001b[39m\u001b[38;5;124m\"\u001b[39m):\n\u001b[1;32m   5251\u001b[0m \u001b[38;5;250m    \u001b[39m\u001b[38;5;124;03m\"\"\"\u001b[39;00m\n\u001b[1;32m   5252\u001b[0m \u001b[38;5;124;03m    Predict with data.\u001b[39;00m\n\u001b[1;32m   5253\u001b[0m \n\u001b[0;32m   (...)\u001b[0m\n\u001b[1;32m   5305\u001b[0m \u001b[38;5;124;03m              with log probability for every class for each object.\u001b[39;00m\n\u001b[1;32m   5306\u001b[0m \u001b[38;5;124;03m    \"\"\"\u001b[39;00m\n\u001b[0;32m-> 5307\u001b[0m     \u001b[38;5;28;01mreturn\u001b[39;00m \u001b[38;5;28;43mself\u001b[39;49m\u001b[38;5;241;43m.\u001b[39;49m\u001b[43m_predict\u001b[49m\u001b[43m(\u001b[49m\u001b[43mdata\u001b[49m\u001b[43m,\u001b[49m\u001b[43m \u001b[49m\u001b[43mprediction_type\u001b[49m\u001b[43m,\u001b[49m\u001b[43m \u001b[49m\u001b[43mntree_start\u001b[49m\u001b[43m,\u001b[49m\u001b[43m \u001b[49m\u001b[43mntree_end\u001b[49m\u001b[43m,\u001b[49m\u001b[43m \u001b[49m\u001b[43mthread_count\u001b[49m\u001b[43m,\u001b[49m\u001b[43m \u001b[49m\u001b[43mverbose\u001b[49m\u001b[43m,\u001b[49m\u001b[43m \u001b[49m\u001b[38;5;124;43m'\u001b[39;49m\u001b[38;5;124;43mpredict\u001b[39;49m\u001b[38;5;124;43m'\u001b[39;49m\u001b[43m,\u001b[49m\u001b[43m \u001b[49m\u001b[43mtask_type\u001b[49m\u001b[43m)\u001b[49m\n",
      "File \u001b[0;32m~/new_diploma/lib/python3.11/site-packages/catboost/core.py:2623\u001b[0m, in \u001b[0;36mCatBoost._predict\u001b[0;34m(self, data, prediction_type, ntree_start, ntree_end, thread_count, verbose, parent_method_name, task_type)\u001b[0m\n\u001b[1;32m   2620\u001b[0m data, data_is_single_object \u001b[38;5;241m=\u001b[39m \u001b[38;5;28mself\u001b[39m\u001b[38;5;241m.\u001b[39m_process_predict_input_data(data, parent_method_name, thread_count)\n\u001b[1;32m   2621\u001b[0m \u001b[38;5;28mself\u001b[39m\u001b[38;5;241m.\u001b[39m_validate_prediction_type(prediction_type)\n\u001b[0;32m-> 2623\u001b[0m predictions \u001b[38;5;241m=\u001b[39m \u001b[38;5;28;43mself\u001b[39;49m\u001b[38;5;241;43m.\u001b[39;49m\u001b[43m_base_predict\u001b[49m\u001b[43m(\u001b[49m\u001b[43mdata\u001b[49m\u001b[43m,\u001b[49m\u001b[43m \u001b[49m\u001b[43mprediction_type\u001b[49m\u001b[43m,\u001b[49m\u001b[43m \u001b[49m\u001b[43mntree_start\u001b[49m\u001b[43m,\u001b[49m\u001b[43m \u001b[49m\u001b[43mntree_end\u001b[49m\u001b[43m,\u001b[49m\u001b[43m \u001b[49m\u001b[43mthread_count\u001b[49m\u001b[43m,\u001b[49m\u001b[43m \u001b[49m\u001b[43mverbose\u001b[49m\u001b[43m,\u001b[49m\u001b[43m \u001b[49m\u001b[43mtask_type\u001b[49m\u001b[43m)\u001b[49m\n\u001b[1;32m   2624\u001b[0m \u001b[38;5;28;01mreturn\u001b[39;00m predictions[\u001b[38;5;241m0\u001b[39m] \u001b[38;5;28;01mif\u001b[39;00m data_is_single_object \u001b[38;5;28;01melse\u001b[39;00m predictions\n",
      "File \u001b[0;32m~/new_diploma/lib/python3.11/site-packages/catboost/core.py:1842\u001b[0m, in \u001b[0;36m_CatBoostBase._base_predict\u001b[0;34m(self, pool, prediction_type, ntree_start, ntree_end, thread_count, verbose, task_type)\u001b[0m\n\u001b[1;32m   1841\u001b[0m \u001b[38;5;28;01mdef\u001b[39;00m\u001b[38;5;250m \u001b[39m\u001b[38;5;21m_base_predict\u001b[39m(\u001b[38;5;28mself\u001b[39m, pool, prediction_type, ntree_start, ntree_end, thread_count, verbose, task_type):\n\u001b[0;32m-> 1842\u001b[0m     \u001b[38;5;28;01mreturn\u001b[39;00m \u001b[38;5;28;43mself\u001b[39;49m\u001b[38;5;241;43m.\u001b[39;49m\u001b[43m_object\u001b[49m\u001b[38;5;241;43m.\u001b[39;49m\u001b[43m_base_predict\u001b[49m\u001b[43m(\u001b[49m\u001b[43mpool\u001b[49m\u001b[43m,\u001b[49m\u001b[43m \u001b[49m\u001b[43mprediction_type\u001b[49m\u001b[43m,\u001b[49m\u001b[43m \u001b[49m\u001b[43mntree_start\u001b[49m\u001b[43m,\u001b[49m\u001b[43m \u001b[49m\u001b[43mntree_end\u001b[49m\u001b[43m,\u001b[49m\u001b[43m \u001b[49m\u001b[43mthread_count\u001b[49m\u001b[43m,\u001b[49m\u001b[43m \u001b[49m\u001b[43mverbose\u001b[49m\u001b[43m,\u001b[49m\u001b[43m \u001b[49m\u001b[43mtask_type\u001b[49m\u001b[43m)\u001b[49m\n",
      "File \u001b[0;32m_catboost.pyx:5153\u001b[0m, in \u001b[0;36m_catboost._CatBoost._base_predict\u001b[0;34m()\u001b[0m\n",
      "File \u001b[0;32m_catboost.pyx:5160\u001b[0m, in \u001b[0;36m_catboost._CatBoost._base_predict\u001b[0;34m()\u001b[0m\n",
      "\u001b[0;31mCatBoostError\u001b[0m: catboost/libs/data/model_dataset_compatibility.cpp:72: Feature 42 is present in model but not in pool."
     ]
    }
   ],
   "source": [
    "kek = model.model.models[1].predict(test.data.loc[:, test.cols_features])\n",
    "test.data.to_numpy().flags"
   ]
  },
  {
   "cell_type": "code",
   "execution_count": null,
   "id": "bcc7f2ba-c4c1-4f6a-85fc-022e5f31678b",
   "metadata": {},
   "outputs": [],
   "source": [
    ".loc[:, test.cols_features]"
   ]
  },
  {
   "cell_type": "code",
   "execution_count": 69,
   "id": "1e6e816c-240b-47db-b244-364d222d6970",
   "metadata": {},
   "outputs": [
    {
     "data": {
      "text/plain": [
       "  C_CONTIGUOUS : False\n",
       "  F_CONTIGUOUS : True\n",
       "  OWNDATA : True\n",
       "  WRITEABLE : False\n",
       "  ALIGNED : True\n",
       "  WRITEBACKIFCOPY : False"
      ]
     },
     "execution_count": 69,
     "metadata": {},
     "output_type": "execute_result"
    }
   ],
   "source": [
    "kek = model.model.models[1].predict(X_new)\n",
    "X_new.flags"
   ]
  },
  {
   "cell_type": "code",
   "execution_count": 62,
   "id": "3da2be10-c9a2-40b9-836c-cfc73ddbc3a9",
   "metadata": {},
   "outputs": [
    {
     "data": {
      "text/plain": [
       "\u001b[0;31mDocstring:\u001b[0m\n",
       "array(object, dtype=None, *, copy=True, order='K', subok=False, ndmin=0,\n",
       "      like=None)\n",
       "\n",
       "Create an array.\n",
       "\n",
       "Parameters\n",
       "----------\n",
       "object : array_like\n",
       "    An array, any object exposing the array interface, an object whose\n",
       "    ``__array__`` method returns an array, or any (nested) sequence.\n",
       "    If object is a scalar, a 0-dimensional array containing object is\n",
       "    returned.\n",
       "dtype : data-type, optional\n",
       "    The desired data-type for the array. If not given, NumPy will try to use\n",
       "    a default ``dtype`` that can represent the values (by applying promotion\n",
       "    rules when necessary.)\n",
       "copy : bool, optional\n",
       "    If true (default), then the object is copied.  Otherwise, a copy will\n",
       "    only be made if ``__array__`` returns a copy, if obj is a nested\n",
       "    sequence, or if a copy is needed to satisfy any of the other\n",
       "    requirements (``dtype``, ``order``, etc.).\n",
       "order : {'K', 'A', 'C', 'F'}, optional\n",
       "    Specify the memory layout of the array. If object is not an array, the\n",
       "    newly created array will be in C order (row major) unless 'F' is\n",
       "    specified, in which case it will be in Fortran order (column major).\n",
       "    If object is an array the following holds.\n",
       "\n",
       "    ===== ========= ===================================================\n",
       "    order  no copy                     copy=True\n",
       "    ===== ========= ===================================================\n",
       "    'K'   unchanged F & C order preserved, otherwise most similar order\n",
       "    'A'   unchanged F order if input is F and not C, otherwise C order\n",
       "    'C'   C order   C order\n",
       "    'F'   F order   F order\n",
       "    ===== ========= ===================================================\n",
       "\n",
       "    When ``copy=False`` and a copy is made for other reasons, the result is\n",
       "    the same as if ``copy=True``, with some exceptions for 'A', see the\n",
       "    Notes section. The default order is 'K'.\n",
       "subok : bool, optional\n",
       "    If True, then sub-classes will be passed-through, otherwise\n",
       "    the returned array will be forced to be a base-class array (default).\n",
       "ndmin : int, optional\n",
       "    Specifies the minimum number of dimensions that the resulting\n",
       "    array should have.  Ones will be prepended to the shape as\n",
       "    needed to meet this requirement.\n",
       "like : array_like, optional\n",
       "    Reference object to allow the creation of arrays which are not\n",
       "    NumPy arrays. If an array-like passed in as ``like`` supports\n",
       "    the ``__array_function__`` protocol, the result will be defined\n",
       "    by it. In this case, it ensures the creation of an array object\n",
       "    compatible with that passed in via this argument.\n",
       "\n",
       "    .. versionadded:: 1.20.0\n",
       "\n",
       "Returns\n",
       "-------\n",
       "out : ndarray\n",
       "    An array object satisfying the specified requirements.\n",
       "\n",
       "See Also\n",
       "--------\n",
       "empty_like : Return an empty array with shape and type of input.\n",
       "ones_like : Return an array of ones with shape and type of input.\n",
       "zeros_like : Return an array of zeros with shape and type of input.\n",
       "full_like : Return a new array with shape of input filled with value.\n",
       "empty : Return a new uninitialized array.\n",
       "ones : Return a new array setting values to one.\n",
       "zeros : Return a new array setting values to zero.\n",
       "full : Return a new array of given shape filled with value.\n",
       "\n",
       "\n",
       "Notes\n",
       "-----\n",
       "When order is 'A' and ``object`` is an array in neither 'C' nor 'F' order,\n",
       "and a copy is forced by a change in dtype, then the order of the result is\n",
       "not necessarily 'C' as expected. This is likely a bug.\n",
       "\n",
       "Examples\n",
       "--------\n",
       ">>> np.array([1, 2, 3])\n",
       "array([1, 2, 3])\n",
       "\n",
       "Upcasting:\n",
       "\n",
       ">>> np.array([1, 2, 3.0])\n",
       "array([ 1.,  2.,  3.])\n",
       "\n",
       "More than one dimension:\n",
       "\n",
       ">>> np.array([[1, 2], [3, 4]])\n",
       "array([[1, 2],\n",
       "       [3, 4]])\n",
       "\n",
       "Minimum dimensions 2:\n",
       "\n",
       ">>> np.array([1, 2, 3], ndmin=2)\n",
       "array([[1, 2, 3]])\n",
       "\n",
       "Type provided:\n",
       "\n",
       ">>> np.array([1, 2, 3], dtype=complex)\n",
       "array([ 1.+0.j,  2.+0.j,  3.+0.j])\n",
       "\n",
       "Data-type consisting of more than one element:\n",
       "\n",
       ">>> x = np.array([(1,2),(3,4)],dtype=[('a','<i4'),('b','<i4')])\n",
       ">>> x['a']\n",
       "array([1, 3])\n",
       "\n",
       "Creating an array from sub-classes:\n",
       "\n",
       ">>> np.array(np.mat('1 2; 3 4'))\n",
       "array([[1, 2],\n",
       "       [3, 4]])\n",
       "\n",
       ">>> np.array(np.mat('1 2; 3 4'), subok=True)\n",
       "matrix([[1, 2],\n",
       "        [3, 4]])\n",
       "\u001b[0;31mType:\u001b[0m      builtin_function_or_method"
      ]
     },
     "metadata": {},
     "output_type": "display_data"
    }
   ],
   "source": [
    "np.array??"
   ]
  },
  {
   "cell_type": "code",
   "execution_count": 61,
   "id": "8591befa-a09a-422d-a306-ca4a26d0f9f3",
   "metadata": {},
   "outputs": [
    {
     "data": {
      "text/plain": [
       "array([[ 0.00000000e+00,  2.00000000e+00,  6.00000000e+00, ...,\n",
       "        -1.67841480e-02,  1.36126210e-02,  4.36309862e+00],\n",
       "       [ 0.00000000e+00,  2.00000000e+00,  2.00000000e+00, ...,\n",
       "        -1.67841480e-02,  1.36126210e-02,  5.23909801e+00],\n",
       "       [ 0.00000000e+00,  2.00000000e+00,  4.40000000e+01, ...,\n",
       "        -1.67841480e-02,  1.36126210e-02,  1.25276297e+00],\n",
       "       ...,\n",
       "       [ 0.00000000e+00,  0.00000000e+00,  3.65000000e+02, ...,\n",
       "         4.06665200e-03,  2.07665160e-01,  0.00000000e+00],\n",
       "       [ 0.00000000e+00,  2.00000000e+00,  3.65000000e+02, ...,\n",
       "         4.06665200e-03,  2.07665160e-01,  1.38629436e+00],\n",
       "       [ 0.00000000e+00,  1.00000000e+00,  5.80000000e+01, ...,\n",
       "         9.19378200e-04,  1.27585020e-03,  2.70805020e+00]])"
      ]
     },
     "execution_count": 61,
     "metadata": {},
     "output_type": "execute_result"
    }
   ],
   "source": [
    "X_new"
   ]
  },
  {
   "cell_type": "code",
   "execution_count": 59,
   "id": "526f362c-d919-4b21-856c-b6d08dec9622",
   "metadata": {},
   "outputs": [
    {
     "ename": "ValueError",
     "evalue": "assignment destination is read-only",
     "output_type": "error",
     "traceback": [
      "\u001b[0;31m---------------------------------------------------------------------------\u001b[0m",
      "\u001b[0;31mValueError\u001b[0m                                Traceback (most recent call last)",
      "Cell \u001b[0;32mIn[59], line 1\u001b[0m\n\u001b[0;32m----> 1\u001b[0m \u001b[43mX_new\u001b[49m\u001b[43m[\u001b[49m\u001b[43m:\u001b[49m\u001b[43m,\u001b[49m\u001b[43m \u001b[49m\u001b[38;5;241;43m0\u001b[39;49m\u001b[43m]\u001b[49m \u001b[38;5;241m=\u001b[39m \u001b[38;5;241m1\u001b[39m\n",
      "\u001b[0;31mValueError\u001b[0m: assignment destination is read-only"
     ]
    }
   ],
   "source": [
    "X_new[:, 0] = 1"
   ]
  },
  {
   "cell_type": "code",
   "execution_count": 51,
   "id": "e43397c5-b2b1-40a4-8e57-1923106471ea",
   "metadata": {},
   "outputs": [
    {
     "data": {
      "text/plain": [
       "array([0, 0, 0, ..., 0, 0, 0])"
      ]
     },
     "execution_count": 51,
     "metadata": {},
     "output_type": "execute_result"
    }
   ],
   "source": [
    "kek"
   ]
  },
  {
   "cell_type": "code",
   "execution_count": 54,
   "id": "4ea7d407-3c0f-44f9-b7cc-af64126683ef",
   "metadata": {},
   "outputs": [
    {
     "ename": "ValueError",
     "evalue": "assignment destination is read-only",
     "output_type": "error",
     "traceback": [
      "\u001b[0;31m---------------------------------------------------------------------------\u001b[0m",
      "\u001b[0;31mValueError\u001b[0m                                Traceback (most recent call last)",
      "Cell \u001b[0;32mIn[54], line 1\u001b[0m\n\u001b[0;32m----> 1\u001b[0m \u001b[43mX_new\u001b[49m\u001b[43m[\u001b[49m\u001b[43m:\u001b[49m\u001b[43m,\u001b[49m\u001b[43m \u001b[49m\u001b[38;5;241;43m0\u001b[39;49m\u001b[43m]\u001b[49m \u001b[38;5;241m=\u001b[39m \u001b[38;5;241m1\u001b[39m\n\u001b[1;32m      2\u001b[0m \u001b[38;5;66;03m# yhat_ts[group] = model.predict(X_new)\u001b[39;00m\n",
      "\u001b[0;31mValueError\u001b[0m: assignment destination is read-only"
     ]
    }
   ],
   "source": [
    "X_new[:, 0] = 1\n",
    "# yhat_ts[group] = model.predict(X_new)"
   ]
  },
  {
   "cell_type": "code",
   "execution_count": 53,
   "id": "a4f09cf7-3999-4e0a-8abb-1916ff5e8fa8",
   "metadata": {},
   "outputs": [
    {
     "data": {
      "text/plain": [
       "(181669, 43)"
      ]
     },
     "execution_count": 53,
     "metadata": {},
     "output_type": "execute_result"
    }
   ],
   "source": [
    "X_new.shape"
   ]
  },
  {
   "cell_type": "code",
   "execution_count": 27,
   "id": "6fee0a67-bdc7-445b-b8cb-6378263585e5",
   "metadata": {},
   "outputs": [],
   "source": [
    "X = scores.loc[:, test.cols_features]"
   ]
  },
  {
   "cell_type": "code",
   "execution_count": 28,
   "id": "43581310-b966-4ddc-8afd-342b1faece0f",
   "metadata": {},
   "outputs": [],
   "source": [
    "treatment = None\n",
    "y = None\n",
    "X, treatment, y = convert_pd_to_np(X, treatment, y)\n",
    "yhat_cs = {}\n",
    "yhat_ts = {}"
   ]
  },
  {
   "cell_type": "code",
   "execution_count": 30,
   "id": "b3cb0c34-7b17-4dec-a19d-39b9461d3521",
   "metadata": {},
   "outputs": [],
   "source": [
    "X_new = np.hstack((np.zeros((X.shape[0], 1)), X))"
   ]
  },
  {
   "cell_type": "code",
   "execution_count": 31,
   "id": "23ace9d3-56dc-42a0-bd55-06316a8fa05e",
   "metadata": {},
   "outputs": [
    {
     "data": {
      "text/plain": [
       "array([[ 0.00000000e+00,  2.00000000e+00,  6.00000000e+00, ...,\n",
       "        -1.67841480e-02,  1.36126210e-02,  4.36309862e+00],\n",
       "       [ 0.00000000e+00,  2.00000000e+00,  2.00000000e+00, ...,\n",
       "        -1.67841480e-02,  1.36126210e-02,  5.23909801e+00],\n",
       "       [ 0.00000000e+00,  2.00000000e+00,  4.40000000e+01, ...,\n",
       "        -1.67841480e-02,  1.36126210e-02,  1.25276297e+00],\n",
       "       ...,\n",
       "       [ 0.00000000e+00,  0.00000000e+00,  3.65000000e+02, ...,\n",
       "         4.06665200e-03,  2.07665160e-01,  0.00000000e+00],\n",
       "       [ 0.00000000e+00,  2.00000000e+00,  3.65000000e+02, ...,\n",
       "         4.06665200e-03,  2.07665160e-01,  1.38629436e+00],\n",
       "       [ 0.00000000e+00,  1.00000000e+00,  5.80000000e+01, ...,\n",
       "         9.19378200e-04,  1.27585020e-03,  2.70805020e+00]])"
      ]
     },
     "execution_count": 31,
     "metadata": {},
     "output_type": "execute_result"
    }
   ],
   "source": [
    "X_new"
   ]
  },
  {
   "cell_type": "code",
   "execution_count": 32,
   "id": "c035818b-674f-4422-b923-6dd23e85797b",
   "metadata": {},
   "outputs": [
    {
     "data": {
      "text/plain": [
       "((181669, 42), (181669, 43))"
      ]
     },
     "execution_count": 32,
     "metadata": {},
     "output_type": "execute_result"
    }
   ],
   "source": [
    "X.shape, X_new.shape"
   ]
  },
  {
   "cell_type": "code",
   "execution_count": 35,
   "id": "730eecea-7ac2-4f6b-9850-6483535d30be",
   "metadata": {},
   "outputs": [],
   "source": [
    "X_new[:, 0] = 1"
   ]
  },
  {
   "cell_type": "code",
   "execution_count": 36,
   "id": "a0094268-1186-4f4b-b172-4023537c0e8b",
   "metadata": {},
   "outputs": [
    {
     "data": {
      "text/plain": [
       "(181669, 43)"
      ]
     },
     "execution_count": 36,
     "metadata": {},
     "output_type": "execute_result"
    }
   ],
   "source": [
    "X_new.shape"
   ]
  },
  {
   "cell_type": "code",
   "execution_count": 19,
   "id": "990e3fe0-d5ca-4656-9ebe-249d5780ac02",
   "metadata": {},
   "outputs": [
    {
     "ename": "ValueError",
     "evalue": "assignment destination is read-only",
     "output_type": "error",
     "traceback": [
      "\u001b[0;31m---------------------------------------------------------------------------\u001b[0m",
      "\u001b[0;31mValueError\u001b[0m                                Traceback (most recent call last)",
      "Cell \u001b[0;32mIn[19], line 1\u001b[0m\n\u001b[0;32m----> 1\u001b[0m \u001b[43mmodel\u001b[49m\u001b[38;5;241;43m.\u001b[39;49m\u001b[43mpredict\u001b[49m\u001b[43m(\u001b[49m\u001b[43mtest\u001b[49m\u001b[43m)\u001b[49m\n",
      "File \u001b[0;32m~/UpliftModelingResearch/src/models/ICausalML/ICausalML.py:22\u001b[0m, in \u001b[0;36mICausalML.predict\u001b[0;34m(self, X)\u001b[0m\n\u001b[1;32m     20\u001b[0m \u001b[38;5;28;01mdef\u001b[39;00m\u001b[38;5;250m \u001b[39m\u001b[38;5;21mpredict\u001b[39m(\u001b[38;5;28mself\u001b[39m, X: NumpyDataset):           \n\u001b[1;32m     21\u001b[0m     scores \u001b[38;5;241m=\u001b[39m X\u001b[38;5;241m.\u001b[39mdata\u001b[38;5;241m.\u001b[39mcopy(deep\u001b[38;5;241m=\u001b[39m\u001b[38;5;28;01mTrue\u001b[39;00m)\n\u001b[0;32m---> 22\u001b[0m     scores[\u001b[38;5;124m'\u001b[39m\u001b[38;5;124mscore\u001b[39m\u001b[38;5;124m'\u001b[39m] \u001b[38;5;241m=\u001b[39m \u001b[38;5;28;43mself\u001b[39;49m\u001b[38;5;241;43m.\u001b[39;49m\u001b[43mmodel\u001b[49m\u001b[38;5;241;43m.\u001b[39;49m\u001b[43mpredict\u001b[49m\u001b[43m(\u001b[49m\u001b[43mscores\u001b[49m\u001b[38;5;241;43m.\u001b[39;49m\u001b[43mloc\u001b[49m\u001b[43m[\u001b[49m\u001b[43m:\u001b[49m\u001b[43m,\u001b[49m\u001b[43m \u001b[49m\u001b[43mX\u001b[49m\u001b[38;5;241;43m.\u001b[39;49m\u001b[43mcols_features\u001b[49m\u001b[43m]\u001b[49m\u001b[43m)\u001b[49m\n\u001b[1;32m     23\u001b[0m     \u001b[38;5;28;01mreturn\u001b[39;00m scores[[\u001b[38;5;124m'\u001b[39m\u001b[38;5;124mscore\u001b[39m\u001b[38;5;124m'\u001b[39m, X\u001b[38;5;241m.\u001b[39mcol_treatment, X\u001b[38;5;241m.\u001b[39mcol_target]]\n",
      "File \u001b[0;32m~/new_diploma/lib/python3.11/site-packages/causalml/inference/meta/slearner.py:355\u001b[0m, in \u001b[0;36mBaseSClassifier.predict\u001b[0;34m(self, X, treatment, y, p, return_components, verbose)\u001b[0m\n\u001b[1;32m    352\u001b[0m yhat_cs[group] \u001b[38;5;241m=\u001b[39m model\u001b[38;5;241m.\u001b[39mpredict_proba(X_new)[:, \u001b[38;5;241m1\u001b[39m]\n\u001b[1;32m    354\u001b[0m \u001b[38;5;66;03m# set the treatment column to one (the treatment group)\u001b[39;00m\n\u001b[0;32m--> 355\u001b[0m \u001b[43mX_new\u001b[49m\u001b[43m[\u001b[49m\u001b[43m:\u001b[49m\u001b[43m,\u001b[49m\u001b[43m \u001b[49m\u001b[38;5;241;43m0\u001b[39;49m\u001b[43m]\u001b[49m \u001b[38;5;241m=\u001b[39m \u001b[38;5;241m1\u001b[39m\n\u001b[1;32m    356\u001b[0m yhat_ts[group] \u001b[38;5;241m=\u001b[39m model\u001b[38;5;241m.\u001b[39mpredict_proba(X_new)[:, \u001b[38;5;241m1\u001b[39m]\n\u001b[1;32m    358\u001b[0m \u001b[38;5;28;01mif\u001b[39;00m y \u001b[38;5;129;01mis\u001b[39;00m \u001b[38;5;129;01mnot\u001b[39;00m \u001b[38;5;28;01mNone\u001b[39;00m \u001b[38;5;129;01mand\u001b[39;00m (treatment \u001b[38;5;129;01mis\u001b[39;00m \u001b[38;5;129;01mnot\u001b[39;00m \u001b[38;5;28;01mNone\u001b[39;00m) \u001b[38;5;129;01mand\u001b[39;00m verbose:\n",
      "\u001b[0;31mValueError\u001b[0m: assignment destination is read-only"
     ]
    }
   ],
   "source": [
    "model.predict(test)"
   ]
  },
  {
   "cell_type": "code",
   "execution_count": null,
   "id": "65fef679-3b7b-4d8d-9517-d21f702ed5cb",
   "metadata": {},
   "outputs": [],
   "source": [
    "def train_test_model(ds_name, features_percent, factory, config, batch_size=32, max_size=100000):\n",
    "    train_path, test_path = get_paths_train_test(ds_name=ds_name, features_percent=features_percent)\n",
    "    model, train, test = factory.create(config, train_path, test_path)\n",
    "    model.fit(train)\n",
    "    predicted = model.predict(test)\n",
    "    write(model, test, predicted, ds_name=ds_name, features_percent=features_percent,\n",
    "          batch_size=batch_size, max_size=max_size)  "
   ]
  },
  {
   "cell_type": "code",
   "execution_count": 8,
   "id": "f2c5d949-79d2-4b68-afb5-1315cdbe5da0",
   "metadata": {},
   "outputs": [
    {
     "name": "stderr",
     "output_type": "stream",
     "text": [
      "Training models:   0%|                                                                   | 0/10 [00:34<?, ?it/s]\n"
     ]
    },
    {
     "ename": "ValueError",
     "evalue": "assignment destination is read-only",
     "output_type": "error",
     "traceback": [
      "\u001b[0;31m---------------------------------------------------------------------------\u001b[0m",
      "\u001b[0;31mValueError\u001b[0m                                Traceback (most recent call last)",
      "Cell \u001b[0;32mIn[8], line 9\u001b[0m\n\u001b[1;32m      6\u001b[0m configs \u001b[38;5;241m=\u001b[39m generate_random_configs_smodel(parameters, count\u001b[38;5;241m=\u001b[39m\u001b[38;5;241m10\u001b[39m)\n\u001b[1;32m      8\u001b[0m \u001b[38;5;28;01mfor\u001b[39;00m i \u001b[38;5;129;01min\u001b[39;00m tqdm(\u001b[38;5;28mrange\u001b[39m(\u001b[38;5;28mlen\u001b[39m(configs)), desc\u001b[38;5;241m=\u001b[39m\u001b[38;5;124m\"\u001b[39m\u001b[38;5;124mTraining models\u001b[39m\u001b[38;5;124m\"\u001b[39m):\n\u001b[0;32m----> 9\u001b[0m     \u001b[43mtrain_test_model\u001b[49m\u001b[43m(\u001b[49m\u001b[43mds_name\u001b[49m\u001b[38;5;241;43m=\u001b[39;49m\u001b[38;5;124;43m'\u001b[39;49m\u001b[38;5;124;43mlazada\u001b[39;49m\u001b[38;5;124;43m'\u001b[39;49m\u001b[43m,\u001b[49m\u001b[43m \u001b[49m\u001b[43mfeatures_percent\u001b[49m\u001b[38;5;241;43m=\u001b[39;49m\u001b[38;5;241;43m100\u001b[39;49m\u001b[43m,\u001b[49m\u001b[43m \u001b[49m\u001b[43mfactory\u001b[49m\u001b[38;5;241;43m=\u001b[39;49m\u001b[43mSModelFactory\u001b[49m\u001b[43m,\u001b[49m\u001b[43m \u001b[49m\u001b[43mconfig\u001b[49m\u001b[38;5;241;43m=\u001b[39;49m\u001b[43mconfigs\u001b[49m\u001b[43m[\u001b[49m\u001b[43mi\u001b[49m\u001b[43m]\u001b[49m\u001b[43m)\u001b[49m    \n",
      "File \u001b[0;32m~/UpliftModelingResearch/src/utils.py:31\u001b[0m, in \u001b[0;36mtrain_test_model\u001b[0;34m(ds_name, features_percent, factory, config, compressions, batch_size, max_size)\u001b[0m\n\u001b[1;32m     29\u001b[0m model, train, test \u001b[38;5;241m=\u001b[39m factory\u001b[38;5;241m.\u001b[39mcreate(config, train_path, test_path)\n\u001b[1;32m     30\u001b[0m model\u001b[38;5;241m.\u001b[39mfit(train)\n\u001b[0;32m---> 31\u001b[0m predicted \u001b[38;5;241m=\u001b[39m \u001b[43mmodel\u001b[49m\u001b[38;5;241;43m.\u001b[39;49m\u001b[43mpredict\u001b[49m\u001b[43m(\u001b[49m\u001b[43mtest\u001b[49m\u001b[43m)\u001b[49m\n\u001b[1;32m     32\u001b[0m write(model, test, predicted, ds_name\u001b[38;5;241m=\u001b[39mds_name, features_percent\u001b[38;5;241m=\u001b[39mfeatures_percent, compressions\u001b[38;5;241m=\u001b[39mcompressions,\n\u001b[1;32m     33\u001b[0m       batch_size\u001b[38;5;241m=\u001b[39mbatch_size, max_size\u001b[38;5;241m=\u001b[39mmax_size)\n",
      "File \u001b[0;32m~/UpliftModelingResearch/src/models/ICausalML/ICausalML.py:22\u001b[0m, in \u001b[0;36mICausalML.predict\u001b[0;34m(self, X)\u001b[0m\n\u001b[1;32m     20\u001b[0m \u001b[38;5;28;01mdef\u001b[39;00m\u001b[38;5;250m \u001b[39m\u001b[38;5;21mpredict\u001b[39m(\u001b[38;5;28mself\u001b[39m, X: NumpyDataset):           \n\u001b[1;32m     21\u001b[0m     scores \u001b[38;5;241m=\u001b[39m X\u001b[38;5;241m.\u001b[39mdata\u001b[38;5;241m.\u001b[39mcopy(deep\u001b[38;5;241m=\u001b[39m\u001b[38;5;28;01mTrue\u001b[39;00m)\n\u001b[0;32m---> 22\u001b[0m     scores[\u001b[38;5;124m'\u001b[39m\u001b[38;5;124mscore\u001b[39m\u001b[38;5;124m'\u001b[39m] \u001b[38;5;241m=\u001b[39m \u001b[38;5;28;43mself\u001b[39;49m\u001b[38;5;241;43m.\u001b[39;49m\u001b[43mmodel\u001b[49m\u001b[38;5;241;43m.\u001b[39;49m\u001b[43mpredict\u001b[49m\u001b[43m(\u001b[49m\u001b[43mscores\u001b[49m\u001b[38;5;241;43m.\u001b[39;49m\u001b[43mloc\u001b[49m\u001b[43m[\u001b[49m\u001b[43m:\u001b[49m\u001b[43m,\u001b[49m\u001b[43m \u001b[49m\u001b[43mX\u001b[49m\u001b[38;5;241;43m.\u001b[39;49m\u001b[43mcols_features\u001b[49m\u001b[43m]\u001b[49m\u001b[43m)\u001b[49m\n\u001b[1;32m     23\u001b[0m     \u001b[38;5;28;01mreturn\u001b[39;00m scores[[\u001b[38;5;124m'\u001b[39m\u001b[38;5;124mscore\u001b[39m\u001b[38;5;124m'\u001b[39m, X\u001b[38;5;241m.\u001b[39mcol_treatment, X\u001b[38;5;241m.\u001b[39mcol_target]]\n",
      "File \u001b[0;32m~/new_diploma/lib/python3.11/site-packages/causalml/inference/meta/slearner.py:355\u001b[0m, in \u001b[0;36mBaseSClassifier.predict\u001b[0;34m(self, X, treatment, y, p, return_components, verbose)\u001b[0m\n\u001b[1;32m    352\u001b[0m yhat_cs[group] \u001b[38;5;241m=\u001b[39m model\u001b[38;5;241m.\u001b[39mpredict_proba(X_new)[:, \u001b[38;5;241m1\u001b[39m]\n\u001b[1;32m    354\u001b[0m \u001b[38;5;66;03m# set the treatment column to one (the treatment group)\u001b[39;00m\n\u001b[0;32m--> 355\u001b[0m \u001b[43mX_new\u001b[49m\u001b[43m[\u001b[49m\u001b[43m:\u001b[49m\u001b[43m,\u001b[49m\u001b[43m \u001b[49m\u001b[38;5;241;43m0\u001b[39;49m\u001b[43m]\u001b[49m \u001b[38;5;241m=\u001b[39m \u001b[38;5;241m1\u001b[39m\n\u001b[1;32m    356\u001b[0m yhat_ts[group] \u001b[38;5;241m=\u001b[39m model\u001b[38;5;241m.\u001b[39mpredict_proba(X_new)[:, \u001b[38;5;241m1\u001b[39m]\n\u001b[1;32m    358\u001b[0m \u001b[38;5;28;01mif\u001b[39;00m y \u001b[38;5;129;01mis\u001b[39;00m \u001b[38;5;129;01mnot\u001b[39;00m \u001b[38;5;28;01mNone\u001b[39;00m \u001b[38;5;129;01mand\u001b[39;00m (treatment \u001b[38;5;129;01mis\u001b[39;00m \u001b[38;5;129;01mnot\u001b[39;00m \u001b[38;5;28;01mNone\u001b[39;00m) \u001b[38;5;129;01mand\u001b[39;00m verbose:\n",
      "\u001b[0;31mValueError\u001b[0m: assignment destination is read-only"
     ]
    }
   ],
   "source": [
    "from src.utils import get_paths_train_test, train_test_model\n",
    "from src.factory import SModelFactory\n",
    "from src.configs_generation import generate_random_configs_smodel\n",
    "from tqdm import tqdm\n",
    "\n",
    "configs = generate_random_configs_smodel(parameters, count=10)\n",
    "\n",
    "for i in tqdm(range(len(configs)), desc=\"Training models\"):\n",
    "    train_test_model(ds_name='lazada', features_percent=100, factory=SModelFactory, config=configs[i])    "
   ]
  },
  {
   "cell_type": "code",
   "execution_count": 6,
   "id": "9ce372cd-f0be-4f86-b5db-41f7192b5f4f",
   "metadata": {},
   "outputs": [
    {
     "data": {
      "text/html": [
       "<div>\n",
       "<style scoped>\n",
       "    .dataframe tbody tr th:only-of-type {\n",
       "        vertical-align: middle;\n",
       "    }\n",
       "\n",
       "    .dataframe tbody tr th {\n",
       "        vertical-align: top;\n",
       "    }\n",
       "\n",
       "    .dataframe thead th {\n",
       "        text-align: right;\n",
       "    }\n",
       "</style>\n",
       "<table border=\"1\" class=\"dataframe\">\n",
       "  <thead>\n",
       "    <tr style=\"text-align: right;\">\n",
       "      <th></th>\n",
       "      <th>Model</th>\n",
       "      <th>Path</th>\n",
       "      <th>Dataset</th>\n",
       "      <th>Features Percent</th>\n",
       "      <th>Latency (ms)</th>\n",
       "      <th>Binary Size (MB)</th>\n",
       "      <th>AUUC (test)</th>\n",
       "      <th>Precision@5</th>\n",
       "      <th>Precision@10</th>\n",
       "      <th>Precision@15</th>\n",
       "      <th>Precision@20</th>\n",
       "      <th>Precision@25</th>\n",
       "      <th>Precision@50</th>\n",
       "      <th>Compressions</th>\n",
       "    </tr>\n",
       "  </thead>\n",
       "  <tbody>\n",
       "    <tr>\n",
       "      <th>0</th>\n",
       "      <td>TModel</td>\n",
       "      <td>exps/lazada/100/0</td>\n",
       "      <td>lazada</td>\n",
       "      <td>100</td>\n",
       "      <td>0.059281</td>\n",
       "      <td>3.112857</td>\n",
       "      <td>0.536919</td>\n",
       "      <td>0.009425</td>\n",
       "      <td>0.009378</td>\n",
       "      <td>0.007088</td>\n",
       "      <td>0.009378</td>\n",
       "      <td>0.006507</td>\n",
       "      <td>0.004036</td>\n",
       "      <td>{}</td>\n",
       "    </tr>\n",
       "    <tr>\n",
       "      <th>1</th>\n",
       "      <td>TModel</td>\n",
       "      <td>exps/lazada/100/1</td>\n",
       "      <td>lazada</td>\n",
       "      <td>100</td>\n",
       "      <td>0.056143</td>\n",
       "      <td>25.315657</td>\n",
       "      <td>0.701555</td>\n",
       "      <td>0.001197</td>\n",
       "      <td>0.008309</td>\n",
       "      <td>0.008484</td>\n",
       "      <td>0.008309</td>\n",
       "      <td>0.007162</td>\n",
       "      <td>0.005920</td>\n",
       "      <td>{}</td>\n",
       "    </tr>\n",
       "    <tr>\n",
       "      <th>2</th>\n",
       "      <td>TModel</td>\n",
       "      <td>exps/lazada/100/2</td>\n",
       "      <td>lazada</td>\n",
       "      <td>100</td>\n",
       "      <td>0.057361</td>\n",
       "      <td>29.465457</td>\n",
       "      <td>0.695790</td>\n",
       "      <td>0.009794</td>\n",
       "      <td>0.010686</td>\n",
       "      <td>0.008920</td>\n",
       "      <td>0.010686</td>\n",
       "      <td>0.009760</td>\n",
       "      <td>0.005464</td>\n",
       "      <td>{}</td>\n",
       "    </tr>\n",
       "    <tr>\n",
       "      <th>3</th>\n",
       "      <td>TModel</td>\n",
       "      <td>exps/lazada/100/3</td>\n",
       "      <td>lazada</td>\n",
       "      <td>100</td>\n",
       "      <td>0.057964</td>\n",
       "      <td>4.878569</td>\n",
       "      <td>0.656579</td>\n",
       "      <td>0.011354</td>\n",
       "      <td>0.010685</td>\n",
       "      <td>0.009732</td>\n",
       "      <td>0.010685</td>\n",
       "      <td>0.008134</td>\n",
       "      <td>0.005860</td>\n",
       "      <td>{}</td>\n",
       "    </tr>\n",
       "    <tr>\n",
       "      <th>4</th>\n",
       "      <td>TModel</td>\n",
       "      <td>exps/lazada/100/4</td>\n",
       "      <td>lazada</td>\n",
       "      <td>100</td>\n",
       "      <td>0.056108</td>\n",
       "      <td>0.150800</td>\n",
       "      <td>0.478659</td>\n",
       "      <td>0.016890</td>\n",
       "      <td>0.009386</td>\n",
       "      <td>0.007613</td>\n",
       "      <td>0.009386</td>\n",
       "      <td>0.005876</td>\n",
       "      <td>0.003602</td>\n",
       "      <td>{}</td>\n",
       "    </tr>\n",
       "    <tr>\n",
       "      <th>5</th>\n",
       "      <td>TModel</td>\n",
       "      <td>exps/lazada/100/5</td>\n",
       "      <td>lazada</td>\n",
       "      <td>100</td>\n",
       "      <td>0.057290</td>\n",
       "      <td>19.446937</td>\n",
       "      <td>0.571644</td>\n",
       "      <td>-0.004150</td>\n",
       "      <td>0.007774</td>\n",
       "      <td>0.006016</td>\n",
       "      <td>0.007774</td>\n",
       "      <td>0.005597</td>\n",
       "      <td>0.004509</td>\n",
       "      <td>{}</td>\n",
       "    </tr>\n",
       "    <tr>\n",
       "      <th>6</th>\n",
       "      <td>TModel</td>\n",
       "      <td>exps/lazada/100/6</td>\n",
       "      <td>lazada</td>\n",
       "      <td>100</td>\n",
       "      <td>0.058309</td>\n",
       "      <td>17.388096</td>\n",
       "      <td>0.449403</td>\n",
       "      <td>0.010904</td>\n",
       "      <td>0.005254</td>\n",
       "      <td>0.003474</td>\n",
       "      <td>0.005254</td>\n",
       "      <td>0.004186</td>\n",
       "      <td>0.004041</td>\n",
       "      <td>{}</td>\n",
       "    </tr>\n",
       "    <tr>\n",
       "      <th>7</th>\n",
       "      <td>TModel</td>\n",
       "      <td>exps/lazada/100/7</td>\n",
       "      <td>lazada</td>\n",
       "      <td>100</td>\n",
       "      <td>0.055492</td>\n",
       "      <td>1.324496</td>\n",
       "      <td>0.621997</td>\n",
       "      <td>0.011158</td>\n",
       "      <td>0.008495</td>\n",
       "      <td>0.008291</td>\n",
       "      <td>0.008495</td>\n",
       "      <td>0.008107</td>\n",
       "      <td>0.005221</td>\n",
       "      <td>{}</td>\n",
       "    </tr>\n",
       "    <tr>\n",
       "      <th>8</th>\n",
       "      <td>TModel</td>\n",
       "      <td>exps/lazada/100/8</td>\n",
       "      <td>lazada</td>\n",
       "      <td>100</td>\n",
       "      <td>0.057467</td>\n",
       "      <td>12.526577</td>\n",
       "      <td>0.491589</td>\n",
       "      <td>-0.001493</td>\n",
       "      <td>0.003126</td>\n",
       "      <td>0.004580</td>\n",
       "      <td>0.003126</td>\n",
       "      <td>0.006341</td>\n",
       "      <td>0.004382</td>\n",
       "      <td>{}</td>\n",
       "    </tr>\n",
       "    <tr>\n",
       "      <th>9</th>\n",
       "      <td>TModel</td>\n",
       "      <td>exps/lazada/100/9</td>\n",
       "      <td>lazada</td>\n",
       "      <td>100</td>\n",
       "      <td>0.057034</td>\n",
       "      <td>0.842080</td>\n",
       "      <td>0.685294</td>\n",
       "      <td>0.018461</td>\n",
       "      <td>0.011393</td>\n",
       "      <td>0.009931</td>\n",
       "      <td>0.011393</td>\n",
       "      <td>0.008308</td>\n",
       "      <td>0.005581</td>\n",
       "      <td>{}</td>\n",
       "    </tr>\n",
       "  </tbody>\n",
       "</table>\n",
       "</div>"
      ],
      "text/plain": [
       "    Model               Path Dataset  ...  Precision@25  Precision@50  Compressions\n",
       "0  TModel  exps/lazada/100/0  lazada  ...      0.006507      0.004036            {}\n",
       "1  TModel  exps/lazada/100/1  lazada  ...      0.007162      0.005920            {}\n",
       "2  TModel  exps/lazada/100/2  lazada  ...      0.009760      0.005464            {}\n",
       "3  TModel  exps/lazada/100/3  lazada  ...      0.008134      0.005860            {}\n",
       "4  TModel  exps/lazada/100/4  lazada  ...      0.005876      0.003602            {}\n",
       "5  TModel  exps/lazada/100/5  lazada  ...      0.005597      0.004509            {}\n",
       "6  TModel  exps/lazada/100/6  lazada  ...      0.004186      0.004041            {}\n",
       "7  TModel  exps/lazada/100/7  lazada  ...      0.008107      0.005221            {}\n",
       "8  TModel  exps/lazada/100/8  lazada  ...      0.006341      0.004382            {}\n",
       "9  TModel  exps/lazada/100/9  lazada  ...      0.008308      0.005581            {}\n",
       "\n",
       "[10 rows x 14 columns]"
      ]
     },
     "execution_count": 6,
     "metadata": {},
     "output_type": "execute_result"
    }
   ],
   "source": [
    "from src.global_params import BASE_PATH\n",
    "import pandas as pd\n",
    "pd.read_csv(BASE_PATH / \"exps/stats.tsv\", sep='\\t')"
   ]
  },
  {
   "cell_type": "code",
   "execution_count": 7,
   "id": "cf8a4fab-52b6-4446-9657-9356630476b2",
   "metadata": {},
   "outputs": [
    {
     "name": "stdout",
     "output_type": "stream",
     "text": [
      "Model loaded from /Users/ogrobertino/UpliftModelingResearch/exps/lazada/100/9/model.pkl.\n",
      "Config loaded from /Users/ogrobertino/UpliftModelingResearch/exps/lazada/100/9/config.json.\n"
     ]
    }
   ],
   "source": [
    "from src.models.ICausalML.Models import TModel\n",
    "path = pd.read_csv(BASE_PATH / \"exps/stats.tsv\", sep='\\t').Path.iloc[-1]\n",
    "model = TModel(from_load=True, path = str(BASE_PATH) + \"/\" + path)"
   ]
  }
 ],
 "metadata": {
  "kernelspec": {
   "display_name": "Python 3 (ipykernel)",
   "language": "python",
   "name": "python3"
  },
  "language_info": {
   "codemirror_mode": {
    "name": "ipython",
    "version": 3
   },
   "file_extension": ".py",
   "mimetype": "text/x-python",
   "name": "python",
   "nbconvert_exporter": "python",
   "pygments_lexer": "ipython3",
   "version": "3.11.7"
  }
 },
 "nbformat": 4,
 "nbformat_minor": 5
}
