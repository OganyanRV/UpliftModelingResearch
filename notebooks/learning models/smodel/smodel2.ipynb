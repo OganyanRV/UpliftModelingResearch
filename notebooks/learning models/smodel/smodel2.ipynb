{
 "cells": [
  {
   "cell_type": "markdown",
   "id": "9d2d9151-caa3-4377-8e02-48712cc1c5fe",
   "metadata": {},
   "source": [
    "## Smodeling "
   ]
  },
  {
   "cell_type": "markdown",
   "id": "2c9dcb63-06a7-43db-bf4b-21046de0877f",
   "metadata": {},
   "source": [
    "https://habr.com/ru/companies/ru_mts/articles/485980/\n",
    "https://causalml.readthedocs.io/en/latest/methodology.html#s-learner https://github.com/uber/causalml/tree/master/causalml/inference/meta"
   ]
  },
  {
   "cell_type": "markdown",
   "id": "7d94c43d-a2ff-4f50-b1b2-1f7d38f0039e",
   "metadata": {},
   "source": [
    "У катбуста рофл, что он при предикте делает переданный нампаевский массив неизменяемым (X_new.flags WRITEABLE : ставит False), поэтому хгбуст"
   ]
  },
  {
   "cell_type": "code",
   "execution_count": 2,
   "id": "78575b3c-2a2c-4b99-8bd7-e407f74d1a28",
   "metadata": {},
   "outputs": [
    {
     "name": "stdout",
     "output_type": "stream",
     "text": [
      "The autoreload extension is already loaded. To reload it, use:\n",
      "  %reload_ext autoreload\n"
     ]
    }
   ],
   "source": [
    "from pathlib import Path\n",
    "import sys\n",
    " \n",
    "if sys.argv:\n",
    "    sys.path.insert(0, str(Path('/Users/ogrobertino/UpliftModelingResearch/').resolve()))\n",
    "%load_ext autoreload\n",
    "%autoreload 2"
   ]
  },
  {
   "cell_type": "code",
   "execution_count": 3,
   "id": "ec1153e7-81e8-4c93-b367-e575bef4d325",
   "metadata": {},
   "outputs": [],
   "source": [
    "parameters = {\n",
    "    'iterations': (30, 70),\n",
    "    'learning_rate': (0.01, 0.5),\n",
    "    'depth': (4, 15)\n",
    "}"
   ]
  },
  {
   "cell_type": "code",
   "execution_count": 15,
   "id": "f2c5d949-79d2-4b68-afb5-1315cdbe5da0",
   "metadata": {},
   "outputs": [
    {
     "name": "stderr",
     "output_type": "stream",
     "text": [
      "Training models:   0%|                                       | 0/5 [00:00<?, ?it/s]"
     ]
    },
    {
     "name": "stdout",
     "output_type": "stream",
     "text": [
      "Модель, предсказания и конфиг сохранены в директории exps2/lazada_v2_opt/100/0\n"
     ]
    },
    {
     "name": "stderr",
     "output_type": "stream",
     "text": [
      "Training models:  20%|██████▏                        | 1/5 [00:06<00:24,  6.19s/it]"
     ]
    },
    {
     "name": "stdout",
     "output_type": "stream",
     "text": [
      "Эксперимент сохранен в таблице /Users/ogrobertino/UpliftModelingResearch/exps2/stats.tsv\n",
      "Модель, предсказания и конфиг сохранены в директории exps2/lazada_v2_opt/100/1\n"
     ]
    },
    {
     "name": "stderr",
     "output_type": "stream",
     "text": [
      "Training models:  40%|████████████▍                  | 2/5 [00:12<00:18,  6.00s/it]"
     ]
    },
    {
     "name": "stdout",
     "output_type": "stream",
     "text": [
      "Эксперимент сохранен в таблице /Users/ogrobertino/UpliftModelingResearch/exps2/stats.tsv\n",
      "Модель, предсказания и конфиг сохранены в директории exps2/lazada_v2_opt/100/2\n"
     ]
    },
    {
     "name": "stderr",
     "output_type": "stream",
     "text": [
      "Training models:  60%|██████████████████▌            | 3/5 [00:19<00:13,  6.66s/it]"
     ]
    },
    {
     "name": "stdout",
     "output_type": "stream",
     "text": [
      "Эксперимент сохранен в таблице /Users/ogrobertino/UpliftModelingResearch/exps2/stats.tsv\n",
      "Модель, предсказания и конфиг сохранены в директории exps2/lazada_v2_opt/100/3\n"
     ]
    },
    {
     "name": "stderr",
     "output_type": "stream",
     "text": [
      "Training models:  80%|████████████████████████▊      | 4/5 [00:25<00:06,  6.33s/it]"
     ]
    },
    {
     "name": "stdout",
     "output_type": "stream",
     "text": [
      "Эксперимент сохранен в таблице /Users/ogrobertino/UpliftModelingResearch/exps2/stats.tsv\n",
      "Модель, предсказания и конфиг сохранены в директории exps2/lazada_v2_opt/100/4\n"
     ]
    },
    {
     "name": "stderr",
     "output_type": "stream",
     "text": [
      "Training models: 100%|███████████████████████████████| 5/5 [00:32<00:00,  6.56s/it]"
     ]
    },
    {
     "name": "stdout",
     "output_type": "stream",
     "text": [
      "Эксперимент сохранен в таблице /Users/ogrobertino/UpliftModelingResearch/exps2/stats.tsv\n"
     ]
    },
    {
     "name": "stderr",
     "output_type": "stream",
     "text": [
      "\n"
     ]
    }
   ],
   "source": [
    "from src.utils import get_paths_train_test, train_test_model\n",
    "from src.factory import SModelFactory\n",
    "from src.models.CausalML.Models import SModel\n",
    "from tqdm import tqdm\n",
    "\n",
    "configs = SModel.generate_config(count=5, **parameters)\n",
    "\n",
    "for i in tqdm(range(len(configs)), desc=\"Training models\"):\n",
    "    train_test_model(ds_name='lazada_v2_opt', features_percent=100, factory=SModelFactory, config=configs[i])    "
   ]
  },
  {
   "cell_type": "code",
   "execution_count": 16,
   "id": "59a846ab-92d2-4d03-915d-7864b5a9ef9c",
   "metadata": {},
   "outputs": [
    {
     "name": "stderr",
     "output_type": "stream",
     "text": [
      "Training models:   0%|                                       | 0/5 [00:00<?, ?it/s]"
     ]
    },
    {
     "name": "stdout",
     "output_type": "stream",
     "text": [
      "Модель, предсказания и конфиг сохранены в директории exps2/lazada_v2_opt/50/0\n"
     ]
    },
    {
     "name": "stderr",
     "output_type": "stream",
     "text": [
      "Training models:  20%|██████▏                        | 1/5 [00:04<00:17,  4.43s/it]"
     ]
    },
    {
     "name": "stdout",
     "output_type": "stream",
     "text": [
      "Эксперимент сохранен в таблице /Users/ogrobertino/UpliftModelingResearch/exps2/stats.tsv\n",
      "Модель, предсказания и конфиг сохранены в директории exps2/lazada_v2_opt/50/1\n"
     ]
    },
    {
     "name": "stderr",
     "output_type": "stream",
     "text": [
      "Training models:  40%|████████████▍                  | 2/5 [00:12<00:19,  6.43s/it]"
     ]
    },
    {
     "name": "stdout",
     "output_type": "stream",
     "text": [
      "Эксперимент сохранен в таблице /Users/ogrobertino/UpliftModelingResearch/exps2/stats.tsv\n",
      "Модель, предсказания и конфиг сохранены в директории exps2/lazada_v2_opt/50/2\n"
     ]
    },
    {
     "name": "stderr",
     "output_type": "stream",
     "text": [
      "Training models:  60%|██████████████████▌            | 3/5 [00:17<00:11,  5.84s/it]"
     ]
    },
    {
     "name": "stdout",
     "output_type": "stream",
     "text": [
      "Эксперимент сохранен в таблице /Users/ogrobertino/UpliftModelingResearch/exps2/stats.tsv\n",
      "Модель, предсказания и конфиг сохранены в директории exps2/lazada_v2_opt/50/3\n"
     ]
    },
    {
     "name": "stderr",
     "output_type": "stream",
     "text": [
      "Training models:  80%|████████████████████████▊      | 4/5 [00:23<00:05,  5.83s/it]"
     ]
    },
    {
     "name": "stdout",
     "output_type": "stream",
     "text": [
      "Эксперимент сохранен в таблице /Users/ogrobertino/UpliftModelingResearch/exps2/stats.tsv\n",
      "Модель, предсказания и конфиг сохранены в директории exps2/lazada_v2_opt/50/4\n"
     ]
    },
    {
     "name": "stderr",
     "output_type": "stream",
     "text": [
      "Training models: 100%|███████████████████████████████| 5/5 [00:31<00:00,  6.21s/it]"
     ]
    },
    {
     "name": "stdout",
     "output_type": "stream",
     "text": [
      "Эксперимент сохранен в таблице /Users/ogrobertino/UpliftModelingResearch/exps2/stats.tsv\n"
     ]
    },
    {
     "name": "stderr",
     "output_type": "stream",
     "text": [
      "\n"
     ]
    }
   ],
   "source": [
    "from src.utils import get_paths_train_test, train_test_model\n",
    "from src.factory import SModelFactory\n",
    "from src.models.CausalML.Models import SModel\n",
    "from tqdm import tqdm\n",
    "\n",
    "configs = SModel.generate_config(count=5, **parameters)\n",
    "\n",
    "for i in tqdm(range(len(configs)), desc=\"Training models\"):\n",
    "    train_test_model(ds_name='lazada_v2_opt', features_percent=50, factory=SModelFactory, config=configs[i])    "
   ]
  },
  {
   "cell_type": "code",
   "execution_count": 17,
   "id": "9ce372cd-f0be-4f86-b5db-41f7192b5f4f",
   "metadata": {},
   "outputs": [
    {
     "data": {
      "text/html": [
       "<div>\n",
       "<style scoped>\n",
       "    .dataframe tbody tr th:only-of-type {\n",
       "        vertical-align: middle;\n",
       "    }\n",
       "\n",
       "    .dataframe tbody tr th {\n",
       "        vertical-align: top;\n",
       "    }\n",
       "\n",
       "    .dataframe thead th {\n",
       "        text-align: right;\n",
       "    }\n",
       "</style>\n",
       "<table border=\"1\" class=\"dataframe\">\n",
       "  <thead>\n",
       "    <tr style=\"text-align: right;\">\n",
       "      <th></th>\n",
       "      <th>Model</th>\n",
       "      <th>Path</th>\n",
       "      <th>Dataset</th>\n",
       "      <th>Features Percent</th>\n",
       "      <th>Latency (ms)</th>\n",
       "      <th>Binary Size (MB)</th>\n",
       "      <th>AUUC</th>\n",
       "      <th>AUQC</th>\n",
       "      <th>Precision@5</th>\n",
       "      <th>Precision@10</th>\n",
       "      <th>Precision@15</th>\n",
       "      <th>Precision@20</th>\n",
       "      <th>Precision@25</th>\n",
       "      <th>Precision@30</th>\n",
       "      <th>Precision@50</th>\n",
       "      <th>Compressions</th>\n",
       "    </tr>\n",
       "  </thead>\n",
       "  <tbody>\n",
       "    <tr>\n",
       "      <th>4</th>\n",
       "      <td>SModel</td>\n",
       "      <td>exps2/lazada_v2_opt/100/4</td>\n",
       "      <td>lazada_v2_opt</td>\n",
       "      <td>100</td>\n",
       "      <td>0.019614</td>\n",
       "      <td>4.520543</td>\n",
       "      <td>0.008122</td>\n",
       "      <td>0.192227</td>\n",
       "      <td>0.104311</td>\n",
       "      <td>0.081945</td>\n",
       "      <td>0.075616</td>\n",
       "      <td>0.081945</td>\n",
       "      <td>0.070946</td>\n",
       "      <td>0.067251</td>\n",
       "      <td>0.056923</td>\n",
       "      <td>{}</td>\n",
       "    </tr>\n",
       "    <tr>\n",
       "      <th>10</th>\n",
       "      <td>SModel</td>\n",
       "      <td>exps2/lazada_v2_opt/50/4</td>\n",
       "      <td>lazada_v2_opt</td>\n",
       "      <td>50</td>\n",
       "      <td>0.032843</td>\n",
       "      <td>4.674399</td>\n",
       "      <td>0.007687</td>\n",
       "      <td>0.223121</td>\n",
       "      <td>0.087689</td>\n",
       "      <td>0.072237</td>\n",
       "      <td>0.067461</td>\n",
       "      <td>0.072237</td>\n",
       "      <td>0.064674</td>\n",
       "      <td>0.062980</td>\n",
       "      <td>0.057089</td>\n",
       "      <td>{}</td>\n",
       "    </tr>\n",
       "    <tr>\n",
       "      <th>2</th>\n",
       "      <td>SModel</td>\n",
       "      <td>exps2/lazada_v2_opt/100/2</td>\n",
       "      <td>lazada_v2_opt</td>\n",
       "      <td>100</td>\n",
       "      <td>0.019882</td>\n",
       "      <td>4.270143</td>\n",
       "      <td>0.006716</td>\n",
       "      <td>0.152259</td>\n",
       "      <td>0.100578</td>\n",
       "      <td>0.081616</td>\n",
       "      <td>0.075030</td>\n",
       "      <td>0.081616</td>\n",
       "      <td>0.070111</td>\n",
       "      <td>0.066283</td>\n",
       "      <td>0.055652</td>\n",
       "      <td>{}</td>\n",
       "    </tr>\n",
       "    <tr>\n",
       "      <th>9</th>\n",
       "      <td>SModel</td>\n",
       "      <td>exps2/lazada_v2_opt/50/3</td>\n",
       "      <td>lazada_v2_opt</td>\n",
       "      <td>50</td>\n",
       "      <td>0.019118</td>\n",
       "      <td>2.037618</td>\n",
       "      <td>0.006017</td>\n",
       "      <td>0.273888</td>\n",
       "      <td>0.079767</td>\n",
       "      <td>0.066545</td>\n",
       "      <td>0.062973</td>\n",
       "      <td>0.066545</td>\n",
       "      <td>0.060260</td>\n",
       "      <td>0.059367</td>\n",
       "      <td>0.054437</td>\n",
       "      <td>{}</td>\n",
       "    </tr>\n",
       "    <tr>\n",
       "      <th>1</th>\n",
       "      <td>SModel</td>\n",
       "      <td>exps2/lazada_v2_opt/100/1</td>\n",
       "      <td>lazada_v2_opt</td>\n",
       "      <td>100</td>\n",
       "      <td>0.014990</td>\n",
       "      <td>2.574070</td>\n",
       "      <td>0.005102</td>\n",
       "      <td>0.250888</td>\n",
       "      <td>0.076913</td>\n",
       "      <td>0.065221</td>\n",
       "      <td>0.061291</td>\n",
       "      <td>0.065221</td>\n",
       "      <td>0.058965</td>\n",
       "      <td>0.056918</td>\n",
       "      <td>0.053322</td>\n",
       "      <td>{}</td>\n",
       "    </tr>\n",
       "    <tr>\n",
       "      <th>0</th>\n",
       "      <td>SModel</td>\n",
       "      <td>exps2/lazada_v2_opt/100/0</td>\n",
       "      <td>lazada_v2_opt</td>\n",
       "      <td>100</td>\n",
       "      <td>0.016546</td>\n",
       "      <td>0.983346</td>\n",
       "      <td>0.003819</td>\n",
       "      <td>0.195134</td>\n",
       "      <td>0.085789</td>\n",
       "      <td>0.066433</td>\n",
       "      <td>0.063044</td>\n",
       "      <td>0.066433</td>\n",
       "      <td>0.059446</td>\n",
       "      <td>0.057589</td>\n",
       "      <td>0.053020</td>\n",
       "      <td>{}</td>\n",
       "    </tr>\n",
       "    <tr>\n",
       "      <th>6</th>\n",
       "      <td>SModel</td>\n",
       "      <td>exps2/lazada_v2_opt/50/1</td>\n",
       "      <td>lazada_v2_opt</td>\n",
       "      <td>50</td>\n",
       "      <td>0.044493</td>\n",
       "      <td>0.740721</td>\n",
       "      <td>-0.000651</td>\n",
       "      <td>0.114551</td>\n",
       "      <td>0.076532</td>\n",
       "      <td>0.062255</td>\n",
       "      <td>0.059461</td>\n",
       "      <td>0.062255</td>\n",
       "      <td>0.056060</td>\n",
       "      <td>0.053961</td>\n",
       "      <td>0.049611</td>\n",
       "      <td>{}</td>\n",
       "    </tr>\n",
       "    <tr>\n",
       "      <th>3</th>\n",
       "      <td>SModel</td>\n",
       "      <td>exps2/lazada_v2_opt/100/3</td>\n",
       "      <td>lazada_v2_opt</td>\n",
       "      <td>100</td>\n",
       "      <td>0.014097</td>\n",
       "      <td>0.329457</td>\n",
       "      <td>-0.000656</td>\n",
       "      <td>0.292110</td>\n",
       "      <td>0.059757</td>\n",
       "      <td>0.060292</td>\n",
       "      <td>0.056199</td>\n",
       "      <td>0.060292</td>\n",
       "      <td>0.053067</td>\n",
       "      <td>0.050730</td>\n",
       "      <td>0.047304</td>\n",
       "      <td>{}</td>\n",
       "    </tr>\n",
       "    <tr>\n",
       "      <th>7</th>\n",
       "      <td>SModel</td>\n",
       "      <td>exps2/lazada_v2_opt/50/2</td>\n",
       "      <td>lazada_v2_opt</td>\n",
       "      <td>50</td>\n",
       "      <td>0.015620</td>\n",
       "      <td>0.290422</td>\n",
       "      <td>-0.002997</td>\n",
       "      <td>0.225328</td>\n",
       "      <td>0.064602</td>\n",
       "      <td>0.058426</td>\n",
       "      <td>0.054792</td>\n",
       "      <td>0.058426</td>\n",
       "      <td>0.051190</td>\n",
       "      <td>0.049457</td>\n",
       "      <td>0.045448</td>\n",
       "      <td>{}</td>\n",
       "    </tr>\n",
       "    <tr>\n",
       "      <th>5</th>\n",
       "      <td>SModel</td>\n",
       "      <td>exps2/lazada_v2_opt/50/0</td>\n",
       "      <td>lazada_v2_opt</td>\n",
       "      <td>50</td>\n",
       "      <td>0.013723</td>\n",
       "      <td>1.021511</td>\n",
       "      <td>-0.004973</td>\n",
       "      <td>0.093739</td>\n",
       "      <td>0.063042</td>\n",
       "      <td>0.052704</td>\n",
       "      <td>0.050673</td>\n",
       "      <td>0.052704</td>\n",
       "      <td>0.049854</td>\n",
       "      <td>0.047920</td>\n",
       "      <td>0.044449</td>\n",
       "      <td>{}</td>\n",
       "    </tr>\n",
       "  </tbody>\n",
       "</table>\n",
       "</div>"
      ],
      "text/plain": [
       "     Model                       Path        Dataset  Features Percent  \\\n",
       "4   SModel  exps2/lazada_v2_opt/100/4  lazada_v2_opt               100   \n",
       "10  SModel   exps2/lazada_v2_opt/50/4  lazada_v2_opt                50   \n",
       "2   SModel  exps2/lazada_v2_opt/100/2  lazada_v2_opt               100   \n",
       "9   SModel   exps2/lazada_v2_opt/50/3  lazada_v2_opt                50   \n",
       "1   SModel  exps2/lazada_v2_opt/100/1  lazada_v2_opt               100   \n",
       "0   SModel  exps2/lazada_v2_opt/100/0  lazada_v2_opt               100   \n",
       "6   SModel   exps2/lazada_v2_opt/50/1  lazada_v2_opt                50   \n",
       "3   SModel  exps2/lazada_v2_opt/100/3  lazada_v2_opt               100   \n",
       "7   SModel   exps2/lazada_v2_opt/50/2  lazada_v2_opt                50   \n",
       "5   SModel   exps2/lazada_v2_opt/50/0  lazada_v2_opt                50   \n",
       "\n",
       "    Latency (ms)  Binary Size (MB)      AUUC      AUQC  Precision@5  \\\n",
       "4       0.019614          4.520543  0.008122  0.192227     0.104311   \n",
       "10      0.032843          4.674399  0.007687  0.223121     0.087689   \n",
       "2       0.019882          4.270143  0.006716  0.152259     0.100578   \n",
       "9       0.019118          2.037618  0.006017  0.273888     0.079767   \n",
       "1       0.014990          2.574070  0.005102  0.250888     0.076913   \n",
       "0       0.016546          0.983346  0.003819  0.195134     0.085789   \n",
       "6       0.044493          0.740721 -0.000651  0.114551     0.076532   \n",
       "3       0.014097          0.329457 -0.000656  0.292110     0.059757   \n",
       "7       0.015620          0.290422 -0.002997  0.225328     0.064602   \n",
       "5       0.013723          1.021511 -0.004973  0.093739     0.063042   \n",
       "\n",
       "    Precision@10  Precision@15  Precision@20  Precision@25  Precision@30  \\\n",
       "4       0.081945      0.075616      0.081945      0.070946      0.067251   \n",
       "10      0.072237      0.067461      0.072237      0.064674      0.062980   \n",
       "2       0.081616      0.075030      0.081616      0.070111      0.066283   \n",
       "9       0.066545      0.062973      0.066545      0.060260      0.059367   \n",
       "1       0.065221      0.061291      0.065221      0.058965      0.056918   \n",
       "0       0.066433      0.063044      0.066433      0.059446      0.057589   \n",
       "6       0.062255      0.059461      0.062255      0.056060      0.053961   \n",
       "3       0.060292      0.056199      0.060292      0.053067      0.050730   \n",
       "7       0.058426      0.054792      0.058426      0.051190      0.049457   \n",
       "5       0.052704      0.050673      0.052704      0.049854      0.047920   \n",
       "\n",
       "    Precision@50 Compressions  \n",
       "4       0.056923           {}  \n",
       "10      0.057089           {}  \n",
       "2       0.055652           {}  \n",
       "9       0.054437           {}  \n",
       "1       0.053322           {}  \n",
       "0       0.053020           {}  \n",
       "6       0.049611           {}  \n",
       "3       0.047304           {}  \n",
       "7       0.045448           {}  \n",
       "5       0.044449           {}  "
      ]
     },
     "execution_count": 17,
     "metadata": {},
     "output_type": "execute_result"
    }
   ],
   "source": [
    "from src.global_params import BASE_PATH\n",
    "import pandas as pd\n",
    "table = pd.read_csv(BASE_PATH + \"/\" + EXPS_PATH +  \"/stats.tsv\", sep='\\t')\n",
    "table[table['Model'] == 'SModel'].sort_values([\"AUUC\"], ascending=False)"
   ]
  }
 ],
 "metadata": {
  "kernelspec": {
   "display_name": "Python 3 (ipykernel)",
   "language": "python",
   "name": "python3"
  },
  "language_info": {
   "codemirror_mode": {
    "name": "ipython",
    "version": 3
   },
   "file_extension": ".py",
   "mimetype": "text/x-python",
   "name": "python",
   "nbconvert_exporter": "python",
   "pygments_lexer": "ipython3",
   "version": "3.11.7"
  }
 },
 "nbformat": 4,
 "nbformat_minor": 5
}
