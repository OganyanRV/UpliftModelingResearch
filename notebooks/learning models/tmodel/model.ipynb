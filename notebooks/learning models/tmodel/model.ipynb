{
 "cells": [
  {
   "cell_type": "markdown",
   "id": "9d2d9151-caa3-4377-8e02-48712cc1c5fe",
   "metadata": {},
   "source": [
    "## Tmodeling "
   ]
  },
  {
   "cell_type": "code",
   "execution_count": 4,
   "id": "78575b3c-2a2c-4b99-8bd7-e407f74d1a28",
   "metadata": {},
   "outputs": [
    {
     "name": "stdout",
     "output_type": "stream",
     "text": [
      "The autoreload extension is already loaded. To reload it, use:\n",
      "  %reload_ext autoreload\n"
     ]
    }
   ],
   "source": [
    "from pathlib import Path\n",
    "import sys\n",
    " \n",
    "if sys.argv:\n",
    "    sys.path.insert(0, str(Path('/Users/ogrobertino/UpliftModelingResearch/').resolve()))\n",
    "%load_ext autoreload\n",
    "%autoreload 2"
   ]
  },
  {
   "cell_type": "code",
   "execution_count": 5,
   "id": "ec1153e7-81e8-4c93-b367-e575bef4d325",
   "metadata": {},
   "outputs": [],
   "source": [
    "parameters = {\n",
    "    'iterations': (20, 100),\n",
    "    'learning_rate': (0.01, 0.5),\n",
    "    'depth': (4, 15)\n",
    "}"
   ]
  },
  {
   "cell_type": "code",
   "execution_count": 6,
   "id": "f2c5d949-79d2-4b68-afb5-1315cdbe5da0",
   "metadata": {},
   "outputs": [
    {
     "name": "stderr",
     "output_type": "stream",
     "text": [
      "Training models:   0%|                                                                    | 0/2 [00:00<?, ?it/s]"
     ]
    },
    {
     "name": "stdout",
     "output_type": "stream",
     "text": [
      "Модель, предсказания и конфиг сохранены в директории exps/lazada/100/12\n"
     ]
    },
    {
     "name": "stderr",
     "output_type": "stream",
     "text": [
      "Training models:  50%|██████████████████████████████                              | 1/2 [00:26<00:26, 26.45s/it]"
     ]
    },
    {
     "name": "stdout",
     "output_type": "stream",
     "text": [
      "Эксперимент сохранен в таблице /Users/ogrobertino/UpliftModelingResearch/exps/stats.tsv\n",
      "Модель, предсказания и конфиг сохранены в директории exps/lazada/100/13\n"
     ]
    },
    {
     "name": "stderr",
     "output_type": "stream",
     "text": [
      "Training models: 100%|████████████████████████████████████████████████████████████| 2/2 [00:51<00:00, 25.54s/it]"
     ]
    },
    {
     "name": "stdout",
     "output_type": "stream",
     "text": [
      "Эксперимент сохранен в таблице /Users/ogrobertino/UpliftModelingResearch/exps/stats.tsv\n"
     ]
    },
    {
     "name": "stderr",
     "output_type": "stream",
     "text": [
      "\n"
     ]
    }
   ],
   "source": [
    "from src.utils import get_paths_train_test, train_test_model\n",
    "from src.factory import TModelFactory\n",
    "from src.configs_generation import generate_random_configs\n",
    "from tqdm import tqdm\n",
    "\n",
    "configs = generate_random_configs(parameters, count=2)\n",
    "\n",
    "for i in tqdm(range(len(configs)), desc=\"Training models\"):\n",
    "    train_test_model(ds_name='lazada', features_percent=100, factory=TModelFactory, config=configs[i])    "
   ]
  },
  {
   "cell_type": "code",
   "execution_count": 6,
   "id": "9ce372cd-f0be-4f86-b5db-41f7192b5f4f",
   "metadata": {},
   "outputs": [
    {
     "data": {
      "text/html": [
       "<div>\n",
       "<style scoped>\n",
       "    .dataframe tbody tr th:only-of-type {\n",
       "        vertical-align: middle;\n",
       "    }\n",
       "\n",
       "    .dataframe tbody tr th {\n",
       "        vertical-align: top;\n",
       "    }\n",
       "\n",
       "    .dataframe thead th {\n",
       "        text-align: right;\n",
       "    }\n",
       "</style>\n",
       "<table border=\"1\" class=\"dataframe\">\n",
       "  <thead>\n",
       "    <tr style=\"text-align: right;\">\n",
       "      <th></th>\n",
       "      <th>Model</th>\n",
       "      <th>Path</th>\n",
       "      <th>Dataset</th>\n",
       "      <th>Features Percent</th>\n",
       "      <th>Latency (ms)</th>\n",
       "      <th>Binary Size (MB)</th>\n",
       "      <th>AUUC (test)</th>\n",
       "      <th>Precision@5</th>\n",
       "      <th>Precision@10</th>\n",
       "      <th>Precision@15</th>\n",
       "      <th>Precision@20</th>\n",
       "      <th>Precision@25</th>\n",
       "      <th>Precision@50</th>\n",
       "      <th>Compressions</th>\n",
       "    </tr>\n",
       "  </thead>\n",
       "  <tbody>\n",
       "    <tr>\n",
       "      <th>0</th>\n",
       "      <td>TModel</td>\n",
       "      <td>exps/lazada/100/0</td>\n",
       "      <td>lazada</td>\n",
       "      <td>100</td>\n",
       "      <td>0.059281</td>\n",
       "      <td>3.112857</td>\n",
       "      <td>0.536919</td>\n",
       "      <td>0.009425</td>\n",
       "      <td>0.009378</td>\n",
       "      <td>0.007088</td>\n",
       "      <td>0.009378</td>\n",
       "      <td>0.006507</td>\n",
       "      <td>0.004036</td>\n",
       "      <td>{}</td>\n",
       "    </tr>\n",
       "    <tr>\n",
       "      <th>1</th>\n",
       "      <td>TModel</td>\n",
       "      <td>exps/lazada/100/1</td>\n",
       "      <td>lazada</td>\n",
       "      <td>100</td>\n",
       "      <td>0.056143</td>\n",
       "      <td>25.315657</td>\n",
       "      <td>0.701555</td>\n",
       "      <td>0.001197</td>\n",
       "      <td>0.008309</td>\n",
       "      <td>0.008484</td>\n",
       "      <td>0.008309</td>\n",
       "      <td>0.007162</td>\n",
       "      <td>0.005920</td>\n",
       "      <td>{}</td>\n",
       "    </tr>\n",
       "    <tr>\n",
       "      <th>2</th>\n",
       "      <td>TModel</td>\n",
       "      <td>exps/lazada/100/2</td>\n",
       "      <td>lazada</td>\n",
       "      <td>100</td>\n",
       "      <td>0.057361</td>\n",
       "      <td>29.465457</td>\n",
       "      <td>0.695790</td>\n",
       "      <td>0.009794</td>\n",
       "      <td>0.010686</td>\n",
       "      <td>0.008920</td>\n",
       "      <td>0.010686</td>\n",
       "      <td>0.009760</td>\n",
       "      <td>0.005464</td>\n",
       "      <td>{}</td>\n",
       "    </tr>\n",
       "    <tr>\n",
       "      <th>3</th>\n",
       "      <td>TModel</td>\n",
       "      <td>exps/lazada/100/3</td>\n",
       "      <td>lazada</td>\n",
       "      <td>100</td>\n",
       "      <td>0.057964</td>\n",
       "      <td>4.878569</td>\n",
       "      <td>0.656579</td>\n",
       "      <td>0.011354</td>\n",
       "      <td>0.010685</td>\n",
       "      <td>0.009732</td>\n",
       "      <td>0.010685</td>\n",
       "      <td>0.008134</td>\n",
       "      <td>0.005860</td>\n",
       "      <td>{}</td>\n",
       "    </tr>\n",
       "    <tr>\n",
       "      <th>4</th>\n",
       "      <td>TModel</td>\n",
       "      <td>exps/lazada/100/4</td>\n",
       "      <td>lazada</td>\n",
       "      <td>100</td>\n",
       "      <td>0.056108</td>\n",
       "      <td>0.150800</td>\n",
       "      <td>0.478659</td>\n",
       "      <td>0.016890</td>\n",
       "      <td>0.009386</td>\n",
       "      <td>0.007613</td>\n",
       "      <td>0.009386</td>\n",
       "      <td>0.005876</td>\n",
       "      <td>0.003602</td>\n",
       "      <td>{}</td>\n",
       "    </tr>\n",
       "    <tr>\n",
       "      <th>5</th>\n",
       "      <td>TModel</td>\n",
       "      <td>exps/lazada/100/5</td>\n",
       "      <td>lazada</td>\n",
       "      <td>100</td>\n",
       "      <td>0.057290</td>\n",
       "      <td>19.446937</td>\n",
       "      <td>0.571644</td>\n",
       "      <td>-0.004150</td>\n",
       "      <td>0.007774</td>\n",
       "      <td>0.006016</td>\n",
       "      <td>0.007774</td>\n",
       "      <td>0.005597</td>\n",
       "      <td>0.004509</td>\n",
       "      <td>{}</td>\n",
       "    </tr>\n",
       "    <tr>\n",
       "      <th>6</th>\n",
       "      <td>TModel</td>\n",
       "      <td>exps/lazada/100/6</td>\n",
       "      <td>lazada</td>\n",
       "      <td>100</td>\n",
       "      <td>0.058309</td>\n",
       "      <td>17.388096</td>\n",
       "      <td>0.449403</td>\n",
       "      <td>0.010904</td>\n",
       "      <td>0.005254</td>\n",
       "      <td>0.003474</td>\n",
       "      <td>0.005254</td>\n",
       "      <td>0.004186</td>\n",
       "      <td>0.004041</td>\n",
       "      <td>{}</td>\n",
       "    </tr>\n",
       "    <tr>\n",
       "      <th>7</th>\n",
       "      <td>TModel</td>\n",
       "      <td>exps/lazada/100/7</td>\n",
       "      <td>lazada</td>\n",
       "      <td>100</td>\n",
       "      <td>0.055492</td>\n",
       "      <td>1.324496</td>\n",
       "      <td>0.621997</td>\n",
       "      <td>0.011158</td>\n",
       "      <td>0.008495</td>\n",
       "      <td>0.008291</td>\n",
       "      <td>0.008495</td>\n",
       "      <td>0.008107</td>\n",
       "      <td>0.005221</td>\n",
       "      <td>{}</td>\n",
       "    </tr>\n",
       "    <tr>\n",
       "      <th>8</th>\n",
       "      <td>TModel</td>\n",
       "      <td>exps/lazada/100/8</td>\n",
       "      <td>lazada</td>\n",
       "      <td>100</td>\n",
       "      <td>0.057467</td>\n",
       "      <td>12.526577</td>\n",
       "      <td>0.491589</td>\n",
       "      <td>-0.001493</td>\n",
       "      <td>0.003126</td>\n",
       "      <td>0.004580</td>\n",
       "      <td>0.003126</td>\n",
       "      <td>0.006341</td>\n",
       "      <td>0.004382</td>\n",
       "      <td>{}</td>\n",
       "    </tr>\n",
       "    <tr>\n",
       "      <th>9</th>\n",
       "      <td>TModel</td>\n",
       "      <td>exps/lazada/100/9</td>\n",
       "      <td>lazada</td>\n",
       "      <td>100</td>\n",
       "      <td>0.057034</td>\n",
       "      <td>0.842080</td>\n",
       "      <td>0.685294</td>\n",
       "      <td>0.018461</td>\n",
       "      <td>0.011393</td>\n",
       "      <td>0.009931</td>\n",
       "      <td>0.011393</td>\n",
       "      <td>0.008308</td>\n",
       "      <td>0.005581</td>\n",
       "      <td>{}</td>\n",
       "    </tr>\n",
       "  </tbody>\n",
       "</table>\n",
       "</div>"
      ],
      "text/plain": [
       "    Model               Path Dataset  ...  Precision@25  Precision@50  Compressions\n",
       "0  TModel  exps/lazada/100/0  lazada  ...      0.006507      0.004036            {}\n",
       "1  TModel  exps/lazada/100/1  lazada  ...      0.007162      0.005920            {}\n",
       "2  TModel  exps/lazada/100/2  lazada  ...      0.009760      0.005464            {}\n",
       "3  TModel  exps/lazada/100/3  lazada  ...      0.008134      0.005860            {}\n",
       "4  TModel  exps/lazada/100/4  lazada  ...      0.005876      0.003602            {}\n",
       "5  TModel  exps/lazada/100/5  lazada  ...      0.005597      0.004509            {}\n",
       "6  TModel  exps/lazada/100/6  lazada  ...      0.004186      0.004041            {}\n",
       "7  TModel  exps/lazada/100/7  lazada  ...      0.008107      0.005221            {}\n",
       "8  TModel  exps/lazada/100/8  lazada  ...      0.006341      0.004382            {}\n",
       "9  TModel  exps/lazada/100/9  lazada  ...      0.008308      0.005581            {}\n",
       "\n",
       "[10 rows x 14 columns]"
      ]
     },
     "execution_count": 6,
     "metadata": {},
     "output_type": "execute_result"
    }
   ],
   "source": [
    "from src.global_params import BASE_PATH\n",
    "import pandas as pd\n",
    "pd.read_csv(BASE_PATH / \"exps/stats.tsv\", sep='\\t')"
   ]
  },
  {
   "cell_type": "code",
   "execution_count": 7,
   "id": "cf8a4fab-52b6-4446-9657-9356630476b2",
   "metadata": {},
   "outputs": [
    {
     "name": "stdout",
     "output_type": "stream",
     "text": [
      "Model loaded from /Users/ogrobertino/UpliftModelingResearch/exps/lazada/100/9/model.pkl.\n",
      "Config loaded from /Users/ogrobertino/UpliftModelingResearch/exps/lazada/100/9/config.json.\n"
     ]
    }
   ],
   "source": [
    "from src.models.ICausalML.Models import TModel\n",
    "path = pd.read_csv(BASE_PATH / \"exps/stats.tsv\", sep='\\t').Path.iloc[-1]\n",
    "model = TModel(from_load=True, path = str(BASE_PATH) + \"/\" + path)"
   ]
  }
 ],
 "metadata": {
  "kernelspec": {
   "display_name": "Python 3 (ipykernel)",
   "language": "python",
   "name": "python3"
  },
  "language_info": {
   "codemirror_mode": {
    "name": "ipython",
    "version": 3
   },
   "file_extension": ".py",
   "mimetype": "text/x-python",
   "name": "python",
   "nbconvert_exporter": "python",
   "pygments_lexer": "ipython3",
   "version": "3.11.7"
  }
 },
 "nbformat": 4,
 "nbformat_minor": 5
}
