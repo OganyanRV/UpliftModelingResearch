{
 "cells": [
  {
   "cell_type": "markdown",
   "id": "9d2d9151-caa3-4377-8e02-48712cc1c5fe",
   "metadata": {},
   "source": [
    "## Tmodeling "
   ]
  },
  {
   "cell_type": "markdown",
   "id": "57177c23-10fa-46cb-8530-51465bad26a3",
   "metadata": {},
   "source": [
    "https://habr.com/ru/companies/ru_mts/articles/485980/\n",
    "https://causalml.readthedocs.io/en/latest/methodology.html#s-learner https://github.com/uber/causalml/tree/master/causalml/inference/meta"
   ]
  },
  {
   "cell_type": "code",
   "execution_count": 1,
   "id": "78575b3c-2a2c-4b99-8bd7-e407f74d1a28",
   "metadata": {},
   "outputs": [],
   "source": [
    "from pathlib import Path\n",
    "import sys\n",
    " \n",
    "if sys.argv:\n",
    "    sys.path.insert(0, str(Path('/Users/ogrobertino/UpliftModelingResearch/').resolve()))\n",
    "%load_ext autoreload\n",
    "%autoreload 2"
   ]
  },
  {
   "cell_type": "code",
   "execution_count": 2,
   "id": "ec1153e7-81e8-4c93-b367-e575bef4d325",
   "metadata": {},
   "outputs": [],
   "source": [
    "from src.global_params import *\n",
    "parameters = {\n",
    "    'iterations': (20, 70),\n",
    "    'learning_rate': (0.01, 0.5),\n",
    "    'depth': (4, 15)\n",
    "}"
   ]
  },
  {
   "cell_type": "code",
   "execution_count": 10,
   "id": "f2c5d949-79d2-4b68-afb5-1315cdbe5da0",
   "metadata": {},
   "outputs": [
    {
     "name": "stderr",
     "output_type": "stream",
     "text": [
      "Training models:   0%|                                   | 0/10 [00:00<?, ?it/s]"
     ]
    },
    {
     "name": "stdout",
     "output_type": "stream",
     "text": [
      "Модель, предсказания и конфиг сохранены в директории exps2/lazada/100/1\n"
     ]
    },
    {
     "name": "stderr",
     "output_type": "stream",
     "text": [
      "Training models:  10%|██▋                        | 1/10 [00:45<06:47, 45.30s/it]"
     ]
    },
    {
     "name": "stdout",
     "output_type": "stream",
     "text": [
      "Эксперимент сохранен в таблице /Users/ogrobertino/UpliftModelingResearch/exps2/stats.tsv\n",
      "Модель, предсказания и конфиг сохранены в директории exps2/lazada/100/2\n"
     ]
    },
    {
     "name": "stderr",
     "output_type": "stream",
     "text": [
      "Training models:  20%|█████▍                     | 2/10 [01:28<05:54, 44.27s/it]"
     ]
    },
    {
     "name": "stdout",
     "output_type": "stream",
     "text": [
      "Эксперимент сохранен в таблице /Users/ogrobertino/UpliftModelingResearch/exps2/stats.tsv\n",
      "Модель, предсказания и конфиг сохранены в директории exps2/lazada/100/3\n"
     ]
    },
    {
     "name": "stderr",
     "output_type": "stream",
     "text": [
      "Training models:  30%|████████                   | 3/10 [02:30<06:03, 51.99s/it]"
     ]
    },
    {
     "name": "stdout",
     "output_type": "stream",
     "text": [
      "Эксперимент сохранен в таблице /Users/ogrobertino/UpliftModelingResearch/exps2/stats.tsv\n",
      "Модель, предсказания и конфиг сохранены в директории exps2/lazada/100/4\n"
     ]
    },
    {
     "name": "stderr",
     "output_type": "stream",
     "text": [
      "Training models:  40%|██████████▊                | 4/10 [02:54<04:07, 41.24s/it]"
     ]
    },
    {
     "name": "stdout",
     "output_type": "stream",
     "text": [
      "Эксперимент сохранен в таблице /Users/ogrobertino/UpliftModelingResearch/exps2/stats.tsv\n",
      "Модель, предсказания и конфиг сохранены в директории exps2/lazada/100/5\n"
     ]
    },
    {
     "name": "stderr",
     "output_type": "stream",
     "text": [
      "Training models:  50%|█████████████▌             | 5/10 [04:00<04:11, 50.20s/it]"
     ]
    },
    {
     "name": "stdout",
     "output_type": "stream",
     "text": [
      "Эксперимент сохранен в таблице /Users/ogrobertino/UpliftModelingResearch/exps2/stats.tsv\n"
     ]
    },
    {
     "name": "stderr",
     "output_type": "stream",
     "text": [
      "Training models:  50%|█████████████▌             | 5/10 [04:25<04:25, 53.09s/it]\n"
     ]
    },
    {
     "ename": "KeyboardInterrupt",
     "evalue": "",
     "output_type": "error",
     "traceback": [
      "\u001b[0;31m---------------------------------------------------------------------------\u001b[0m",
      "\u001b[0;31mKeyboardInterrupt\u001b[0m                         Traceback (most recent call last)",
      "Cell \u001b[0;32mIn[10], line 9\u001b[0m\n\u001b[1;32m      6\u001b[0m configs \u001b[38;5;241m=\u001b[39m TModel\u001b[38;5;241m.\u001b[39mgenerate_config(count\u001b[38;5;241m=\u001b[39m\u001b[38;5;241m10\u001b[39m, \u001b[38;5;241m*\u001b[39m\u001b[38;5;241m*\u001b[39mparameters)\n\u001b[1;32m      8\u001b[0m \u001b[38;5;28;01mfor\u001b[39;00m i \u001b[38;5;129;01min\u001b[39;00m tqdm(\u001b[38;5;28mrange\u001b[39m(\u001b[38;5;28mlen\u001b[39m(configs)), desc\u001b[38;5;241m=\u001b[39m\u001b[38;5;124m\"\u001b[39m\u001b[38;5;124mTraining models\u001b[39m\u001b[38;5;124m\"\u001b[39m):\n\u001b[0;32m----> 9\u001b[0m     \u001b[43mtrain_test_model\u001b[49m\u001b[43m(\u001b[49m\u001b[43mds_name\u001b[49m\u001b[38;5;241;43m=\u001b[39;49m\u001b[38;5;124;43m'\u001b[39;49m\u001b[38;5;124;43mlazada\u001b[39;49m\u001b[38;5;124;43m'\u001b[39;49m\u001b[43m,\u001b[49m\u001b[43m \u001b[49m\u001b[43mfeatures_percent\u001b[49m\u001b[38;5;241;43m=\u001b[39;49m\u001b[38;5;241;43m100\u001b[39;49m\u001b[43m,\u001b[49m\u001b[43m \u001b[49m\u001b[43mfactory\u001b[49m\u001b[38;5;241;43m=\u001b[39;49m\u001b[43mTModelFactory\u001b[49m\u001b[43m,\u001b[49m\u001b[43m \u001b[49m\u001b[43mconfig\u001b[49m\u001b[38;5;241;43m=\u001b[39;49m\u001b[43mconfigs\u001b[49m\u001b[43m[\u001b[49m\u001b[43mi\u001b[49m\u001b[43m]\u001b[49m\u001b[43m)\u001b[49m    \n",
      "File \u001b[0;32m~/UpliftModelingResearch/src/utils.py:30\u001b[0m, in \u001b[0;36mtrain_test_model\u001b[0;34m(ds_name, features_percent, factory, config, compressions, batch_size, max_size)\u001b[0m\n\u001b[1;32m     28\u001b[0m train_path, test_path \u001b[38;5;241m=\u001b[39m get_paths_train_test(ds_name\u001b[38;5;241m=\u001b[39mds_name, features_percent\u001b[38;5;241m=\u001b[39mfeatures_percent)\n\u001b[1;32m     29\u001b[0m model, train, test \u001b[38;5;241m=\u001b[39m factory\u001b[38;5;241m.\u001b[39mcreate(config, train_path, test_path)\n\u001b[0;32m---> 30\u001b[0m \u001b[43mmodel\u001b[49m\u001b[38;5;241;43m.\u001b[39;49m\u001b[43mfit\u001b[49m\u001b[43m(\u001b[49m\u001b[43mtrain\u001b[49m\u001b[43m)\u001b[49m\n\u001b[1;32m     31\u001b[0m predicted \u001b[38;5;241m=\u001b[39m model\u001b[38;5;241m.\u001b[39mpredict(test)\n\u001b[1;32m     32\u001b[0m write(model, test, predicted, ds_name\u001b[38;5;241m=\u001b[39mds_name, features_percent\u001b[38;5;241m=\u001b[39mfeatures_percent, compressions\u001b[38;5;241m=\u001b[39mcompressions,\n\u001b[1;32m     33\u001b[0m       batch_size\u001b[38;5;241m=\u001b[39mbatch_size, max_size\u001b[38;5;241m=\u001b[39mmax_size)\n",
      "File \u001b[0;32m~/UpliftModelingResearch/src/models/CausalML/ICausalML.py:28\u001b[0m, in \u001b[0;36mICausalML.fit\u001b[0;34m(self, train)\u001b[0m\n\u001b[1;32m     27\u001b[0m \u001b[38;5;28;01mdef\u001b[39;00m\u001b[38;5;250m \u001b[39m\u001b[38;5;21mfit\u001b[39m(\u001b[38;5;28mself\u001b[39m, train):\n\u001b[0;32m---> 28\u001b[0m     \u001b[38;5;28;43mself\u001b[39;49m\u001b[38;5;241;43m.\u001b[39;49m\u001b[43mmodel\u001b[49m\u001b[38;5;241;43m.\u001b[39;49m\u001b[43mfit\u001b[49m\u001b[43m(\u001b[49m\n\u001b[1;32m     29\u001b[0m \u001b[43m        \u001b[49m\u001b[43mX\u001b[49m\u001b[38;5;241;43m=\u001b[39;49m\u001b[43mtrain\u001b[49m\u001b[38;5;241;43m.\u001b[39;49m\u001b[43mdata\u001b[49m\u001b[38;5;241;43m.\u001b[39;49m\u001b[43mloc\u001b[49m\u001b[43m[\u001b[49m\u001b[43m:\u001b[49m\u001b[43m,\u001b[49m\u001b[43m \u001b[49m\u001b[43mtrain\u001b[49m\u001b[38;5;241;43m.\u001b[39;49m\u001b[43mcols_features\u001b[49m\u001b[43m]\u001b[49m\u001b[38;5;241;43m.\u001b[39;49m\u001b[43mvalues\u001b[49m\u001b[43m,\u001b[49m\n\u001b[1;32m     30\u001b[0m \u001b[43m        \u001b[49m\u001b[43mtreatment\u001b[49m\u001b[38;5;241;43m=\u001b[39;49m\u001b[43mtrain\u001b[49m\u001b[38;5;241;43m.\u001b[39;49m\u001b[43mdata\u001b[49m\u001b[38;5;241;43m.\u001b[39;49m\u001b[43mloc\u001b[49m\u001b[43m[\u001b[49m\u001b[43m:\u001b[49m\u001b[43m,\u001b[49m\u001b[43m \u001b[49m\u001b[43mtrain\u001b[49m\u001b[38;5;241;43m.\u001b[39;49m\u001b[43mcol_treatment\u001b[49m\u001b[43m]\u001b[49m\u001b[38;5;241;43m.\u001b[39;49m\u001b[43mvalues\u001b[49m\u001b[43m,\u001b[49m\n\u001b[1;32m     31\u001b[0m \u001b[43m        \u001b[49m\u001b[43my\u001b[49m\u001b[38;5;241;43m=\u001b[39;49m\u001b[43mtrain\u001b[49m\u001b[38;5;241;43m.\u001b[39;49m\u001b[43mdata\u001b[49m\u001b[38;5;241;43m.\u001b[39;49m\u001b[43mloc\u001b[49m\u001b[43m[\u001b[49m\u001b[43m:\u001b[49m\u001b[43m,\u001b[49m\u001b[43m \u001b[49m\u001b[43mtrain\u001b[49m\u001b[38;5;241;43m.\u001b[39;49m\u001b[43mcol_target\u001b[49m\u001b[43m]\u001b[49m\u001b[38;5;241;43m.\u001b[39;49m\u001b[43mvalues\u001b[49m\u001b[43m,\u001b[49m\n\u001b[1;32m     32\u001b[0m \u001b[43m    \u001b[49m\u001b[43m)\u001b[49m\n",
      "File \u001b[0;32m~/new_diploma/lib/python3.11/site-packages/sklearn/utils/_testing.py:160\u001b[0m, in \u001b[0;36m_IgnoreWarnings.__call__.<locals>.wrapper\u001b[0;34m(*args, **kwargs)\u001b[0m\n\u001b[1;32m    158\u001b[0m \u001b[38;5;28;01mwith\u001b[39;00m warnings\u001b[38;5;241m.\u001b[39mcatch_warnings():\n\u001b[1;32m    159\u001b[0m     warnings\u001b[38;5;241m.\u001b[39msimplefilter(\u001b[38;5;124m\"\u001b[39m\u001b[38;5;124mignore\u001b[39m\u001b[38;5;124m\"\u001b[39m, \u001b[38;5;28mself\u001b[39m\u001b[38;5;241m.\u001b[39mcategory)\n\u001b[0;32m--> 160\u001b[0m     \u001b[38;5;28;01mreturn\u001b[39;00m \u001b[43mfn\u001b[49m\u001b[43m(\u001b[49m\u001b[38;5;241;43m*\u001b[39;49m\u001b[43margs\u001b[49m\u001b[43m,\u001b[49m\u001b[43m \u001b[49m\u001b[38;5;241;43m*\u001b[39;49m\u001b[38;5;241;43m*\u001b[39;49m\u001b[43mkwargs\u001b[49m\u001b[43m)\u001b[49m\n",
      "File \u001b[0;32m~/new_diploma/lib/python3.11/site-packages/causalml/inference/meta/tlearner.py:97\u001b[0m, in \u001b[0;36mBaseTLearner.fit\u001b[0;34m(self, X, treatment, y, p)\u001b[0m\n\u001b[1;32m     94\u001b[0m w \u001b[38;5;241m=\u001b[39m (treatment_filt \u001b[38;5;241m==\u001b[39m group)\u001b[38;5;241m.\u001b[39mastype(\u001b[38;5;28mint\u001b[39m)\n\u001b[1;32m     96\u001b[0m \u001b[38;5;28mself\u001b[39m\u001b[38;5;241m.\u001b[39mmodels_c[group]\u001b[38;5;241m.\u001b[39mfit(X_filt[w \u001b[38;5;241m==\u001b[39m \u001b[38;5;241m0\u001b[39m], y_filt[w \u001b[38;5;241m==\u001b[39m \u001b[38;5;241m0\u001b[39m])\n\u001b[0;32m---> 97\u001b[0m \u001b[38;5;28;43mself\u001b[39;49m\u001b[38;5;241;43m.\u001b[39;49m\u001b[43mmodels_t\u001b[49m\u001b[43m[\u001b[49m\u001b[43mgroup\u001b[49m\u001b[43m]\u001b[49m\u001b[38;5;241;43m.\u001b[39;49m\u001b[43mfit\u001b[49m\u001b[43m(\u001b[49m\u001b[43mX_filt\u001b[49m\u001b[43m[\u001b[49m\u001b[43mw\u001b[49m\u001b[43m \u001b[49m\u001b[38;5;241;43m==\u001b[39;49m\u001b[43m \u001b[49m\u001b[38;5;241;43m1\u001b[39;49m\u001b[43m]\u001b[49m\u001b[43m,\u001b[49m\u001b[43m \u001b[49m\u001b[43my_filt\u001b[49m\u001b[43m[\u001b[49m\u001b[43mw\u001b[49m\u001b[43m \u001b[49m\u001b[38;5;241;43m==\u001b[39;49m\u001b[43m \u001b[49m\u001b[38;5;241;43m1\u001b[39;49m\u001b[43m]\u001b[49m\u001b[43m)\u001b[49m\n",
      "File \u001b[0;32m~/new_diploma/lib/python3.11/site-packages/catboost/core.py:5245\u001b[0m, in \u001b[0;36mCatBoostClassifier.fit\u001b[0;34m(self, X, y, cat_features, text_features, embedding_features, graph, sample_weight, baseline, use_best_model, eval_set, verbose, logging_level, plot, plot_file, column_description, verbose_eval, metric_period, silent, early_stopping_rounds, save_snapshot, snapshot_file, snapshot_interval, init_model, callbacks, log_cout, log_cerr)\u001b[0m\n\u001b[1;32m   5242\u001b[0m \u001b[38;5;28;01mif\u001b[39;00m \u001b[38;5;124m'\u001b[39m\u001b[38;5;124mloss_function\u001b[39m\u001b[38;5;124m'\u001b[39m \u001b[38;5;129;01min\u001b[39;00m params:\n\u001b[1;32m   5243\u001b[0m     CatBoostClassifier\u001b[38;5;241m.\u001b[39m_check_is_compatible_loss(params[\u001b[38;5;124m'\u001b[39m\u001b[38;5;124mloss_function\u001b[39m\u001b[38;5;124m'\u001b[39m])\n\u001b[0;32m-> 5245\u001b[0m \u001b[38;5;28;43mself\u001b[39;49m\u001b[38;5;241;43m.\u001b[39;49m\u001b[43m_fit\u001b[49m\u001b[43m(\u001b[49m\u001b[43mX\u001b[49m\u001b[43m,\u001b[49m\u001b[43m \u001b[49m\u001b[43my\u001b[49m\u001b[43m,\u001b[49m\u001b[43m \u001b[49m\u001b[43mcat_features\u001b[49m\u001b[43m,\u001b[49m\u001b[43m \u001b[49m\u001b[43mtext_features\u001b[49m\u001b[43m,\u001b[49m\u001b[43m \u001b[49m\u001b[43membedding_features\u001b[49m\u001b[43m,\u001b[49m\u001b[43m \u001b[49m\u001b[38;5;28;43;01mNone\u001b[39;49;00m\u001b[43m,\u001b[49m\u001b[43m \u001b[49m\u001b[43mgraph\u001b[49m\u001b[43m,\u001b[49m\u001b[43m \u001b[49m\u001b[43msample_weight\u001b[49m\u001b[43m,\u001b[49m\u001b[43m \u001b[49m\u001b[38;5;28;43;01mNone\u001b[39;49;00m\u001b[43m,\u001b[49m\u001b[43m \u001b[49m\u001b[38;5;28;43;01mNone\u001b[39;49;00m\u001b[43m,\u001b[49m\u001b[43m \u001b[49m\u001b[38;5;28;43;01mNone\u001b[39;49;00m\u001b[43m,\u001b[49m\u001b[43m \u001b[49m\u001b[38;5;28;43;01mNone\u001b[39;49;00m\u001b[43m,\u001b[49m\u001b[43m \u001b[49m\u001b[43mbaseline\u001b[49m\u001b[43m,\u001b[49m\u001b[43m \u001b[49m\u001b[43muse_best_model\u001b[49m\u001b[43m,\u001b[49m\n\u001b[1;32m   5246\u001b[0m \u001b[43m          \u001b[49m\u001b[43meval_set\u001b[49m\u001b[43m,\u001b[49m\u001b[43m \u001b[49m\u001b[43mverbose\u001b[49m\u001b[43m,\u001b[49m\u001b[43m \u001b[49m\u001b[43mlogging_level\u001b[49m\u001b[43m,\u001b[49m\u001b[43m \u001b[49m\u001b[43mplot\u001b[49m\u001b[43m,\u001b[49m\u001b[43m \u001b[49m\u001b[43mplot_file\u001b[49m\u001b[43m,\u001b[49m\u001b[43m \u001b[49m\u001b[43mcolumn_description\u001b[49m\u001b[43m,\u001b[49m\u001b[43m \u001b[49m\u001b[43mverbose_eval\u001b[49m\u001b[43m,\u001b[49m\u001b[43m \u001b[49m\u001b[43mmetric_period\u001b[49m\u001b[43m,\u001b[49m\n\u001b[1;32m   5247\u001b[0m \u001b[43m          \u001b[49m\u001b[43msilent\u001b[49m\u001b[43m,\u001b[49m\u001b[43m \u001b[49m\u001b[43mearly_stopping_rounds\u001b[49m\u001b[43m,\u001b[49m\u001b[43m \u001b[49m\u001b[43msave_snapshot\u001b[49m\u001b[43m,\u001b[49m\u001b[43m \u001b[49m\u001b[43msnapshot_file\u001b[49m\u001b[43m,\u001b[49m\u001b[43m \u001b[49m\u001b[43msnapshot_interval\u001b[49m\u001b[43m,\u001b[49m\u001b[43m \u001b[49m\u001b[43minit_model\u001b[49m\u001b[43m,\u001b[49m\u001b[43m \u001b[49m\u001b[43mcallbacks\u001b[49m\u001b[43m,\u001b[49m\u001b[43m \u001b[49m\u001b[43mlog_cout\u001b[49m\u001b[43m,\u001b[49m\u001b[43m \u001b[49m\u001b[43mlog_cerr\u001b[49m\u001b[43m)\u001b[49m\n\u001b[1;32m   5248\u001b[0m \u001b[38;5;28;01mreturn\u001b[39;00m \u001b[38;5;28mself\u001b[39m\n",
      "File \u001b[0;32m~/new_diploma/lib/python3.11/site-packages/catboost/core.py:2410\u001b[0m, in \u001b[0;36mCatBoost._fit\u001b[0;34m(self, X, y, cat_features, text_features, embedding_features, pairs, graph, sample_weight, group_id, group_weight, subgroup_id, pairs_weight, baseline, use_best_model, eval_set, verbose, logging_level, plot, plot_file, column_description, verbose_eval, metric_period, silent, early_stopping_rounds, save_snapshot, snapshot_file, snapshot_interval, init_model, callbacks, log_cout, log_cerr)\u001b[0m\n\u001b[1;32m   2407\u001b[0m allow_clear_pool \u001b[38;5;241m=\u001b[39m train_params[\u001b[38;5;124m\"\u001b[39m\u001b[38;5;124mallow_clear_pool\u001b[39m\u001b[38;5;124m\"\u001b[39m]\n\u001b[1;32m   2409\u001b[0m \u001b[38;5;28;01mwith\u001b[39;00m plot_wrapper(plot, plot_file, \u001b[38;5;124m'\u001b[39m\u001b[38;5;124mTraining plots\u001b[39m\u001b[38;5;124m'\u001b[39m, [_get_train_dir(\u001b[38;5;28mself\u001b[39m\u001b[38;5;241m.\u001b[39mget_params())]):\n\u001b[0;32m-> 2410\u001b[0m     \u001b[38;5;28;43mself\u001b[39;49m\u001b[38;5;241;43m.\u001b[39;49m\u001b[43m_train\u001b[49m\u001b[43m(\u001b[49m\n\u001b[1;32m   2411\u001b[0m \u001b[43m        \u001b[49m\u001b[43mtrain_pool\u001b[49m\u001b[43m,\u001b[49m\n\u001b[1;32m   2412\u001b[0m \u001b[43m        \u001b[49m\u001b[43mtrain_params\u001b[49m\u001b[43m[\u001b[49m\u001b[38;5;124;43m\"\u001b[39;49m\u001b[38;5;124;43meval_sets\u001b[39;49m\u001b[38;5;124;43m\"\u001b[39;49m\u001b[43m]\u001b[49m\u001b[43m,\u001b[49m\n\u001b[1;32m   2413\u001b[0m \u001b[43m        \u001b[49m\u001b[43mparams\u001b[49m\u001b[43m,\u001b[49m\n\u001b[1;32m   2414\u001b[0m \u001b[43m        \u001b[49m\u001b[43mallow_clear_pool\u001b[49m\u001b[43m,\u001b[49m\n\u001b[1;32m   2415\u001b[0m \u001b[43m        \u001b[49m\u001b[43mtrain_params\u001b[49m\u001b[43m[\u001b[49m\u001b[38;5;124;43m\"\u001b[39;49m\u001b[38;5;124;43minit_model\u001b[39;49m\u001b[38;5;124;43m\"\u001b[39;49m\u001b[43m]\u001b[49m\n\u001b[1;32m   2416\u001b[0m \u001b[43m    \u001b[49m\u001b[43m)\u001b[49m\n\u001b[1;32m   2418\u001b[0m \u001b[38;5;66;03m# Have property feature_importance possibly set\u001b[39;00m\n\u001b[1;32m   2419\u001b[0m loss \u001b[38;5;241m=\u001b[39m \u001b[38;5;28mself\u001b[39m\u001b[38;5;241m.\u001b[39m_object\u001b[38;5;241m.\u001b[39m_get_loss_function_name()\n",
      "File \u001b[0;32m~/new_diploma/lib/python3.11/site-packages/catboost/core.py:1790\u001b[0m, in \u001b[0;36m_CatBoostBase._train\u001b[0;34m(self, train_pool, test_pool, params, allow_clear_pool, init_model)\u001b[0m\n\u001b[1;32m   1789\u001b[0m \u001b[38;5;28;01mdef\u001b[39;00m\u001b[38;5;250m \u001b[39m\u001b[38;5;21m_train\u001b[39m(\u001b[38;5;28mself\u001b[39m, train_pool, test_pool, params, allow_clear_pool, init_model):\n\u001b[0;32m-> 1790\u001b[0m     \u001b[38;5;28;43mself\u001b[39;49m\u001b[38;5;241;43m.\u001b[39;49m\u001b[43m_object\u001b[49m\u001b[38;5;241;43m.\u001b[39;49m\u001b[43m_train\u001b[49m\u001b[43m(\u001b[49m\u001b[43mtrain_pool\u001b[49m\u001b[43m,\u001b[49m\u001b[43m \u001b[49m\u001b[43mtest_pool\u001b[49m\u001b[43m,\u001b[49m\u001b[43m \u001b[49m\u001b[43mparams\u001b[49m\u001b[43m,\u001b[49m\u001b[43m \u001b[49m\u001b[43mallow_clear_pool\u001b[49m\u001b[43m,\u001b[49m\u001b[43m \u001b[49m\u001b[43minit_model\u001b[49m\u001b[38;5;241;43m.\u001b[39;49m\u001b[43m_object\u001b[49m\u001b[43m \u001b[49m\u001b[38;5;28;43;01mif\u001b[39;49;00m\u001b[43m \u001b[49m\u001b[43minit_model\u001b[49m\u001b[43m \u001b[49m\u001b[38;5;28;43;01melse\u001b[39;49;00m\u001b[43m \u001b[49m\u001b[38;5;28;43;01mNone\u001b[39;49;00m\u001b[43m)\u001b[49m\n\u001b[1;32m   1791\u001b[0m     \u001b[38;5;28mself\u001b[39m\u001b[38;5;241m.\u001b[39m_set_trained_model_attributes()\n",
      "File \u001b[0;32m_catboost.pyx:5017\u001b[0m, in \u001b[0;36m_catboost._CatBoost._train\u001b[0;34m()\u001b[0m\n",
      "File \u001b[0;32m_catboost.pyx:5066\u001b[0m, in \u001b[0;36m_catboost._CatBoost._train\u001b[0;34m()\u001b[0m\n",
      "\u001b[0;31mKeyboardInterrupt\u001b[0m: "
     ]
    }
   ],
   "source": [
    "from src.utils import get_paths_train_test, train_test_model\n",
    "from src.factory import TModelFactory\n",
    "from src.models.CausalML.Models import TModel\n",
    "from tqdm import tqdm\n",
    "\n",
    "configs = TModel.generate_config(count=10, **parameters)\n",
    "\n",
    "for i in tqdm(range(len(configs)), desc=\"Training models\"):\n",
    "    train_test_model(ds_name='lazada', features_percent=100, factory=TModelFactory, config=configs[i])    "
   ]
  },
  {
   "cell_type": "code",
   "execution_count": 11,
   "id": "6fd02f9a-edc4-4400-bb51-0188bd0b6b36",
   "metadata": {},
   "outputs": [
    {
     "data": {
      "text/html": [
       "<div>\n",
       "<style scoped>\n",
       "    .dataframe tbody tr th:only-of-type {\n",
       "        vertical-align: middle;\n",
       "    }\n",
       "\n",
       "    .dataframe tbody tr th {\n",
       "        vertical-align: top;\n",
       "    }\n",
       "\n",
       "    .dataframe thead th {\n",
       "        text-align: right;\n",
       "    }\n",
       "</style>\n",
       "<table border=\"1\" class=\"dataframe\">\n",
       "  <thead>\n",
       "    <tr style=\"text-align: right;\">\n",
       "      <th></th>\n",
       "      <th>Model</th>\n",
       "      <th>Path</th>\n",
       "      <th>Dataset</th>\n",
       "      <th>Features Percent</th>\n",
       "      <th>Latency (ms)</th>\n",
       "      <th>Binary Size (MB)</th>\n",
       "      <th>AUUC</th>\n",
       "      <th>AUQC</th>\n",
       "      <th>Precision@5</th>\n",
       "      <th>Precision@10</th>\n",
       "      <th>Precision@15</th>\n",
       "      <th>Precision@20</th>\n",
       "      <th>Precision@25</th>\n",
       "      <th>Precision@30</th>\n",
       "      <th>Precision@50</th>\n",
       "      <th>Compressions</th>\n",
       "    </tr>\n",
       "  </thead>\n",
       "  <tbody>\n",
       "    <tr>\n",
       "      <th>0</th>\n",
       "      <td>TModel</td>\n",
       "      <td>exps2/lazada/100/0</td>\n",
       "      <td>lazada</td>\n",
       "      <td>100</td>\n",
       "      <td>0.057995</td>\n",
       "      <td>1.578153</td>\n",
       "      <td>0.000258</td>\n",
       "      <td>0.001835</td>\n",
       "      <td>0.009289</td>\n",
       "      <td>0.006420</td>\n",
       "      <td>0.007092</td>\n",
       "      <td>0.006420</td>\n",
       "      <td>0.005797</td>\n",
       "      <td>0.005562</td>\n",
       "      <td>0.003947</td>\n",
       "      <td>{}</td>\n",
       "    </tr>\n",
       "    <tr>\n",
       "      <th>1</th>\n",
       "      <td>TModel</td>\n",
       "      <td>exps2/lazada/100/1</td>\n",
       "      <td>lazada</td>\n",
       "      <td>100</td>\n",
       "      <td>0.063672</td>\n",
       "      <td>15.490801</td>\n",
       "      <td>0.001448</td>\n",
       "      <td>0.010178</td>\n",
       "      <td>0.012799</td>\n",
       "      <td>0.009004</td>\n",
       "      <td>0.008262</td>\n",
       "      <td>0.009004</td>\n",
       "      <td>0.007098</td>\n",
       "      <td>0.006621</td>\n",
       "      <td>0.004798</td>\n",
       "      <td>{}</td>\n",
       "    </tr>\n",
       "    <tr>\n",
       "      <th>2</th>\n",
       "      <td>TModel</td>\n",
       "      <td>exps2/lazada/100/2</td>\n",
       "      <td>lazada</td>\n",
       "      <td>100</td>\n",
       "      <td>0.059081</td>\n",
       "      <td>13.232488</td>\n",
       "      <td>0.002210</td>\n",
       "      <td>0.015477</td>\n",
       "      <td>0.012655</td>\n",
       "      <td>0.009896</td>\n",
       "      <td>0.007377</td>\n",
       "      <td>0.009896</td>\n",
       "      <td>0.006720</td>\n",
       "      <td>0.006506</td>\n",
       "      <td>0.005262</td>\n",
       "      <td>{}</td>\n",
       "    </tr>\n",
       "    <tr>\n",
       "      <th>3</th>\n",
       "      <td>TModel</td>\n",
       "      <td>exps2/lazada/100/3</td>\n",
       "      <td>lazada</td>\n",
       "      <td>100</td>\n",
       "      <td>0.061186</td>\n",
       "      <td>23.665785</td>\n",
       "      <td>0.003064</td>\n",
       "      <td>0.021678</td>\n",
       "      <td>0.012695</td>\n",
       "      <td>0.009257</td>\n",
       "      <td>0.009667</td>\n",
       "      <td>0.009257</td>\n",
       "      <td>0.007699</td>\n",
       "      <td>0.007223</td>\n",
       "      <td>0.005610</td>\n",
       "      <td>{}</td>\n",
       "    </tr>\n",
       "    <tr>\n",
       "      <th>4</th>\n",
       "      <td>TModel</td>\n",
       "      <td>exps2/lazada/100/4</td>\n",
       "      <td>lazada</td>\n",
       "      <td>100</td>\n",
       "      <td>0.058519</td>\n",
       "      <td>0.111432</td>\n",
       "      <td>0.002634</td>\n",
       "      <td>0.018616</td>\n",
       "      <td>0.007115</td>\n",
       "      <td>0.010575</td>\n",
       "      <td>0.010451</td>\n",
       "      <td>0.010575</td>\n",
       "      <td>0.008570</td>\n",
       "      <td>0.007292</td>\n",
       "      <td>0.005772</td>\n",
       "      <td>{}</td>\n",
       "    </tr>\n",
       "    <tr>\n",
       "      <th>5</th>\n",
       "      <td>TModel</td>\n",
       "      <td>exps2/lazada/100/5</td>\n",
       "      <td>lazada</td>\n",
       "      <td>100</td>\n",
       "      <td>0.059849</td>\n",
       "      <td>28.533945</td>\n",
       "      <td>-0.001632</td>\n",
       "      <td>-0.011664</td>\n",
       "      <td>0.007497</td>\n",
       "      <td>0.006788</td>\n",
       "      <td>0.004775</td>\n",
       "      <td>0.006788</td>\n",
       "      <td>0.004316</td>\n",
       "      <td>0.003713</td>\n",
       "      <td>0.002550</td>\n",
       "      <td>{}</td>\n",
       "    </tr>\n",
       "  </tbody>\n",
       "</table>\n",
       "</div>"
      ],
      "text/plain": [
       "    Model                Path Dataset  Features Percent  Latency (ms)  \\\n",
       "0  TModel  exps2/lazada/100/0  lazada               100      0.057995   \n",
       "1  TModel  exps2/lazada/100/1  lazada               100      0.063672   \n",
       "2  TModel  exps2/lazada/100/2  lazada               100      0.059081   \n",
       "3  TModel  exps2/lazada/100/3  lazada               100      0.061186   \n",
       "4  TModel  exps2/lazada/100/4  lazada               100      0.058519   \n",
       "5  TModel  exps2/lazada/100/5  lazada               100      0.059849   \n",
       "\n",
       "   Binary Size (MB)      AUUC      AUQC  Precision@5  Precision@10  \\\n",
       "0          1.578153  0.000258  0.001835     0.009289      0.006420   \n",
       "1         15.490801  0.001448  0.010178     0.012799      0.009004   \n",
       "2         13.232488  0.002210  0.015477     0.012655      0.009896   \n",
       "3         23.665785  0.003064  0.021678     0.012695      0.009257   \n",
       "4          0.111432  0.002634  0.018616     0.007115      0.010575   \n",
       "5         28.533945 -0.001632 -0.011664     0.007497      0.006788   \n",
       "\n",
       "   Precision@15  Precision@20  Precision@25  Precision@30  Precision@50  \\\n",
       "0      0.007092      0.006420      0.005797      0.005562      0.003947   \n",
       "1      0.008262      0.009004      0.007098      0.006621      0.004798   \n",
       "2      0.007377      0.009896      0.006720      0.006506      0.005262   \n",
       "3      0.009667      0.009257      0.007699      0.007223      0.005610   \n",
       "4      0.010451      0.010575      0.008570      0.007292      0.005772   \n",
       "5      0.004775      0.006788      0.004316      0.003713      0.002550   \n",
       "\n",
       "  Compressions  \n",
       "0           {}  \n",
       "1           {}  \n",
       "2           {}  \n",
       "3           {}  \n",
       "4           {}  \n",
       "5           {}  "
      ]
     },
     "execution_count": 11,
     "metadata": {},
     "output_type": "execute_result"
    }
   ],
   "source": [
    "from src.global_params import BASE_PATH\n",
    "import pandas as pd\n",
    "table = pd.read_csv(BASE_PATH + \"/\" + EXPS_PATH +  \"/stats.tsv\", sep='\\t')\n",
    "table[table['Model'] == 'TModel']"
   ]
  },
  {
   "cell_type": "code",
   "execution_count": 27,
   "id": "fe6b246c-f9e5-4ac8-8436-d372e8f5cdac",
   "metadata": {},
   "outputs": [
    {
     "data": {
      "text/html": [
       "<div>\n",
       "<style scoped>\n",
       "    .dataframe tbody tr th:only-of-type {\n",
       "        vertical-align: middle;\n",
       "    }\n",
       "\n",
       "    .dataframe tbody tr th {\n",
       "        vertical-align: top;\n",
       "    }\n",
       "\n",
       "    .dataframe thead th {\n",
       "        text-align: right;\n",
       "    }\n",
       "</style>\n",
       "<table border=\"1\" class=\"dataframe\">\n",
       "  <thead>\n",
       "    <tr style=\"text-align: right;\">\n",
       "      <th></th>\n",
       "      <th>Model</th>\n",
       "      <th>Path</th>\n",
       "      <th>Dataset</th>\n",
       "      <th>Features Percent</th>\n",
       "      <th>Latency (ms)</th>\n",
       "      <th>Binary Size (MB)</th>\n",
       "      <th>AUUC (test)</th>\n",
       "      <th>Precision@5</th>\n",
       "      <th>Precision@10</th>\n",
       "      <th>Precision@15</th>\n",
       "      <th>Precision@20</th>\n",
       "      <th>Precision@25</th>\n",
       "      <th>Precision@50</th>\n",
       "      <th>Compressions</th>\n",
       "    </tr>\n",
       "  </thead>\n",
       "  <tbody>\n",
       "    <tr>\n",
       "      <th>142</th>\n",
       "      <td>UpliftRandomForestModel</td>\n",
       "      <td>exps/lazada2/50/20</td>\n",
       "      <td>lazada2</td>\n",
       "      <td>50</td>\n",
       "      <td>0.552073</td>\n",
       "      <td>14.001338</td>\n",
       "      <td>0.337629</td>\n",
       "      <td>-0.005250</td>\n",
       "      <td>-0.003655</td>\n",
       "      <td>-0.002750</td>\n",
       "      <td>-0.003655</td>\n",
       "      <td>-0.000921</td>\n",
       "      <td>0.002255</td>\n",
       "      <td>{}</td>\n",
       "    </tr>\n",
       "    <tr>\n",
       "      <th>143</th>\n",
       "      <td>UpliftRandomForestModel</td>\n",
       "      <td>exps/lazada2/50/21</td>\n",
       "      <td>lazada2</td>\n",
       "      <td>50</td>\n",
       "      <td>1.452492</td>\n",
       "      <td>34.648563</td>\n",
       "      <td>0.306822</td>\n",
       "      <td>-0.005530</td>\n",
       "      <td>-0.004564</td>\n",
       "      <td>-0.003305</td>\n",
       "      <td>-0.004564</td>\n",
       "      <td>-0.000731</td>\n",
       "      <td>0.001967</td>\n",
       "      <td>{}</td>\n",
       "    </tr>\n",
       "    <tr>\n",
       "      <th>144</th>\n",
       "      <td>UpliftRandomForestModel</td>\n",
       "      <td>exps/lazada2/50/22</td>\n",
       "      <td>lazada2</td>\n",
       "      <td>50</td>\n",
       "      <td>0.962545</td>\n",
       "      <td>10.925081</td>\n",
       "      <td>0.341962</td>\n",
       "      <td>-0.003543</td>\n",
       "      <td>-0.004099</td>\n",
       "      <td>-0.002130</td>\n",
       "      <td>-0.004099</td>\n",
       "      <td>-0.000606</td>\n",
       "      <td>0.003053</td>\n",
       "      <td>{}</td>\n",
       "    </tr>\n",
       "    <tr>\n",
       "      <th>145</th>\n",
       "      <td>UpliftRandomForestModel</td>\n",
       "      <td>exps/lazada2/50/23</td>\n",
       "      <td>lazada2</td>\n",
       "      <td>50</td>\n",
       "      <td>1.007202</td>\n",
       "      <td>28.241428</td>\n",
       "      <td>0.345174</td>\n",
       "      <td>-0.004781</td>\n",
       "      <td>-0.003164</td>\n",
       "      <td>-0.002820</td>\n",
       "      <td>-0.003164</td>\n",
       "      <td>-0.000913</td>\n",
       "      <td>0.002343</td>\n",
       "      <td>{}</td>\n",
       "    </tr>\n",
       "    <tr>\n",
       "      <th>146</th>\n",
       "      <td>UpliftRandomForestModel</td>\n",
       "      <td>exps/lazada2/50/24</td>\n",
       "      <td>lazada2</td>\n",
       "      <td>50</td>\n",
       "      <td>0.484327</td>\n",
       "      <td>10.613634</td>\n",
       "      <td>0.285326</td>\n",
       "      <td>-0.004030</td>\n",
       "      <td>-0.004321</td>\n",
       "      <td>-0.003452</td>\n",
       "      <td>-0.004321</td>\n",
       "      <td>-0.002218</td>\n",
       "      <td>0.001529</td>\n",
       "      <td>{}</td>\n",
       "    </tr>\n",
       "  </tbody>\n",
       "</table>\n",
       "</div>"
      ],
      "text/plain": [
       "                       Model                Path  Dataset  Features Percent  \\\n",
       "142  UpliftRandomForestModel  exps/lazada2/50/20  lazada2                50   \n",
       "143  UpliftRandomForestModel  exps/lazada2/50/21  lazada2                50   \n",
       "144  UpliftRandomForestModel  exps/lazada2/50/22  lazada2                50   \n",
       "145  UpliftRandomForestModel  exps/lazada2/50/23  lazada2                50   \n",
       "146  UpliftRandomForestModel  exps/lazada2/50/24  lazada2                50   \n",
       "\n",
       "     Latency (ms)  Binary Size (MB)  AUUC (test)  Precision@5  Precision@10  \\\n",
       "142      0.552073         14.001338     0.337629    -0.005250     -0.003655   \n",
       "143      1.452492         34.648563     0.306822    -0.005530     -0.004564   \n",
       "144      0.962545         10.925081     0.341962    -0.003543     -0.004099   \n",
       "145      1.007202         28.241428     0.345174    -0.004781     -0.003164   \n",
       "146      0.484327         10.613634     0.285326    -0.004030     -0.004321   \n",
       "\n",
       "     Precision@15  Precision@20  Precision@25  Precision@50 Compressions  \n",
       "142     -0.002750     -0.003655     -0.000921      0.002255           {}  \n",
       "143     -0.003305     -0.004564     -0.000731      0.001967           {}  \n",
       "144     -0.002130     -0.004099     -0.000606      0.003053           {}  \n",
       "145     -0.002820     -0.003164     -0.000913      0.002343           {}  \n",
       "146     -0.003452     -0.004321     -0.002218      0.001529           {}  "
      ]
     },
     "execution_count": 27,
     "metadata": {},
     "output_type": "execute_result"
    }
   ],
   "source": [
    "table.tail(5)"
   ]
  },
  {
   "cell_type": "code",
   "execution_count": null,
   "id": "f26e5d03-bd5e-4011-92e7-773d060f0c0c",
   "metadata": {},
   "outputs": [],
   "source": []
  },
  {
   "cell_type": "code",
   "execution_count": 49,
   "id": "cf8a4fab-52b6-4446-9657-9356630476b2",
   "metadata": {},
   "outputs": [
    {
     "name": "stdout",
     "output_type": "stream",
     "text": [
      "Model loaded from /Users/ogrobertino/UpliftModelingResearch/exps/lazada/100/21/model.pkl.\n",
      "Config loaded from /Users/ogrobertino/UpliftModelingResearch/exps/lazada/100/21/config.json.\n"
     ]
    }
   ],
   "source": [
    "from src.models.CausalML.Models import TModel\n",
    "import pandas as pd\n",
    "table = pd.read_csv(BASE_PATH / \"exps/stats.tsv\", sep='\\t')\n",
    "\n",
    "path = table[table.Model == \"TModel\"].sort_values(by=[\"AUUC (test)\"], ascending=False).Path.iloc[0]\n",
    "model = TModel(from_load=True, path = str(BASE_PATH) + \"/\" + path)"
   ]
  },
  {
   "cell_type": "code",
   "execution_count": 50,
   "id": "52b61b9f-a3bc-4aee-a872-3374e7bb8ddd",
   "metadata": {},
   "outputs": [],
   "source": [
    "y = pd.read_csv(str(BASE_PATH) + '/' + path +'/predictions.tsv', sep='\\t')"
   ]
  },
  {
   "cell_type": "code",
   "execution_count": 42,
   "id": "470a7b6c-160c-44b0-a34a-4feb16a181da",
   "metadata": {},
   "outputs": [],
   "source": [
    "from sklift.metrics import (\n",
    "    uplift_at_k, uplift_auc_score, qini_auc_score, weighted_average_uplift\n",
    ")"
   ]
  },
  {
   "cell_type": "code",
   "execution_count": 51,
   "id": "19c0a796-7860-40ab-98f1-04c198cd0ae9",
   "metadata": {},
   "outputs": [
    {
     "data": {
      "text/plain": [
       "0.0035236955482630897"
      ]
     },
     "execution_count": 51,
     "metadata": {},
     "output_type": "execute_result"
    }
   ],
   "source": [
    "uplift_auc_score(y.target, y.score, y.treatment)"
   ]
  },
  {
   "cell_type": "code",
   "execution_count": 25,
   "id": "3c9b8a10-4e6f-484b-8768-763f057abd3d",
   "metadata": {},
   "outputs": [
    {
     "ename": "ImportError",
     "evalue": "cannot import name 'check_matplotlib_support' from 'sklearn.utils' (/Users/ogrobertino/new_diploma/lib/python3.11/site-packages/sklearn/utils/__init__.py)",
     "output_type": "error",
     "traceback": [
      "\u001b[0;31m---------------------------------------------------------------------------\u001b[0m",
      "\u001b[0;31mImportError\u001b[0m                               Traceback (most recent call last)",
      "Cell \u001b[0;32mIn[25], line 1\u001b[0m\n\u001b[0;32m----> 1\u001b[0m \u001b[38;5;28;01mfrom\u001b[39;00m\u001b[38;5;250m \u001b[39m\u001b[38;5;21;01msklift\u001b[39;00m\u001b[38;5;21;01m.\u001b[39;00m\u001b[38;5;21;01mviz\u001b[39;00m\u001b[38;5;250m \u001b[39m\u001b[38;5;28;01mimport\u001b[39;00m plot_qini_curve\n\u001b[1;32m      2\u001b[0m plot_qini_curve(\n\u001b[1;32m      3\u001b[0m     y_true\u001b[38;5;241m=\u001b[39my\u001b[38;5;241m.\u001b[39mtarget,\n\u001b[1;32m      4\u001b[0m     uplift\u001b[38;5;241m=\u001b[39my\u001b[38;5;241m.\u001b[39mscore,\n\u001b[1;32m      5\u001b[0m     treatment\u001b[38;5;241m=\u001b[39my\u001b[38;5;241m.\u001b[39mtreatment,\n\u001b[1;32m      6\u001b[0m     perfect\u001b[38;5;241m=\u001b[39m\u001b[38;5;28;01mTrue\u001b[39;00m\n\u001b[1;32m      7\u001b[0m )\n",
      "File \u001b[0;32m~/new_diploma/lib/python3.11/site-packages/sklift/viz/__init__.py:1\u001b[0m\n\u001b[0;32m----> 1\u001b[0m \u001b[38;5;28;01mfrom\u001b[39;00m\u001b[38;5;250m \u001b[39m\u001b[38;5;21;01m.\u001b[39;00m\u001b[38;5;21;01mbase\u001b[39;00m\u001b[38;5;250m \u001b[39m\u001b[38;5;28;01mimport\u001b[39;00m (\n\u001b[1;32m      2\u001b[0m     plot_uplift_curve, plot_qini_curve, plot_uplift_preds,\n\u001b[1;32m      3\u001b[0m     plot_uplift_by_percentile, plot_treatment_balance_curve,\n\u001b[1;32m      4\u001b[0m     UpliftCurveDisplay\n\u001b[1;32m      5\u001b[0m )\n\u001b[1;32m      7\u001b[0m __all__ \u001b[38;5;241m=\u001b[39m [\n\u001b[1;32m      8\u001b[0m     \u001b[38;5;124m'\u001b[39m\u001b[38;5;124mplot_uplift_curve\u001b[39m\u001b[38;5;124m'\u001b[39m, \u001b[38;5;124m'\u001b[39m\u001b[38;5;124mplot_qini_curve\u001b[39m\u001b[38;5;124m'\u001b[39m, \u001b[38;5;124m'\u001b[39m\u001b[38;5;124mplot_uplift_preds\u001b[39m\u001b[38;5;124m'\u001b[39m,\n\u001b[1;32m      9\u001b[0m     \u001b[38;5;124m'\u001b[39m\u001b[38;5;124mplot_uplift_by_percentile\u001b[39m\u001b[38;5;124m'\u001b[39m, \u001b[38;5;124m'\u001b[39m\u001b[38;5;124mplot_treatment_balance_curve\u001b[39m\u001b[38;5;124m'\u001b[39m,\n\u001b[1;32m     10\u001b[0m     \u001b[38;5;124m'\u001b[39m\u001b[38;5;124mUpliftCurveDisplay\u001b[39m\u001b[38;5;124m'\u001b[39m\n\u001b[1;32m     11\u001b[0m ]\n",
      "File \u001b[0;32m~/new_diploma/lib/python3.11/site-packages/sklift/viz/base.py:4\u001b[0m\n\u001b[1;32m      2\u001b[0m \u001b[38;5;28;01mimport\u001b[39;00m\u001b[38;5;250m \u001b[39m\u001b[38;5;21;01mnumpy\u001b[39;00m\u001b[38;5;250m \u001b[39m\u001b[38;5;28;01mas\u001b[39;00m\u001b[38;5;250m \u001b[39m\u001b[38;5;21;01mnp\u001b[39;00m\n\u001b[1;32m      3\u001b[0m \u001b[38;5;28;01mfrom\u001b[39;00m\u001b[38;5;250m \u001b[39m\u001b[38;5;21;01msklearn\u001b[39;00m\u001b[38;5;21;01m.\u001b[39;00m\u001b[38;5;21;01mutils\u001b[39;00m\u001b[38;5;21;01m.\u001b[39;00m\u001b[38;5;21;01mvalidation\u001b[39;00m\u001b[38;5;250m \u001b[39m\u001b[38;5;28;01mimport\u001b[39;00m check_consistent_length\n\u001b[0;32m----> 4\u001b[0m \u001b[38;5;28;01mfrom\u001b[39;00m\u001b[38;5;250m \u001b[39m\u001b[38;5;21;01msklearn\u001b[39;00m\u001b[38;5;21;01m.\u001b[39;00m\u001b[38;5;21;01mutils\u001b[39;00m\u001b[38;5;250m \u001b[39m\u001b[38;5;28;01mimport\u001b[39;00m check_matplotlib_support\n\u001b[1;32m      6\u001b[0m \u001b[38;5;28;01mfrom\u001b[39;00m\u001b[38;5;250m \u001b[39m\u001b[38;5;21;01m.\u001b[39;00m\u001b[38;5;21;01m.\u001b[39;00m\u001b[38;5;21;01mutils\u001b[39;00m\u001b[38;5;250m \u001b[39m\u001b[38;5;28;01mimport\u001b[39;00m check_is_binary\n\u001b[1;32m      7\u001b[0m \u001b[38;5;28;01mfrom\u001b[39;00m\u001b[38;5;250m \u001b[39m\u001b[38;5;21;01m.\u001b[39;00m\u001b[38;5;21;01m.\u001b[39;00m\u001b[38;5;21;01mmetrics\u001b[39;00m\u001b[38;5;250m \u001b[39m\u001b[38;5;28;01mimport\u001b[39;00m (\n\u001b[1;32m      8\u001b[0m     uplift_curve, perfect_uplift_curve, uplift_auc_score,\n\u001b[1;32m      9\u001b[0m     qini_curve, perfect_qini_curve, qini_auc_score,\n\u001b[1;32m     10\u001b[0m     treatment_balance_curve, uplift_by_percentile\n\u001b[1;32m     11\u001b[0m )\n",
      "\u001b[0;31mImportError\u001b[0m: cannot import name 'check_matplotlib_support' from 'sklearn.utils' (/Users/ogrobertino/new_diploma/lib/python3.11/site-packages/sklearn/utils/__init__.py)"
     ]
    }
   ],
   "source": [
    "from sklift.viz import \n",
    "plot_qini_curve(\n",
    "    y_true=y.target,\n",
    "    uplift=y.score,\n",
    "    treatment=y.treatment,\n",
    "    perfect=True\n",
    ")"
   ]
  },
  {
   "cell_type": "code",
   "execution_count": null,
   "id": "332554ff-bd2d-4826-bc34-260ab9a03d3f",
   "metadata": {},
   "outputs": [],
   "source": []
  }
 ],
 "metadata": {
  "kernelspec": {
   "display_name": "Python 3 (ipykernel)",
   "language": "python",
   "name": "python3"
  },
  "language_info": {
   "codemirror_mode": {
    "name": "ipython",
    "version": 3
   },
   "file_extension": ".py",
   "mimetype": "text/x-python",
   "name": "python",
   "nbconvert_exporter": "python",
   "pygments_lexer": "ipython3",
   "version": "3.10.6"
  }
 },
 "nbformat": 4,
 "nbformat_minor": 5
}
