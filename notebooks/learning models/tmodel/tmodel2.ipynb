{
 "cells": [
  {
   "cell_type": "markdown",
   "id": "9d2d9151-caa3-4377-8e02-48712cc1c5fe",
   "metadata": {},
   "source": [
    "## Tmodeling "
   ]
  },
  {
   "cell_type": "markdown",
   "id": "57177c23-10fa-46cb-8530-51465bad26a3",
   "metadata": {},
   "source": [
    "https://habr.com/ru/companies/ru_mts/articles/485980/\n",
    "https://causalml.readthedocs.io/en/latest/methodology.html#s-learner https://github.com/uber/causalml/tree/master/causalml/inference/meta"
   ]
  },
  {
   "cell_type": "code",
   "execution_count": 25,
   "id": "78575b3c-2a2c-4b99-8bd7-e407f74d1a28",
   "metadata": {},
   "outputs": [
    {
     "name": "stdout",
     "output_type": "stream",
     "text": [
      "The autoreload extension is already loaded. To reload it, use:\n",
      "  %reload_ext autoreload\n"
     ]
    }
   ],
   "source": [
    "from pathlib import Path\n",
    "import sys\n",
    " \n",
    "if sys.argv:\n",
    "    sys.path.insert(0, str(Path('/Users/ogrobertino/UpliftModelingResearch/').resolve()))\n",
    "%load_ext autoreload\n",
    "%autoreload 2"
   ]
  },
  {
   "cell_type": "code",
   "execution_count": 13,
   "id": "ec1153e7-81e8-4c93-b367-e575bef4d325",
   "metadata": {},
   "outputs": [],
   "source": [
    "from src.global_params import *\n",
    "parameters = {\n",
    "    'iterations': (20, 70),\n",
    "    'learning_rate': (0.01, 0.5),\n",
    "    'depth': (4, 15)\n",
    "}"
   ]
  },
  {
   "cell_type": "code",
   "execution_count": 18,
   "id": "f2c5d949-79d2-4b68-afb5-1315cdbe5da0",
   "metadata": {},
   "outputs": [
    {
     "name": "stderr",
     "output_type": "stream",
     "text": [
      "Training models:   0%|                                       | 0/5 [00:00<?, ?it/s]"
     ]
    },
    {
     "name": "stdout",
     "output_type": "stream",
     "text": [
      "Модель, предсказания и конфиг сохранены в директории exps2/lazada_v2_opt/100/5\n"
     ]
    },
    {
     "name": "stderr",
     "output_type": "stream",
     "text": [
      "Training models:  20%|██████▏                        | 1/5 [00:19<01:16, 19.03s/it]"
     ]
    },
    {
     "name": "stdout",
     "output_type": "stream",
     "text": [
      "Эксперимент сохранен в таблице /Users/ogrobertino/UpliftModelingResearch/exps2/stats.tsv\n",
      "Модель, предсказания и конфиг сохранены в директории exps2/lazada_v2_opt/100/6\n"
     ]
    },
    {
     "name": "stderr",
     "output_type": "stream",
     "text": [
      "Training models:  40%|████████████▍                  | 2/5 [00:49<01:17, 25.92s/it]"
     ]
    },
    {
     "name": "stdout",
     "output_type": "stream",
     "text": [
      "Эксперимент сохранен в таблице /Users/ogrobertino/UpliftModelingResearch/exps2/stats.tsv\n",
      "Модель, предсказания и конфиг сохранены в директории exps2/lazada_v2_opt/100/7\n"
     ]
    },
    {
     "name": "stderr",
     "output_type": "stream",
     "text": [
      "Training models:  60%|██████████████████▌            | 3/5 [01:25<01:00, 30.49s/it]"
     ]
    },
    {
     "name": "stdout",
     "output_type": "stream",
     "text": [
      "Эксперимент сохранен в таблице /Users/ogrobertino/UpliftModelingResearch/exps2/stats.tsv\n",
      "Модель, предсказания и конфиг сохранены в директории exps2/lazada_v2_opt/100/8\n"
     ]
    },
    {
     "name": "stderr",
     "output_type": "stream",
     "text": [
      "Training models:  80%|████████████████████████▊      | 4/5 [01:38<00:23, 23.65s/it]"
     ]
    },
    {
     "name": "stdout",
     "output_type": "stream",
     "text": [
      "Эксперимент сохранен в таблице /Users/ogrobertino/UpliftModelingResearch/exps2/stats.tsv\n",
      "Модель, предсказания и конфиг сохранены в директории exps2/lazada_v2_opt/100/9\n"
     ]
    },
    {
     "name": "stderr",
     "output_type": "stream",
     "text": [
      "Training models: 100%|███████████████████████████████| 5/5 [01:51<00:00, 22.28s/it]"
     ]
    },
    {
     "name": "stdout",
     "output_type": "stream",
     "text": [
      "Эксперимент сохранен в таблице /Users/ogrobertino/UpliftModelingResearch/exps2/stats.tsv\n"
     ]
    },
    {
     "name": "stderr",
     "output_type": "stream",
     "text": [
      "\n"
     ]
    }
   ],
   "source": [
    "from src.utils import get_paths_train_test, train_test_model\n",
    "from src.factory import TModelFactory\n",
    "from src.models.CausalML.Models import TModel\n",
    "from tqdm import tqdm\n",
    "\n",
    "configs = TModel.generate_config(count=5, **parameters)\n",
    "\n",
    "for i in tqdm(range(len(configs)), desc=\"Training models\"):\n",
    "    train_test_model(ds_name='lazada_v2_opt', features_percent=100, factory=TModelFactory, config=configs[i])    "
   ]
  },
  {
   "cell_type": "code",
   "execution_count": 19,
   "id": "74a75ef7-e101-42ff-b3f9-d5d4285e644b",
   "metadata": {},
   "outputs": [
    {
     "name": "stderr",
     "output_type": "stream",
     "text": [
      "Training models:   0%|                                       | 0/5 [00:00<?, ?it/s]"
     ]
    },
    {
     "name": "stdout",
     "output_type": "stream",
     "text": [
      "Модель, предсказания и конфиг сохранены в директории exps2/lazada_v2_opt/50/5\n"
     ]
    },
    {
     "name": "stderr",
     "output_type": "stream",
     "text": [
      "Training models:  20%|██████▏                        | 1/5 [00:22<01:29, 22.32s/it]"
     ]
    },
    {
     "name": "stdout",
     "output_type": "stream",
     "text": [
      "Эксперимент сохранен в таблице /Users/ogrobertino/UpliftModelingResearch/exps2/stats.tsv\n",
      "Модель, предсказания и конфиг сохранены в директории exps2/lazada_v2_opt/50/6\n"
     ]
    },
    {
     "name": "stderr",
     "output_type": "stream",
     "text": [
      "Training models:  40%|████████████▍                  | 2/5 [00:30<00:41, 13.99s/it]"
     ]
    },
    {
     "name": "stdout",
     "output_type": "stream",
     "text": [
      "Эксперимент сохранен в таблице /Users/ogrobertino/UpliftModelingResearch/exps2/stats.tsv\n",
      "Модель, предсказания и конфиг сохранены в директории exps2/lazada_v2_opt/50/7\n"
     ]
    },
    {
     "name": "stderr",
     "output_type": "stream",
     "text": [
      "Training models:  60%|██████████████████▌            | 3/5 [00:49<00:32, 16.23s/it]"
     ]
    },
    {
     "name": "stdout",
     "output_type": "stream",
     "text": [
      "Эксперимент сохранен в таблице /Users/ogrobertino/UpliftModelingResearch/exps2/stats.tsv\n",
      "Модель, предсказания и конфиг сохранены в директории exps2/lazada_v2_opt/50/8\n"
     ]
    },
    {
     "name": "stderr",
     "output_type": "stream",
     "text": [
      "Training models:  80%|████████████████████████▊      | 4/5 [00:56<00:12, 12.79s/it]"
     ]
    },
    {
     "name": "stdout",
     "output_type": "stream",
     "text": [
      "Эксперимент сохранен в таблице /Users/ogrobertino/UpliftModelingResearch/exps2/stats.tsv\n",
      "Модель, предсказания и конфиг сохранены в директории exps2/lazada_v2_opt/50/9\n"
     ]
    },
    {
     "name": "stderr",
     "output_type": "stream",
     "text": [
      "Training models: 100%|███████████████████████████████| 5/5 [01:10<00:00, 14.14s/it]"
     ]
    },
    {
     "name": "stdout",
     "output_type": "stream",
     "text": [
      "Эксперимент сохранен в таблице /Users/ogrobertino/UpliftModelingResearch/exps2/stats.tsv\n"
     ]
    },
    {
     "name": "stderr",
     "output_type": "stream",
     "text": [
      "\n"
     ]
    }
   ],
   "source": [
    "from src.utils import get_paths_train_test, train_test_model\n",
    "from src.factory import TModelFactory\n",
    "from src.models.CausalML.Models import TModel\n",
    "from tqdm import tqdm\n",
    "\n",
    "configs = TModel.generate_config(count=5, **parameters)\n",
    "\n",
    "for i in tqdm(range(len(configs)), desc=\"Training models\"):\n",
    "    train_test_model(ds_name='lazada_v2_opt', features_percent=50, factory=TModelFactory, config=configs[i])    "
   ]
  },
  {
   "cell_type": "code",
   "execution_count": 21,
   "id": "6fd02f9a-edc4-4400-bb51-0188bd0b6b36",
   "metadata": {},
   "outputs": [
    {
     "data": {
      "text/html": [
       "<div>\n",
       "<style scoped>\n",
       "    .dataframe tbody tr th:only-of-type {\n",
       "        vertical-align: middle;\n",
       "    }\n",
       "\n",
       "    .dataframe tbody tr th {\n",
       "        vertical-align: top;\n",
       "    }\n",
       "\n",
       "    .dataframe thead th {\n",
       "        text-align: right;\n",
       "    }\n",
       "</style>\n",
       "<table border=\"1\" class=\"dataframe\">\n",
       "  <thead>\n",
       "    <tr style=\"text-align: right;\">\n",
       "      <th></th>\n",
       "      <th>Model</th>\n",
       "      <th>Path</th>\n",
       "      <th>Dataset</th>\n",
       "      <th>Features Percent</th>\n",
       "      <th>Latency (ms)</th>\n",
       "      <th>Binary Size (MB)</th>\n",
       "      <th>AUUC</th>\n",
       "      <th>AUQC</th>\n",
       "      <th>Precision@5</th>\n",
       "      <th>Precision@10</th>\n",
       "      <th>Precision@15</th>\n",
       "      <th>Precision@20</th>\n",
       "      <th>Precision@25</th>\n",
       "      <th>Precision@30</th>\n",
       "      <th>Precision@50</th>\n",
       "      <th>Compressions</th>\n",
       "    </tr>\n",
       "  </thead>\n",
       "  <tbody>\n",
       "    <tr>\n",
       "      <th>13</th>\n",
       "      <td>TModel</td>\n",
       "      <td>exps2/lazada_v2_opt/100/8</td>\n",
       "      <td>lazada_v2_opt</td>\n",
       "      <td>100</td>\n",
       "      <td>0.032693</td>\n",
       "      <td>1.088950</td>\n",
       "      <td>0.015089</td>\n",
       "      <td>0.393818</td>\n",
       "      <td>0.081693</td>\n",
       "      <td>0.075191</td>\n",
       "      <td>0.071059</td>\n",
       "      <td>0.075191</td>\n",
       "      <td>0.068988</td>\n",
       "      <td>0.067987</td>\n",
       "      <td>0.064424</td>\n",
       "      <td>{}</td>\n",
       "    </tr>\n",
       "    <tr>\n",
       "      <th>12</th>\n",
       "      <td>TModel</td>\n",
       "      <td>exps2/lazada_v2_opt/100/7</td>\n",
       "      <td>lazada_v2_opt</td>\n",
       "      <td>100</td>\n",
       "      <td>0.034077</td>\n",
       "      <td>25.198151</td>\n",
       "      <td>0.010838</td>\n",
       "      <td>0.074496</td>\n",
       "      <td>0.101351</td>\n",
       "      <td>0.079964</td>\n",
       "      <td>0.073204</td>\n",
       "      <td>0.079964</td>\n",
       "      <td>0.070305</td>\n",
       "      <td>0.067732</td>\n",
       "      <td>0.062316</td>\n",
       "      <td>{}</td>\n",
       "    </tr>\n",
       "    <tr>\n",
       "      <th>15</th>\n",
       "      <td>TModel</td>\n",
       "      <td>exps2/lazada_v2_opt/50/5</td>\n",
       "      <td>lazada_v2_opt</td>\n",
       "      <td>50</td>\n",
       "      <td>0.020780</td>\n",
       "      <td>19.764751</td>\n",
       "      <td>0.008128</td>\n",
       "      <td>0.150747</td>\n",
       "      <td>0.089115</td>\n",
       "      <td>0.070817</td>\n",
       "      <td>0.067142</td>\n",
       "      <td>0.070817</td>\n",
       "      <td>0.065072</td>\n",
       "      <td>0.062719</td>\n",
       "      <td>0.057513</td>\n",
       "      <td>{}</td>\n",
       "    </tr>\n",
       "    <tr>\n",
       "      <th>11</th>\n",
       "      <td>TModel</td>\n",
       "      <td>exps2/lazada_v2_opt/100/6</td>\n",
       "      <td>lazada_v2_opt</td>\n",
       "      <td>100</td>\n",
       "      <td>0.032927</td>\n",
       "      <td>18.192031</td>\n",
       "      <td>0.005570</td>\n",
       "      <td>0.247489</td>\n",
       "      <td>0.081183</td>\n",
       "      <td>0.070188</td>\n",
       "      <td>0.066547</td>\n",
       "      <td>0.070188</td>\n",
       "      <td>0.062441</td>\n",
       "      <td>0.059750</td>\n",
       "      <td>0.054552</td>\n",
       "      <td>{}</td>\n",
       "    </tr>\n",
       "    <tr>\n",
       "      <th>8</th>\n",
       "      <td>TModel</td>\n",
       "      <td>exps2/lazada_v2_opt/100/5</td>\n",
       "      <td>lazada_v2_opt</td>\n",
       "      <td>100</td>\n",
       "      <td>0.033662</td>\n",
       "      <td>4.489135</td>\n",
       "      <td>0.004573</td>\n",
       "      <td>0.343642</td>\n",
       "      <td>0.070132</td>\n",
       "      <td>0.061905</td>\n",
       "      <td>0.058614</td>\n",
       "      <td>0.061905</td>\n",
       "      <td>0.056364</td>\n",
       "      <td>0.055002</td>\n",
       "      <td>0.051883</td>\n",
       "      <td>{}</td>\n",
       "    </tr>\n",
       "    <tr>\n",
       "      <th>18</th>\n",
       "      <td>TModel</td>\n",
       "      <td>exps2/lazada_v2_opt/50/8</td>\n",
       "      <td>lazada_v2_opt</td>\n",
       "      <td>50</td>\n",
       "      <td>0.019035</td>\n",
       "      <td>0.087638</td>\n",
       "      <td>0.003126</td>\n",
       "      <td>0.401964</td>\n",
       "      <td>0.081666</td>\n",
       "      <td>0.065843</td>\n",
       "      <td>0.061379</td>\n",
       "      <td>0.065843</td>\n",
       "      <td>0.058542</td>\n",
       "      <td>0.055832</td>\n",
       "      <td>0.050724</td>\n",
       "      <td>{}</td>\n",
       "    </tr>\n",
       "    <tr>\n",
       "      <th>17</th>\n",
       "      <td>TModel</td>\n",
       "      <td>exps2/lazada_v2_opt/50/7</td>\n",
       "      <td>lazada_v2_opt</td>\n",
       "      <td>50</td>\n",
       "      <td>0.019847</td>\n",
       "      <td>16.839231</td>\n",
       "      <td>0.002512</td>\n",
       "      <td>0.305391</td>\n",
       "      <td>0.078156</td>\n",
       "      <td>0.063276</td>\n",
       "      <td>0.059114</td>\n",
       "      <td>0.063276</td>\n",
       "      <td>0.056708</td>\n",
       "      <td>0.054590</td>\n",
       "      <td>0.050265</td>\n",
       "      <td>{}</td>\n",
       "    </tr>\n",
       "    <tr>\n",
       "      <th>19</th>\n",
       "      <td>TModel</td>\n",
       "      <td>exps2/lazada_v2_opt/50/9</td>\n",
       "      <td>lazada_v2_opt</td>\n",
       "      <td>50</td>\n",
       "      <td>0.019233</td>\n",
       "      <td>10.042303</td>\n",
       "      <td>0.001463</td>\n",
       "      <td>-0.030668</td>\n",
       "      <td>0.087201</td>\n",
       "      <td>0.068893</td>\n",
       "      <td>0.063931</td>\n",
       "      <td>0.068893</td>\n",
       "      <td>0.060885</td>\n",
       "      <td>0.058955</td>\n",
       "      <td>0.053443</td>\n",
       "      <td>{}</td>\n",
       "    </tr>\n",
       "    <tr>\n",
       "      <th>14</th>\n",
       "      <td>TModel</td>\n",
       "      <td>exps2/lazada_v2_opt/100/9</td>\n",
       "      <td>lazada_v2_opt</td>\n",
       "      <td>100</td>\n",
       "      <td>0.031972</td>\n",
       "      <td>0.728479</td>\n",
       "      <td>0.001069</td>\n",
       "      <td>0.155826</td>\n",
       "      <td>0.070368</td>\n",
       "      <td>0.061354</td>\n",
       "      <td>0.057733</td>\n",
       "      <td>0.061354</td>\n",
       "      <td>0.056251</td>\n",
       "      <td>0.054791</td>\n",
       "      <td>0.050543</td>\n",
       "      <td>{}</td>\n",
       "    </tr>\n",
       "    <tr>\n",
       "      <th>16</th>\n",
       "      <td>TModel</td>\n",
       "      <td>exps2/lazada_v2_opt/50/6</td>\n",
       "      <td>lazada_v2_opt</td>\n",
       "      <td>50</td>\n",
       "      <td>0.020792</td>\n",
       "      <td>0.162062</td>\n",
       "      <td>-0.000232</td>\n",
       "      <td>0.191813</td>\n",
       "      <td>0.070800</td>\n",
       "      <td>0.060972</td>\n",
       "      <td>0.058363</td>\n",
       "      <td>0.060972</td>\n",
       "      <td>0.055310</td>\n",
       "      <td>0.053502</td>\n",
       "      <td>0.048634</td>\n",
       "      <td>{}</td>\n",
       "    </tr>\n",
       "  </tbody>\n",
       "</table>\n",
       "</div>"
      ],
      "text/plain": [
       "     Model                       Path        Dataset  Features Percent  \\\n",
       "13  TModel  exps2/lazada_v2_opt/100/8  lazada_v2_opt               100   \n",
       "12  TModel  exps2/lazada_v2_opt/100/7  lazada_v2_opt               100   \n",
       "15  TModel   exps2/lazada_v2_opt/50/5  lazada_v2_opt                50   \n",
       "11  TModel  exps2/lazada_v2_opt/100/6  lazada_v2_opt               100   \n",
       "8   TModel  exps2/lazada_v2_opt/100/5  lazada_v2_opt               100   \n",
       "18  TModel   exps2/lazada_v2_opt/50/8  lazada_v2_opt                50   \n",
       "17  TModel   exps2/lazada_v2_opt/50/7  lazada_v2_opt                50   \n",
       "19  TModel   exps2/lazada_v2_opt/50/9  lazada_v2_opt                50   \n",
       "14  TModel  exps2/lazada_v2_opt/100/9  lazada_v2_opt               100   \n",
       "16  TModel   exps2/lazada_v2_opt/50/6  lazada_v2_opt                50   \n",
       "\n",
       "    Latency (ms)  Binary Size (MB)      AUUC      AUQC  Precision@5  \\\n",
       "13      0.032693          1.088950  0.015089  0.393818     0.081693   \n",
       "12      0.034077         25.198151  0.010838  0.074496     0.101351   \n",
       "15      0.020780         19.764751  0.008128  0.150747     0.089115   \n",
       "11      0.032927         18.192031  0.005570  0.247489     0.081183   \n",
       "8       0.033662          4.489135  0.004573  0.343642     0.070132   \n",
       "18      0.019035          0.087638  0.003126  0.401964     0.081666   \n",
       "17      0.019847         16.839231  0.002512  0.305391     0.078156   \n",
       "19      0.019233         10.042303  0.001463 -0.030668     0.087201   \n",
       "14      0.031972          0.728479  0.001069  0.155826     0.070368   \n",
       "16      0.020792          0.162062 -0.000232  0.191813     0.070800   \n",
       "\n",
       "    Precision@10  Precision@15  Precision@20  Precision@25  Precision@30  \\\n",
       "13      0.075191      0.071059      0.075191      0.068988      0.067987   \n",
       "12      0.079964      0.073204      0.079964      0.070305      0.067732   \n",
       "15      0.070817      0.067142      0.070817      0.065072      0.062719   \n",
       "11      0.070188      0.066547      0.070188      0.062441      0.059750   \n",
       "8       0.061905      0.058614      0.061905      0.056364      0.055002   \n",
       "18      0.065843      0.061379      0.065843      0.058542      0.055832   \n",
       "17      0.063276      0.059114      0.063276      0.056708      0.054590   \n",
       "19      0.068893      0.063931      0.068893      0.060885      0.058955   \n",
       "14      0.061354      0.057733      0.061354      0.056251      0.054791   \n",
       "16      0.060972      0.058363      0.060972      0.055310      0.053502   \n",
       "\n",
       "    Precision@50 Compressions  \n",
       "13      0.064424           {}  \n",
       "12      0.062316           {}  \n",
       "15      0.057513           {}  \n",
       "11      0.054552           {}  \n",
       "8       0.051883           {}  \n",
       "18      0.050724           {}  \n",
       "17      0.050265           {}  \n",
       "19      0.053443           {}  \n",
       "14      0.050543           {}  \n",
       "16      0.048634           {}  "
      ]
     },
     "execution_count": 21,
     "metadata": {},
     "output_type": "execute_result"
    }
   ],
   "source": [
    "from src.global_params import BASE_PATH\n",
    "import pandas as pd\n",
    "table = pd.read_csv(BASE_PATH + \"/\" + EXPS_PATH +  \"/stats.tsv\", sep='\\t')\n",
    "table[table['Model'] == 'TModel'].sort_values([\"AUUC\"], ascending=False)"
   ]
  },
  {
   "cell_type": "code",
   "execution_count": 27,
   "id": "681a13cb-c7cb-4fcb-b9a6-7cf9186a9469",
   "metadata": {},
   "outputs": [],
   "source": [
    "from src import run_train"
   ]
  },
  {
   "cell_type": "code",
   "execution_count": 37,
   "id": "3175082c-40bf-408e-b21c-1baf445d2c01",
   "metadata": {},
   "outputs": [
    {
     "name": "stdout",
     "output_type": "stream",
     "text": [
      "Failed to import duecredit due to No module named 'duecredit'\n",
      "Модель, предсказания и конфиг сохранены в директории exps2/lazada_v2_opt/100/11]\n",
      "Эксперимент сохранен в таблице /Users/ogrobertino/UpliftModelingResearch/exps2/stats.tsv\n",
      "Модель, предсказания и конфиг сохранены в директории exps2/lazada_v2_opt/100/12]\n",
      "Эксперимент сохранен в таблице /Users/ogrobertino/UpliftModelingResearch/exps2/stats.tsv\n",
      "^Caining models:  40%|███████████▏                | 2/5 [00:10<00:16,  5.57s/it]\n",
      "Training models:  40%|███████████▏                | 2/5 [00:13<00:20,  6.68s/it]\n",
      "Traceback (most recent call last):\n",
      "  File \"/Users/ogrobertino/UpliftModelingResearch/src/run_train.py\", line 47, in <module>\n",
      "    main(args)\n",
      "  File \"/Users/ogrobertino/UpliftModelingResearch/src/run_train.py\", line 31, in main\n",
      "    train_test_model(ds_name=args.ds_name, features_percent=args.features_percent, factory=factory_class, config=configs[i])    \n",
      "    ^^^^^^^^^^^^^^^^^^^^^^^^^^^^^^^^^^^^^^^^^^^^^^^^^^^^^^^^^^^^^^^^^^^^^^^^^^^^^^^^^^^^^^^^^^^^^^^^^^^^^^^^^^^^^^^^^^^^^^^^\n",
      "  File \"/Users/ogrobertino/UpliftModelingResearch/src/utils.py\", line 30, in train_test_model\n",
      "    model.fit(train)\n",
      "  File \"/Users/ogrobertino/UpliftModelingResearch/src/models/CausalML/ICausalML.py\", line 28, in fit\n",
      "    self.model.fit(\n",
      "  File \"/Users/ogrobertino/new_diploma/lib/python3.11/site-packages/causalml/inference/meta/slearner.py\", line 90, in fit\n",
      "    X_new = np.hstack((w.reshape((-1, 1)), X_filt))\n",
      "            ^^^^^^^^^^^^^^^^^^^^^^^^^^^^^^^^^^^^^^^\n",
      "  File \"/Users/ogrobertino/new_diploma/lib/python3.11/site-packages/numpy/core/shape_base.py\", line 359, in hstack\n",
      "    return _nx.concatenate(arrs, 1, dtype=dtype, casting=casting)\n",
      "           ^^^^^^^^^^^^^^^^^^^^^^^^^^^^^^^^^^^^^^^^^^^^^^^^^^^^^^\n",
      "KeyboardInterrupt\n"
     ]
    }
   ],
   "source": [
    "!python /Users/ogrobertino/UpliftModelingResearch/src/run_train.py --iterations 30 70 --learning_rate 0.01 0.5 --depth 4 15 --ds_name \"lazada_v2_opt\" --features_percent 100 --factory \"SModel\""
   ]
  },
  {
   "cell_type": "code",
   "execution_count": 40,
   "id": "42ec729b-b96f-4c6a-aa05-97e854a96741",
   "metadata": {},
   "outputs": [
    {
     "name": "stdout",
     "output_type": "stream",
     "text": [
      "Failed to import duecredit due to No module named 'duecredit'\n",
      "Модель, предсказания и конфиг сохранены в директории exps2/lazada_v2_opt/100/15]\n",
      "Эксперимент сохранен в таблице /Users/ogrobertino/UpliftModelingResearch/exps2/stats.tsv\n",
      "Training models: 100%|████████████████████████████| 1/1 [00:12<00:00, 12.59s/it]\n"
     ]
    }
   ],
   "source": [
    "!python /Users/ogrobertino/UpliftModelingResearch/src/run_train.py --count 1 --ds_name \"lazada_v2_opt\" --features_percent 100 --model \"TModel\" --iterations 30 70 --learning_rate 0.01 0.5 --depth 4 15"
   ]
  },
  {
   "cell_type": "code",
   "execution_count": 41,
   "id": "1a280f70-d613-42b2-97fa-2e94acd80891",
   "metadata": {},
   "outputs": [
    {
     "name": "stdout",
     "output_type": "stream",
     "text": [
      "Failed to import duecredit due to No module named 'duecredit'\n",
      "Модель, предсказания и конфиг сохранены в директории exps2/lazada_v2_opt/100/16]\n",
      "Эксперимент сохранен в таблице /Users/ogrobertino/UpliftModelingResearch/exps2/stats.tsv\n",
      "Training models: 100%|████████████████████████████| 1/1 [00:06<00:00,  6.83s/it]\n"
     ]
    }
   ],
   "source": [
    "!python /Users/ogrobertino/UpliftModelingResearch/src/run_train.py --count 1 --ds_name \"lazada_v2_opt\" --features_percent 100 --model \"SModel\" --iterations 30 70 --learning_rate 0.01 0.5 --depth 4 15"
   ]
  },
  {
   "cell_type": "code",
   "execution_count": null,
   "id": "7cca0066-a9be-4103-96d7-00a867799d99",
   "metadata": {},
   "outputs": [
    {
     "name": "stdout",
     "output_type": "stream",
     "text": [
      "Failed to import duecredit due to No module named 'duecredit'\n",
      "Training models:   0%|                                    | 0/1 [00:00<?, ?it/s]"
     ]
    }
   ],
   "source": [
    "!python /Users/ogrobertino/UpliftModelingResearch/src/run_train.py --count 1 --ds_name \"lazada_v2_opt\" --features_percent 100 --model \"XModel\" --iterations 30 70 --learning_rate 0.01 0.5 --depth 4 15"
   ]
  },
  {
   "cell_type": "code",
   "execution_count": null,
   "id": "2151d60c-348c-405b-895a-414ab627050b",
   "metadata": {},
   "outputs": [],
   "source": [
    "!python /Users/ogrobertino/UpliftModelingResearch/src/run_train.py --count 1 --ds_name \"lazada_v2_opt\" --features_percent 100 --model \"DRModel\" --iterations 30 70 --learning_rate 0.01 0.5 --depth 4 15"
   ]
  }
 ],
 "metadata": {
  "kernelspec": {
   "display_name": "Python 3 (ipykernel)",
   "language": "python",
   "name": "python3"
  },
  "language_info": {
   "codemirror_mode": {
    "name": "ipython",
    "version": 3
   },
   "file_extension": ".py",
   "mimetype": "text/x-python",
   "name": "python",
   "nbconvert_exporter": "python",
   "pygments_lexer": "ipython3",
   "version": "3.11.7"
  }
 },
 "nbformat": 4,
 "nbformat_minor": 5
}
