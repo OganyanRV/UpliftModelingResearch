{
 "cells": [
  {
   "cell_type": "markdown",
   "id": "c8ccde9a-7019-418f-9872-35c6614e66a9",
   "metadata": {},
   "source": [
    "##"
   ]
  },
  {
   "cell_type": "markdown",
   "id": "995280c1-b155-47e1-acf4-ce411e4cd992",
   "metadata": {},
   "source": [
    "https://habr.com/ru/companies/ru_mts/articles/485976/ \n",
    "https://habr.com/ru/companies/glowbyte/articles/686398/"
   ]
  },
  {
   "cell_type": "markdown",
   "id": "25b4eb8e-d445-4c50-8832-2e9871cb3d16",
   "metadata": {},
   "source": [
    "Пусть у нас есть события ( A ), ( B ) и набор событий ( C_1, C_2, ..., C_n ), образующих полную группу событий (то есть события ( C_j ) попарно несовместны, и их объединение покрывает всё пространство исходов). Тогда условная вероятность события ( A ), при условии что событие ( B ) уже произошло, может быть записана с помощью формулы полной вероятности в условиях ( C_j ):\n",
    "\n",
    "$$[ P(A \\mid B) = \\sum_{j=1}^{n} P(A \\mid B, C_j),P(C_j \\mid B) ]$$\n",
    "\n",
    "Пояснение формулы:\n",
    "$$( P(A \\mid B) ) – вероятность события (A) при уже наступившем событии (B).\n",
    "( P(A \\mid B,C_j) ) – вероятность события (A), когда уже известно, что произошли события ( B ) и ( C_j ).\n",
    "( P(C_j \\mid B) ) – вероятность события (C_j), если известно, что произошло (B).\n",
    "( C_1, C_2, \\dots, C_n ) – полная группа событий, образующих разбиение пространства исходов.\n",
    "Эта формула используется, когда нужно рассчитать условную вероятность события, учитывая влияние возможных промежуточных или скрытых факторов (( C_j )) при известном условии ( B ).$$\n",
    "\n",
    "Частный случай для двух событий:\n",
    "Если у нас есть всего два события (C) и (\\overline{C}) (его дополнение), то формула упрощенно будет выглядеть как:\n",
    "\n",
    "$$[ P(A \\mid B) = P(A \\mid B, C),P(C \\mid B) + P(A \\mid B, \\overline{C}),P(\\overline{C} \\mid B) ]$$\n",
    "\n",
    "Эта формула удобна для применения в задачах практического характера, когда есть некоторые дополнительные условия или скрытые факторы."
   ]
  },
  {
   "cell_type": "code",
   "execution_count": null,
   "id": "9cd14912-6e0c-4712-b152-980c3c0ab9f3",
   "metadata": {},
   "outputs": [],
   "source": [
    "\n"
   ]
  }
 ],
 "metadata": {
  "kernelspec": {
   "display_name": "Python 3 (ipykernel)",
   "language": "python",
   "name": "python3"
  },
  "language_info": {
   "codemirror_mode": {
    "name": "ipython",
    "version": 3
   },
   "file_extension": ".py",
   "mimetype": "text/x-python",
   "name": "python",
   "nbconvert_exporter": "python",
   "pygments_lexer": "ipython3",
   "version": "3.11.7"
  }
 },
 "nbformat": 4,
 "nbformat_minor": 5
}
