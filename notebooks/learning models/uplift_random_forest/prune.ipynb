{
 "cells": [
  {
   "cell_type": "markdown",
   "id": "9d2d9151-caa3-4377-8e02-48712cc1c5fe",
   "metadata": {},
   "source": [
    "## Uplift Random Forest"
   ]
  },
  {
   "cell_type": "markdown",
   "id": "8c863fd7-58e2-41ae-9e1f-31949613a40e",
   "metadata": {},
   "source": [
    "TODO доделать, обернуть в функцию которая записывает модель и добавляет в таблицу"
   ]
  },
  {
   "cell_type": "code",
   "execution_count": 137,
   "id": "78575b3c-2a2c-4b99-8bd7-e407f74d1a28",
   "metadata": {},
   "outputs": [
    {
     "name": "stdout",
     "output_type": "stream",
     "text": [
      "The autoreload extension is already loaded. To reload it, use:\n",
      "  %reload_ext autoreload\n"
     ]
    }
   ],
   "source": [
    "from pathlib import Path\n",
    "import sys\n",
    " \n",
    "if sys.argv:\n",
    "    sys.path.insert(0, str(Path('/Users/ogrobertino/UpliftModelingResearch/').resolve()))\n",
    "%load_ext autoreload\n",
    "%autoreload 2"
   ]
  },
  {
   "cell_type": "code",
   "execution_count": 138,
   "id": "cf8490f1-cb1d-43c5-b397-548e1e07a2a8",
   "metadata": {},
   "outputs": [
    {
     "name": "stdout",
     "output_type": "stream",
     "text": [
      "Model loaded from /Users/ogrobertino/UpliftModelingResearch/exps2/lazada_v2_opt/100/162/model.pkl.\n",
      "Config loaded from /Users/ogrobertino/UpliftModelingResearch/exps2/lazada_v2_opt/100/162/config.json.\n"
     ]
    }
   ],
   "source": [
    "from src.models.CausalML.Models import UpliftRandomForestModel\n",
    "import pandas as pd\n",
    "from src.global_params import *\n",
    "table = pd.read_csv(BASE_PATH +\"/\" + EXPS_PATH + \"/stats.tsv\", sep='\\t')\n",
    "\n",
    "path = table[table.Model == \"UpliftRandomForestModel\"].sort_values(by=[\"AUUC\"], ascending=False).Path.iloc[0]\n",
    "model = UpliftRandomForestModel(from_load=True, path = BASE_PATH + \"/\" + path)"
   ]
  },
  {
   "cell_type": "code",
   "execution_count": 139,
   "id": "d6670770-f31c-4b7c-b96f-90ecbeb29722",
   "metadata": {},
   "outputs": [],
   "source": [
    "import json\n",
    "with open(BASE_PATH + \"/\" + path + \"/config.json\") as f:\n",
    "    config = json.load(f)"
   ]
  },
  {
   "cell_type": "code",
   "execution_count": 140,
   "id": "5b2080b5-c47d-4341-9f3f-8b813feb905d",
   "metadata": {},
   "outputs": [],
   "source": [
    "from src.utils import get_paths_train_test, train_test_model\n",
    "from src.factory import UpliftRandomForestModelFactory\n",
    "factory = UpliftRandomForestModelFactory\n",
    "ds_name = 'lazada_v2_opt'\n",
    "features_percent = 100\n",
    "batch_size=32\n",
    "max_size=100000\n",
    "train_path, test_path = get_paths_train_test(ds_name=ds_name, features_percent=features_percent)\n",
    "model, train, test = factory.create(config, train_path, test_path)"
   ]
  },
  {
   "cell_type": "code",
   "execution_count": 141,
   "id": "f11a2611-c467-4b7d-bff1-08be3299ea1f",
   "metadata": {},
   "outputs": [],
   "source": [
    "from sklearn.model_selection import train_test_split\n",
    "import numpy as np\n",
    "indices = np.arange(len(train))\n",
    "train_indices, val_indices = train_test_split(indices, test_size=0.6, random_state=42)\n",
    "X_val=train.data.loc[:, train.cols_features].values[val_indices]\n",
    "treatment_val=train.data.loc[:, train.col_treatment].values.astype(str)[val_indices]\n",
    "y_val=train.data.loc[:, train.col_target].values[val_indices]"
   ]
  },
  {
   "cell_type": "code",
   "execution_count": 152,
   "id": "3132c803-c4fc-4e10-8a37-0e06fe441b9d",
   "metadata": {},
   "outputs": [
    {
     "data": {
      "text/plain": [
       "{'lvl_0': {'meta': {'n_estimators': 57,\n",
       "   'max_depth': 58,\n",
       "   'min_samples_leaf': 146,\n",
       "   'n_reg': 22,\n",
       "   'evaluationFunction': 'KL',\n",
       "   'random_state': 1237451,\n",
       "   'control_name': '0'}}}"
      ]
     },
     "execution_count": 152,
     "metadata": {},
     "output_type": "execute_result"
    }
   ],
   "source": [
    "config"
   ]
  },
  {
   "cell_type": "code",
   "execution_count": 142,
   "id": "c5ab04ed-8128-42b9-8a69-16f14349f3ee",
   "metadata": {},
   "outputs": [
    {
     "name": "stdout",
     "output_type": "stream",
     "text": [
      "Model loaded from /Users/ogrobertino/UpliftModelingResearch/exps2/lazada_v2_opt/100/162/model.pkl.\n",
      "Config loaded from /Users/ogrobertino/UpliftModelingResearch/exps2/lazada_v2_opt/100/162/config.json.\n"
     ]
    }
   ],
   "source": [
    "model = UpliftRandomForestModel(from_load=True, path = BASE_PATH + \"/\" + path)"
   ]
  },
  {
   "cell_type": "code",
   "execution_count": 132,
   "id": "dd172fd6-a1d7-4218-8642-9429a4847ff6",
   "metadata": {},
   "outputs": [],
   "source": [
    "def calculate_depth(node):\n",
    "    if node is None:\n",
    "        return 0\n",
    "    left_depth = calculate_depth(node.falseBranch)\n",
    "    right_depth = calculate_depth(node.trueBranch)\n",
    "    \n",
    "    return 1 + max(left_depth, right_depth)"
   ]
  },
  {
   "cell_type": "code",
   "execution_count": 143,
   "id": "b6ad37e3-ea17-402c-94c9-30b2274f41e8",
   "metadata": {},
   "outputs": [
    {
     "name": "stdout",
     "output_type": "stream",
     "text": [
      "24, 25, 27, 23, 33, 30, 35, 37, 25, 25, 31, 19, 27, 16, 25, 31, 27, 30, 40, 29, 38, 31, 32, 19, 29, 23, 27, 22, 22, 21, 24, 19, 30, 32, 23, 21, 31, 31, 31, 31, 33, 36, 25, 23, 24, 18, 35, 29, 34, 27, 23, 32, 26, 39, 25, 29, 23, "
     ]
    }
   ],
   "source": [
    "for tree in model.model.uplift_forest:\n",
    "    print(calculate_depth(tree.fitted_uplift_tree), end=', ')"
   ]
  },
  {
   "cell_type": "code",
   "execution_count": 118,
   "id": "0b6b3f30-5f65-4e94-8148-e56f5b3a85fe",
   "metadata": {},
   "outputs": [
    {
     "data": {
      "text/plain": [
       "(0.9535394133405483, 0.9433843512484368, 0.9468345248952825)"
      ]
     },
     "execution_count": 118,
     "metadata": {},
     "output_type": "execute_result"
    }
   ],
   "source": [
    "model.measure_inference_time(train, batch_size, max_size=3000), model.measure_inference_time(train, batch_size, max_size=3000), model.measure_inference_time(train, batch_size, max_size=3000)"
   ]
  },
  {
   "cell_type": "code",
   "execution_count": 150,
   "id": "add49c15-e9aa-481a-8e0d-9074b9d9331f",
   "metadata": {},
   "outputs": [],
   "source": [
    "for tree in model.model.uplift_forest:\n",
    "    tree = tree.prune(X_val, treatment_val, y_val, minGain=0.1, rule=\"bestUplift\")"
   ]
  },
  {
   "cell_type": "code",
   "execution_count": 148,
   "id": "138ad491-9336-4262-a7a8-fc979710d08f",
   "metadata": {},
   "outputs": [
    {
     "data": {
      "text/plain": [
       "(0.9443442079615085, 0.9458948798636173, 0.9400881826877594)"
      ]
     },
     "execution_count": 148,
     "metadata": {},
     "output_type": "execute_result"
    }
   ],
   "source": [
    "model.measure_inference_time(train, batch_size, max_size=3000),model.measure_inference_time(train, batch_size, max_size=3000),model.measure_inference_time(train, batch_size, max_size=3000)"
   ]
  },
  {
   "cell_type": "code",
   "execution_count": 151,
   "id": "1b40bf42-f338-475b-8d24-e24fbf134471",
   "metadata": {},
   "outputs": [
    {
     "name": "stdout",
     "output_type": "stream",
     "text": [
      "24, 25, 27, 23, 33, 30, 35, 37, 25, 25, 31, 19, 27, 16, 25, 31, 27, 30, 40, 29, 38, 31, 32, 19, 29, 23, 27, 22, 22, 21, 24, 19, 30, 32, 23, 21, 31, 31, 31, 31, 33, 36, 25, 23, 24, 18, 35, 29, 34, 27, 23, 32, 26, 39, 25, 29, 23, "
     ]
    }
   ],
   "source": [
    "for tree in model.model.uplift_forest:\n",
    "    print(calculate_depth(tree.fitted_uplift_tree), end=', ')"
   ]
  },
  {
   "cell_type": "code",
   "execution_count": 130,
   "id": "4ddbf080-63be-4564-9372-856bff1f1063",
   "metadata": {},
   "outputs": [],
   "source": [
    "model.model.uplift_forest[0].fitted_uplift_tree.falseBranch.falseBranch.falseBranch"
   ]
  },
  {
   "cell_type": "code",
   "execution_count": 110,
   "id": "f61cfe22-8b83-4278-a993-0324c6a0955d",
   "metadata": {},
   "outputs": [
    {
     "data": {
      "text/plain": [
       "0.9442961754951071"
      ]
     },
     "execution_count": 110,
     "metadata": {},
     "output_type": "execute_result"
    }
   ],
   "source": [
    "model.measure_inference_time(train, batch_size, max_size=3000)"
   ]
  },
  {
   "cell_type": "code",
   "execution_count": 107,
   "id": "7ae4d181-6032-4631-adb4-d90c904159d1",
   "metadata": {},
   "outputs": [
    {
     "data": {
      "text/plain": [
       "[0.044833212217553195, 0.0]"
      ]
     },
     "execution_count": 107,
     "metadata": {},
     "output_type": "execute_result"
    }
   ],
   "source": [
    "model.model.uplift_forest[0].fitted_uplift_tree.trueBranch.upliftScore"
   ]
  },
  {
   "cell_type": "code",
   "execution_count": 108,
   "id": "8fc5ee04-0ec7-41ed-a438-80349bb53a07",
   "metadata": {},
   "outputs": [
    {
     "data": {
      "text/plain": [
       "10"
      ]
     },
     "execution_count": 108,
     "metadata": {},
     "output_type": "execute_result"
    }
   ],
   "source": [
    "model.model.uplift_forest[20].max_features"
   ]
  }
 ],
 "metadata": {
  "kernelspec": {
   "display_name": "Python 3 (ipykernel)",
   "language": "python",
   "name": "python3"
  },
  "language_info": {
   "codemirror_mode": {
    "name": "ipython",
    "version": 3
   },
   "file_extension": ".py",
   "mimetype": "text/x-python",
   "name": "python",
   "nbconvert_exporter": "python",
   "pygments_lexer": "ipython3",
   "version": "3.11.7"
  }
 },
 "nbformat": 4,
 "nbformat_minor": 5
}
