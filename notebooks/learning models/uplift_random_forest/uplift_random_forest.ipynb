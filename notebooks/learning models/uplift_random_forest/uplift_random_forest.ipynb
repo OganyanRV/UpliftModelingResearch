{
 "cells": [
  {
   "cell_type": "markdown",
   "id": "9d2d9151-caa3-4377-8e02-48712cc1c5fe",
   "metadata": {},
   "source": [
    "## Uplift Random Forest"
   ]
  },
  {
   "cell_type": "markdown",
   "id": "877e03b6-88ed-4e70-88ef-49657f56c2d2",
   "metadata": {},
   "source": [
    "https://habr.com/ru/companies/ru_mts/articles/485976/\n",
    "https://www.youtube.com/watch?v=u69k2d-7E_0"
   ]
  },
  {
   "cell_type": "code",
   "execution_count": 6,
   "id": "95b9e6f6-a691-4bc0-9c76-8b16c2ddbc19",
   "metadata": {},
   "outputs": [
    {
     "data": {
      "text/plain": [
       "2.0"
      ]
     },
     "execution_count": 6,
     "metadata": {},
     "output_type": "execute_result"
    }
   ],
   "source": [
    "np.log2(4)"
   ]
  },
  {
   "cell_type": "code",
   "execution_count": 7,
   "id": "d1a26962-39b2-4a2d-9694-f3203b42bfef",
   "metadata": {},
   "outputs": [],
   "source": [
    "import numpy as np\n",
    "def kl_divergence(pk, qk):\n",
    "    '''\n",
    "    Calculate KL Divergence for binary classification.\n",
    "\n",
    "    sum(np.array(pk) * np.log(np.array(pk) / np.array(qk)))\n",
    "\n",
    "    Args\n",
    "    ----\n",
    "    pk : float\n",
    "        The probability of 1 in one distribution.\n",
    "    qk : float\n",
    "        The probability of 1 in the other distribution.\n",
    "\n",
    "    Returns\n",
    "    -------\n",
    "    S : float\n",
    "        The KL divergence.\n",
    "    '''\n",
    "\n",
    "    eps: cython.float = 1e-6\n",
    "    S: cython.float\n",
    "\n",
    "    if qk == 0.:\n",
    "        return 0.\n",
    "\n",
    "    qk = min(max(qk, eps), 1 - eps)\n",
    "\n",
    "    if pk == 0.:\n",
    "        S = -np.log2(1 - qk)\n",
    "    elif pk == 1.:\n",
    "        S = -np.log2(qk)\n",
    "    else:\n",
    "        S = pk * np.log2(pk / qk) + (1 - pk) * np.log2((1 - pk) / (1 - qk))\n",
    "\n",
    "    return S"
   ]
  },
  {
   "cell_type": "code",
   "execution_count": 8,
   "id": "64f5f0d6-b16c-4ce2-9c54-1cc65cdfc677",
   "metadata": {},
   "outputs": [
    {
     "data": {
      "text/plain": [
       "0.0"
      ]
     },
     "execution_count": 8,
     "metadata": {},
     "output_type": "execute_result"
    }
   ],
   "source": [
    "kl_divergence(0.5, 0.5)"
   ]
  },
  {
   "cell_type": "code",
   "execution_count": 14,
   "id": "19bbfcbc-cc9f-46fd-ac70-e4c413f99968",
   "metadata": {},
   "outputs": [
    {
     "data": {
      "text/plain": [
       "-3.321928094887362"
      ]
     },
     "execution_count": 14,
     "metadata": {},
     "output_type": "execute_result"
    }
   ],
   "source": [
    "np.log2(0.1)"
   ]
  },
  {
   "cell_type": "code",
   "execution_count": 13,
   "id": "6db1ad51-9951-478a-b9f7-7e1775c48408",
   "metadata": {},
   "outputs": [
    {
     "data": {
      "text/plain": [
       "3.321928094887362"
      ]
     },
     "execution_count": 13,
     "metadata": {},
     "output_type": "execute_result"
    }
   ],
   "source": [
    "kl_divergence(1.0, 0.1)"
   ]
  },
  {
   "cell_type": "markdown",
   "id": "64092fff-2a5c-4f71-ab10-641bcb4ab4aa",
   "metadata": {},
   "source": [
    "For debug"
   ]
  },
  {
   "cell_type": "code",
   "execution_count": 16,
   "id": "78575b3c-2a2c-4b99-8bd7-e407f74d1a28",
   "metadata": {},
   "outputs": [],
   "source": [
    "from pathlib import Path\n",
    "import sys\n",
    " \n",
    "if sys.argv:\n",
    "    sys.path.insert(0, str(Path('/Users/ogrobertino/UpliftModelingResearch/').resolve()))\n",
    "%load_ext autoreload\n",
    "%autoreload 2"
   ]
  },
  {
   "cell_type": "code",
   "execution_count": 73,
   "id": "ec1153e7-81e8-4c93-b367-e575bef4d325",
   "metadata": {},
   "outputs": [],
   "source": [
    "parameters = {\n",
    "    'n_estimators': (50,130),\n",
    "    'max_depth': (20, 50),\n",
    "    'min_samples_leaf': (50, 150),\n",
    "    'n_reg': (1, 100),\n",
    "    'evaluationFunction': \"KL\"\n",
    "}"
   ]
  },
  {
   "cell_type": "code",
   "execution_count": 61,
   "id": "c47c28bc-d242-4823-a84f-0eed277dcff9",
   "metadata": {},
   "outputs": [],
   "source": [
    "# from src.utils import get_paths_train_test, train_test_model\n",
    "# from src.factory import UpliftRandomForestModelFactory\n",
    "# from src.models.CausalML.Models import UpliftRandomForestModel\n",
    "# from tqdm import tqdm\n",
    "# configs = UpliftRandomForestModel.generate_config(count=1, **parameters)\n",
    "# ds_name = 'lazada'\n",
    "# features_percent = 50\n",
    "# factory = UpliftRandomForestModelFactory\n",
    "# config = configs[0]\n",
    "# batch_size=32\n",
    "# max_size=100000\n",
    "# train_path, test_path = get_paths_train_test(ds_name=ds_name, features_percent=features_percent)\n",
    "# model, train, test = factory.create(config, train_path, test_path)"
   ]
  },
  {
   "cell_type": "markdown",
   "id": "78958f2d-5598-4328-af11-e95ea8a3b78e",
   "metadata": {},
   "source": [
    "1. Сделать ноутбук с отбором фичей: Хочу обрезать количеством фичей у lazadы (можно взять много моделек, пересечь их импортансы)\n",
    "2. Мб добавить Qiny метрику\n",
    "3. Для всех моделек в трейне надо сделать kfold / забутстрапить и хранить помимо метрики еще и среднее.\n",
    "4. Добавить пруиннг для случайного леса после того как получится завести случайный лес)\n",
    "5. Попробовать бустинг на аплифт-деревьях https://github.com/jd-opensource/UTBoost"
   ]
  },
  {
   "cell_type": "code",
   "execution_count": null,
   "id": "f2c5d949-79d2-4b68-afb5-1315cdbe5da0",
   "metadata": {},
   "outputs": [
    {
     "name": "stderr",
     "output_type": "stream",
     "text": [
      "Training models:   0%|                                    | 0/10 [00:00<?, ?it/s]"
     ]
    }
   ],
   "source": [
    "from src.utils import get_paths_train_test, train_test_model\n",
    "from src.factory import UpliftRandomForestModelFactory\n",
    "from src.models.CausalML.Models import UpliftRandomForestModel\n",
    "from tqdm import tqdm\n",
    "\n",
    "configs = UpliftRandomForestModel.generate_config(count=10, **parameters)\n",
    "\n",
    "for i in tqdm(range(len(configs)), desc=\"Training models\"):\n",
    "    train_test_model(ds_name='lazada', features_percent=100, factory=UpliftRandomForestModelFactory, config=configs[i])    "
   ]
  },
  {
   "cell_type": "code",
   "execution_count": 75,
   "id": "9ce372cd-f0be-4f86-b5db-41f7192b5f4f",
   "metadata": {},
   "outputs": [
    {
     "data": {
      "text/html": [
       "<div>\n",
       "<style scoped>\n",
       "    .dataframe tbody tr th:only-of-type {\n",
       "        vertical-align: middle;\n",
       "    }\n",
       "\n",
       "    .dataframe tbody tr th {\n",
       "        vertical-align: top;\n",
       "    }\n",
       "\n",
       "    .dataframe thead th {\n",
       "        text-align: right;\n",
       "    }\n",
       "</style>\n",
       "<table border=\"1\" class=\"dataframe\">\n",
       "  <thead>\n",
       "    <tr style=\"text-align: right;\">\n",
       "      <th></th>\n",
       "      <th>Model</th>\n",
       "      <th>Path</th>\n",
       "      <th>Dataset</th>\n",
       "      <th>Features Percent</th>\n",
       "      <th>Latency (ms)</th>\n",
       "      <th>Binary Size (MB)</th>\n",
       "      <th>AUUC (test)</th>\n",
       "      <th>Precision@5</th>\n",
       "      <th>Precision@10</th>\n",
       "      <th>Precision@15</th>\n",
       "      <th>Precision@20</th>\n",
       "      <th>Precision@25</th>\n",
       "      <th>Precision@50</th>\n",
       "      <th>Compressions</th>\n",
       "    </tr>\n",
       "  </thead>\n",
       "  <tbody>\n",
       "    <tr>\n",
       "      <th>105</th>\n",
       "      <td>UpliftRandomForestModel</td>\n",
       "      <td>exps/lazada/100/108</td>\n",
       "      <td>lazada</td>\n",
       "      <td>100</td>\n",
       "      <td>0.497881</td>\n",
       "      <td>3.176101</td>\n",
       "      <td>0.475090</td>\n",
       "      <td>-0.008102</td>\n",
       "      <td>0.001116</td>\n",
       "      <td>0.001797</td>\n",
       "      <td>0.001116</td>\n",
       "      <td>0.001315</td>\n",
       "      <td>0.003999</td>\n",
       "      <td>{}</td>\n",
       "    </tr>\n",
       "    <tr>\n",
       "      <th>106</th>\n",
       "      <td>UpliftRandomForestModel</td>\n",
       "      <td>exps/lazada/100/109</td>\n",
       "      <td>lazada</td>\n",
       "      <td>100</td>\n",
       "      <td>0.523351</td>\n",
       "      <td>0.553565</td>\n",
       "      <td>0.420009</td>\n",
       "      <td>-0.005352</td>\n",
       "      <td>-0.000650</td>\n",
       "      <td>0.000807</td>\n",
       "      <td>-0.000650</td>\n",
       "      <td>0.002197</td>\n",
       "      <td>0.003062</td>\n",
       "      <td>{}</td>\n",
       "    </tr>\n",
       "    <tr>\n",
       "      <th>107</th>\n",
       "      <td>UpliftRandomForestModel</td>\n",
       "      <td>exps/lazada/100/110</td>\n",
       "      <td>lazada</td>\n",
       "      <td>100</td>\n",
       "      <td>0.852198</td>\n",
       "      <td>9.715878</td>\n",
       "      <td>0.497662</td>\n",
       "      <td>-0.004999</td>\n",
       "      <td>-0.001060</td>\n",
       "      <td>0.000797</td>\n",
       "      <td>-0.001060</td>\n",
       "      <td>0.001365</td>\n",
       "      <td>0.004678</td>\n",
       "      <td>{}</td>\n",
       "    </tr>\n",
       "    <tr>\n",
       "      <th>108</th>\n",
       "      <td>UpliftRandomForestModel</td>\n",
       "      <td>exps/lazada/100/111</td>\n",
       "      <td>lazada</td>\n",
       "      <td>100</td>\n",
       "      <td>0.932907</td>\n",
       "      <td>19.550749</td>\n",
       "      <td>0.504164</td>\n",
       "      <td>-0.007807</td>\n",
       "      <td>0.000699</td>\n",
       "      <td>0.001920</td>\n",
       "      <td>0.000699</td>\n",
       "      <td>0.002933</td>\n",
       "      <td>0.004328</td>\n",
       "      <td>{}</td>\n",
       "    </tr>\n",
       "    <tr>\n",
       "      <th>109</th>\n",
       "      <td>UpliftRandomForestModel</td>\n",
       "      <td>exps/lazada/100/112</td>\n",
       "      <td>lazada</td>\n",
       "      <td>100</td>\n",
       "      <td>0.570844</td>\n",
       "      <td>8.116217</td>\n",
       "      <td>0.485961</td>\n",
       "      <td>-0.004271</td>\n",
       "      <td>-0.002005</td>\n",
       "      <td>-0.000502</td>\n",
       "      <td>-0.002005</td>\n",
       "      <td>0.001619</td>\n",
       "      <td>0.004571</td>\n",
       "      <td>{}</td>\n",
       "    </tr>\n",
       "    <tr>\n",
       "      <th>110</th>\n",
       "      <td>UpliftRandomForestModel</td>\n",
       "      <td>exps/lazada/100/113</td>\n",
       "      <td>lazada</td>\n",
       "      <td>100</td>\n",
       "      <td>0.928169</td>\n",
       "      <td>18.951253</td>\n",
       "      <td>0.432151</td>\n",
       "      <td>-0.005172</td>\n",
       "      <td>-0.001156</td>\n",
       "      <td>-0.000115</td>\n",
       "      <td>-0.001156</td>\n",
       "      <td>0.001737</td>\n",
       "      <td>0.002764</td>\n",
       "      <td>{}</td>\n",
       "    </tr>\n",
       "    <tr>\n",
       "      <th>111</th>\n",
       "      <td>UpliftRandomForestModel</td>\n",
       "      <td>exps/lazada/100/114</td>\n",
       "      <td>lazada</td>\n",
       "      <td>100</td>\n",
       "      <td>1.707120</td>\n",
       "      <td>43.066350</td>\n",
       "      <td>0.442632</td>\n",
       "      <td>-0.004530</td>\n",
       "      <td>-0.000203</td>\n",
       "      <td>0.001026</td>\n",
       "      <td>-0.000203</td>\n",
       "      <td>0.001717</td>\n",
       "      <td>0.003313</td>\n",
       "      <td>{}</td>\n",
       "    </tr>\n",
       "  </tbody>\n",
       "</table>\n",
       "</div>"
      ],
      "text/plain": [
       "                       Model                 Path  ... Precision@50  Compressions\n",
       "105  UpliftRandomForestModel  exps/lazada/100/108  ...     0.003999            {}\n",
       "106  UpliftRandomForestModel  exps/lazada/100/109  ...     0.003062            {}\n",
       "107  UpliftRandomForestModel  exps/lazada/100/110  ...     0.004678            {}\n",
       "108  UpliftRandomForestModel  exps/lazada/100/111  ...     0.004328            {}\n",
       "109  UpliftRandomForestModel  exps/lazada/100/112  ...     0.004571            {}\n",
       "110  UpliftRandomForestModel  exps/lazada/100/113  ...     0.002764            {}\n",
       "111  UpliftRandomForestModel  exps/lazada/100/114  ...     0.003313            {}\n",
       "\n",
       "[7 rows x 14 columns]"
      ]
     },
     "execution_count": 75,
     "metadata": {},
     "output_type": "execute_result"
    }
   ],
   "source": [
    "from src.global_params import BASE_PATH\n",
    "import pandas as pd\n",
    "table = pd.read_csv(BASE_PATH / \"exps/stats.tsv\", sep='\\t')\n",
    "table[table['Model'] == 'UpliftRandomForestModel']"
   ]
  },
  {
   "cell_type": "code",
   "execution_count": 13,
   "id": "c510588e-3e66-4cad-9023-f8606d859d7b",
   "metadata": {},
   "outputs": [],
   "source": [
    "# table.sort_values(by=['Precision@10'], ascending=False)"
   ]
  },
  {
   "cell_type": "code",
   "execution_count": 9,
   "id": "966d3099-b15d-4d97-a5b4-1a3118872d33",
   "metadata": {},
   "outputs": [
    {
     "data": {
      "text/html": [
       "<div>\n",
       "<style scoped>\n",
       "    .dataframe tbody tr th:only-of-type {\n",
       "        vertical-align: middle;\n",
       "    }\n",
       "\n",
       "    .dataframe tbody tr th {\n",
       "        vertical-align: top;\n",
       "    }\n",
       "\n",
       "    .dataframe thead th {\n",
       "        text-align: right;\n",
       "    }\n",
       "</style>\n",
       "<table border=\"1\" class=\"dataframe\">\n",
       "  <thead>\n",
       "    <tr style=\"text-align: right;\">\n",
       "      <th></th>\n",
       "      <th>Model</th>\n",
       "      <th>Path</th>\n",
       "      <th>Dataset</th>\n",
       "      <th>Features Percent</th>\n",
       "      <th>Latency (ms)</th>\n",
       "      <th>Binary Size (MB)</th>\n",
       "      <th>AUUC (test)</th>\n",
       "      <th>Precision@5</th>\n",
       "      <th>Precision@10</th>\n",
       "      <th>Precision@15</th>\n",
       "      <th>Precision@20</th>\n",
       "      <th>Precision@25</th>\n",
       "      <th>Precision@50</th>\n",
       "      <th>Compressions</th>\n",
       "    </tr>\n",
       "  </thead>\n",
       "  <tbody>\n",
       "    <tr>\n",
       "      <th>92</th>\n",
       "      <td>TModel</td>\n",
       "      <td>exps/lazada/100/95</td>\n",
       "      <td>lazada</td>\n",
       "      <td>100</td>\n",
       "      <td>0.059551</td>\n",
       "      <td>15.731801</td>\n",
       "      <td>0.621811</td>\n",
       "      <td>0.008838</td>\n",
       "      <td>0.007589</td>\n",
       "      <td>0.006579</td>\n",
       "      <td>0.007589</td>\n",
       "      <td>0.005857</td>\n",
       "      <td>0.004556</td>\n",
       "      <td>{}</td>\n",
       "    </tr>\n",
       "    <tr>\n",
       "      <th>93</th>\n",
       "      <td>SModel</td>\n",
       "      <td>exps/lazada/100/96</td>\n",
       "      <td>lazada</td>\n",
       "      <td>100</td>\n",
       "      <td>0.029183</td>\n",
       "      <td>0.121993</td>\n",
       "      <td>0.586844</td>\n",
       "      <td>0.008476</td>\n",
       "      <td>0.005866</td>\n",
       "      <td>0.005930</td>\n",
       "      <td>0.005866</td>\n",
       "      <td>0.005800</td>\n",
       "      <td>0.005237</td>\n",
       "      <td>{}</td>\n",
       "    </tr>\n",
       "    <tr>\n",
       "      <th>94</th>\n",
       "      <td>TModel</td>\n",
       "      <td>exps/lazada/100/97</td>\n",
       "      <td>lazada</td>\n",
       "      <td>100</td>\n",
       "      <td>0.060034</td>\n",
       "      <td>54.043945</td>\n",
       "      <td>0.461269</td>\n",
       "      <td>-0.002724</td>\n",
       "      <td>0.005485</td>\n",
       "      <td>0.005803</td>\n",
       "      <td>0.005485</td>\n",
       "      <td>0.006601</td>\n",
       "      <td>0.003238</td>\n",
       "      <td>{}</td>\n",
       "    </tr>\n",
       "    <tr>\n",
       "      <th>95</th>\n",
       "      <td>XModel</td>\n",
       "      <td>exps/lazada/100/98</td>\n",
       "      <td>lazada</td>\n",
       "      <td>100</td>\n",
       "      <td>0.036554</td>\n",
       "      <td>23.910056</td>\n",
       "      <td>0.413690</td>\n",
       "      <td>0.004096</td>\n",
       "      <td>0.004087</td>\n",
       "      <td>0.002589</td>\n",
       "      <td>0.004087</td>\n",
       "      <td>0.002975</td>\n",
       "      <td>0.003292</td>\n",
       "      <td>{}</td>\n",
       "    </tr>\n",
       "    <tr>\n",
       "      <th>96</th>\n",
       "      <td>XModel</td>\n",
       "      <td>exps/lazada/100/99</td>\n",
       "      <td>lazada</td>\n",
       "      <td>100</td>\n",
       "      <td>0.037296</td>\n",
       "      <td>1.417968</td>\n",
       "      <td>0.487874</td>\n",
       "      <td>0.003950</td>\n",
       "      <td>0.006380</td>\n",
       "      <td>0.006161</td>\n",
       "      <td>0.006380</td>\n",
       "      <td>0.005778</td>\n",
       "      <td>0.003796</td>\n",
       "      <td>{}</td>\n",
       "    </tr>\n",
       "  </tbody>\n",
       "</table>\n",
       "</div>"
      ],
      "text/plain": [
       "     Model                Path Dataset  Features Percent  Latency (ms)  \\\n",
       "92  TModel  exps/lazada/100/95  lazada               100      0.059551   \n",
       "93  SModel  exps/lazada/100/96  lazada               100      0.029183   \n",
       "94  TModel  exps/lazada/100/97  lazada               100      0.060034   \n",
       "95  XModel  exps/lazada/100/98  lazada               100      0.036554   \n",
       "96  XModel  exps/lazada/100/99  lazada               100      0.037296   \n",
       "\n",
       "    Binary Size (MB)  AUUC (test)  Precision@5  Precision@10  Precision@15  \\\n",
       "92         15.731801     0.621811     0.008838      0.007589      0.006579   \n",
       "93          0.121993     0.586844     0.008476      0.005866      0.005930   \n",
       "94         54.043945     0.461269    -0.002724      0.005485      0.005803   \n",
       "95         23.910056     0.413690     0.004096      0.004087      0.002589   \n",
       "96          1.417968     0.487874     0.003950      0.006380      0.006161   \n",
       "\n",
       "    Precision@20  Precision@25  Precision@50 Compressions  \n",
       "92      0.007589      0.005857      0.004556           {}  \n",
       "93      0.005866      0.005800      0.005237           {}  \n",
       "94      0.005485      0.006601      0.003238           {}  \n",
       "95      0.004087      0.002975      0.003292           {}  \n",
       "96      0.006380      0.005778      0.003796           {}  "
      ]
     },
     "execution_count": 9,
     "metadata": {},
     "output_type": "execute_result"
    }
   ],
   "source": [
    "table.tail(5)"
   ]
  },
  {
   "cell_type": "code",
   "execution_count": null,
   "id": "cf8a4fab-52b6-4446-9657-9356630476b2",
   "metadata": {},
   "outputs": [],
   "source": [
    "from src.models.ICausalML.Models import XModel\n",
    "path = pd.read_csv(BASE_PATH / \"exps/stats.tsv\", sep='\\t').Path.iloc[-1]\n",
    "model = XModel(from_load=True, path = str(BASE_PATH) + \"/\" + path)"
   ]
  }
 ],
 "metadata": {
  "kernelspec": {
   "display_name": "Python 3 (ipykernel)",
   "language": "python",
   "name": "python3"
  },
  "language_info": {
   "codemirror_mode": {
    "name": "ipython",
    "version": 3
   },
   "file_extension": ".py",
   "mimetype": "text/x-python",
   "name": "python",
   "nbconvert_exporter": "python",
   "pygments_lexer": "ipython3",
   "version": "3.11.7"
  }
 },
 "nbformat": 4,
 "nbformat_minor": 5
}
