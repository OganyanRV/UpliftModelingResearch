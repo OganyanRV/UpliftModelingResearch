{
 "cells": [
  {
   "cell_type": "markdown",
   "id": "9d2d9151-caa3-4377-8e02-48712cc1c5fe",
   "metadata": {},
   "source": [
    "## Uplift Random Forest"
   ]
  },
  {
   "cell_type": "markdown",
   "id": "877e03b6-88ed-4e70-88ef-49657f56c2d2",
   "metadata": {},
   "source": [
    "https://habr.com/ru/companies/ru_mts/articles/485976/\n",
    "https://www.youtube.com/watch?v=u69k2d-7E_0"
   ]
  },
  {
   "cell_type": "code",
   "execution_count": 78,
   "id": "78575b3c-2a2c-4b99-8bd7-e407f74d1a28",
   "metadata": {},
   "outputs": [
    {
     "name": "stdout",
     "output_type": "stream",
     "text": [
      "The autoreload extension is already loaded. To reload it, use:\n",
      "  %reload_ext autoreload\n"
     ]
    }
   ],
   "source": [
    "from pathlib import Path\n",
    "import sys\n",
    " \n",
    "if sys.argv:\n",
    "    sys.path.insert(0, str(Path('/Users/ogrobertino/UpliftModelingResearch/').resolve()))\n",
    "%load_ext autoreload\n",
    "%autoreload 2"
   ]
  },
  {
   "cell_type": "code",
   "execution_count": 79,
   "id": "ec1153e7-81e8-4c93-b367-e575bef4d325",
   "metadata": {},
   "outputs": [],
   "source": [
    "parameters = {\n",
    "    'n_estimators': (20,130),\n",
    "    'max_depth': (10, 100),\n",
    "    'min_samples_leaf': (50, 150),\n",
    "    'n_reg': (1, 100),\n",
    "    'evaluationFunction': \"KL\"\n",
    "}"
   ]
  },
  {
   "cell_type": "code",
   "execution_count": 61,
   "id": "c47c28bc-d242-4823-a84f-0eed277dcff9",
   "metadata": {},
   "outputs": [],
   "source": [
    "# from src.utils import get_paths_train_test, train_test_model\n",
    "# from src.factory import UpliftRandomForestModelFactory\n",
    "# from src.models.CausalML.Models import UpliftRandomForestModel\n",
    "# from tqdm import tqdm\n",
    "# configs = UpliftRandomForestModel.generate_config(count=1, **parameters)\n",
    "# ds_name = 'lazada'\n",
    "# features_percent = 50\n",
    "# factory = UpliftRandomForestModelFactory\n",
    "# config = configs[0]\n",
    "# batch_size=32\n",
    "# max_size=100000\n",
    "# train_path, test_path = get_paths_train_test(ds_name=ds_name, features_percent=features_percent)\n",
    "# model, train, test = factory.create(config, train_path, test_path)"
   ]
  },
  {
   "cell_type": "markdown",
   "id": "78958f2d-5598-4328-af11-e95ea8a3b78e",
   "metadata": {},
   "source": [
    "1. Сделать ноутбук с отбором фичей: Хочу обрезать количеством фичей у lazadы (можно взять много моделек, пересечь их импортансы)\n",
    "2. Мб добавить Qiny метрику\n",
    "3. Для всех моделек в трейне надо сделать kfold / забутстрапить и хранить помимо метрики еще и среднее.\n",
    "4. Добавить пруиннг для случайного леса после того как получится завести случайный лес)\n",
    "5. Попробовать бустинг на аплифт-деревьях https://github.com/jd-opensource/UTBoost"
   ]
  },
  {
   "cell_type": "code",
   "execution_count": 80,
   "id": "f2c5d949-79d2-4b68-afb5-1315cdbe5da0",
   "metadata": {},
   "outputs": [
    {
     "name": "stderr",
     "output_type": "stream",
     "text": [
      "Training models:   0%|                                    | 0/30 [00:00<?, ?it/s]"
     ]
    },
    {
     "name": "stdout",
     "output_type": "stream",
     "text": [
      "Модель, предсказания и конфиг сохранены в директории exps/lazada2/50/0\n"
     ]
    },
    {
     "name": "stderr",
     "output_type": "stream",
     "text": [
      "Training models:   3%|▊                        | 1/30 [06:11<2:59:21, 371.09s/it]"
     ]
    },
    {
     "name": "stdout",
     "output_type": "stream",
     "text": [
      "Эксперимент сохранен в таблице /Users/ogrobertino/UpliftModelingResearch/exps/stats.tsv\n",
      "Модель, предсказания и конфиг сохранены в директории exps/lazada2/50/1\n"
     ]
    },
    {
     "name": "stderr",
     "output_type": "stream",
     "text": [
      "Training models:   7%|█▋                       | 2/30 [13:46<3:16:16, 420.58s/it]"
     ]
    },
    {
     "name": "stdout",
     "output_type": "stream",
     "text": [
      "Эксперимент сохранен в таблице /Users/ogrobertino/UpliftModelingResearch/exps/stats.tsv\n",
      "Модель, предсказания и конфиг сохранены в директории exps/lazada2/50/2\n"
     ]
    },
    {
     "name": "stderr",
     "output_type": "stream",
     "text": [
      "Training models:  10%|██▌                      | 3/30 [16:52<2:21:07, 313.61s/it]"
     ]
    },
    {
     "name": "stdout",
     "output_type": "stream",
     "text": [
      "Эксперимент сохранен в таблице /Users/ogrobertino/UpliftModelingResearch/exps/stats.tsv\n",
      "Модель, предсказания и конфиг сохранены в директории exps/lazada2/50/3\n"
     ]
    },
    {
     "name": "stderr",
     "output_type": "stream",
     "text": [
      "Training models:  13%|███▎                     | 4/30 [27:17<3:09:05, 436.38s/it]"
     ]
    },
    {
     "name": "stdout",
     "output_type": "stream",
     "text": [
      "Эксперимент сохранен в таблице /Users/ogrobertino/UpliftModelingResearch/exps/stats.tsv\n",
      "Модель, предсказания и конфиг сохранены в директории exps/lazada2/50/4\n"
     ]
    },
    {
     "name": "stderr",
     "output_type": "stream",
     "text": [
      "Training models:  17%|████▏                    | 5/30 [32:12<2:40:41, 385.66s/it]"
     ]
    },
    {
     "name": "stdout",
     "output_type": "stream",
     "text": [
      "Эксперимент сохранен в таблице /Users/ogrobertino/UpliftModelingResearch/exps/stats.tsv\n",
      "Модель, предсказания и конфиг сохранены в директории exps/lazada2/50/5\n"
     ]
    },
    {
     "name": "stderr",
     "output_type": "stream",
     "text": [
      "Training models:  20%|█████                    | 6/30 [40:54<2:52:45, 431.91s/it]"
     ]
    },
    {
     "name": "stdout",
     "output_type": "stream",
     "text": [
      "Эксперимент сохранен в таблице /Users/ogrobertino/UpliftModelingResearch/exps/stats.tsv\n",
      "Модель, предсказания и конфиг сохранены в директории exps/lazada2/50/6\n"
     ]
    },
    {
     "name": "stderr",
     "output_type": "stream",
     "text": [
      "Training models:  23%|█████▊                   | 7/30 [43:12<2:08:43, 335.81s/it]"
     ]
    },
    {
     "name": "stdout",
     "output_type": "stream",
     "text": [
      "Эксперимент сохранен в таблице /Users/ogrobertino/UpliftModelingResearch/exps/stats.tsv\n",
      "Модель, предсказания и конфиг сохранены в директории exps/lazada2/50/7\n"
     ]
    },
    {
     "name": "stderr",
     "output_type": "stream",
     "text": [
      "Training models:  27%|██████▋                  | 8/30 [49:36<2:08:43, 351.06s/it]"
     ]
    },
    {
     "name": "stdout",
     "output_type": "stream",
     "text": [
      "Эксперимент сохранен в таблице /Users/ogrobertino/UpliftModelingResearch/exps/stats.tsv\n",
      "Модель, предсказания и конфиг сохранены в директории exps/lazada2/50/8\n"
     ]
    },
    {
     "name": "stderr",
     "output_type": "stream",
     "text": [
      "Training models:  30%|███████▌                 | 9/30 [51:52<1:39:23, 283.98s/it]"
     ]
    },
    {
     "name": "stdout",
     "output_type": "stream",
     "text": [
      "Эксперимент сохранен в таблице /Users/ogrobertino/UpliftModelingResearch/exps/stats.tsv\n",
      "Модель, предсказания и конфиг сохранены в директории exps/lazada2/50/9\n"
     ]
    },
    {
     "name": "stderr",
     "output_type": "stream",
     "text": [
      "Training models:  33%|████████                | 10/30 [59:26<1:52:06, 336.32s/it]"
     ]
    },
    {
     "name": "stdout",
     "output_type": "stream",
     "text": [
      "Эксперимент сохранен в таблице /Users/ogrobertino/UpliftModelingResearch/exps/stats.tsv\n",
      "Модель, предсказания и конфиг сохранены в директории exps/lazada2/50/10\n"
     ]
    },
    {
     "name": "stderr",
     "output_type": "stream",
     "text": [
      "Training models:  37%|████████              | 11/30 [1:03:47<1:39:15, 313.42s/it]"
     ]
    },
    {
     "name": "stdout",
     "output_type": "stream",
     "text": [
      "Эксперимент сохранен в таблице /Users/ogrobertino/UpliftModelingResearch/exps/stats.tsv\n",
      "Модель, предсказания и конфиг сохранены в директории exps/lazada2/50/11\n"
     ]
    },
    {
     "name": "stderr",
     "output_type": "stream",
     "text": [
      "Training models:  40%|████████▊             | 12/30 [1:12:02<1:50:36, 368.67s/it]"
     ]
    },
    {
     "name": "stdout",
     "output_type": "stream",
     "text": [
      "Эксперимент сохранен в таблице /Users/ogrobertino/UpliftModelingResearch/exps/stats.tsv\n",
      "Модель, предсказания и конфиг сохранены в директории exps/lazada2/50/12\n"
     ]
    },
    {
     "name": "stderr",
     "output_type": "stream",
     "text": [
      "Training models:  43%|█████████▌            | 13/30 [1:22:47<2:08:10, 452.38s/it]"
     ]
    },
    {
     "name": "stdout",
     "output_type": "stream",
     "text": [
      "Эксперимент сохранен в таблице /Users/ogrobertino/UpliftModelingResearch/exps/stats.tsv\n",
      "Модель, предсказания и конфиг сохранены в директории exps/lazada2/50/13\n"
     ]
    },
    {
     "name": "stderr",
     "output_type": "stream",
     "text": [
      "Training models:  47%|██████████▎           | 14/30 [1:28:44<1:52:56, 423.55s/it]"
     ]
    },
    {
     "name": "stdout",
     "output_type": "stream",
     "text": [
      "Эксперимент сохранен в таблице /Users/ogrobertino/UpliftModelingResearch/exps/stats.tsv\n",
      "Модель, предсказания и конфиг сохранены в директории exps/lazada2/50/14\n"
     ]
    },
    {
     "name": "stderr",
     "output_type": "stream",
     "text": [
      "Training models:  50%|███████████           | 15/30 [1:36:58<1:51:11, 444.76s/it]"
     ]
    },
    {
     "name": "stdout",
     "output_type": "stream",
     "text": [
      "Эксперимент сохранен в таблице /Users/ogrobertino/UpliftModelingResearch/exps/stats.tsv\n",
      "Модель, предсказания и конфиг сохранены в директории exps/lazada2/50/15\n"
     ]
    },
    {
     "name": "stderr",
     "output_type": "stream",
     "text": [
      "Training models:  53%|███████████▋          | 16/30 [1:45:29<1:48:26, 464.75s/it]"
     ]
    },
    {
     "name": "stdout",
     "output_type": "stream",
     "text": [
      "Эксперимент сохранен в таблице /Users/ogrobertino/UpliftModelingResearch/exps/stats.tsv\n",
      "Модель, предсказания и конфиг сохранены в директории exps/lazada2/50/16\n"
     ]
    },
    {
     "name": "stderr",
     "output_type": "stream",
     "text": [
      "Training models:  57%|████████████▍         | 17/30 [1:48:11<1:20:58, 373.71s/it]"
     ]
    },
    {
     "name": "stdout",
     "output_type": "stream",
     "text": [
      "Эксперимент сохранен в таблице /Users/ogrobertino/UpliftModelingResearch/exps/stats.tsv\n",
      "Модель, предсказания и конфиг сохранены в директории exps/lazada2/50/17\n"
     ]
    },
    {
     "name": "stderr",
     "output_type": "stream",
     "text": [
      "Training models:  60%|█████████████▏        | 18/30 [1:50:20<1:00:01, 300.10s/it]"
     ]
    },
    {
     "name": "stdout",
     "output_type": "stream",
     "text": [
      "Эксперимент сохранен в таблице /Users/ogrobertino/UpliftModelingResearch/exps/stats.tsv\n",
      "Модель, предсказания и конфиг сохранены в директории exps/lazada2/50/18\n"
     ]
    },
    {
     "name": "stderr",
     "output_type": "stream",
     "text": [
      "Training models:  63%|█████████████▉        | 19/30 [1:59:40<1:09:18, 378.05s/it]"
     ]
    },
    {
     "name": "stdout",
     "output_type": "stream",
     "text": [
      "Эксперимент сохранен в таблице /Users/ogrobertino/UpliftModelingResearch/exps/stats.tsv\n",
      "Модель, предсказания и конфиг сохранены в директории exps/lazada2/50/19\n"
     ]
    },
    {
     "name": "stderr",
     "output_type": "stream",
     "text": [
      "Training models:  67%|██████████████▋       | 20/30 [2:07:56<1:08:56, 413.64s/it]"
     ]
    },
    {
     "name": "stdout",
     "output_type": "stream",
     "text": [
      "Эксперимент сохранен в таблице /Users/ogrobertino/UpliftModelingResearch/exps/stats.tsv\n",
      "Модель, предсказания и конфиг сохранены в директории exps/lazada2/50/20\n"
     ]
    },
    {
     "name": "stderr",
     "output_type": "stream",
     "text": [
      "Training models:  70%|████████████████▊       | 21/30 [2:11:37<53:22, 355.85s/it]"
     ]
    },
    {
     "name": "stdout",
     "output_type": "stream",
     "text": [
      "Эксперимент сохранен в таблице /Users/ogrobertino/UpliftModelingResearch/exps/stats.tsv\n",
      "Модель, предсказания и конфиг сохранены в директории exps/lazada2/50/21\n"
     ]
    },
    {
     "name": "stderr",
     "output_type": "stream",
     "text": [
      "Training models:  73%|█████████████████▌      | 22/30 [2:20:48<55:15, 414.42s/it]"
     ]
    },
    {
     "name": "stdout",
     "output_type": "stream",
     "text": [
      "Эксперимент сохранен в таблице /Users/ogrobertino/UpliftModelingResearch/exps/stats.tsv\n",
      "Модель, предсказания и конфиг сохранены в директории exps/lazada2/50/22\n"
     ]
    },
    {
     "name": "stderr",
     "output_type": "stream",
     "text": [
      "Training models:  77%|██████████████████▍     | 23/30 [2:25:27<43:36, 373.80s/it]"
     ]
    },
    {
     "name": "stdout",
     "output_type": "stream",
     "text": [
      "Эксперимент сохранен в таблице /Users/ogrobertino/UpliftModelingResearch/exps/stats.tsv\n",
      "Модель, предсказания и конфиг сохранены в директории exps/lazada2/50/23\n"
     ]
    },
    {
     "name": "stderr",
     "output_type": "stream",
     "text": [
      "Training models:  80%|███████████████████▏    | 24/30 [2:32:10<38:13, 382.30s/it]"
     ]
    },
    {
     "name": "stdout",
     "output_type": "stream",
     "text": [
      "Эксперимент сохранен в таблице /Users/ogrobertino/UpliftModelingResearch/exps/stats.tsv\n",
      "Модель, предсказания и конфиг сохранены в директории exps/lazada2/50/24\n"
     ]
    },
    {
     "name": "stderr",
     "output_type": "stream",
     "text": [
      "Training models:  83%|████████████████████    | 25/30 [2:35:05<26:41, 320.28s/it]"
     ]
    },
    {
     "name": "stdout",
     "output_type": "stream",
     "text": [
      "Эксперимент сохранен в таблице /Users/ogrobertino/UpliftModelingResearch/exps/stats.tsv\n",
      "Модель, предсказания и конфиг сохранены в директории exps/lazada2/50/25\n"
     ]
    },
    {
     "name": "stderr",
     "output_type": "stream",
     "text": [
      "Training models:  83%|████████████████████    | 25/30 [2:41:09<32:13, 386.80s/it]\n"
     ]
    },
    {
     "ename": "KeyboardInterrupt",
     "evalue": "",
     "output_type": "error",
     "traceback": [
      "\u001b[0;31m---------------------------------------------------------------------------\u001b[0m",
      "\u001b[0;31mKeyboardInterrupt\u001b[0m                         Traceback (most recent call last)",
      "\u001b[0;32m/var/folders/2h/f3088zln2y36htvcq0wjvt94_1rc11/T/ipykernel_87023/128010402.py\u001b[0m in \u001b[0;36m?\u001b[0;34m()\u001b[0m\n\u001b[1;32m      5\u001b[0m \u001b[0;34m\u001b[0m\u001b[0m\n\u001b[1;32m      6\u001b[0m \u001b[0mconfigs\u001b[0m \u001b[0;34m=\u001b[0m \u001b[0mUpliftRandomForestModel\u001b[0m\u001b[0;34m.\u001b[0m\u001b[0mgenerate_config\u001b[0m\u001b[0;34m(\u001b[0m\u001b[0mcount\u001b[0m\u001b[0;34m=\u001b[0m\u001b[0;36m30\u001b[0m\u001b[0;34m,\u001b[0m \u001b[0;34m**\u001b[0m\u001b[0mparameters\u001b[0m\u001b[0;34m)\u001b[0m\u001b[0;34m\u001b[0m\u001b[0;34m\u001b[0m\u001b[0m\n\u001b[1;32m      7\u001b[0m \u001b[0;34m\u001b[0m\u001b[0m\n\u001b[1;32m      8\u001b[0m \u001b[0;32mfor\u001b[0m \u001b[0mi\u001b[0m \u001b[0;32min\u001b[0m \u001b[0mtqdm\u001b[0m\u001b[0;34m(\u001b[0m\u001b[0mrange\u001b[0m\u001b[0;34m(\u001b[0m\u001b[0mlen\u001b[0m\u001b[0;34m(\u001b[0m\u001b[0mconfigs\u001b[0m\u001b[0;34m)\u001b[0m\u001b[0;34m)\u001b[0m\u001b[0;34m,\u001b[0m \u001b[0mdesc\u001b[0m\u001b[0;34m=\u001b[0m\u001b[0;34m\"Training models\"\u001b[0m\u001b[0;34m)\u001b[0m\u001b[0;34m:\u001b[0m\u001b[0;34m\u001b[0m\u001b[0;34m\u001b[0m\u001b[0m\n\u001b[0;32m----> 9\u001b[0;31m     \u001b[0mtrain_test_model\u001b[0m\u001b[0;34m(\u001b[0m\u001b[0mds_name\u001b[0m\u001b[0;34m=\u001b[0m\u001b[0;34m'lazada2'\u001b[0m\u001b[0;34m,\u001b[0m \u001b[0mfeatures_percent\u001b[0m\u001b[0;34m=\u001b[0m\u001b[0;36m50\u001b[0m\u001b[0;34m,\u001b[0m \u001b[0mfactory\u001b[0m\u001b[0;34m=\u001b[0m\u001b[0mUpliftRandomForestModelFactory\u001b[0m\u001b[0;34m,\u001b[0m \u001b[0mconfig\u001b[0m\u001b[0;34m=\u001b[0m\u001b[0mconfigs\u001b[0m\u001b[0;34m[\u001b[0m\u001b[0mi\u001b[0m\u001b[0;34m]\u001b[0m\u001b[0;34m)\u001b[0m\u001b[0;34m\u001b[0m\u001b[0;34m\u001b[0m\u001b[0m\n\u001b[0m",
      "\u001b[0;32m~/UpliftModelingResearch/src/utils.py\u001b[0m in \u001b[0;36m?\u001b[0;34m(ds_name, features_percent, factory, config, compressions, batch_size, max_size)\u001b[0m\n\u001b[1;32m     28\u001b[0m     \u001b[0mtrain_path\u001b[0m\u001b[0;34m,\u001b[0m \u001b[0mtest_path\u001b[0m \u001b[0;34m=\u001b[0m \u001b[0mget_paths_train_test\u001b[0m\u001b[0;34m(\u001b[0m\u001b[0mds_name\u001b[0m\u001b[0;34m=\u001b[0m\u001b[0mds_name\u001b[0m\u001b[0;34m,\u001b[0m \u001b[0mfeatures_percent\u001b[0m\u001b[0;34m=\u001b[0m\u001b[0mfeatures_percent\u001b[0m\u001b[0;34m)\u001b[0m\u001b[0;34m\u001b[0m\u001b[0;34m\u001b[0m\u001b[0m\n\u001b[1;32m     29\u001b[0m     \u001b[0mmodel\u001b[0m\u001b[0;34m,\u001b[0m \u001b[0mtrain\u001b[0m\u001b[0;34m,\u001b[0m \u001b[0mtest\u001b[0m \u001b[0;34m=\u001b[0m \u001b[0mfactory\u001b[0m\u001b[0;34m.\u001b[0m\u001b[0mcreate\u001b[0m\u001b[0;34m(\u001b[0m\u001b[0mconfig\u001b[0m\u001b[0;34m,\u001b[0m \u001b[0mtrain_path\u001b[0m\u001b[0;34m,\u001b[0m \u001b[0mtest_path\u001b[0m\u001b[0;34m)\u001b[0m\u001b[0;34m\u001b[0m\u001b[0;34m\u001b[0m\u001b[0m\n\u001b[1;32m     30\u001b[0m     \u001b[0mmodel\u001b[0m\u001b[0;34m.\u001b[0m\u001b[0mfit\u001b[0m\u001b[0;34m(\u001b[0m\u001b[0mtrain\u001b[0m\u001b[0;34m)\u001b[0m\u001b[0;34m\u001b[0m\u001b[0;34m\u001b[0m\u001b[0m\n\u001b[1;32m     31\u001b[0m     \u001b[0mpredicted\u001b[0m \u001b[0;34m=\u001b[0m \u001b[0mmodel\u001b[0m\u001b[0;34m.\u001b[0m\u001b[0mpredict\u001b[0m\u001b[0;34m(\u001b[0m\u001b[0mtest\u001b[0m\u001b[0;34m)\u001b[0m\u001b[0;34m\u001b[0m\u001b[0;34m\u001b[0m\u001b[0m\n\u001b[0;32m---> 32\u001b[0;31m     write(model, test, predicted, ds_name=ds_name, features_percent=features_percent, compressions=compressions,\n\u001b[0m\u001b[1;32m     33\u001b[0m           batch_size=batch_size, max_size=max_size)    \n",
      "\u001b[0;32m~/UpliftModelingResearch/src/utils.py\u001b[0m in \u001b[0;36m?\u001b[0;34m(model, test, predictions, ds_name, features_percent, compressions, batch_size, max_size)\u001b[0m\n\u001b[1;32m    134\u001b[0m     \u001b[0mbatch_size\u001b[0m\u001b[0;34m,\u001b[0m \u001b[0mmax_size\u001b[0m \u001b[0;34m-\u001b[0m \u001b[0mпараметры\u001b[0m \u001b[0mдля\u001b[0m \u001b[0mтестирования\u001b[0m \u001b[0mинференса\u001b[0m \u001b[0mмодели\u001b[0m\u001b[0;34m\u001b[0m\u001b[0;34m\u001b[0m\u001b[0m\n\u001b[1;32m    135\u001b[0m     \"\"\"\n\u001b[1;32m    136\u001b[0m     \u001b[0mpath_current_setup\u001b[0m \u001b[0;34m=\u001b[0m \u001b[0mwrite_files\u001b[0m\u001b[0;34m(\u001b[0m\u001b[0mmodel\u001b[0m\u001b[0;34m,\u001b[0m \u001b[0mpredictions\u001b[0m\u001b[0;34m,\u001b[0m \u001b[0mds_name\u001b[0m\u001b[0;34m,\u001b[0m \u001b[0mfeatures_percent\u001b[0m\u001b[0;34m)\u001b[0m\u001b[0;34m\u001b[0m\u001b[0;34m\u001b[0m\u001b[0m\n\u001b[1;32m    137\u001b[0m     \u001b[0mprint\u001b[0m\u001b[0;34m(\u001b[0m\u001b[0;34mf\"Модель, предсказания и конфиг сохранены в директории {path_current_setup}\"\u001b[0m\u001b[0;34m)\u001b[0m\u001b[0;34m\u001b[0m\u001b[0;34m\u001b[0m\u001b[0m\n\u001b[0;32m--> 138\u001b[0;31m     \u001b[0mpath_exp\u001b[0m \u001b[0;34m=\u001b[0m \u001b[0mappend_exp\u001b[0m\u001b[0;34m(\u001b[0m\u001b[0mmodel\u001b[0m\u001b[0;34m,\u001b[0m \u001b[0mtest\u001b[0m\u001b[0;34m,\u001b[0m \u001b[0mpredictions\u001b[0m\u001b[0;34m,\u001b[0m \u001b[0mds_name\u001b[0m\u001b[0;34m,\u001b[0m \u001b[0mfeatures_percent\u001b[0m\u001b[0;34m,\u001b[0m \u001b[0mpath_current_setup\u001b[0m\u001b[0;34m,\u001b[0m \u001b[0mcompressions\u001b[0m\u001b[0;34m,\u001b[0m \u001b[0mbatch_size\u001b[0m\u001b[0;34m,\u001b[0m \u001b[0mmax_size\u001b[0m\u001b[0;34m)\u001b[0m\u001b[0;34m\u001b[0m\u001b[0;34m\u001b[0m\u001b[0m\n\u001b[0m\u001b[1;32m    139\u001b[0m     \u001b[0mprint\u001b[0m\u001b[0;34m(\u001b[0m\u001b[0;34mf\"Эксперимент сохранен в таблице {path_exp}\"\u001b[0m\u001b[0;34m)\u001b[0m\u001b[0;34m\u001b[0m\u001b[0;34m\u001b[0m\u001b[0m\n",
      "\u001b[0;32m~/UpliftModelingResearch/src/utils.py\u001b[0m in \u001b[0;36m?\u001b[0;34m(model, test, predicted, ds_name, features_percent, path_current_setup, compressions, batch_size, max_size)\u001b[0m\n\u001b[1;32m     58\u001b[0m \u001b[0;34m\u001b[0m\u001b[0m\n\u001b[1;32m     59\u001b[0m     \u001b[0mpath_exps_stats\u001b[0m \u001b[0;34m=\u001b[0m \u001b[0mBASE_PATH\u001b[0m \u001b[0;34m/\u001b[0m \u001b[0;34m\"exps/stats.tsv\"\u001b[0m\u001b[0;34m\u001b[0m\u001b[0;34m\u001b[0m\u001b[0m\n\u001b[1;32m     60\u001b[0m \u001b[0;34m\u001b[0m\u001b[0m\n\u001b[1;32m     61\u001b[0m     \u001b[0mmodel_name\u001b[0m \u001b[0;34m=\u001b[0m \u001b[0mmodel\u001b[0m\u001b[0;34m.\u001b[0m\u001b[0m__class__\u001b[0m\u001b[0;34m.\u001b[0m\u001b[0m__name__\u001b[0m\u001b[0;34m\u001b[0m\u001b[0;34m\u001b[0m\u001b[0m\n\u001b[0;32m---> 62\u001b[0;31m     \u001b[0minference_time_ms\u001b[0m \u001b[0;34m=\u001b[0m \u001b[0mmodel\u001b[0m\u001b[0;34m.\u001b[0m\u001b[0mmeasure_inference_time\u001b[0m\u001b[0;34m(\u001b[0m\u001b[0mtest\u001b[0m\u001b[0;34m,\u001b[0m \u001b[0mbatch_size\u001b[0m\u001b[0;34m,\u001b[0m \u001b[0mmax_size\u001b[0m\u001b[0;34m=\u001b[0m\u001b[0mmax_size\u001b[0m\u001b[0;34m)\u001b[0m\u001b[0;34m\u001b[0m\u001b[0;34m\u001b[0m\u001b[0m\n\u001b[0m\u001b[1;32m     63\u001b[0m     \u001b[0msize_model_mb\u001b[0m \u001b[0;34m=\u001b[0m \u001b[0mos\u001b[0m\u001b[0;34m.\u001b[0m\u001b[0mpath\u001b[0m\u001b[0;34m.\u001b[0m\u001b[0mgetsize\u001b[0m\u001b[0;34m(\u001b[0m\u001b[0mstr\u001b[0m\u001b[0;34m(\u001b[0m\u001b[0mBASE_PATH\u001b[0m\u001b[0;34m)\u001b[0m \u001b[0;34m+\u001b[0m \u001b[0;34m\"/\"\u001b[0m \u001b[0;34m+\u001b[0m \u001b[0mpath_current_setup\u001b[0m \u001b[0;34m+\u001b[0m \u001b[0;34m\"/model.pkl\"\u001b[0m\u001b[0;34m)\u001b[0m \u001b[0;34m/\u001b[0m \u001b[0;36m1e6\u001b[0m\u001b[0;34m\u001b[0m\u001b[0;34m\u001b[0m\u001b[0m\n\u001b[1;32m     64\u001b[0m     \u001b[0mauuc_model\u001b[0m \u001b[0;34m=\u001b[0m \u001b[0mget_auuc\u001b[0m\u001b[0;34m(\u001b[0m\u001b[0mpredicted\u001b[0m\u001b[0;34m)\u001b[0m\u001b[0;34m\u001b[0m\u001b[0;34m\u001b[0m\u001b[0m\n\u001b[1;32m     65\u001b[0m     \u001b[0mcompressions\u001b[0m \u001b[0;34m=\u001b[0m \u001b[0mcompressions\u001b[0m \u001b[0;32mor\u001b[0m \u001b[0;34m{\u001b[0m\u001b[0;34m}\u001b[0m\u001b[0;34m\u001b[0m\u001b[0;34m\u001b[0m\u001b[0m\n",
      "\u001b[0;32m~/UpliftModelingResearch/src/models/CausalML/ICausalML.py\u001b[0m in \u001b[0;36m?\u001b[0;34m(self, data, batch_size, max_size)\u001b[0m\n\u001b[1;32m     80\u001b[0m \u001b[0;34m\u001b[0m\u001b[0m\n\u001b[1;32m     81\u001b[0m         \u001b[0mcur_size\u001b[0m \u001b[0;34m=\u001b[0m \u001b[0;36m0\u001b[0m\u001b[0;34m\u001b[0m\u001b[0;34m\u001b[0m\u001b[0m\n\u001b[1;32m     82\u001b[0m         \u001b[0;32mfor\u001b[0m \u001b[0mbatch\u001b[0m \u001b[0;32min\u001b[0m \u001b[0mbatches\u001b[0m\u001b[0;34m:\u001b[0m\u001b[0;34m\u001b[0m\u001b[0;34m\u001b[0m\u001b[0m\n\u001b[1;32m     83\u001b[0m             \u001b[0mstart_time\u001b[0m \u001b[0;34m=\u001b[0m \u001b[0mtime\u001b[0m\u001b[0;34m.\u001b[0m\u001b[0mtime\u001b[0m\u001b[0;34m(\u001b[0m\u001b[0;34m)\u001b[0m\u001b[0;34m\u001b[0m\u001b[0;34m\u001b[0m\u001b[0m\n\u001b[0;32m---> 84\u001b[0;31m             \u001b[0mpredictions\u001b[0m \u001b[0;34m=\u001b[0m \u001b[0mself\u001b[0m\u001b[0;34m.\u001b[0m\u001b[0mpredict_light\u001b[0m\u001b[0;34m(\u001b[0m\u001b[0mbatch\u001b[0m\u001b[0;34m)\u001b[0m\u001b[0;34m\u001b[0m\u001b[0;34m\u001b[0m\u001b[0m\n\u001b[0m\u001b[1;32m     85\u001b[0m             \u001b[0mend_time\u001b[0m \u001b[0;34m=\u001b[0m \u001b[0mtime\u001b[0m\u001b[0;34m.\u001b[0m\u001b[0mtime\u001b[0m\u001b[0;34m(\u001b[0m\u001b[0;34m)\u001b[0m\u001b[0;34m\u001b[0m\u001b[0;34m\u001b[0m\u001b[0m\n\u001b[1;32m     86\u001b[0m \u001b[0;34m\u001b[0m\u001b[0m\n\u001b[1;32m     87\u001b[0m             \u001b[0minference_times\u001b[0m\u001b[0;34m.\u001b[0m\u001b[0mappend\u001b[0m\u001b[0;34m(\u001b[0m\u001b[0;34m(\u001b[0m\u001b[0mend_time\u001b[0m \u001b[0;34m-\u001b[0m \u001b[0mstart_time\u001b[0m\u001b[0;34m)\u001b[0m \u001b[0;34m*\u001b[0m \u001b[0;36m1000\u001b[0m \u001b[0;34m/\u001b[0m \u001b[0mbatch_size\u001b[0m\u001b[0;34m)\u001b[0m\u001b[0;34m\u001b[0m\u001b[0;34m\u001b[0m\u001b[0m\n",
      "\u001b[0;32m~/UpliftModelingResearch/src/models/CausalML/Models.py\u001b[0m in \u001b[0;36m?\u001b[0;34m(self, X)\u001b[0m\n\u001b[1;32m    226\u001b[0m     \u001b[0;32mdef\u001b[0m \u001b[0mpredict_light\u001b[0m\u001b[0;34m(\u001b[0m\u001b[0mself\u001b[0m\u001b[0;34m,\u001b[0m \u001b[0mX\u001b[0m\u001b[0;34m:\u001b[0m \u001b[0mNumpyDataset\u001b[0m\u001b[0;34m)\u001b[0m\u001b[0;34m:\u001b[0m\u001b[0;34m\u001b[0m\u001b[0;34m\u001b[0m\u001b[0m\n\u001b[0;32m--> 227\u001b[0;31m         \u001b[0mself\u001b[0m\u001b[0;34m.\u001b[0m\u001b[0mmodel\u001b[0m\u001b[0;34m.\u001b[0m\u001b[0mpredict\u001b[0m\u001b[0;34m(\u001b[0m\u001b[0mX\u001b[0m\u001b[0;34m.\u001b[0m\u001b[0mdata\u001b[0m\u001b[0;34m.\u001b[0m\u001b[0mloc\u001b[0m\u001b[0;34m[\u001b[0m\u001b[0;34m:\u001b[0m\u001b[0;34m,\u001b[0m \u001b[0mX\u001b[0m\u001b[0;34m.\u001b[0m\u001b[0mcols_features\u001b[0m\u001b[0;34m]\u001b[0m\u001b[0;34m)\u001b[0m\u001b[0;34m\u001b[0m\u001b[0;34m\u001b[0m\u001b[0m\n\u001b[0m",
      "\u001b[0;32m~/new_diploma/lib/python3.11/site-packages/sklearn/utils/_testing.py\u001b[0m in \u001b[0;36m?\u001b[0;34m(*args, **kwargs)\u001b[0m\n\u001b[1;32m    156\u001b[0m         \u001b[0;34m@\u001b[0m\u001b[0mwraps\u001b[0m\u001b[0;34m(\u001b[0m\u001b[0mfn\u001b[0m\u001b[0;34m)\u001b[0m\u001b[0;34m\u001b[0m\u001b[0;34m\u001b[0m\u001b[0m\n\u001b[1;32m    157\u001b[0m         \u001b[0;32mdef\u001b[0m \u001b[0mwrapper\u001b[0m\u001b[0;34m(\u001b[0m\u001b[0;34m*\u001b[0m\u001b[0margs\u001b[0m\u001b[0;34m,\u001b[0m \u001b[0;34m**\u001b[0m\u001b[0mkwargs\u001b[0m\u001b[0;34m)\u001b[0m\u001b[0;34m:\u001b[0m\u001b[0;34m\u001b[0m\u001b[0;34m\u001b[0m\u001b[0m\n\u001b[1;32m    158\u001b[0m             \u001b[0;32mwith\u001b[0m \u001b[0mwarnings\u001b[0m\u001b[0;34m.\u001b[0m\u001b[0mcatch_warnings\u001b[0m\u001b[0;34m(\u001b[0m\u001b[0;34m)\u001b[0m\u001b[0;34m:\u001b[0m\u001b[0;34m\u001b[0m\u001b[0;34m\u001b[0m\u001b[0m\n\u001b[1;32m    159\u001b[0m                 \u001b[0mwarnings\u001b[0m\u001b[0;34m.\u001b[0m\u001b[0msimplefilter\u001b[0m\u001b[0;34m(\u001b[0m\u001b[0;34m\"ignore\"\u001b[0m\u001b[0;34m,\u001b[0m \u001b[0mself\u001b[0m\u001b[0;34m.\u001b[0m\u001b[0mcategory\u001b[0m\u001b[0;34m)\u001b[0m\u001b[0;34m\u001b[0m\u001b[0;34m\u001b[0m\u001b[0m\n\u001b[0;32m--> 160\u001b[0;31m                 \u001b[0;32mreturn\u001b[0m \u001b[0mfn\u001b[0m\u001b[0;34m(\u001b[0m\u001b[0;34m*\u001b[0m\u001b[0margs\u001b[0m\u001b[0;34m,\u001b[0m \u001b[0;34m**\u001b[0m\u001b[0mkwargs\u001b[0m\u001b[0;34m)\u001b[0m\u001b[0;34m\u001b[0m\u001b[0;34m\u001b[0m\u001b[0m\n\u001b[0m",
      "\u001b[0;32mcausalml/inference/tree/uplift.pyx\u001b[0m in \u001b[0;36m?\u001b[0;34m()\u001b[0m\n\u001b[0;32m-> 2569\u001b[0;31m \u001b[0;34m'Could not get source, probably due dynamically evaluated source code.'\u001b[0m\u001b[0;34m\u001b[0m\u001b[0;34m\u001b[0m\u001b[0m\n\u001b[0m",
      "\u001b[0;32m~/new_diploma/lib/python3.11/site-packages/pandas/core/frame.py\u001b[0m in \u001b[0;36m?\u001b[0;34m(self, key)\u001b[0m\n\u001b[1;32m   4113\u001b[0m \u001b[0;34m\u001b[0m\u001b[0m\n\u001b[1;32m   4114\u001b[0m         \u001b[0;32mif\u001b[0m \u001b[0misinstance\u001b[0m\u001b[0;34m(\u001b[0m\u001b[0mindexer\u001b[0m\u001b[0;34m,\u001b[0m \u001b[0mslice\u001b[0m\u001b[0;34m)\u001b[0m\u001b[0;34m:\u001b[0m\u001b[0;34m\u001b[0m\u001b[0;34m\u001b[0m\u001b[0m\n\u001b[1;32m   4115\u001b[0m             \u001b[0;32mreturn\u001b[0m \u001b[0mself\u001b[0m\u001b[0;34m.\u001b[0m\u001b[0m_slice\u001b[0m\u001b[0;34m(\u001b[0m\u001b[0mindexer\u001b[0m\u001b[0;34m,\u001b[0m \u001b[0maxis\u001b[0m\u001b[0;34m=\u001b[0m\u001b[0;36m1\u001b[0m\u001b[0;34m)\u001b[0m\u001b[0;34m\u001b[0m\u001b[0;34m\u001b[0m\u001b[0m\n\u001b[1;32m   4116\u001b[0m \u001b[0;34m\u001b[0m\u001b[0m\n\u001b[0;32m-> 4117\u001b[0;31m         \u001b[0mdata\u001b[0m \u001b[0;34m=\u001b[0m \u001b[0mself\u001b[0m\u001b[0;34m.\u001b[0m\u001b[0m_take_with_is_copy\u001b[0m\u001b[0;34m(\u001b[0m\u001b[0mindexer\u001b[0m\u001b[0;34m,\u001b[0m \u001b[0maxis\u001b[0m\u001b[0;34m=\u001b[0m\u001b[0;36m1\u001b[0m\u001b[0;34m)\u001b[0m\u001b[0;34m\u001b[0m\u001b[0;34m\u001b[0m\u001b[0m\n\u001b[0m\u001b[1;32m   4118\u001b[0m \u001b[0;34m\u001b[0m\u001b[0m\n\u001b[1;32m   4119\u001b[0m         \u001b[0;32mif\u001b[0m \u001b[0mis_single_key\u001b[0m\u001b[0;34m:\u001b[0m\u001b[0;34m\u001b[0m\u001b[0;34m\u001b[0m\u001b[0m\n\u001b[1;32m   4120\u001b[0m             \u001b[0;31m# What does looking for a single key in a non-unique index return?\u001b[0m\u001b[0;34m\u001b[0m\u001b[0;34m\u001b[0m\u001b[0m\n",
      "\u001b[0;32m~/new_diploma/lib/python3.11/site-packages/pandas/core/generic.py\u001b[0m in \u001b[0;36m?\u001b[0;34m(self, indices, axis)\u001b[0m\n\u001b[1;32m   4149\u001b[0m         \u001b[0mFor\u001b[0m \u001b[0mSeries\u001b[0m \u001b[0mthis\u001b[0m \u001b[0mdoes\u001b[0m \u001b[0mthe\u001b[0m \u001b[0msame\u001b[0m \u001b[0;32mas\u001b[0m \u001b[0mthe\u001b[0m \u001b[0mpublic\u001b[0m \u001b[0mtake\u001b[0m \u001b[0;34m(\u001b[0m\u001b[0mit\u001b[0m \u001b[0mnever\u001b[0m \u001b[0msets\u001b[0m\u001b[0;31m \u001b[0m\u001b[0;31m`\u001b[0m\u001b[0m_is_copy\u001b[0m\u001b[0;31m`\u001b[0m\u001b[0;34m)\u001b[0m\u001b[0;34m.\u001b[0m\u001b[0;34m\u001b[0m\u001b[0;34m\u001b[0m\u001b[0m\n\u001b[1;32m   4150\u001b[0m \u001b[0;34m\u001b[0m\u001b[0m\n\u001b[1;32m   4151\u001b[0m         \u001b[0mSee\u001b[0m \u001b[0mthe\u001b[0m \u001b[0mdocstring\u001b[0m \u001b[0mof\u001b[0m\u001b[0;31m \u001b[0m\u001b[0;31m`\u001b[0m\u001b[0mtake\u001b[0m\u001b[0;31m`\u001b[0m \u001b[0;32mfor\u001b[0m \u001b[0mfull\u001b[0m \u001b[0mexplanation\u001b[0m \u001b[0mof\u001b[0m \u001b[0mthe\u001b[0m \u001b[0mparameters\u001b[0m\u001b[0;34m.\u001b[0m\u001b[0;34m\u001b[0m\u001b[0;34m\u001b[0m\u001b[0m\n\u001b[1;32m   4152\u001b[0m         \"\"\"\n\u001b[0;32m-> 4153\u001b[0;31m         \u001b[0mresult\u001b[0m \u001b[0;34m=\u001b[0m \u001b[0mself\u001b[0m\u001b[0;34m.\u001b[0m\u001b[0mtake\u001b[0m\u001b[0;34m(\u001b[0m\u001b[0mindices\u001b[0m\u001b[0;34m=\u001b[0m\u001b[0mindices\u001b[0m\u001b[0;34m,\u001b[0m \u001b[0maxis\u001b[0m\u001b[0;34m=\u001b[0m\u001b[0maxis\u001b[0m\u001b[0;34m)\u001b[0m\u001b[0;34m\u001b[0m\u001b[0;34m\u001b[0m\u001b[0m\n\u001b[0m\u001b[1;32m   4154\u001b[0m         \u001b[0;31m# Maybe set copy if we didn't actually change the index.\u001b[0m\u001b[0;34m\u001b[0m\u001b[0;34m\u001b[0m\u001b[0m\n\u001b[1;32m   4155\u001b[0m         \u001b[0;32mif\u001b[0m \u001b[0mself\u001b[0m\u001b[0;34m.\u001b[0m\u001b[0mndim\u001b[0m \u001b[0;34m==\u001b[0m \u001b[0;36m2\u001b[0m \u001b[0;32mand\u001b[0m \u001b[0;32mnot\u001b[0m \u001b[0mresult\u001b[0m\u001b[0;34m.\u001b[0m\u001b[0m_get_axis\u001b[0m\u001b[0;34m(\u001b[0m\u001b[0maxis\u001b[0m\u001b[0;34m)\u001b[0m\u001b[0;34m.\u001b[0m\u001b[0mequals\u001b[0m\u001b[0;34m(\u001b[0m\u001b[0mself\u001b[0m\u001b[0;34m.\u001b[0m\u001b[0m_get_axis\u001b[0m\u001b[0;34m(\u001b[0m\u001b[0maxis\u001b[0m\u001b[0;34m)\u001b[0m\u001b[0;34m)\u001b[0m\u001b[0;34m:\u001b[0m\u001b[0;34m\u001b[0m\u001b[0;34m\u001b[0m\u001b[0m\n\u001b[1;32m   4156\u001b[0m             \u001b[0mresult\u001b[0m\u001b[0;34m.\u001b[0m\u001b[0m_set_is_copy\u001b[0m\u001b[0;34m(\u001b[0m\u001b[0mself\u001b[0m\u001b[0;34m)\u001b[0m\u001b[0;34m\u001b[0m\u001b[0;34m\u001b[0m\u001b[0m\n",
      "\u001b[0;32m~/new_diploma/lib/python3.11/site-packages/pandas/core/generic.py\u001b[0m in \u001b[0;36m?\u001b[0;34m(self, indices, axis, **kwargs)\u001b[0m\n\u001b[1;32m   4134\u001b[0m             \u001b[0mindices\u001b[0m\u001b[0;34m,\u001b[0m\u001b[0;34m\u001b[0m\u001b[0;34m\u001b[0m\u001b[0m\n\u001b[1;32m   4135\u001b[0m             \u001b[0maxis\u001b[0m\u001b[0;34m=\u001b[0m\u001b[0mself\u001b[0m\u001b[0;34m.\u001b[0m\u001b[0m_get_block_manager_axis\u001b[0m\u001b[0;34m(\u001b[0m\u001b[0maxis\u001b[0m\u001b[0;34m)\u001b[0m\u001b[0;34m,\u001b[0m\u001b[0;34m\u001b[0m\u001b[0;34m\u001b[0m\u001b[0m\n\u001b[1;32m   4136\u001b[0m             \u001b[0mverify\u001b[0m\u001b[0;34m=\u001b[0m\u001b[0;32mTrue\u001b[0m\u001b[0;34m,\u001b[0m\u001b[0;34m\u001b[0m\u001b[0;34m\u001b[0m\u001b[0m\n\u001b[1;32m   4137\u001b[0m         )\n\u001b[0;32m-> 4138\u001b[0;31m         return self._constructor_from_mgr(new_data, axes=new_data.axes).__finalize__(\n\u001b[0m\u001b[1;32m   4139\u001b[0m             \u001b[0mself\u001b[0m\u001b[0;34m,\u001b[0m \u001b[0mmethod\u001b[0m\u001b[0;34m=\u001b[0m\u001b[0;34m\"take\"\u001b[0m\u001b[0;34m\u001b[0m\u001b[0;34m\u001b[0m\u001b[0m\n\u001b[1;32m   4140\u001b[0m         )\n",
      "\u001b[0;32m~/new_diploma/lib/python3.11/site-packages/pandas/core/generic.py\u001b[0m in \u001b[0;36m?\u001b[0;34m(self, other, method, **kwargs)\u001b[0m\n\u001b[0;32m-> 6236\u001b[0;31m     \u001b[0;34m@\u001b[0m\u001b[0mfinal\u001b[0m\u001b[0;34m\u001b[0m\u001b[0;34m\u001b[0m\u001b[0m\n\u001b[0m\u001b[1;32m   6237\u001b[0m     \u001b[0;32mdef\u001b[0m \u001b[0m__finalize__\u001b[0m\u001b[0;34m(\u001b[0m\u001b[0mself\u001b[0m\u001b[0;34m,\u001b[0m \u001b[0mother\u001b[0m\u001b[0;34m,\u001b[0m \u001b[0mmethod\u001b[0m\u001b[0;34m:\u001b[0m \u001b[0mstr\u001b[0m \u001b[0;34m|\u001b[0m \u001b[0;32mNone\u001b[0m \u001b[0;34m=\u001b[0m \u001b[0;32mNone\u001b[0m\u001b[0;34m,\u001b[0m \u001b[0;34m**\u001b[0m\u001b[0mkwargs\u001b[0m\u001b[0;34m)\u001b[0m \u001b[0;34m->\u001b[0m \u001b[0mSelf\u001b[0m\u001b[0;34m:\u001b[0m\u001b[0;34m\u001b[0m\u001b[0;34m\u001b[0m\u001b[0m\n\u001b[1;32m   6238\u001b[0m         \"\"\"\n\u001b[1;32m   6239\u001b[0m         \u001b[0mPropagate\u001b[0m \u001b[0mmetadata\u001b[0m \u001b[0;32mfrom\u001b[0m \u001b[0mother\u001b[0m \u001b[0mto\u001b[0m \u001b[0mself\u001b[0m\u001b[0;34m.\u001b[0m\u001b[0;34m\u001b[0m\u001b[0;34m\u001b[0m\u001b[0m\n",
      "\u001b[0;31mKeyboardInterrupt\u001b[0m: "
     ]
    }
   ],
   "source": [
    "from src.utils import get_paths_train_test, train_test_model\n",
    "from src.factory import UpliftRandomForestModelFactory\n",
    "from src.models.CausalML.Models import UpliftRandomForestModel\n",
    "from tqdm import tqdm\n",
    "\n",
    "configs = UpliftRandomForestModel.generate_config(count=30, **parameters)\n",
    "\n",
    "for i in tqdm(range(len(configs)), desc=\"Training models\"):\n",
    "    train_test_model(ds_name='lazada2', features_percent=50, factory=UpliftRandomForestModelFactory, config=configs[i])    "
   ]
  },
  {
   "cell_type": "code",
   "execution_count": 81,
   "id": "9ce372cd-f0be-4f86-b5db-41f7192b5f4f",
   "metadata": {},
   "outputs": [
    {
     "data": {
      "text/html": [
       "<div>\n",
       "<style scoped>\n",
       "    .dataframe tbody tr th:only-of-type {\n",
       "        vertical-align: middle;\n",
       "    }\n",
       "\n",
       "    .dataframe tbody tr th {\n",
       "        vertical-align: top;\n",
       "    }\n",
       "\n",
       "    .dataframe thead th {\n",
       "        text-align: right;\n",
       "    }\n",
       "</style>\n",
       "<table border=\"1\" class=\"dataframe\">\n",
       "  <thead>\n",
       "    <tr style=\"text-align: right;\">\n",
       "      <th></th>\n",
       "      <th>Model</th>\n",
       "      <th>Path</th>\n",
       "      <th>Dataset</th>\n",
       "      <th>Features Percent</th>\n",
       "      <th>Latency (ms)</th>\n",
       "      <th>Binary Size (MB)</th>\n",
       "      <th>AUUC (test)</th>\n",
       "      <th>Precision@5</th>\n",
       "      <th>Precision@10</th>\n",
       "      <th>Precision@15</th>\n",
       "      <th>Precision@20</th>\n",
       "      <th>Precision@25</th>\n",
       "      <th>Precision@50</th>\n",
       "      <th>Compressions</th>\n",
       "    </tr>\n",
       "  </thead>\n",
       "  <tbody>\n",
       "    <tr>\n",
       "      <th>122</th>\n",
       "      <td>UpliftRandomForestModel</td>\n",
       "      <td>exps/lazada2/50/0</td>\n",
       "      <td>lazada2</td>\n",
       "      <td>50</td>\n",
       "      <td>0.972096</td>\n",
       "      <td>26.188333</td>\n",
       "      <td>0.289064</td>\n",
       "      <td>-0.004478</td>\n",
       "      <td>-0.003792</td>\n",
       "      <td>-0.003577</td>\n",
       "      <td>-0.003792</td>\n",
       "      <td>-0.002112</td>\n",
       "      <td>0.001731</td>\n",
       "      <td>{}</td>\n",
       "    </tr>\n",
       "    <tr>\n",
       "      <th>123</th>\n",
       "      <td>UpliftRandomForestModel</td>\n",
       "      <td>exps/lazada2/50/1</td>\n",
       "      <td>lazada2</td>\n",
       "      <td>50</td>\n",
       "      <td>1.015281</td>\n",
       "      <td>31.555121</td>\n",
       "      <td>0.343731</td>\n",
       "      <td>-0.005231</td>\n",
       "      <td>-0.003794</td>\n",
       "      <td>-0.002472</td>\n",
       "      <td>-0.003794</td>\n",
       "      <td>-0.001313</td>\n",
       "      <td>0.002853</td>\n",
       "      <td>{}</td>\n",
       "    </tr>\n",
       "    <tr>\n",
       "      <th>124</th>\n",
       "      <td>UpliftRandomForestModel</td>\n",
       "      <td>exps/lazada2/50/2</td>\n",
       "      <td>lazada2</td>\n",
       "      <td>50</td>\n",
       "      <td>0.565286</td>\n",
       "      <td>8.355005</td>\n",
       "      <td>0.362434</td>\n",
       "      <td>-0.003615</td>\n",
       "      <td>-0.003601</td>\n",
       "      <td>-0.002055</td>\n",
       "      <td>-0.003601</td>\n",
       "      <td>-0.000634</td>\n",
       "      <td>0.003078</td>\n",
       "      <td>{}</td>\n",
       "    </tr>\n",
       "    <tr>\n",
       "      <th>125</th>\n",
       "      <td>UpliftRandomForestModel</td>\n",
       "      <td>exps/lazada2/50/3</td>\n",
       "      <td>lazada2</td>\n",
       "      <td>50</td>\n",
       "      <td>1.434085</td>\n",
       "      <td>45.254426</td>\n",
       "      <td>0.325560</td>\n",
       "      <td>-0.005137</td>\n",
       "      <td>-0.002831</td>\n",
       "      <td>-0.001420</td>\n",
       "      <td>-0.002831</td>\n",
       "      <td>-0.001013</td>\n",
       "      <td>0.002287</td>\n",
       "      <td>{}</td>\n",
       "    </tr>\n",
       "    <tr>\n",
       "      <th>126</th>\n",
       "      <td>UpliftRandomForestModel</td>\n",
       "      <td>exps/lazada2/50/4</td>\n",
       "      <td>lazada2</td>\n",
       "      <td>50</td>\n",
       "      <td>0.949203</td>\n",
       "      <td>9.979489</td>\n",
       "      <td>0.327628</td>\n",
       "      <td>-0.003423</td>\n",
       "      <td>-0.002789</td>\n",
       "      <td>-0.002621</td>\n",
       "      <td>-0.002789</td>\n",
       "      <td>-0.001929</td>\n",
       "      <td>0.002148</td>\n",
       "      <td>{}</td>\n",
       "    </tr>\n",
       "    <tr>\n",
       "      <th>127</th>\n",
       "      <td>UpliftRandomForestModel</td>\n",
       "      <td>exps/lazada2/50/5</td>\n",
       "      <td>lazada2</td>\n",
       "      <td>50</td>\n",
       "      <td>1.444975</td>\n",
       "      <td>30.845662</td>\n",
       "      <td>0.290926</td>\n",
       "      <td>-0.003415</td>\n",
       "      <td>-0.003100</td>\n",
       "      <td>-0.003041</td>\n",
       "      <td>-0.003100</td>\n",
       "      <td>-0.001362</td>\n",
       "      <td>0.002389</td>\n",
       "      <td>{}</td>\n",
       "    </tr>\n",
       "    <tr>\n",
       "      <th>128</th>\n",
       "      <td>UpliftRandomForestModel</td>\n",
       "      <td>exps/lazada2/50/6</td>\n",
       "      <td>lazada2</td>\n",
       "      <td>50</td>\n",
       "      <td>0.469687</td>\n",
       "      <td>5.637888</td>\n",
       "      <td>0.338351</td>\n",
       "      <td>-0.004394</td>\n",
       "      <td>-0.003210</td>\n",
       "      <td>-0.001883</td>\n",
       "      <td>-0.003210</td>\n",
       "      <td>-0.000921</td>\n",
       "      <td>0.002467</td>\n",
       "      <td>{}</td>\n",
       "    </tr>\n",
       "    <tr>\n",
       "      <th>129</th>\n",
       "      <td>UpliftRandomForestModel</td>\n",
       "      <td>exps/lazada2/50/7</td>\n",
       "      <td>lazada2</td>\n",
       "      <td>50</td>\n",
       "      <td>1.063972</td>\n",
       "      <td>16.965169</td>\n",
       "      <td>0.324345</td>\n",
       "      <td>-0.003755</td>\n",
       "      <td>-0.003045</td>\n",
       "      <td>-0.001546</td>\n",
       "      <td>-0.003045</td>\n",
       "      <td>-0.000487</td>\n",
       "      <td>0.002313</td>\n",
       "      <td>{}</td>\n",
       "    </tr>\n",
       "    <tr>\n",
       "      <th>130</th>\n",
       "      <td>UpliftRandomForestModel</td>\n",
       "      <td>exps/lazada2/50/8</td>\n",
       "      <td>lazada2</td>\n",
       "      <td>50</td>\n",
       "      <td>0.466588</td>\n",
       "      <td>6.525548</td>\n",
       "      <td>0.364788</td>\n",
       "      <td>-0.005099</td>\n",
       "      <td>-0.002822</td>\n",
       "      <td>-0.002127</td>\n",
       "      <td>-0.002822</td>\n",
       "      <td>-0.000954</td>\n",
       "      <td>0.002891</td>\n",
       "      <td>{}</td>\n",
       "    </tr>\n",
       "    <tr>\n",
       "      <th>131</th>\n",
       "      <td>UpliftRandomForestModel</td>\n",
       "      <td>exps/lazada2/50/9</td>\n",
       "      <td>lazada2</td>\n",
       "      <td>50</td>\n",
       "      <td>1.443616</td>\n",
       "      <td>16.740990</td>\n",
       "      <td>0.318803</td>\n",
       "      <td>-0.003680</td>\n",
       "      <td>-0.003321</td>\n",
       "      <td>-0.002673</td>\n",
       "      <td>-0.003321</td>\n",
       "      <td>-0.000964</td>\n",
       "      <td>0.002326</td>\n",
       "      <td>{}</td>\n",
       "    </tr>\n",
       "    <tr>\n",
       "      <th>132</th>\n",
       "      <td>UpliftRandomForestModel</td>\n",
       "      <td>exps/lazada2/50/10</td>\n",
       "      <td>lazada2</td>\n",
       "      <td>50</td>\n",
       "      <td>0.551815</td>\n",
       "      <td>20.081115</td>\n",
       "      <td>0.290887</td>\n",
       "      <td>-0.005905</td>\n",
       "      <td>-0.004403</td>\n",
       "      <td>-0.002412</td>\n",
       "      <td>-0.004403</td>\n",
       "      <td>-0.000948</td>\n",
       "      <td>0.001799</td>\n",
       "      <td>{}</td>\n",
       "    </tr>\n",
       "    <tr>\n",
       "      <th>133</th>\n",
       "      <td>UpliftRandomForestModel</td>\n",
       "      <td>exps/lazada2/50/11</td>\n",
       "      <td>lazada2</td>\n",
       "      <td>50</td>\n",
       "      <td>1.447844</td>\n",
       "      <td>21.804330</td>\n",
       "      <td>0.306053</td>\n",
       "      <td>-0.003224</td>\n",
       "      <td>-0.002419</td>\n",
       "      <td>-0.002230</td>\n",
       "      <td>-0.002419</td>\n",
       "      <td>-0.000966</td>\n",
       "      <td>0.002052</td>\n",
       "      <td>{}</td>\n",
       "    </tr>\n",
       "    <tr>\n",
       "      <th>134</th>\n",
       "      <td>UpliftRandomForestModel</td>\n",
       "      <td>exps/lazada2/50/12</td>\n",
       "      <td>lazada2</td>\n",
       "      <td>50</td>\n",
       "      <td>1.479250</td>\n",
       "      <td>47.528055</td>\n",
       "      <td>0.310986</td>\n",
       "      <td>-0.004920</td>\n",
       "      <td>-0.003137</td>\n",
       "      <td>-0.002872</td>\n",
       "      <td>-0.003137</td>\n",
       "      <td>-0.000713</td>\n",
       "      <td>0.001976</td>\n",
       "      <td>{}</td>\n",
       "    </tr>\n",
       "    <tr>\n",
       "      <th>135</th>\n",
       "      <td>UpliftRandomForestModel</td>\n",
       "      <td>exps/lazada2/50/13</td>\n",
       "      <td>lazada2</td>\n",
       "      <td>50</td>\n",
       "      <td>1.061968</td>\n",
       "      <td>13.899285</td>\n",
       "      <td>0.326005</td>\n",
       "      <td>-0.005368</td>\n",
       "      <td>-0.002671</td>\n",
       "      <td>-0.002328</td>\n",
       "      <td>-0.002671</td>\n",
       "      <td>-0.000317</td>\n",
       "      <td>0.002444</td>\n",
       "      <td>{}</td>\n",
       "    </tr>\n",
       "    <tr>\n",
       "      <th>136</th>\n",
       "      <td>UpliftRandomForestModel</td>\n",
       "      <td>exps/lazada2/50/14</td>\n",
       "      <td>lazada2</td>\n",
       "      <td>50</td>\n",
       "      <td>1.436733</td>\n",
       "      <td>24.933649</td>\n",
       "      <td>0.292944</td>\n",
       "      <td>-0.005386</td>\n",
       "      <td>-0.003058</td>\n",
       "      <td>-0.002614</td>\n",
       "      <td>-0.003058</td>\n",
       "      <td>-0.001127</td>\n",
       "      <td>0.002109</td>\n",
       "      <td>{}</td>\n",
       "    </tr>\n",
       "    <tr>\n",
       "      <th>137</th>\n",
       "      <td>UpliftRandomForestModel</td>\n",
       "      <td>exps/lazada2/50/15</td>\n",
       "      <td>lazada2</td>\n",
       "      <td>50</td>\n",
       "      <td>1.104415</td>\n",
       "      <td>35.586312</td>\n",
       "      <td>0.286387</td>\n",
       "      <td>-0.005408</td>\n",
       "      <td>-0.003831</td>\n",
       "      <td>-0.002955</td>\n",
       "      <td>-0.003831</td>\n",
       "      <td>-0.002105</td>\n",
       "      <td>0.001521</td>\n",
       "      <td>{}</td>\n",
       "    </tr>\n",
       "    <tr>\n",
       "      <th>138</th>\n",
       "      <td>UpliftRandomForestModel</td>\n",
       "      <td>exps/lazada2/50/16</td>\n",
       "      <td>lazada2</td>\n",
       "      <td>50</td>\n",
       "      <td>0.486536</td>\n",
       "      <td>7.083911</td>\n",
       "      <td>0.306314</td>\n",
       "      <td>-0.003087</td>\n",
       "      <td>-0.003399</td>\n",
       "      <td>-0.002033</td>\n",
       "      <td>-0.003399</td>\n",
       "      <td>-0.000423</td>\n",
       "      <td>0.002271</td>\n",
       "      <td>{}</td>\n",
       "    </tr>\n",
       "    <tr>\n",
       "      <th>139</th>\n",
       "      <td>UpliftRandomForestModel</td>\n",
       "      <td>exps/lazada2/50/17</td>\n",
       "      <td>lazada2</td>\n",
       "      <td>50</td>\n",
       "      <td>0.462671</td>\n",
       "      <td>6.244844</td>\n",
       "      <td>0.293545</td>\n",
       "      <td>-0.005370</td>\n",
       "      <td>-0.004403</td>\n",
       "      <td>-0.001713</td>\n",
       "      <td>-0.004403</td>\n",
       "      <td>-0.001195</td>\n",
       "      <td>0.002361</td>\n",
       "      <td>{}</td>\n",
       "    </tr>\n",
       "    <tr>\n",
       "      <th>140</th>\n",
       "      <td>UpliftRandomForestModel</td>\n",
       "      <td>exps/lazada2/50/18</td>\n",
       "      <td>lazada2</td>\n",
       "      <td>50</td>\n",
       "      <td>1.457809</td>\n",
       "      <td>36.726528</td>\n",
       "      <td>0.334655</td>\n",
       "      <td>-0.004860</td>\n",
       "      <td>-0.003727</td>\n",
       "      <td>-0.002437</td>\n",
       "      <td>-0.003727</td>\n",
       "      <td>-0.000366</td>\n",
       "      <td>0.002503</td>\n",
       "      <td>{}</td>\n",
       "    </tr>\n",
       "    <tr>\n",
       "      <th>141</th>\n",
       "      <td>UpliftRandomForestModel</td>\n",
       "      <td>exps/lazada2/50/19</td>\n",
       "      <td>lazada2</td>\n",
       "      <td>50</td>\n",
       "      <td>1.345088</td>\n",
       "      <td>24.644206</td>\n",
       "      <td>0.331074</td>\n",
       "      <td>-0.005148</td>\n",
       "      <td>-0.002979</td>\n",
       "      <td>-0.002444</td>\n",
       "      <td>-0.002979</td>\n",
       "      <td>-0.001241</td>\n",
       "      <td>0.002721</td>\n",
       "      <td>{}</td>\n",
       "    </tr>\n",
       "    <tr>\n",
       "      <th>142</th>\n",
       "      <td>UpliftRandomForestModel</td>\n",
       "      <td>exps/lazada2/50/20</td>\n",
       "      <td>lazada2</td>\n",
       "      <td>50</td>\n",
       "      <td>0.552073</td>\n",
       "      <td>14.001338</td>\n",
       "      <td>0.337629</td>\n",
       "      <td>-0.005250</td>\n",
       "      <td>-0.003655</td>\n",
       "      <td>-0.002750</td>\n",
       "      <td>-0.003655</td>\n",
       "      <td>-0.000921</td>\n",
       "      <td>0.002255</td>\n",
       "      <td>{}</td>\n",
       "    </tr>\n",
       "    <tr>\n",
       "      <th>143</th>\n",
       "      <td>UpliftRandomForestModel</td>\n",
       "      <td>exps/lazada2/50/21</td>\n",
       "      <td>lazada2</td>\n",
       "      <td>50</td>\n",
       "      <td>1.452492</td>\n",
       "      <td>34.648563</td>\n",
       "      <td>0.306822</td>\n",
       "      <td>-0.005530</td>\n",
       "      <td>-0.004564</td>\n",
       "      <td>-0.003305</td>\n",
       "      <td>-0.004564</td>\n",
       "      <td>-0.000731</td>\n",
       "      <td>0.001967</td>\n",
       "      <td>{}</td>\n",
       "    </tr>\n",
       "    <tr>\n",
       "      <th>144</th>\n",
       "      <td>UpliftRandomForestModel</td>\n",
       "      <td>exps/lazada2/50/22</td>\n",
       "      <td>lazada2</td>\n",
       "      <td>50</td>\n",
       "      <td>0.962545</td>\n",
       "      <td>10.925081</td>\n",
       "      <td>0.341962</td>\n",
       "      <td>-0.003543</td>\n",
       "      <td>-0.004099</td>\n",
       "      <td>-0.002130</td>\n",
       "      <td>-0.004099</td>\n",
       "      <td>-0.000606</td>\n",
       "      <td>0.003053</td>\n",
       "      <td>{}</td>\n",
       "    </tr>\n",
       "    <tr>\n",
       "      <th>145</th>\n",
       "      <td>UpliftRandomForestModel</td>\n",
       "      <td>exps/lazada2/50/23</td>\n",
       "      <td>lazada2</td>\n",
       "      <td>50</td>\n",
       "      <td>1.007202</td>\n",
       "      <td>28.241428</td>\n",
       "      <td>0.345174</td>\n",
       "      <td>-0.004781</td>\n",
       "      <td>-0.003164</td>\n",
       "      <td>-0.002820</td>\n",
       "      <td>-0.003164</td>\n",
       "      <td>-0.000913</td>\n",
       "      <td>0.002343</td>\n",
       "      <td>{}</td>\n",
       "    </tr>\n",
       "    <tr>\n",
       "      <th>146</th>\n",
       "      <td>UpliftRandomForestModel</td>\n",
       "      <td>exps/lazada2/50/24</td>\n",
       "      <td>lazada2</td>\n",
       "      <td>50</td>\n",
       "      <td>0.484327</td>\n",
       "      <td>10.613634</td>\n",
       "      <td>0.285326</td>\n",
       "      <td>-0.004030</td>\n",
       "      <td>-0.004321</td>\n",
       "      <td>-0.003452</td>\n",
       "      <td>-0.004321</td>\n",
       "      <td>-0.002218</td>\n",
       "      <td>0.001529</td>\n",
       "      <td>{}</td>\n",
       "    </tr>\n",
       "  </tbody>\n",
       "</table>\n",
       "</div>"
      ],
      "text/plain": [
       "                       Model                Path  ... Precision@50  Compressions\n",
       "122  UpliftRandomForestModel   exps/lazada2/50/0  ...     0.001731            {}\n",
       "123  UpliftRandomForestModel   exps/lazada2/50/1  ...     0.002853            {}\n",
       "124  UpliftRandomForestModel   exps/lazada2/50/2  ...     0.003078            {}\n",
       "125  UpliftRandomForestModel   exps/lazada2/50/3  ...     0.002287            {}\n",
       "126  UpliftRandomForestModel   exps/lazada2/50/4  ...     0.002148            {}\n",
       "127  UpliftRandomForestModel   exps/lazada2/50/5  ...     0.002389            {}\n",
       "128  UpliftRandomForestModel   exps/lazada2/50/6  ...     0.002467            {}\n",
       "129  UpliftRandomForestModel   exps/lazada2/50/7  ...     0.002313            {}\n",
       "130  UpliftRandomForestModel   exps/lazada2/50/8  ...     0.002891            {}\n",
       "131  UpliftRandomForestModel   exps/lazada2/50/9  ...     0.002326            {}\n",
       "132  UpliftRandomForestModel  exps/lazada2/50/10  ...     0.001799            {}\n",
       "133  UpliftRandomForestModel  exps/lazada2/50/11  ...     0.002052            {}\n",
       "134  UpliftRandomForestModel  exps/lazada2/50/12  ...     0.001976            {}\n",
       "135  UpliftRandomForestModel  exps/lazada2/50/13  ...     0.002444            {}\n",
       "136  UpliftRandomForestModel  exps/lazada2/50/14  ...     0.002109            {}\n",
       "137  UpliftRandomForestModel  exps/lazada2/50/15  ...     0.001521            {}\n",
       "138  UpliftRandomForestModel  exps/lazada2/50/16  ...     0.002271            {}\n",
       "139  UpliftRandomForestModel  exps/lazada2/50/17  ...     0.002361            {}\n",
       "140  UpliftRandomForestModel  exps/lazada2/50/18  ...     0.002503            {}\n",
       "141  UpliftRandomForestModel  exps/lazada2/50/19  ...     0.002721            {}\n",
       "142  UpliftRandomForestModel  exps/lazada2/50/20  ...     0.002255            {}\n",
       "143  UpliftRandomForestModel  exps/lazada2/50/21  ...     0.001967            {}\n",
       "144  UpliftRandomForestModel  exps/lazada2/50/22  ...     0.003053            {}\n",
       "145  UpliftRandomForestModel  exps/lazada2/50/23  ...     0.002343            {}\n",
       "146  UpliftRandomForestModel  exps/lazada2/50/24  ...     0.001529            {}\n",
       "\n",
       "[25 rows x 14 columns]"
      ]
     },
     "execution_count": 81,
     "metadata": {},
     "output_type": "execute_result"
    }
   ],
   "source": [
    "from src.global_params import BASE_PATH\n",
    "import pandas as pd\n",
    "table = pd.read_csv(BASE_PATH / \"exps/stats.tsv\", sep='\\t')\n",
    "table[(table['Model'] == 'UpliftRandomForestModel') & (table['Dataset'] == 'lazada2')]"
   ]
  },
  {
   "cell_type": "code",
   "execution_count": 13,
   "id": "c510588e-3e66-4cad-9023-f8606d859d7b",
   "metadata": {},
   "outputs": [],
   "source": [
    "# table.sort_values(by=['Precision@10'], ascending=False)"
   ]
  },
  {
   "cell_type": "code",
   "execution_count": 9,
   "id": "966d3099-b15d-4d97-a5b4-1a3118872d33",
   "metadata": {},
   "outputs": [
    {
     "data": {
      "text/html": [
       "<div>\n",
       "<style scoped>\n",
       "    .dataframe tbody tr th:only-of-type {\n",
       "        vertical-align: middle;\n",
       "    }\n",
       "\n",
       "    .dataframe tbody tr th {\n",
       "        vertical-align: top;\n",
       "    }\n",
       "\n",
       "    .dataframe thead th {\n",
       "        text-align: right;\n",
       "    }\n",
       "</style>\n",
       "<table border=\"1\" class=\"dataframe\">\n",
       "  <thead>\n",
       "    <tr style=\"text-align: right;\">\n",
       "      <th></th>\n",
       "      <th>Model</th>\n",
       "      <th>Path</th>\n",
       "      <th>Dataset</th>\n",
       "      <th>Features Percent</th>\n",
       "      <th>Latency (ms)</th>\n",
       "      <th>Binary Size (MB)</th>\n",
       "      <th>AUUC (test)</th>\n",
       "      <th>Precision@5</th>\n",
       "      <th>Precision@10</th>\n",
       "      <th>Precision@15</th>\n",
       "      <th>Precision@20</th>\n",
       "      <th>Precision@25</th>\n",
       "      <th>Precision@50</th>\n",
       "      <th>Compressions</th>\n",
       "    </tr>\n",
       "  </thead>\n",
       "  <tbody>\n",
       "    <tr>\n",
       "      <th>92</th>\n",
       "      <td>TModel</td>\n",
       "      <td>exps/lazada/100/95</td>\n",
       "      <td>lazada</td>\n",
       "      <td>100</td>\n",
       "      <td>0.059551</td>\n",
       "      <td>15.731801</td>\n",
       "      <td>0.621811</td>\n",
       "      <td>0.008838</td>\n",
       "      <td>0.007589</td>\n",
       "      <td>0.006579</td>\n",
       "      <td>0.007589</td>\n",
       "      <td>0.005857</td>\n",
       "      <td>0.004556</td>\n",
       "      <td>{}</td>\n",
       "    </tr>\n",
       "    <tr>\n",
       "      <th>93</th>\n",
       "      <td>SModel</td>\n",
       "      <td>exps/lazada/100/96</td>\n",
       "      <td>lazada</td>\n",
       "      <td>100</td>\n",
       "      <td>0.029183</td>\n",
       "      <td>0.121993</td>\n",
       "      <td>0.586844</td>\n",
       "      <td>0.008476</td>\n",
       "      <td>0.005866</td>\n",
       "      <td>0.005930</td>\n",
       "      <td>0.005866</td>\n",
       "      <td>0.005800</td>\n",
       "      <td>0.005237</td>\n",
       "      <td>{}</td>\n",
       "    </tr>\n",
       "    <tr>\n",
       "      <th>94</th>\n",
       "      <td>TModel</td>\n",
       "      <td>exps/lazada/100/97</td>\n",
       "      <td>lazada</td>\n",
       "      <td>100</td>\n",
       "      <td>0.060034</td>\n",
       "      <td>54.043945</td>\n",
       "      <td>0.461269</td>\n",
       "      <td>-0.002724</td>\n",
       "      <td>0.005485</td>\n",
       "      <td>0.005803</td>\n",
       "      <td>0.005485</td>\n",
       "      <td>0.006601</td>\n",
       "      <td>0.003238</td>\n",
       "      <td>{}</td>\n",
       "    </tr>\n",
       "    <tr>\n",
       "      <th>95</th>\n",
       "      <td>XModel</td>\n",
       "      <td>exps/lazada/100/98</td>\n",
       "      <td>lazada</td>\n",
       "      <td>100</td>\n",
       "      <td>0.036554</td>\n",
       "      <td>23.910056</td>\n",
       "      <td>0.413690</td>\n",
       "      <td>0.004096</td>\n",
       "      <td>0.004087</td>\n",
       "      <td>0.002589</td>\n",
       "      <td>0.004087</td>\n",
       "      <td>0.002975</td>\n",
       "      <td>0.003292</td>\n",
       "      <td>{}</td>\n",
       "    </tr>\n",
       "    <tr>\n",
       "      <th>96</th>\n",
       "      <td>XModel</td>\n",
       "      <td>exps/lazada/100/99</td>\n",
       "      <td>lazada</td>\n",
       "      <td>100</td>\n",
       "      <td>0.037296</td>\n",
       "      <td>1.417968</td>\n",
       "      <td>0.487874</td>\n",
       "      <td>0.003950</td>\n",
       "      <td>0.006380</td>\n",
       "      <td>0.006161</td>\n",
       "      <td>0.006380</td>\n",
       "      <td>0.005778</td>\n",
       "      <td>0.003796</td>\n",
       "      <td>{}</td>\n",
       "    </tr>\n",
       "  </tbody>\n",
       "</table>\n",
       "</div>"
      ],
      "text/plain": [
       "     Model                Path Dataset  Features Percent  Latency (ms)  \\\n",
       "92  TModel  exps/lazada/100/95  lazada               100      0.059551   \n",
       "93  SModel  exps/lazada/100/96  lazada               100      0.029183   \n",
       "94  TModel  exps/lazada/100/97  lazada               100      0.060034   \n",
       "95  XModel  exps/lazada/100/98  lazada               100      0.036554   \n",
       "96  XModel  exps/lazada/100/99  lazada               100      0.037296   \n",
       "\n",
       "    Binary Size (MB)  AUUC (test)  Precision@5  Precision@10  Precision@15  \\\n",
       "92         15.731801     0.621811     0.008838      0.007589      0.006579   \n",
       "93          0.121993     0.586844     0.008476      0.005866      0.005930   \n",
       "94         54.043945     0.461269    -0.002724      0.005485      0.005803   \n",
       "95         23.910056     0.413690     0.004096      0.004087      0.002589   \n",
       "96          1.417968     0.487874     0.003950      0.006380      0.006161   \n",
       "\n",
       "    Precision@20  Precision@25  Precision@50 Compressions  \n",
       "92      0.007589      0.005857      0.004556           {}  \n",
       "93      0.005866      0.005800      0.005237           {}  \n",
       "94      0.005485      0.006601      0.003238           {}  \n",
       "95      0.004087      0.002975      0.003292           {}  \n",
       "96      0.006380      0.005778      0.003796           {}  "
      ]
     },
     "execution_count": 9,
     "metadata": {},
     "output_type": "execute_result"
    }
   ],
   "source": [
    "table.tail(5)"
   ]
  },
  {
   "cell_type": "code",
   "execution_count": null,
   "id": "cf8a4fab-52b6-4446-9657-9356630476b2",
   "metadata": {},
   "outputs": [],
   "source": [
    "from src.models.ICausalML.Models import XModel\n",
    "path = pd.read_csv(BASE_PATH / \"exps/stats.tsv\", sep='\\t').Path.iloc[-1]\n",
    "model = XModel(from_load=True, path = str(BASE_PATH) + \"/\" + path)"
   ]
  }
 ],
 "metadata": {
  "kernelspec": {
   "display_name": "Python 3 (ipykernel)",
   "language": "python",
   "name": "python3"
  },
  "language_info": {
   "codemirror_mode": {
    "name": "ipython",
    "version": 3
   },
   "file_extension": ".py",
   "mimetype": "text/x-python",
   "name": "python",
   "nbconvert_exporter": "python",
   "pygments_lexer": "ipython3",
   "version": "3.11.7"
  }
 },
 "nbformat": 4,
 "nbformat_minor": 5
}
