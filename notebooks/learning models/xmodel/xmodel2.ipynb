{
 "cells": [
  {
   "cell_type": "markdown",
   "id": "9d2d9151-caa3-4377-8e02-48712cc1c5fe",
   "metadata": {},
   "source": [
    "## Xmodeling "
   ]
  },
  {
   "cell_type": "markdown",
   "id": "877e03b6-88ed-4e70-88ef-49657f56c2d2",
   "metadata": {},
   "source": [
    "https://habr.com/ru/companies/ru_mts/articles/485980/\n",
    "https://habr.com/ru/companies/glowbyte/articles/686398/\n",
    "https://causalml.readthedocs.io/en/latest/methodology.html#s-learner\n",
    "https://github.com/uber/causalml/tree/master/causalml/inference/meta"
   ]
  },
  {
   "cell_type": "code",
   "execution_count": 2,
   "id": "78575b3c-2a2c-4b99-8bd7-e407f74d1a28",
   "metadata": {},
   "outputs": [
    {
     "name": "stdout",
     "output_type": "stream",
     "text": [
      "The autoreload extension is already loaded. To reload it, use:\n",
      "  %reload_ext autoreload\n"
     ]
    }
   ],
   "source": [
    "from pathlib import Path\n",
    "import sys\n",
    " \n",
    "if sys.argv:\n",
    "    sys.path.insert(0, str(Path('/Users/ogrobertino/UpliftModelingResearch/').resolve()))\n",
    "%load_ext autoreload\n",
    "%autoreload 2"
   ]
  },
  {
   "cell_type": "code",
   "execution_count": 3,
   "id": "ec1153e7-81e8-4c93-b367-e575bef4d325",
   "metadata": {},
   "outputs": [],
   "source": [
    "parameters = {\n",
    "    'iterations': (30, 80),\n",
    "    'learning_rate': (0.01, 0.5),\n",
    "    'depth': (4, 15)\n",
    "}"
   ]
  },
  {
   "cell_type": "code",
   "execution_count": 5,
   "id": "f2c5d949-79d2-4b68-afb5-1315cdbe5da0",
   "metadata": {},
   "outputs": [
    {
     "name": "stderr",
     "output_type": "stream",
     "text": [
      "Training models:   0%|                                      | 0/10 [00:00<?, ?it/s]"
     ]
    },
    {
     "name": "stdout",
     "output_type": "stream",
     "text": [
      "Модель, предсказания и конфиг сохранены в директории exps2/lazada_v2_opt/100/20\n"
     ]
    },
    {
     "name": "stderr",
     "output_type": "stream",
     "text": [
      "Training models:  10%|███                           | 1/10 [00:32<04:52, 32.46s/it]"
     ]
    },
    {
     "name": "stdout",
     "output_type": "stream",
     "text": [
      "Эксперимент сохранен в таблице /Users/ogrobertino/UpliftModelingResearch/exps2/stats.tsv\n",
      "Модель, предсказания и конфиг сохранены в директории exps2/lazada_v2_opt/100/21\n"
     ]
    },
    {
     "name": "stderr",
     "output_type": "stream",
     "text": [
      "Training models:  20%|██████                        | 2/10 [01:20<05:33, 41.63s/it]"
     ]
    },
    {
     "name": "stdout",
     "output_type": "stream",
     "text": [
      "Эксперимент сохранен в таблице /Users/ogrobertino/UpliftModelingResearch/exps2/stats.tsv\n",
      "Модель, предсказания и конфиг сохранены в директории exps2/lazada_v2_opt/100/22\n"
     ]
    },
    {
     "name": "stderr",
     "output_type": "stream",
     "text": [
      "Training models:  30%|█████████                     | 3/10 [03:07<08:19, 71.35s/it]"
     ]
    },
    {
     "name": "stdout",
     "output_type": "stream",
     "text": [
      "Эксперимент сохранен в таблице /Users/ogrobertino/UpliftModelingResearch/exps2/stats.tsv\n",
      "Модель, предсказания и конфиг сохранены в директории exps2/lazada_v2_opt/100/23\n"
     ]
    },
    {
     "name": "stderr",
     "output_type": "stream",
     "text": [
      "Training models:  40%|████████████                  | 4/10 [03:33<05:20, 53.46s/it]"
     ]
    },
    {
     "name": "stdout",
     "output_type": "stream",
     "text": [
      "Эксперимент сохранен в таблице /Users/ogrobertino/UpliftModelingResearch/exps2/stats.tsv\n",
      "Модель, предсказания и конфиг сохранены в директории exps2/lazada_v2_opt/100/24\n"
     ]
    },
    {
     "name": "stderr",
     "output_type": "stream",
     "text": [
      "Training models:  50%|███████████████               | 5/10 [04:05<03:49, 45.95s/it]"
     ]
    },
    {
     "name": "stdout",
     "output_type": "stream",
     "text": [
      "Эксперимент сохранен в таблице /Users/ogrobertino/UpliftModelingResearch/exps2/stats.tsv\n",
      "Модель, предсказания и конфиг сохранены в директории exps2/lazada_v2_opt/100/25\n"
     ]
    },
    {
     "name": "stderr",
     "output_type": "stream",
     "text": [
      "Training models:  60%|██████████████████            | 6/10 [05:33<04:00, 60.06s/it]"
     ]
    },
    {
     "name": "stdout",
     "output_type": "stream",
     "text": [
      "Эксперимент сохранен в таблице /Users/ogrobertino/UpliftModelingResearch/exps2/stats.tsv\n",
      "Модель, предсказания и конфиг сохранены в директории exps2/lazada_v2_opt/100/26\n"
     ]
    },
    {
     "name": "stderr",
     "output_type": "stream",
     "text": [
      "Training models:  70%|█████████████████████         | 7/10 [06:08<02:35, 51.87s/it]"
     ]
    },
    {
     "name": "stdout",
     "output_type": "stream",
     "text": [
      "Эксперимент сохранен в таблице /Users/ogrobertino/UpliftModelingResearch/exps2/stats.tsv\n",
      "Модель, предсказания и конфиг сохранены в директории exps2/lazada_v2_opt/100/27\n"
     ]
    },
    {
     "name": "stderr",
     "output_type": "stream",
     "text": [
      "Training models:  80%|████████████████████████      | 8/10 [07:21<01:57, 58.61s/it]"
     ]
    },
    {
     "name": "stdout",
     "output_type": "stream",
     "text": [
      "Эксперимент сохранен в таблице /Users/ogrobertino/UpliftModelingResearch/exps2/stats.tsv\n",
      "Модель, предсказания и конфиг сохранены в директории exps2/lazada_v2_opt/100/28\n"
     ]
    },
    {
     "name": "stderr",
     "output_type": "stream",
     "text": [
      "Training models:  90%|███████████████████████████   | 9/10 [09:18<01:16, 76.84s/it]"
     ]
    },
    {
     "name": "stdout",
     "output_type": "stream",
     "text": [
      "Эксперимент сохранен в таблице /Users/ogrobertino/UpliftModelingResearch/exps2/stats.tsv\n",
      "Модель, предсказания и конфиг сохранены в директории exps2/lazada_v2_opt/100/29\n"
     ]
    },
    {
     "name": "stderr",
     "output_type": "stream",
     "text": [
      "Training models: 100%|█████████████████████████████| 10/10 [09:54<00:00, 59.47s/it]"
     ]
    },
    {
     "name": "stdout",
     "output_type": "stream",
     "text": [
      "Эксперимент сохранен в таблице /Users/ogrobertino/UpliftModelingResearch/exps2/stats.tsv\n"
     ]
    },
    {
     "name": "stderr",
     "output_type": "stream",
     "text": [
      "\n"
     ]
    }
   ],
   "source": [
    "from src.utils import get_paths_train_test, train_test_model\n",
    "from src.factory import XModelFactory\n",
    "from src.models.CausalML.Models import XModel\n",
    "from tqdm import tqdm\n",
    "\n",
    "configs = XModel.generate_config(count=10, **parameters)\n",
    "\n",
    "for i in tqdm(range(len(configs)), desc=\"Training models\"):\n",
    "    train_test_model(ds_name='lazada_v2_opt', features_percent=100, factory=XModelFactory, config=configs[i])    "
   ]
  },
  {
   "cell_type": "code",
   "execution_count": 6,
   "id": "2a28d760-e922-4d3a-bf4f-bd31b9571c2e",
   "metadata": {},
   "outputs": [
    {
     "name": "stderr",
     "output_type": "stream",
     "text": [
      "Training models:   0%|                                      | 0/10 [00:00<?, ?it/s]"
     ]
    },
    {
     "name": "stdout",
     "output_type": "stream",
     "text": [
      "Модель, предсказания и конфиг сохранены в директории exps2/lazada_v2_opt/50/20\n"
     ]
    },
    {
     "name": "stderr",
     "output_type": "stream",
     "text": [
      "Training models:  10%|███                           | 1/10 [00:28<04:18, 28.68s/it]"
     ]
    },
    {
     "name": "stdout",
     "output_type": "stream",
     "text": [
      "Эксперимент сохранен в таблице /Users/ogrobertino/UpliftModelingResearch/exps2/stats.tsv\n",
      "Модель, предсказания и конфиг сохранены в директории exps2/lazada_v2_opt/50/21\n"
     ]
    },
    {
     "name": "stderr",
     "output_type": "stream",
     "text": [
      "Training models:  20%|██████                        | 2/10 [00:48<03:07, 23.42s/it]"
     ]
    },
    {
     "name": "stdout",
     "output_type": "stream",
     "text": [
      "Эксперимент сохранен в таблице /Users/ogrobertino/UpliftModelingResearch/exps2/stats.tsv\n",
      "Модель, предсказания и конфиг сохранены в директории exps2/lazada_v2_opt/50/22\n"
     ]
    },
    {
     "name": "stderr",
     "output_type": "stream",
     "text": [
      "Training models:  30%|█████████                     | 3/10 [01:41<04:17, 36.74s/it]"
     ]
    },
    {
     "name": "stdout",
     "output_type": "stream",
     "text": [
      "Эксперимент сохранен в таблице /Users/ogrobertino/UpliftModelingResearch/exps2/stats.tsv\n",
      "Модель, предсказания и конфиг сохранены в директории exps2/lazada_v2_opt/50/23\n"
     ]
    },
    {
     "name": "stderr",
     "output_type": "stream",
     "text": [
      "Training models:  40%|████████████                  | 4/10 [02:03<03:07, 31.28s/it]"
     ]
    },
    {
     "name": "stdout",
     "output_type": "stream",
     "text": [
      "Эксперимент сохранен в таблице /Users/ogrobertino/UpliftModelingResearch/exps2/stats.tsv\n",
      "Модель, предсказания и конфиг сохранены в директории exps2/lazada_v2_opt/50/24\n"
     ]
    },
    {
     "name": "stderr",
     "output_type": "stream",
     "text": [
      "Training models:  50%|███████████████               | 5/10 [02:48<03:00, 36.14s/it]"
     ]
    },
    {
     "name": "stdout",
     "output_type": "stream",
     "text": [
      "Эксперимент сохранен в таблице /Users/ogrobertino/UpliftModelingResearch/exps2/stats.tsv\n",
      "Модель, предсказания и конфиг сохранены в директории exps2/lazada_v2_opt/50/25\n"
     ]
    },
    {
     "name": "stderr",
     "output_type": "stream",
     "text": [
      "Training models:  60%|██████████████████            | 6/10 [03:37<02:41, 40.29s/it]"
     ]
    },
    {
     "name": "stdout",
     "output_type": "stream",
     "text": [
      "Эксперимент сохранен в таблице /Users/ogrobertino/UpliftModelingResearch/exps2/stats.tsv\n",
      "Модель, предсказания и конфиг сохранены в директории exps2/lazada_v2_opt/50/26\n"
     ]
    },
    {
     "name": "stderr",
     "output_type": "stream",
     "text": [
      "Training models:  70%|█████████████████████         | 7/10 [03:56<01:40, 33.50s/it]"
     ]
    },
    {
     "name": "stdout",
     "output_type": "stream",
     "text": [
      "Эксперимент сохранен в таблице /Users/ogrobertino/UpliftModelingResearch/exps2/stats.tsv\n",
      "Модель, предсказания и конфиг сохранены в директории exps2/lazada_v2_opt/50/27\n"
     ]
    },
    {
     "name": "stderr",
     "output_type": "stream",
     "text": [
      "Training models:  80%|████████████████████████      | 8/10 [04:45<01:16, 38.46s/it]"
     ]
    },
    {
     "name": "stdout",
     "output_type": "stream",
     "text": [
      "Эксперимент сохранен в таблице /Users/ogrobertino/UpliftModelingResearch/exps2/stats.tsv\n",
      "Модель, предсказания и конфиг сохранены в директории exps2/lazada_v2_opt/50/28\n"
     ]
    },
    {
     "name": "stderr",
     "output_type": "stream",
     "text": [
      "Training models:  90%|███████████████████████████   | 9/10 [05:21<00:37, 37.79s/it]"
     ]
    },
    {
     "name": "stdout",
     "output_type": "stream",
     "text": [
      "Эксперимент сохранен в таблице /Users/ogrobertino/UpliftModelingResearch/exps2/stats.tsv\n",
      "Модель, предсказания и конфиг сохранены в директории exps2/lazada_v2_opt/50/29\n"
     ]
    },
    {
     "name": "stderr",
     "output_type": "stream",
     "text": [
      "Training models: 100%|█████████████████████████████| 10/10 [05:56<00:00, 35.67s/it]"
     ]
    },
    {
     "name": "stdout",
     "output_type": "stream",
     "text": [
      "Эксперимент сохранен в таблице /Users/ogrobertino/UpliftModelingResearch/exps2/stats.tsv\n"
     ]
    },
    {
     "name": "stderr",
     "output_type": "stream",
     "text": [
      "\n"
     ]
    }
   ],
   "source": [
    "from src.utils import get_paths_train_test, train_test_model\n",
    "from src.factory import XModelFactory\n",
    "from src.models.CausalML.Models import XModel\n",
    "from tqdm import tqdm\n",
    "\n",
    "configs = XModel.generate_config(count=10, **parameters)\n",
    "\n",
    "for i in tqdm(range(len(configs)), desc=\"Training models\"):\n",
    "    train_test_model(ds_name='lazada_v2_opt', features_percent=50, factory=XModelFactory, config=configs[i])    "
   ]
  },
  {
   "cell_type": "code",
   "execution_count": 7,
   "id": "9ce372cd-f0be-4f86-b5db-41f7192b5f4f",
   "metadata": {},
   "outputs": [
    {
     "ename": "TypeError",
     "evalue": "unsupported operand type(s) for /: 'str' and 'str'",
     "output_type": "error",
     "traceback": [
      "\u001b[0;31m---------------------------------------------------------------------------\u001b[0m",
      "\u001b[0;31mTypeError\u001b[0m                                 Traceback (most recent call last)",
      "Cell \u001b[0;32mIn[7], line 3\u001b[0m\n\u001b[1;32m      1\u001b[0m \u001b[38;5;28;01mfrom\u001b[39;00m\u001b[38;5;250m \u001b[39m\u001b[38;5;21;01msrc\u001b[39;00m\u001b[38;5;21;01m.\u001b[39;00m\u001b[38;5;21;01mglobal_params\u001b[39;00m\u001b[38;5;250m \u001b[39m\u001b[38;5;28;01mimport\u001b[39;00m BASE_PATH\n\u001b[1;32m      2\u001b[0m \u001b[38;5;28;01mimport\u001b[39;00m\u001b[38;5;250m \u001b[39m\u001b[38;5;21;01mpandas\u001b[39;00m\u001b[38;5;250m \u001b[39m\u001b[38;5;28;01mas\u001b[39;00m\u001b[38;5;250m \u001b[39m\u001b[38;5;21;01mpd\u001b[39;00m\n\u001b[0;32m----> 3\u001b[0m table \u001b[38;5;241m=\u001b[39m pd\u001b[38;5;241m.\u001b[39mread_csv(\u001b[43mBASE_PATH\u001b[49m\u001b[43m \u001b[49m\u001b[38;5;241;43m/\u001b[39;49m\u001b[43m \u001b[49m\u001b[38;5;124;43m\"\u001b[39;49m\u001b[38;5;124;43mexps/stats.tsv\u001b[39;49m\u001b[38;5;124;43m\"\u001b[39;49m, sep\u001b[38;5;241m=\u001b[39m\u001b[38;5;124m'\u001b[39m\u001b[38;5;130;01m\\t\u001b[39;00m\u001b[38;5;124m'\u001b[39m)\n\u001b[1;32m      4\u001b[0m table[table[\u001b[38;5;124m'\u001b[39m\u001b[38;5;124mModel\u001b[39m\u001b[38;5;124m'\u001b[39m] \u001b[38;5;241m==\u001b[39m \u001b[38;5;124m'\u001b[39m\u001b[38;5;124mXModel\u001b[39m\u001b[38;5;124m'\u001b[39m]\u001b[38;5;241m.\u001b[39msort_values([\u001b[38;5;124m\"\u001b[39m\u001b[38;5;124mAUUC\u001b[39m\u001b[38;5;124m\"\u001b[39m], ascending\u001b[38;5;241m=\u001b[39m\u001b[38;5;28;01mFalse\u001b[39;00m)\n",
      "\u001b[0;31mTypeError\u001b[0m: unsupported operand type(s) for /: 'str' and 'str'"
     ]
    }
   ],
   "source": [
    "from src.global_params import BASE_PATH\n",
    "import pandas as pd\n",
    "table = pd.read_csv(BASE_PATH / \"exps/stats.tsv\", sep='\\t')\n",
    "table[table['Model'] == 'XModel'].sort_values([\"AUUC\"], ascending=False)"
   ]
  }
 ],
 "metadata": {
  "kernelspec": {
   "display_name": "Python 3 (ipykernel)",
   "language": "python",
   "name": "python3"
  },
  "language_info": {
   "codemirror_mode": {
    "name": "ipython",
    "version": 3
   },
   "file_extension": ".py",
   "mimetype": "text/x-python",
   "name": "python",
   "nbconvert_exporter": "python",
   "pygments_lexer": "ipython3",
   "version": "3.11.7"
  }
 },
 "nbformat": 4,
 "nbformat_minor": 5
}
