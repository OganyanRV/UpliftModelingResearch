{
 "cells": [
  {
   "cell_type": "code",
   "execution_count": 1,
   "id": "d09b8243-5088-43d4-b7e6-071e6a110b6f",
   "metadata": {},
   "outputs": [],
   "source": [
    "from pathlib import Path\n",
    "import sys\n",
    " \n",
    "if sys.argv:\n",
    "    sys.path.insert(0, str(Path('/Users/ogrobertino/UpliftModelingResearch/').resolve()))\n",
    "%load_ext autoreload\n",
    "%autoreload 2\n",
    "\n",
    "from src.global_params import BASE_PATH\n",
    "import pandas as pd\n",
    "    \n",
    "# from src.models.ICausalML.Models import XModel\n",
    "# model = XModel(from_load=True, path = str(BASE_PATH) + \"/\" + path)"
   ]
  },
  {
   "cell_type": "code",
   "execution_count": 3,
   "id": "b834f9b3-0c27-4e3c-8bd1-5bb46410c1d4",
   "metadata": {},
   "outputs": [],
   "source": [
    "table = pd.read_csv(BASE_PATH + \"/exps/stats.tsv\", sep='\\t')"
   ]
  },
  {
   "cell_type": "code",
   "execution_count": 4,
   "id": "1a71bfad-4fc3-496d-9ae8-e7627f8f29fe",
   "metadata": {},
   "outputs": [
    {
     "name": "stderr",
     "output_type": "stream",
     "text": [
      "Failed to import duecredit due to No module named 'duecredit'\n"
     ]
    }
   ],
   "source": [
    "from src.models.CausalML.Models import XModel, TModel, SModel, DRModel"
   ]
  },
  {
   "cell_type": "code",
   "execution_count": 5,
   "id": "4f334b78-aaf8-4d01-8640-7d9f5f4e2cf2",
   "metadata": {},
   "outputs": [],
   "source": [
    "def best_models(class_name_need):\n",
    "    models = []\n",
    "    i = 0\n",
    "    j=0\n",
    "    best = table[table.Model == class_name_need].sort_values(by=['AUUC (test)'], ascending=False)\n",
    "    while i < 5:\n",
    "        class_name = best['Model'].iloc[j]\n",
    "        path = best['Path'].iloc[j]\n",
    "        index = best['Path'].reset_index().iloc[j]['index']\n",
    "        if class_name_need == 'XModel':\n",
    "            if index < 29:\n",
    "                j+=1\n",
    "                continue\n",
    "        models.append(globals()[class_name](from_load=True, path=str(BASE_PATH) + '/' + path))\n",
    "        i+=1\n",
    "        j+=1\n",
    "    return models"
   ]
  },
  {
   "cell_type": "code",
   "execution_count": 6,
   "id": "f9f423d1-6d91-442b-b88b-3637ee91d888",
   "metadata": {},
   "outputs": [
    {
     "name": "stdout",
     "output_type": "stream",
     "text": [
      "Model loaded from /Users/ogrobertino/UpliftModelingResearch/exps/lazada/100/21/model.pkl.\n",
      "Config loaded from /Users/ogrobertino/UpliftModelingResearch/exps/lazada/100/21/config.json.\n",
      "Model loaded from /Users/ogrobertino/UpliftModelingResearch/exps/lazada/100/92/model.pkl.\n",
      "Config loaded from /Users/ogrobertino/UpliftModelingResearch/exps/lazada/100/92/config.json.\n",
      "Model loaded from /Users/ogrobertino/UpliftModelingResearch/exps/lazada/100/1/model.pkl.\n",
      "Config loaded from /Users/ogrobertino/UpliftModelingResearch/exps/lazada/100/1/config.json.\n",
      "Model loaded from /Users/ogrobertino/UpliftModelingResearch/exps/lazada/100/2/model.pkl.\n",
      "Config loaded from /Users/ogrobertino/UpliftModelingResearch/exps/lazada/100/2/config.json.\n",
      "Model loaded from /Users/ogrobertino/UpliftModelingResearch/exps/lazada/100/9/model.pkl.\n",
      "Config loaded from /Users/ogrobertino/UpliftModelingResearch/exps/lazada/100/9/config.json.\n",
      "Model loaded from /Users/ogrobertino/UpliftModelingResearch/exps/lazada/100/61/model.pkl.\n",
      "Config loaded from /Users/ogrobertino/UpliftModelingResearch/exps/lazada/100/61/config.json.\n",
      "Model loaded from /Users/ogrobertino/UpliftModelingResearch/exps/lazada/100/71/model.pkl.\n",
      "Config loaded from /Users/ogrobertino/UpliftModelingResearch/exps/lazada/100/71/config.json.\n",
      "Model loaded from /Users/ogrobertino/UpliftModelingResearch/exps/lazada/100/69/model.pkl.\n",
      "Config loaded from /Users/ogrobertino/UpliftModelingResearch/exps/lazada/100/69/config.json.\n",
      "Model loaded from /Users/ogrobertino/UpliftModelingResearch/exps/lazada/100/67/model.pkl.\n",
      "Config loaded from /Users/ogrobertino/UpliftModelingResearch/exps/lazada/100/67/config.json.\n",
      "Model loaded from /Users/ogrobertino/UpliftModelingResearch/exps/lazada/100/63/model.pkl.\n",
      "Config loaded from /Users/ogrobertino/UpliftModelingResearch/exps/lazada/100/63/config.json.\n",
      "Model loaded from /Users/ogrobertino/UpliftModelingResearch/exps/lazada/100/42/model.pkl.\n",
      "Config loaded from /Users/ogrobertino/UpliftModelingResearch/exps/lazada/100/42/config.json.\n",
      "Propensity loaded from /Users/ogrobertino/UpliftModelingResearch/exps/lazada/100/42/propensity.pkl.\n",
      "Model loaded from /Users/ogrobertino/UpliftModelingResearch/exps/lazada/100/32/model.pkl.\n",
      "Config loaded from /Users/ogrobertino/UpliftModelingResearch/exps/lazada/100/32/config.json.\n",
      "Propensity loaded from /Users/ogrobertino/UpliftModelingResearch/exps/lazada/100/32/propensity.pkl.\n",
      "Model loaded from /Users/ogrobertino/UpliftModelingResearch/exps/lazada/100/53/model.pkl.\n",
      "Config loaded from /Users/ogrobertino/UpliftModelingResearch/exps/lazada/100/53/config.json.\n",
      "Propensity loaded from /Users/ogrobertino/UpliftModelingResearch/exps/lazada/100/53/propensity.pkl.\n",
      "Model loaded from /Users/ogrobertino/UpliftModelingResearch/exps/lazada/100/39/model.pkl.\n",
      "Config loaded from /Users/ogrobertino/UpliftModelingResearch/exps/lazada/100/39/config.json.\n",
      "Propensity loaded from /Users/ogrobertino/UpliftModelingResearch/exps/lazada/100/39/propensity.pkl.\n",
      "Model loaded from /Users/ogrobertino/UpliftModelingResearch/exps/lazada/100/34/model.pkl.\n",
      "Config loaded from /Users/ogrobertino/UpliftModelingResearch/exps/lazada/100/34/config.json.\n",
      "Propensity loaded from /Users/ogrobertino/UpliftModelingResearch/exps/lazada/100/34/propensity.pkl.\n",
      "Model loaded from /Users/ogrobertino/UpliftModelingResearch/exps/lazada/100/80/model.pkl.\n",
      "Config loaded from /Users/ogrobertino/UpliftModelingResearch/exps/lazada/100/80/config.json.\n",
      "Propensity loaded from /Users/ogrobertino/UpliftModelingResearch/exps/lazada/100/80/propensity.pkl.\n",
      "Model loaded from /Users/ogrobertino/UpliftModelingResearch/exps/lazada/100/86/model.pkl.\n",
      "Config loaded from /Users/ogrobertino/UpliftModelingResearch/exps/lazada/100/86/config.json.\n",
      "Propensity loaded from /Users/ogrobertino/UpliftModelingResearch/exps/lazada/100/86/propensity.pkl.\n",
      "Model loaded from /Users/ogrobertino/UpliftModelingResearch/exps/lazada/100/66/model.pkl.\n",
      "Config loaded from /Users/ogrobertino/UpliftModelingResearch/exps/lazada/100/66/config.json.\n",
      "Propensity loaded from /Users/ogrobertino/UpliftModelingResearch/exps/lazada/100/66/propensity.pkl.\n",
      "Model loaded from /Users/ogrobertino/UpliftModelingResearch/exps/lazada/100/84/model.pkl.\n",
      "Config loaded from /Users/ogrobertino/UpliftModelingResearch/exps/lazada/100/84/config.json.\n",
      "Propensity loaded from /Users/ogrobertino/UpliftModelingResearch/exps/lazada/100/84/propensity.pkl.\n",
      "Model loaded from /Users/ogrobertino/UpliftModelingResearch/exps/lazada/100/77/model.pkl.\n",
      "Config loaded from /Users/ogrobertino/UpliftModelingResearch/exps/lazada/100/77/config.json.\n",
      "Propensity loaded from /Users/ogrobertino/UpliftModelingResearch/exps/lazada/100/77/propensity.pkl.\n"
     ]
    }
   ],
   "source": [
    "models_t = best_models('TModel')\n",
    "models_s = best_models('SModel')\n",
    "models_x = best_models('XModel')\n",
    "models_dr = best_models('DRModel')"
   ]
  },
  {
   "cell_type": "code",
   "execution_count": 7,
   "id": "7167ba60-b03a-4bfc-8765-60eb6b00a8e2",
   "metadata": {},
   "outputs": [],
   "source": [
    "import numpy as np\n",
    "importances  = np.zeros(models_s[0].model.models[1].feature_importances_.shape)"
   ]
  },
  {
   "cell_type": "code",
   "execution_count": 8,
   "id": "bec4d5b5-7f57-46b2-9662-e4433d862972",
   "metadata": {},
   "outputs": [],
   "source": [
    "improtances_s = []\n",
    "for model in models_s:\n",
    "    improtances_s.append(model.model.models[1].feature_importances_[:-1])\n",
    "\n",
    "improtances_t = []\n",
    "for model in models_t:\n",
    "    improtances_t.append(model.model.models_c[1].feature_importances_)\n",
    "    improtances_t.append(model.model.models_t[1].feature_importances_)\n",
    "\n",
    "importances_x = []\n",
    "for model in models_x:\n",
    "    importances_x.append(model.model.models_tau_t[1].feature_importances_)\n",
    "    importances_x.append(model.model.models_tau_c[1].feature_importances_)\n",
    "    importances_x.append(model.model.models_mu_c[1].feature_importances_)\n",
    "    importances_x.append(model.model.models_mu_t[1].feature_importances_)\n",
    "\n",
    "importances_dr = []\n",
    "for model in models_dr:\n",
    "    importances_dr.append(model.model.models_mu_c[0].feature_importances_)\n",
    "    importances_dr.append(model.model.models_mu_c[1].feature_importances_)\n",
    "    importances_dr.append(model.model.models_mu_c[2].feature_importances_)\n",
    "\n",
    "    importances_dr.append(model.model.models_mu_t[1][0].feature_importances_)\n",
    "    importances_dr.append(model.model.models_mu_t[1][1].feature_importances_)\n",
    "    importances_dr.append(model.model.models_mu_t[1][2].feature_importances_)\n",
    "\n",
    "    importances_dr.append(model.model.models_tau[1][0].feature_importances_)\n",
    "    importances_dr.append(model.model.models_tau[1][1].feature_importances_)\n",
    "    importances_dr.append(model.model.models_tau[1][2].feature_importances_)"
   ]
  },
  {
   "cell_type": "code",
   "execution_count": 9,
   "id": "6805a5d4-e9e0-4105-9f31-e4e2696322b9",
   "metadata": {},
   "outputs": [],
   "source": [
    "importances = np.vstack([improtances_s, improtances_t, importances_x, importances_dr])"
   ]
  },
  {
   "cell_type": "code",
   "execution_count": 10,
   "id": "309487fa-cddc-4ed4-8025-13b89a29e405",
   "metadata": {},
   "outputs": [],
   "source": [
    "importances_norm = importances.sum(axis=0) / importances.sum()"
   ]
  },
  {
   "cell_type": "code",
   "execution_count": 11,
   "id": "17683cf6-41ec-439d-9594-378e59f1438f",
   "metadata": {},
   "outputs": [
    {
     "data": {
      "text/plain": [
       "[<matplotlib.lines.Line2D at 0x34a1ed290>]"
      ]
     },
     "execution_count": 11,
     "metadata": {},
     "output_type": "execute_result"
    },
    {
     "data": {
      "image/png": "[encoded data removed]",
      "text/plain": [
       "<Figure size 640x480 with 1 Axes>"
      ]
     },
     "metadata": {},
     "output_type": "display_data"
    }
   ],
   "source": [
    "import matplotlib.pyplot as plt\n",
    "plt.plot(np.sort(importances_norm)[::-1])"
   ]
  },
  {
   "cell_type": "code",
   "execution_count": 12,
   "id": "46fa086e-8ebc-4da2-9b7d-67772f4cbb3d",
   "metadata": {},
   "outputs": [
    {
     "data": {
      "text/plain": [
       "array([24,  1,  2, 20, 12, 21, 29, 77, 79, 22, 15, 45, 76, 32, 31, 10, 19,\n",
       "       13, 80, 81, 78, 16,  8, 14,  5, 28,  4, 23, 26, 30, 34,  0, 27, 82,\n",
       "       18, 25, 49,  9, 54,  3, 11, 17, 65, 63, 55,  6, 33, 64,  7, 56, 37,\n",
       "       67, 35, 38, 48, 36, 39, 57, 61, 59, 52, 70, 62, 71, 53, 58, 75, 72,\n",
       "       51, 66, 40, 69, 73, 41, 74, 50, 42, 43, 44, 60, 46, 47, 68])"
      ]
     },
     "execution_count": 12,
     "metadata": {},
     "output_type": "execute_result"
    }
   ],
   "source": [
    "np.argsort(importances_norm)[::-1]"
   ]
  },
  {
   "cell_type": "code",
   "execution_count": 18,
   "id": "c3eca030-e9b1-4a10-b8b1-310af2ee9281",
   "metadata": {},
   "outputs": [
    {
     "data": {
      "text/plain": [
       "array([6.02939886e-02, 5.16346454e-02, 4.73680563e-02, 4.48843829e-02,\n",
       "       4.13509403e-02, 4.05057333e-02, 4.00794081e-02, 3.60055543e-02,\n",
       "       3.41538669e-02, 3.37983701e-02, 2.75814835e-02, 2.51352989e-02,\n",
       "       2.41874441e-02, 2.39521636e-02, 2.33543993e-02, 2.33085186e-02,\n",
       "       2.30804771e-02, 2.02141082e-02, 1.89540669e-02, 1.87806506e-02,\n",
       "       1.71834587e-02, 1.53605937e-02, 1.51404116e-02, 1.49083000e-02,\n",
       "       1.47513065e-02, 1.43699245e-02, 1.29520428e-02, 1.27983258e-02,\n",
       "       1.24708591e-02, 1.19886880e-02, 1.17265292e-02, 1.14637904e-02,\n",
       "       1.11434126e-02, 1.10726139e-02, 1.10244627e-02, 1.09432532e-02,\n",
       "       1.03007610e-02, 9.82017663e-03, 8.74459361e-03, 8.53276881e-03,\n",
       "       8.06310155e-03, 6.33082351e-03, 6.01323350e-03, 5.01067178e-03,\n",
       "       4.93808564e-03, 4.78161737e-03, 4.59687143e-03, 4.55890055e-03,\n",
       "       4.30707051e-03, 3.99735961e-03, 3.80006343e-03, 3.74903276e-03,\n",
       "       3.51349809e-03, 3.00301871e-03, 2.69909457e-03, 2.51035823e-03,\n",
       "       1.72849750e-03, 1.64156494e-03, 1.63197626e-03, 1.27220572e-03,\n",
       "       1.23360712e-03, 1.19830216e-03, 1.17327007e-03, 1.17237176e-03,\n",
       "       1.07501527e-03, 1.02987852e-03, 1.00517137e-03, 9.66644062e-04,\n",
       "       9.20055553e-04, 9.05236456e-04, 9.03780360e-04, 8.59461862e-04,\n",
       "       7.77739654e-04, 7.53985081e-04, 6.74812516e-04, 6.73056572e-04,\n",
       "       3.58913384e-04, 3.41152748e-04, 2.12539240e-04, 1.78542275e-04,\n",
       "       9.42066610e-05, 2.06009829e-05, 4.78100530e-06])"
      ]
     },
     "execution_count": 18,
     "metadata": {},
     "output_type": "execute_result"
    }
   ],
   "source": [
    "importances_norm[np.argsort(importances_norm)[::-1]][:83]"
   ]
  },
  {
   "cell_type": "code",
   "execution_count": 21,
   "id": "8e948f03-6627-41f7-becc-04795ddef87f",
   "metadata": {},
   "outputs": [
    {
     "data": {
      "text/plain": [
       "array([0.06029399, 0.05163465, 0.04736806, 0.04488438, 0.04135094,\n",
       "       0.04050573, 0.04007941, 0.03600555, 0.03415387, 0.03379837,\n",
       "       0.02758148, 0.0251353 , 0.02418744, 0.02395216, 0.0233544 ,\n",
       "       0.02330852, 0.02308048, 0.02021411, 0.01895407, 0.01878065,\n",
       "       0.01718346, 0.01536059, 0.01514041, 0.0149083 , 0.01475131,\n",
       "       0.01436992, 0.01295204, 0.01279833, 0.01247086, 0.01198869,\n",
       "       0.01172653, 0.01146379, 0.01114341, 0.01107261, 0.01102446,\n",
       "       0.01094325, 0.01030076, 0.00982018, 0.00874459, 0.00853277])"
      ]
     },
     "execution_count": 21,
     "metadata": {},
     "output_type": "execute_result"
    }
   ],
   "source": [
    "importances_norm[np.argsort(importances_norm)[::-1]][:40]"
   ]
  },
  {
   "cell_type": "code",
   "execution_count": 22,
   "id": "93924dbc-69f6-4d12-a43b-ef1991f18a1a",
   "metadata": {},
   "outputs": [],
   "source": [
    "train_data = pd.read_csv('../data/trash/lazada/full_trainset.csv')\n",
    "test_data = pd.read_csv('../data/trash/lazada/full_testset.csv')"
   ]
  },
  {
   "cell_type": "code",
   "execution_count": 23,
   "id": "9a08da32-671e-4907-96ee-c9e8d6415c65",
   "metadata": {},
   "outputs": [],
   "source": [
    "train_data['target'] = train_data['label']\n",
    "train_data['treatment'] = train_data['is_treat']\n",
    "test_data['target'] = test_data['label']\n",
    "test_data['treatment'] = test_data['is_treat']"
   ]
  },
  {
   "cell_type": "code",
   "execution_count": 24,
   "id": "82521957-dde0-4295-a0b7-42f3108f6daa",
   "metadata": {},
   "outputs": [],
   "source": [
    "train_data = train_data.drop(['data_id', 'label', 'is_treat'],axis=1)\n",
    "test_data = test_data.drop(['data_id', 'label', 'is_treat'],axis=1)"
   ]
  },
  {
   "cell_type": "code",
   "execution_count": 25,
   "id": "33cb0579-9f03-4ae7-80a2-d9e4f7e6164d",
   "metadata": {},
   "outputs": [],
   "source": [
    "need_cols = sorted([f'f{x}' for x in np.argsort(importances_norm)[::-1][:40]])"
   ]
  },
  {
   "cell_type": "code",
   "execution_count": 26,
   "id": "ca36b889-c3d2-48c9-80fd-cb613b5456c8",
   "metadata": {},
   "outputs": [],
   "source": [
    "train_data = train_data.loc[:, [*need_cols, *['target', 'treatment']]]\n",
    "test_data = test_data.loc[:, [*need_cols, *['target', 'treatment']]]"
   ]
  },
  {
   "cell_type": "code",
   "execution_count": 27,
   "id": "46e69853-5a7e-41bf-9cff-d26d7b625290",
   "metadata": {},
   "outputs": [
    {
     "data": {
      "text/plain": [
       "'/Users/ogrobertino/UpliftModelingResearch'"
      ]
     },
     "execution_count": 27,
     "metadata": {},
     "output_type": "execute_result"
    }
   ],
   "source": [
    "BASE_PATH"
   ]
  },
  {
   "cell_type": "code",
   "execution_count": 28,
   "id": "519e759a-f105-448e-862b-26d566a6b9fc",
   "metadata": {},
   "outputs": [],
   "source": [
    "from src.datasets import sample_features\n",
    "percents = [100, 50]\n",
    "sample_features(percents, train_data, test_data, str(BASE_PATH) + '/data/lazada2')"
   ]
  }
 ],
 "metadata": {
  "kernelspec": {
   "display_name": "Python 3 (ipykernel)",
   "language": "python",
   "name": "python3"
  },
  "language_info": {
   "codemirror_mode": {
    "name": "ipython",
    "version": 3
   },
   "file_extension": ".py",
   "mimetype": "text/x-python",
   "name": "python",
   "nbconvert_exporter": "python",
   "pygments_lexer": "ipython3",
   "version": "3.11.7"
  }
 },
 "nbformat": 4,
 "nbformat_minor": 5
}
